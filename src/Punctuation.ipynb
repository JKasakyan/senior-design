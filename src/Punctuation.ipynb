{
 "cells": [
  {
   "cell_type": "markdown",
   "metadata": {},
   "source": [
    "## Punctuation features\n"
   ]
  },
  {
   "cell_type": "code",
   "execution_count": 1,
   "metadata": {
    "collapsed": false
   },
   "outputs": [
    {
     "name": "stderr",
     "output_type": "stream",
     "text": [
      "/Users/James/anaconda/envs/senior-design/lib/python3.5/site-packages/nltk/twitter/__init__.py:20: UserWarning: The twython library has not been installed. Some functionality from the twitter package will not be available.\n",
      "  warnings.warn(\"The twython library has not been installed. \"\n"
     ]
    }
   ],
   "source": [
    "from json_io import tweet_iterate\n",
    "from basic_nlp import nlp, PUNCTUATION_RE\n",
    "\n",
    "import itertools\n",
    "import re\n",
    "\n",
    "PATH_SARCASTIC_TWEETS = \"../json/sarcastic/unique.json\"\n",
    "n = nlp()"
   ]
  },
  {
   "cell_type": "code",
   "execution_count": 3,
   "metadata": {
    "collapsed": true
   },
   "outputs": [
    {
     "name": "stdout",
     "output_type": "stream",
     "text": [
      "@MetalBlonde Come on Karina! What about the #bowlinggreenmassacre ? Damn those Muslims!  #alternatefacts #Sarcasm #WorstPresidentEver\n",
      "Take that Black History month.Make America White again, with fatty tissue around the heart #sarcasm #trump #first100\n",
      "https://t.co/SXnqNmRgqr\n",
      "Ears lowered big ears to lower ‍♂️ #Trim #BigEars #Jokes #Selfie #MugShot #Weekend #Smile #Happy #Sarcasm… https://t.co/oXK7RHlODU\n",
      "Officially in love with M$ Azure #sarcasm #powerless\n",
      "#lol #funny #comedy #sarcasm RT DivinityLA: Introducing \"Friendship\", a bracelet set that celebrates the love we s… https://t.co/ilaFtGM5Ed\n",
      "Classy.  #sarcasm \n",
      "How's that whole \"uniting the country\"-thing working out, Kellyanne? https://t.co/TQhF8isVEP\n",
      "#draintheswamp riiiigggghhhttt. #sarcasm https://t.co/S9nhUHXM9e\n",
      "@HanselCreative dude totally!!!!\n",
      "\n",
      ".\n",
      ".\n",
      ".\n",
      ".\n",
      ".\n",
      "#sarcasm\n",
      "@amritabhinder n one more thing @TarekFatah teaching loyalty to Indian Muslims and he is even not loyal with own country #sarcasm\n",
      "@AJ I look forward to hearing about people going round the ends of the wall  #sarcasm\n",
      "@SharonLeavy @labourlewis Where's Corbyn? That's what I want to know!  #sarcasm\n",
      "This is my 'I ❤️ Stansted' face #sarcasm #londonstansted #homewardbound https://t.co/nLtPhTAubu\n",
      "Thanks #Comcast having terrible cable TV so I can’t watch till Monday at earliest and not giving me a bill reduction b/c of it! #Sarcasm\n",
      "What do you think ?\n",
      "#motivation #women #truth #sarcasm #quotes #dailyinspiration #honesty https://t.co/XgZWJ41aIS\n",
      "I have no regrets about what I said. Im honest, not sarcastic #sarcasm #sorrynotsorry #honesty #notsorry #truth… https://t.co/ffyy58fuPU\n",
      "@tedcruz I'm sure he won't be the same miserable failure that his mother was as head of the EPA...#sarcasm\n",
      "LOL! #Sarcasm at it's best⚡️ “'This is why Trump won' is the new 'Thanks Obama'”\n",
      "\n",
      "https://t.co/ASy9kuxWew\n",
      "Must be why the employment rate is so good last month #sarcasm https://t.co/RL7CkSc2FA\n",
      "I think I might like this place. Does Twitter get sarcasm?\n",
      "#killthehashtag #Sarcasm https://t.co/ujOcqVgF8r\n",
      "Trying #sarcasm when you're sick &amp; not thinking straight is a bad bad idea. (Especially, when you're not that good at it)\n",
      "That's 4 that I can confirm of his nominees for positions that have a problem with people with disabilities. \n",
      "\n",
      "So t… https://t.co/zUm3WYAE5B\n",
      "This is no doubt how it plays out #Sarcasm https://t.co/s6eSVLSfkz\n",
      "Got an email from a prince, country needs my help and will reward me with millions. Fingers crossed this one works.#wealth #hope #sarcasm\n",
      "@MotherJones Price is adding more and more slime to the swamp!  #impressive job @realDonaldTrump #sarcasm\n",
      "#lol #funny #comedy #sarcasm People: You can talk to me. I'll listen.\n",
      "\n",
      "Me: *explains how I feel*\n",
      "\n",
      "People: You shou… https://t.co/yI3GKzi8iY\n"
     ]
    }
   ],
   "source": [
    "# See lower slides for explanation of is_surrogate_escaped() and remove_surrogate_escaping()\n",
    "\n",
    "# Suggested methods by author of article\n",
    "\n",
    "def remove_surrogate_escaping(s, method='ignore'):\n",
    "    assert method in ('ignore', 'replace'), 'invalid removal method'\n",
    "    return s.encode('utf-8', method).decode('utf-8')\n",
    "\n",
    "def is_surrogate_escaped(s):\n",
    "    try:\n",
    "        s.encode('utf-8')\n",
    "    except UnicodeEncodeError as e:\n",
    "        if e.reason == 'surrogates not allowed':\n",
    "            return True\n",
    "        raise\n",
    "    return False"
   ]
  },
  {
   "cell_type": "code",
   "execution_count": 6,
   "metadata": {
    "collapsed": false
   },
   "outputs": [],
   "source": [
    "def punctuation_features(s):\n",
    "    \"\"\"\n",
    "    Process a string for punctuation features. Punctuation defined by the regular expression:\n",
    "    [\\'\\!\\\"\\#\\$\\%\\&\\/\\(\\)\\*\\+\\,\\-\\.\\/\\:\\;\\<\\=\\>\\?\\@\\[\\]\\^\\_\\`\\{\\}\\|\\~\\\\u2026]\n",
    "    Which consists of punctuation in string.punctuation, and the unicode char \\u2026 (ellipsis)\n",
    "    \n",
    "    s: input string\n",
    "    returns {punctuation_mark: (raw #, % of length of s, % of total # of punctuation marks found in s)}\n",
    "    \n",
    "    example:\n",
    "    punctuation_features(\"Lorem ipsum dolor sit amet, consectetur adipiscing elit. Sed consequat magna eu facilisis!!?\")\n",
    "    {'!': (2, 0.0217, 0.4),\n",
    "     ',': (1, 0.0109, 0.2),\n",
    "     '.': (1, 0.0109, 0.2),\n",
    "     '?': (1, 0.0109, 0.2)}\n",
    "    \"\"\"\n",
    "    \n",
    "    punctuation_found_list = re.findall(PUNCTUATION_RE, s)\n",
    "    return {p: (punctuation_found_list.count(p),\n",
    "                round(punctuation_found_list.count(p)/len(s), 4), \n",
    "                round(punctuation_found_list.count(p)/len(punctuation_found_list), 4)) for p in punctuation_found_list} "
   ]
  },
  {
   "cell_type": "code",
   "execution_count": 8,
   "metadata": {
    "collapsed": false
   },
   "outputs": [
    {
     "name": "stdout",
     "output_type": "stream",
     "text": [
      "text: @MetalBlonde Come on Karina! What about the #bowlinggreenmassacre ? Damn those Muslims!  #alternatefacts #Sarcasm #WorstPresidentEver \n",
      " punctuation features: {'@': (1, 0.0075, 0.125), '?': (1, 0.0075, 0.125), '#': (4, 0.0301, 0.5), '!': (2, 0.015, 0.25)} \n",
      "\n",
      "text: Take that Black History month.Make America White again, with fatty tissue around the heart #sarcasm #trump #first100\n",
      "https://t.co/SXnqNmRgqr \n",
      " punctuation features: {':': (1, 0.0071, 0.1), '#': (3, 0.0214, 0.3), '.': (2, 0.0143, 0.2), '/': (3, 0.0214, 0.3), ',': (1, 0.0071, 0.1)} \n",
      "\n",
      "text: Ears lowered big ears to lower ‍♂️ #Trim #BigEars #Jokes #Selfie #MugShot #Weekend #Smile #Happy #Sarcasm… https://t.co/oXK7RHlODU \n",
      " punctuation features: {':': (1, 0.0077, 0.0667), '.': (1, 0.0077, 0.0667), '#': (9, 0.0692, 0.6), '/': (3, 0.0231, 0.2), '…': (1, 0.0077, 0.0667)} \n",
      "\n",
      "text: Officially in love with M$ Azure #sarcasm #powerless \n",
      " punctuation features: {'$': (1, 0.0192, 0.3333), '#': (2, 0.0385, 0.6667)} \n",
      "\n",
      "text: #lol #funny #comedy #sarcasm RT DivinityLA: Introducing \"Friendship\", a bracelet set that celebrates the love we s… https://t.co/ilaFtGM5Ed \n",
      " punctuation features: {'.': (1, 0.0072, 0.0714), ',': (1, 0.0072, 0.0714), ':': (2, 0.0144, 0.1429), '\"': (2, 0.0144, 0.1429), '…': (1, 0.0072, 0.0714), '/': (3, 0.0216, 0.2143), '#': (4, 0.0288, 0.2857)} \n",
      "\n",
      "text: Classy.  #sarcasm \n",
      "How's that whole \"uniting the country\"-thing working out, Kellyanne? https://t.co/TQhF8isVEP \n",
      " punctuation features: {'?': (1, 0.009, 0.0769), \"'\": (1, 0.009, 0.0769), '#': (1, 0.009, 0.0769), ':': (1, 0.009, 0.0769), ',': (1, 0.009, 0.0769), '\"': (2, 0.018, 0.1538), '.': (2, 0.018, 0.1538), '/': (3, 0.027, 0.2308), '-': (1, 0.009, 0.0769)} \n",
      "\n",
      "text: #draintheswamp riiiigggghhhttt. #sarcasm https://t.co/S9nhUHXM9e \n",
      " punctuation features: {':': (1, 0.0156, 0.125), '#': (2, 0.0312, 0.25), '/': (3, 0.0469, 0.375), '.': (2, 0.0312, 0.25)} \n",
      "\n",
      "text: @HanselCreative dude totally!!!!\n",
      "\n",
      ".\n",
      ".\n",
      ".\n",
      ".\n",
      ".\n",
      "#sarcasm \n",
      " punctuation features: {'@': (1, 0.0192, 0.0909), '#': (1, 0.0192, 0.0909), '.': (5, 0.0962, 0.4545), '!': (4, 0.0769, 0.3636)} \n",
      "\n",
      "text: @amritabhinder n one more thing @TarekFatah teaching loyalty to Indian Muslims and he is even not loyal with own country #sarcasm \n",
      " punctuation features: {'@': (2, 0.0155, 0.6667), '#': (1, 0.0078, 0.3333)} \n",
      "\n",
      "text: @AJ I look forward to hearing about people going round the ends of the wall  #sarcasm \n",
      " punctuation features: {'@': (1, 0.0118, 0.5), '#': (1, 0.0118, 0.5)} \n",
      "\n",
      "text: @SharonLeavy @labourlewis Where's Corbyn? That's what I want to know!  #sarcasm \n",
      " punctuation features: {'@': (2, 0.0253, 0.2857), '?': (1, 0.0127, 0.1429), \"'\": (2, 0.0253, 0.2857), '#': (1, 0.0127, 0.1429), '!': (1, 0.0127, 0.1429)} \n",
      "\n",
      "text: This is my 'I ❤️ Stansted' face #sarcasm #londonstansted #homewardbound https://t.co/nLtPhTAubu \n",
      " punctuation features: {':': (1, 0.0105, 0.1), \"'\": (2, 0.0211, 0.2), '#': (3, 0.0316, 0.3), '/': (3, 0.0316, 0.3), '.': (1, 0.0105, 0.1)} \n",
      "\n",
      "text: Thanks #Comcast having terrible cable TV so I can’t watch till Monday at earliest and not giving me a bill reduction b/c of it! #Sarcasm \n",
      " punctuation features: {'#': (2, 0.0147, 0.5), '/': (1, 0.0074, 0.25), '!': (1, 0.0074, 0.25)} \n",
      "\n",
      "text: What do you think ?\n",
      "#motivation #women #truth #sarcasm #quotes #dailyinspiration #honesty https://t.co/XgZWJ41aIS \n",
      " punctuation features: {':': (1, 0.0088, 0.0769), '?': (1, 0.0088, 0.0769), '#': (7, 0.0619, 0.5385), '/': (3, 0.0265, 0.2308), '.': (1, 0.0088, 0.0769)} \n",
      "\n",
      "text: I have no regrets about what I said. Im honest, not sarcastic #sarcasm #sorrynotsorry #honesty #notsorry #truth… https://t.co/ffyy58fuPU \n",
      " punctuation features: {'.': (2, 0.0147, 0.1538), ':': (1, 0.0074, 0.0769), ',': (1, 0.0074, 0.0769), '…': (1, 0.0074, 0.0769), '/': (3, 0.0221, 0.2308), '#': (5, 0.0368, 0.3846)} \n",
      "\n",
      "text: @tedcruz I'm sure he won't be the same miserable failure that his mother was as head of the EPA...#sarcasm \n",
      " punctuation features: {'@': (1, 0.0094, 0.1429), \"'\": (2, 0.0189, 0.2857), '.': (3, 0.0283, 0.4286), '#': (1, 0.0094, 0.1429)} \n",
      "\n",
      "text: LOL! #Sarcasm at it's best⚡️ “'This is why Trump won' is the new 'Thanks Obama'”\n",
      "\n",
      "https://t.co/ASy9kuxWew \n",
      " punctuation features: {\"'\": (5, 0.0476, 0.4167), '!': (1, 0.0095, 0.0833), ':': (1, 0.0095, 0.0833), '#': (1, 0.0095, 0.0833), '/': (3, 0.0286, 0.25), '.': (1, 0.0095, 0.0833)} \n",
      "\n",
      "text: Must be why the employment rate is so good last month #sarcasm https://t.co/RL7CkSc2FA \n",
      " punctuation features: {':': (1, 0.0116, 0.1667), '#': (1, 0.0116, 0.1667), '/': (3, 0.0349, 0.5), '.': (1, 0.0116, 0.1667)} \n",
      "\n",
      "text: I think I might like this place. Does Twitter get sarcasm?\n",
      "#killthehashtag #Sarcasm https://t.co/ujOcqVgF8r \n",
      " punctuation features: {':': (1, 0.0093, 0.1111), '?': (1, 0.0093, 0.1111), '.': (2, 0.0187, 0.2222), '/': (3, 0.028, 0.3333), '#': (2, 0.0187, 0.2222)} \n",
      "\n",
      "text: Trying #sarcasm when you're sick &amp; not thinking straight is a bad bad idea. (Especially, when you're not that good at it) \n",
      " punctuation features: {'(': (1, 0.008, 0.1111), \"'\": (2, 0.016, 0.2222), ';': (1, 0.008, 0.1111), ')': (1, 0.008, 0.1111), '&': (1, 0.008, 0.1111), ',': (1, 0.008, 0.1111), '#': (1, 0.008, 0.1111), '.': (1, 0.008, 0.1111)} \n",
      "\n",
      "text: That's 4 that I can confirm of his nominees for positions that have a problem with people with disabilities. \n",
      "\n",
      "So t… https://t.co/zUm3WYAE5B \n",
      " punctuation features: {':': (1, 0.0071, 0.125), \"'\": (1, 0.0071, 0.125), '.': (2, 0.0143, 0.25), '/': (3, 0.0214, 0.375), '…': (1, 0.0071, 0.125)} \n",
      "\n",
      "text: This is no doubt how it plays out #Sarcasm https://t.co/s6eSVLSfkz \n",
      " punctuation features: {':': (1, 0.0152, 0.1667), '#': (1, 0.0152, 0.1667), '/': (3, 0.0455, 0.5), '.': (1, 0.0152, 0.1667)} \n",
      "\n",
      "text: Got an email from a prince, country needs my help and will reward me with millions. Fingers crossed this one works.#wealth #hope #sarcasm \n",
      " punctuation features: {'#': (3, 0.0219, 0.5), ',': (1, 0.0073, 0.1667), '.': (2, 0.0146, 0.3333)} \n",
      "\n",
      "text: @MotherJones Price is adding more and more slime to the swamp!  #impressive job @realDonaldTrump #sarcasm \n",
      " punctuation features: {'@': (2, 0.019, 0.4), '#': (2, 0.019, 0.4), '!': (1, 0.0095, 0.2)} \n",
      "\n",
      "text: #lol #funny #comedy #sarcasm People: You can talk to me. I'll listen.\n",
      "\n",
      "Me: *explains how I feel*\n",
      "\n",
      "People: You shou… https://t.co/yI3GKzi8iY \n",
      " punctuation features: {\"'\": (1, 0.0072, 0.0556), ':': (4, 0.0288, 0.2222), '*': (2, 0.0144, 0.1111), '…': (1, 0.0072, 0.0556), '#': (4, 0.0288, 0.2222), '/': (3, 0.0216, 0.1667), '.': (3, 0.0216, 0.1667)} \n",
      "\n"
     ]
    }
   ],
   "source": [
    "for tweet in itertools.islice(tweet_iterate(PATH_SARCASTIC_TWEETS), 25):\n",
    "    text = tweet[\"text\"]\n",
    "    if is_surrogate_escaped(text):\n",
    "        text = remove_surrogate_escaping(text)\n",
    "    print(\"text: {} \\n punctuation features: {} \\n\".format(text, punctuation_features(text)))"
   ]
  },
  {
   "cell_type": "markdown",
   "metadata": {},
   "source": [
    "## Issue: Surrogate escaped strings\n",
    "\n",
    "Read [http://lucumr.pocoo.org/2013/7/2/the-updated-guide-to-unicode/](http://lucumr.pocoo.org/2013/7/2/the-updated-guide-to-unicode/)"
   ]
  },
  {
   "cell_type": "markdown",
   "metadata": {},
   "source": [
    "#### TLDR; \n",
    "These are unicode strings that cannot be encoded to a unicode encoding because they are actually invalid. These strings are created by APIs that think an encoding is a specific one but cannot guarantee it because the underlying system does not fully enforce that. This functionality is provided by the 'surrogateescape' error handler."
   ]
  },
  {
   "cell_type": "markdown",
   "metadata": {},
   "source": [
    "#### Example tweet\n",
    "\n",
    "Ears lowered big ears to lower \\ud83d\\udc87\\u200d\\u2642\\ufe0f\\ud83d\\ude02 #Trim #BigEars #Jokes #Selfie #MugShot #Weekend #Smile #Happy #Sarcasm\\u2026 https://t.co/oXK7RHlODU\n",
    "_______\n",
    "[https://twitter.com/jasonstats09/status/827589626944770049](https://twitter.com/jasonstats09/status/827589626944770049)\n",
    "\n",
    "![alt text](https://image.ibb.co/jPkKBF/Screen_Shot_2017_03_16_at_4_03_36_PM.png)"
   ]
  },
  {
   "cell_type": "code",
   "execution_count": 9,
   "metadata": {
    "collapsed": false
   },
   "outputs": [],
   "source": [
    "tweet = \"Ears lowered big ears to lower \\ud83d\\udc87\\u200d\\u2642\\ufe0f\\ud83d\\ude02 #Trim #BigEars #Jokes #Selfie #MugShot #Weekend #Smile #Happy #Sarcasm\\u2026 https://t.co/oXK7RHlODU\"\n",
    "# print(tweet)\n",
    "# Uncomment line above to try, crashes with UnicodeEncodeError (for some reason error is dumped to terminal running jupyter notebook, and crashes notebook kernel)"
   ]
  },
  {
   "cell_type": "code",
   "execution_count": 10,
   "metadata": {
    "collapsed": false
   },
   "outputs": [
    {
     "name": "stdout",
     "output_type": "stream",
     "text": [
      "Ears lowered big ears to lower ‍♂️ #Trim #BigEars #Jokes #Selfie #MugShot #Weekend #Smile #Happy #Sarcasm… https://t.co/oXK7RHlODU\n",
      "Ears lowered big ears to lower ??‍♂️?? #Trim #BigEars #Jokes #Selfie #MugShot #Weekend #Smile #Happy #Sarcasm… https://t.co/oXK7RHlODU\n"
     ]
    }
   ],
   "source": [
    "# Have to encode with \"ignore\" or \"replace\" option\n",
    "print(tweet.encode(\"utf-8\", \"ignore\").decode(\"utf-8\"))\n",
    "print(tweet.encode(\"utf-8\", \"replace\").decode(\"utf-8\"))"
   ]
  }
 ],
 "metadata": {
  "anaconda-cloud": {},
  "kernelspec": {
   "display_name": "Python3 (senior-design)",
   "language": "python",
   "name": "senior-design"
  },
  "language_info": {
   "codemirror_mode": {
    "name": "ipython",
    "version": 3
   },
   "file_extension": ".py",
   "mimetype": "text/x-python",
   "name": "python",
   "nbconvert_exporter": "python",
   "pygments_lexer": "ipython3",
   "version": "3.5.2"
  }
 },
 "nbformat": 4,
 "nbformat_minor": 1
}
