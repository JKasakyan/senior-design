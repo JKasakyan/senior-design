{
 "cells": [
  {
   "cell_type": "markdown",
   "metadata": {},
   "source": [
    "## Punctuation features\n"
   ]
  },
  {
   "cell_type": "code",
   "execution_count": 63,
   "metadata": {
    "collapsed": false
   },
   "outputs": [],
   "source": [
    "from json_io import tweet_iterate\n",
    "from basic_nlp import nlp\n",
    "\n",
    "import itertools\n",
    "import re\n",
    "import string\n",
    "\n",
    "PATH_SARCASTIC_TWEETS = \"../json/sarcastic/unique.json\"\n",
    "n = nlp()"
   ]
  },
  {
   "cell_type": "code",
   "execution_count": 69,
   "metadata": {
    "collapsed": false
   },
   "outputs": [
    {
     "name": "stdout",
     "output_type": "stream",
     "text": [
      "@MetalBlonde Come on Karina! What about the #bowlinggreenmassacre ? Damn those Muslims!  #alternatefacts #Sarcasm #WorstPresidentEver\n",
      "Take that Black History month.Make America White again, with fatty tissue around the heart #sarcasm #trump #first100\n",
      "https://t.co/SXnqNmRgqr\n",
      "Ears lowered big ears to lower ‍♂️ #Trim #BigEars #Jokes #Selfie #MugShot #Weekend #Smile #Happy #Sarcasm… https://t.co/oXK7RHlODU\n",
      "Officially in love with M$ Azure #sarcasm #powerless\n",
      "#lol #funny #comedy #sarcasm RT DivinityLA: Introducing \"Friendship\", a bracelet set that celebrates the love we s… https://t.co/ilaFtGM5Ed\n",
      "Classy.  #sarcasm \n",
      "How's that whole \"uniting the country\"-thing working out, Kellyanne? https://t.co/TQhF8isVEP\n",
      "#draintheswamp riiiigggghhhttt. #sarcasm https://t.co/S9nhUHXM9e\n",
      "@HanselCreative dude totally!!!!\n",
      "\n",
      ".\n",
      ".\n",
      ".\n",
      ".\n",
      ".\n",
      "#sarcasm\n",
      "@amritabhinder n one more thing @TarekFatah teaching loyalty to Indian Muslims and he is even not loyal with own country #sarcasm\n",
      "@AJ I look forward to hearing about people going round the ends of the wall  #sarcasm\n",
      "@SharonLeavy @labourlewis Where's Corbyn? That's what I want to know!  #sarcasm\n",
      "This is my 'I ❤️ Stansted' face #sarcasm #londonstansted #homewardbound https://t.co/nLtPhTAubu\n",
      "Thanks #Comcast having terrible cable TV so I can’t watch till Monday at earliest and not giving me a bill reduction b/c of it! #Sarcasm\n",
      "What do you think ?\n",
      "#motivation #women #truth #sarcasm #quotes #dailyinspiration #honesty https://t.co/XgZWJ41aIS\n",
      "I have no regrets about what I said. Im honest, not sarcastic #sarcasm #sorrynotsorry #honesty #notsorry #truth… https://t.co/ffyy58fuPU\n",
      "@tedcruz I'm sure he won't be the same miserable failure that his mother was as head of the EPA...#sarcasm\n",
      "LOL! #Sarcasm at it's best⚡️ “'This is why Trump won' is the new 'Thanks Obama'”\n",
      "\n",
      "https://t.co/ASy9kuxWew\n",
      "Must be why the employment rate is so good last month #sarcasm https://t.co/RL7CkSc2FA\n",
      "I think I might like this place. Does Twitter get sarcasm?\n",
      "#killthehashtag #Sarcasm https://t.co/ujOcqVgF8r\n",
      "Trying #sarcasm when you're sick &amp; not thinking straight is a bad bad idea. (Especially, when you're not that good at it)\n",
      "That's 4 that I can confirm of his nominees for positions that have a problem with people with disabilities. \n",
      "\n",
      "So t… https://t.co/zUm3WYAE5B\n",
      "This is no doubt how it plays out #Sarcasm https://t.co/s6eSVLSfkz\n",
      "Got an email from a prince, country needs my help and will reward me with millions. Fingers crossed this one works.#wealth #hope #sarcasm\n",
      "@MotherJones Price is adding more and more slime to the swamp!  #impressive job @realDonaldTrump #sarcasm\n",
      "#lol #funny #comedy #sarcasm People: You can talk to me. I'll listen.\n",
      "\n",
      "Me: *explains how I feel*\n",
      "\n",
      "People: You shou… https://t.co/yI3GKzi8iY\n"
     ]
    }
   ],
   "source": [
    "# See lower slides for explanation of is_surrogate_escaped() and remove_surrogate_escaping()\n",
    "\n",
    "for tweet in itertools.islice(tweet_iterate(PATH_SARCASTIC_TWEETS), 25):\n",
    "    text = tweet[\"text\"]\n",
    "    if is_surrogate_escaped(text):\n",
    "        print(remove_surrogate_escaping(text))\n",
    "    else:\n",
    "        print(text)"
   ]
  },
  {
   "cell_type": "code",
   "execution_count": 70,
   "metadata": {
    "collapsed": false
   },
   "outputs": [
    {
     "data": {
      "text/plain": [
       "['!', '.', '?']"
      ]
     },
     "execution_count": 70,
     "metadata": {},
     "output_type": "execute_result"
    }
   ],
   "source": [
    "import string\n",
    "from basic_nlp import nlp\n",
    "n = nlp()\n",
    "s = \"hello there! my name is Sam. What?\"\n",
    "n.tokenize(s)\n",
    "[token for token in n.tokenize(s) if token in string.punctuation]"
   ]
  },
  {
   "cell_type": "markdown",
   "metadata": {},
   "source": [
    "## Issue: Surrogate escaped strings\n",
    "\n",
    "Read [http://lucumr.pocoo.org/2013/7/2/the-updated-guide-to-unicode/](http://lucumr.pocoo.org/2013/7/2/the-updated-guide-to-unicode/)"
   ]
  },
  {
   "cell_type": "markdown",
   "metadata": {},
   "source": [
    "#### TLDR; \n",
    "These are unicode strings that cannot be encoded to a unicode encoding because they are actually invalid. These strings are created by APIs that think an encoding is a specific one but cannot guarantee it because the underlying system does not fully enforce that. This functionality is provided by the 'surrogateescape' error handler."
   ]
  },
  {
   "cell_type": "markdown",
   "metadata": {},
   "source": [
    "#### Example tweet\n",
    "\n",
    "Ears lowered big ears to lower \\ud83d\\udc87\\u200d\\u2642\\ufe0f\\ud83d\\ude02 #Trim #BigEars #Jokes #Selfie #MugShot #Weekend #Smile #Happy #Sarcasm\\u2026 https://t.co/oXK7RHlODU\n",
    "_______\n",
    "[https://twitter.com/jasonstats09/status/827589626944770049](https://twitter.com/jasonstats09/status/827589626944770049)\n",
    "\n",
    "![alt text](https://image.ibb.co/jPkKBF/Screen_Shot_2017_03_16_at_4_03_36_PM.png)"
   ]
  },
  {
   "cell_type": "code",
   "execution_count": 76,
   "metadata": {
    "collapsed": false
   },
   "outputs": [
    {
     "ename": "UnicodeEncodeError",
     "evalue": "'utf-8' codec can't encode character '\\ud83d' in position 31: surrogates not allowed",
     "output_type": "error",
     "traceback": [
      "\u001b[0;31m---------------------------------------------------------------------------\u001b[0m",
      "\u001b[0;31mUnicodeEncodeError\u001b[0m                        Traceback (most recent call last)",
      "\u001b[0;32m<ipython-input-76-1de4f22ec25a>\u001b[0m in \u001b[0;36m<module>\u001b[0;34m()\u001b[0m\n\u001b[1;32m      2\u001b[0m \u001b[0;31m# print(tweet)\u001b[0m\u001b[0;34m\u001b[0m\u001b[0;34m\u001b[0m\u001b[0m\n\u001b[1;32m      3\u001b[0m \u001b[0;31m# Uncomment to try, crashes with UnicodeEncodeError (for some reason error is dumped to terminal running jupyter notebook, and crashes notebook kernel)\u001b[0m\u001b[0;34m\u001b[0m\u001b[0;34m\u001b[0m\u001b[0m\n\u001b[0;32m----> 4\u001b[0;31m \u001b[0mtweet\u001b[0m\u001b[0;34m.\u001b[0m\u001b[0mencode\u001b[0m\u001b[0;34m(\u001b[0m\u001b[0;34m\"utf-8\"\u001b[0m\u001b[0;34m)\u001b[0m\u001b[0;34m\u001b[0m\u001b[0m\n\u001b[0m",
      "\u001b[0;31mUnicodeEncodeError\u001b[0m: 'utf-8' codec can't encode character '\\ud83d' in position 31: surrogates not allowed"
     ]
    }
   ],
   "source": [
    "tweet = \"Ears lowered big ears to lower \\ud83d\\udc87\\u200d\\u2642\\ufe0f\\ud83d\\ude02 #Trim #BigEars #Jokes #Selfie #MugShot #Weekend #Smile #Happy #Sarcasm\\u2026 https://t.co/oXK7RHlODU\"\n",
    "# print(tweet)\n",
    "# Uncomment to try, crashes with UnicodeEncodeError (for some reason error is dumped to terminal running jupyter notebook, and crashes notebook kernel)\n",
    "tweet.encode(\"utf-8\")"
   ]
  },
  {
   "cell_type": "code",
   "execution_count": 77,
   "metadata": {
    "collapsed": false
   },
   "outputs": [
    {
     "name": "stdout",
     "output_type": "stream",
     "text": [
      "Ears lowered big ears to lower ‍♂️ #Trim #BigEars #Jokes #Selfie #MugShot #Weekend #Smile #Happy #Sarcasm… https://t.co/oXK7RHlODU\n",
      "Ears lowered big ears to lower ??‍♂️?? #Trim #BigEars #Jokes #Selfie #MugShot #Weekend #Smile #Happy #Sarcasm… https://t.co/oXK7RHlODU\n"
     ]
    }
   ],
   "source": [
    "# Have to encode with \"ignore\" or \"replace\" option\n",
    "print(tweet.encode(\"utf-8\", \"ignore\").decode(\"utf-8\"))\n",
    "print(tweet.encode(\"utf-8\", \"replace\").decode(\"utf-8\"))"
   ]
  },
  {
   "cell_type": "code",
   "execution_count": 78,
   "metadata": {
    "collapsed": true
   },
   "outputs": [],
   "source": [
    "# Suggested methods by author of article\n",
    "\n",
    "def remove_surrogate_escaping(s, method='ignore'):\n",
    "    assert method in ('ignore', 'replace'), 'invalid removal method'\n",
    "    return s.encode('utf-8', method).decode('utf-8')\n",
    "\n",
    "def is_surrogate_escaped(s):\n",
    "    try:\n",
    "        s.encode('utf-8')\n",
    "    except UnicodeEncodeError as e:\n",
    "        if e.reason == 'surrogates not allowed':\n",
    "            return True\n",
    "        raise\n",
    "    return False"
   ]
  },
  {
   "cell_type": "code",
   "execution_count": null,
   "metadata": {
    "collapsed": true
   },
   "outputs": [],
   "source": []
  }
 ],
 "metadata": {
  "kernelspec": {
   "display_name": "Python3 (senior-design)",
   "language": "python",
   "name": "senior-design"
  },
  "language_info": {
   "codemirror_mode": {
    "name": "ipython",
    "version": 3
   },
   "file_extension": ".py",
   "mimetype": "text/x-python",
   "name": "python",
   "nbconvert_exporter": "python",
   "pygments_lexer": "ipython3",
   "version": "3.5.2"
  }
 },
 "nbformat": 4,
 "nbformat_minor": 1
}
