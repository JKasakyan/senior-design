{
 "cells": [
  {
   "cell_type": "code",
   "execution_count": 1,
   "metadata": {
    "collapsed": false
   },
   "outputs": [
    {
     "name": "stderr",
     "output_type": "stream",
     "text": [
      "C:\\Program Files\\Anaconda3\\lib\\site-packages\\nltk\\twitter\\__init__.py:20: UserWarning: The twython library has not been installed. Some functionality from the twitter package will not be available.\n",
      "  warnings.warn(\"The twython library has not been installed. \"\n"
     ]
    }
   ],
   "source": [
    "from basic_nlp import *\n",
    "from json_io import *\n",
    "from ml import *\n",
    "import datetime\n",
    "import pickle\n",
    "from sklearn.neural_network import MLPClassifier\n",
    "from sklearn.neighbors import KNeighborsClassifier, KNeighborsRegressor\n",
    "from sklearn.svm import SVC\n",
    "from sklearn.gaussian_process import GaussianProcessClassifier\n",
    "from sklearn.gaussian_process.kernels import RBF\n",
    "from sklearn.tree import DecisionTreeClassifier\n",
    "from sklearn.ensemble import RandomForestClassifier, AdaBoostClassifier\n",
    "from sklearn.naive_bayes import GaussianNB, BernoulliNB, MultinomialNB\n",
    "from sklearn.discriminant_analysis import QuadraticDiscriminantAnalysis, LinearDiscriminantAnalysis\n",
    "from sklearn.linear_model import LogisticRegression, LogisticRegressionCV\n",
    "from sklearn.linear_model import SGDClassifier\n",
    "from sklearn.model_selection import GridSearchCV, RandomizedSearchCV\n",
    "import numpy as np\n",
    "from sklearn.model_selection import train_test_split\n",
    "from sklearn.metrics import classification_report"
   ]
  },
  {
   "cell_type": "markdown",
   "metadata": {},
   "source": [
    "## Function to run on each tweet"
   ]
  },
  {
   "cell_type": "code",
   "execution_count": null,
   "metadata": {
    "collapsed": false
   },
   "outputs": [],
   "source": [
    "def keyToStr(d):\n",
    "    new = {}\n",
    "    for key,value in d.items():\n",
    "        new[\" \".join(key)] = value\n",
    "    return new\n",
    "\n",
    "from re import sub\n",
    "\n",
    "TWEET_LINK_RE = \"https://t.co/(\\w)+\"\n",
    "TWEET_HANDLE_RE = \"@(\\w)+\"\n",
    "HASHTAG_RE = \"#(\\w)+\"\n",
    "\n",
    "def feature(tweet):\n",
    "    tweet = sub(TWEET_HANDLE_RE, \"NameTOK\", tweet)\n",
    "    tweet = sub(TWEET_LINK_RE, \"LinkTOK\", tweet)\n",
    "    tweet = sub(HASHTAG_RE, \"\", tweet)\n",
    "    tokens = tokenize(tweet)\n",
    "    ull = upperLowerLen(tokens)\n",
    "    cases = wordCases(ull)\n",
    "    tagged = pos(tokens)\n",
    "    chunked = chunk(tagged)\n",
    "    (tokens, postags) = tokNoNE(chunked)\n",
    "    puncuationFreqDict = punctuationFeatures(tweet)\n",
    "    suffreq = dict(freq(tokenSuffixes(tokens)))\n",
    "    normSuffFreq = {}\n",
    "    norm2SuffFreq = {}\n",
    "    sumSuf = sum(suffreq.values())\n",
    "    for key, val in suffreq.items():\n",
    "        normSuffFreq[key] = val/sumSuf\n",
    "        norm2SuffFreq[key] = val/len(tokens)\n",
    "    \n",
    "    sent = {\n",
    "        'fullSent' : sentimentGrams([tokens]),\n",
    "        'halfSent1' : sentimentGrams([tokens[:int(len(tokens)/2)]]),\n",
    "        'halfSent2' : sentimentGrams([tokens[int(len(tokens)/2):]]),\n",
    "        'thirdSent1' : sentimentGrams([tokens[:int(len(tokens)/3)]]),\n",
    "        'thirdSent2' : sentimentGrams([tokens[int(len(tokens)/3):2*int(len(tokens)/3)]]),\n",
    "        'thirdSent3' : sentimentGrams([tokens[2*int(len(tokens)/3):]]),\n",
    "        'quartSent1' : sentimentGrams([tokens[:int(len(tokens)/4)]]),\n",
    "        'quartSent2' : sentimentGrams([tokens[int(len(tokens)/4):2*int(len(tokens)/4)]]),\n",
    "        'quartSent3' : sentimentGrams([tokens[2*int(len(tokens)/4):3*int(len(tokens)/4)]]),\n",
    "        'quartSent4' : sentimentGrams([tokens[3*int(len(tokens)/4):]])\n",
    "    }\n",
    "    sentCompound = {}\n",
    "    for key, val in sent.items():\n",
    "        sentCompound[key+\"Vader\"] = val[0]['Vader']['compound'] + 1\n",
    "        sentCompound[key+\"LiuHu\"] = val[0]['LiuHu']['compound'] + 1\n",
    "    \n",
    "    capFreq = capLetterFreq(ull)\n",
    "    allCapsFreq = cases.count('AC')/len(cases)\n",
    "    normSuffFreq = keyToStr(normSuffFreq)\n",
    "    norm2SuffFreq = keyToStr(norm2SuffFreq)\n",
    "    toksuff = keyToStr(dict(freq(tokenSuffixes(tokens))))\n",
    "    unigrams = keyToStr(dict(freq(grams(tokens, 1))))\n",
    "    bigrams = keyToStr(dict(freq(grams(tokens, 2))))\n",
    "    trigrams = keyToStr(dict(freq(grams(tokens, 3))))\n",
    "    unigramsPos = keyToStr(dict(freq(grams(postags, 1))))\n",
    "    bigramsPos = keyToStr(dict(freq(grams(postags, 2))))\n",
    "    trigramsPos = keyToStr(dict(freq(grams(postags, 3))))\n",
    "    feat = {}\n",
    "    feat.update(unigrams)\n",
    "    feat.update(bigrams)\n",
    "    feat.update(trigrams)\n",
    "    feat.update(unigramsPos)\n",
    "    feat.update(bigramsPos)\n",
    "    feat.update(trigramsPos)\n",
    "    feat.update(puncuationFreqDict)\n",
    "    feat.update(toksuff)\n",
    "    feat.update(normSuffFreq)\n",
    "    feat.update(norm2SuffFreq)\n",
    "    feat.update(sentCompound)\n",
    "    feat.update({\"capFreq\":capFreq, \"allCapsFreq\":allCapsFreq})\n",
    "    return feat"
   ]
  },
  {
   "cell_type": "markdown",
   "metadata": {},
   "source": [
    "## Run features on tweets"
   ]
  },
  {
   "cell_type": "code",
   "execution_count": null,
   "metadata": {
    "collapsed": false
   },
   "outputs": [],
   "source": [
    "total = 30000\n",
    "\n",
    "start1 = datetime.datetime.now()\n",
    "sarcasticTweets = tweet_iterate(\"../json/sarcastic/unique.json\", key=\"text\")\n",
    "sarcasticFeats = [(feature(repr(next(sarcasticTweets))), True) for x in range(0,total)]\n",
    "start2 = datetime.datetime.now()\n",
    "print((start2-start1).total_seconds())\n",
    "seriousTweets = tweet_iterate(\"../json/non_sarcastic/unique.json\", key=\"text\")\n",
    "seriousFeats = [(feature(repr(next(seriousTweets))), False) for x in range(0,total)]\n",
    "print((datetime.datetime.now()-start2).total_seconds())"
   ]
  },
  {
   "cell_type": "markdown",
   "metadata": {},
   "source": [
    "## Instantiate timing and accuracy storage arrays"
   ]
  },
  {
   "cell_type": "code",
   "execution_count": 2,
   "metadata": {
    "collapsed": true
   },
   "outputs": [],
   "source": [
    "t = []\n",
    "a = []"
   ]
  },
  {
   "cell_type": "markdown",
   "metadata": {},
   "source": [
    "## Save features from tweets"
   ]
  },
  {
   "cell_type": "code",
   "execution_count": null,
   "metadata": {
    "collapsed": true
   },
   "outputs": [],
   "source": [
    "featTup = sarcasticFeats + seriousFeats\n",
    "pickle.dump(featTup, open('pickledfeatures/feats.pickle', 'wb'))\n",
    "(feats, bools) = list(zip(*featTup))"
   ]
  },
  {
   "cell_type": "markdown",
   "metadata": {},
   "source": [
    "## Load features from tweets"
   ]
  },
  {
   "cell_type": "code",
   "execution_count": 3,
   "metadata": {
    "collapsed": false
   },
   "outputs": [],
   "source": [
    "pk = pickle.load(open('pickledfeatures/feats.pickle', 'rb'))\n",
    "(feats, bools) = list(zip(*pk))"
   ]
  },
  {
   "cell_type": "markdown",
   "metadata": {},
   "source": [
    "## Randomly select subset of data"
   ]
  },
  {
   "cell_type": "code",
   "execution_count": 18,
   "metadata": {
    "collapsed": false
   },
   "outputs": [],
   "source": [
    "X_trainDict, X_testDict, y_train, y_test = train_test_split(feats, bools, train_size=0.2, test_size=0.2, random_state=0)\n",
    "\n",
    "dv = DictVectorizer()\n",
    "X_train = dv.fit_transform(X_trainDict)\n",
    "X_test = dv.transform(X_testDict)"
   ]
  },
  {
   "cell_type": "markdown",
   "metadata": {},
   "source": [
    "## Gridsearch"
   ]
  },
  {
   "cell_type": "code",
   "execution_count": 10,
   "metadata": {
    "collapsed": false
   },
   "outputs": [],
   "source": [
    "cl = [\n",
    "    #(RandomForestClassifier(n_jobs=-1), {'n_estimators': list(np.arange(10,100,20)),'min_samples_split':[2,5,10],'min_samples_leaf':[1,2,8],'random_state':[None,0]}),\n",
    "    #(DecisionTreeClassifier(), {'min_samples_split':[2,5,10],'min_samples_leaf':[1,2,8],'random_state':[None,0]}),\n",
    "    #(SGDClassifier(), {'loss':['hinge','log','perceptron'], 'penalty':['l2','l1','elasticnet']})\n",
    "]"
   ]
  },
  {
   "cell_type": "code",
   "execution_count": null,
   "metadata": {
    "collapsed": false,
    "scrolled": true
   },
   "outputs": [],
   "source": [
    "for c in cl:\n",
    "    clf = RandomizedSearchCV(c[0],c[1] , cv=4, n_iter=1)\n",
    "    start = datetime.datetime.now()\n",
    "    clf.fit(X_train.toarray(), y_train)\n",
    "    print((datetime.datetime.now()-start).total_seconds())\n",
    "    y_true, y_pred = y_test, clf.predict(X_test.toarray())\n",
    "    print(type(c[0]))\n",
    "    print(classification_report(y_true, y_pred))\n",
    "    print(clf.best_params_)"
   ]
  },
  {
   "cell_type": "markdown",
   "metadata": {},
   "source": [
    "## Select Classifiers"
   ]
  },
  {
   "cell_type": "code",
   "execution_count": 20,
   "metadata": {
    "collapsed": false
   },
   "outputs": [
    {
     "name": "stdout",
     "output_type": "stream",
     "text": [
      "0\t<class 'sklearn.linear_model.logistic.LogisticRegression'>\n",
      "1\t<class 'sklearn.linear_model.stochastic_gradient.SGDClassifier'>\n",
      "2\t<class 'sklearn.tree.tree.DecisionTreeClassifier'>\n",
      "3\t<class 'sklearn.ensemble.forest.RandomForestClassifier'>\n",
      "4\t<class 'sklearn.naive_bayes.BernoulliNB'>\n",
      "5\t<class 'sklearn.naive_bayes.MultinomialNB'>\n"
     ]
    }
   ],
   "source": [
    "classifier = [\n",
    "    LogisticRegression(n_jobs=-1),\n",
    "    SGDClassifier(loss='log', penalty='elasticnet'),\n",
    "    ##SVC(),\n",
    "    DecisionTreeClassifier(min_samples_leaf=1, min_samples_split=2),\n",
    "    RandomForestClassifier(n_jobs=-1, min_samples_leaf=2, min_samples_split= 10, n_estimators=70,random_state=0),\n",
    "    ##MLPClassifier(alpha=1),\n",
    "    ###AdaBoostClassifier(),\n",
    "    BernoulliNB(alpha=0.5, binarize=0.2),\n",
    "    MultinomialNB(alpha=1.25)\n",
    "    ]\n",
    "\n",
    "d = {}\n",
    "for i, c in enumerate(classifier):\n",
    "    d[str(type(c))+str(i)] = c\n",
    "    print(str(i)+\"\\t\"+str(type(c)))\n",
    "m = ml(d)"
   ]
  },
  {
   "cell_type": "markdown",
   "metadata": {},
   "source": [
    "## Train Classifiers"
   ]
  },
  {
   "cell_type": "code",
   "execution_count": null,
   "metadata": {
    "collapsed": false
   },
   "outputs": [],
   "source": [
    "trainOutput = m.trainVectorizedFeatures(X_train, y_train)\n",
    "t.append(dict([(k,v[1].total_seconds()) for k,v in trainOutput.items()]))\n",
    "\n",
    "total = 0\n",
    "for w in sorted(t[-1], key=t[-1].get, reverse=True):\n",
    "    total += t[-1][w]\n",
    "    print(w, t[-1][w])\n",
    "print(\"Total: \", total)"
   ]
  },
  {
   "cell_type": "markdown",
   "metadata": {},
   "source": [
    "## Test Classifiers"
   ]
  },
  {
   "cell_type": "code",
   "execution_count": null,
   "metadata": {
    "collapsed": false
   },
   "outputs": [],
   "source": [
    "a.append(m.accuracyVectorizedFeatures(X_test, y_test))\n",
    "for w in sorted(a[-1], key=a[-1].get, reverse=True):\n",
    "    print(w, a[-1][w])"
   ]
  },
  {
   "cell_type": "code",
   "execution_count": null,
   "metadata": {
    "collapsed": false
   },
   "outputs": [],
   "source": [
    "m.save(pickledir=\"pickledclassifiers\")"
   ]
  },
  {
   "cell_type": "code",
   "execution_count": null,
   "metadata": {
    "collapsed": false
   },
   "outputs": [],
   "source": []
  },
  {
   "cell_type": "code",
   "execution_count": null,
   "metadata": {
    "collapsed": true
   },
   "outputs": [],
   "source": []
  }
 ],
 "metadata": {
  "anaconda-cloud": {},
  "kernelspec": {
   "display_name": "Python [conda root]",
   "language": "python",
   "name": "conda-root-py"
  },
  "language_info": {
   "codemirror_mode": {
    "name": "ipython",
    "version": 3
   },
   "file_extension": ".py",
   "mimetype": "text/x-python",
   "name": "python",
   "nbconvert_exporter": "python",
   "pygments_lexer": "ipython3",
   "version": "3.5.2"
  }
 },
 "nbformat": 4,
 "nbformat_minor": 1
}
