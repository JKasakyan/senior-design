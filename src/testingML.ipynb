{
 "cells": [
  {
   "cell_type": "code",
   "execution_count": 1,
   "metadata": {
    "collapsed": false
   },
   "outputs": [
    {
     "name": "stderr",
     "output_type": "stream",
     "text": [
      "C:\\Program Files\\Anaconda3\\lib\\site-packages\\nltk\\twitter\\__init__.py:20: UserWarning: The twython library has not been installed. Some functionality from the twitter package will not be available.\n",
      "  warnings.warn(\"The twython library has not been installed. \"\n"
     ]
    }
   ],
   "source": [
    "from basic_nlp import *\n",
    "from json_io import *\n",
    "from ml import *"
   ]
  },
  {
   "cell_type": "code",
   "execution_count": 2,
   "metadata": {
    "collapsed": false
   },
   "outputs": [],
   "source": [
    "def keyToStr(d):\n",
    "    new = {}\n",
    "    for key,value in d.items():\n",
    "        new[\" \".join(key)] = value\n",
    "    return new\n",
    "\n",
    "from re import sub\n",
    "\n",
    "TWEET_LINK_RE = \"https://t.co/(\\w)+\"\n",
    "TWEET_HANDLE_RE = \"@(\\w)+\"\n",
    "HASHTAG_RE = \"#(\\w)+\"\n",
    "\n",
    "def feature(tweet):\n",
    "    tweet = sub(TWEET_HANDLE_RE, \"NameTOK\", tweet)\n",
    "    tweet = sub(TWEET_LINK_RE, \"LinkTOK\", tweet)\n",
    "    tweet = sub(HASHTAG_RE, \"\", tweet)\n",
    "    tokens = tokenize(tweet)\n",
    "    ull = upperLowerLen(tokens)\n",
    "    cases = wordCases(ull)\n",
    "    tagged = pos(tokens)\n",
    "    chunked = chunk(tagged)\n",
    "    (tokens, postags) = tokNoNE(chunked)\n",
    "    puncuationFreqDict = punctuationFeatures(tweet)\n",
    "    for key,val in puncuationFreqDict.items():\n",
    "        puncuationFreqDict[key]=val[2]\n",
    "    suffreq = dict(freq(tokenSuffixes(tokens)))\n",
    "    normSuffFreq = {}\n",
    "    norm2SuffFreq = {}\n",
    "    sumSuf = sum(suffreq.values())\n",
    "    for key, val in suffreq.items():\n",
    "        normSuffFreq[key] = val/sumSuf\n",
    "        norm2SuffFreq[key] = val/len(tokens)\n",
    "    \n",
    "    sent = {\n",
    "        'fullSent' : sentimentGrams([tokens]),\n",
    "        'halfSent1' : sentimentGrams([tokens[:int(len(tokens)/2)]]),\n",
    "        'halfSent2' : sentimentGrams([tokens[int(len(tokens)/2):]]),\n",
    "        'thirdSent1' : sentimentGrams([tokens[:int(len(tokens)/3)]]),\n",
    "        'thirdSent2' : sentimentGrams([tokens[int(len(tokens)/3):2*int(len(tokens)/3)]]),\n",
    "        'thirdSent3' : sentimentGrams([tokens[2*int(len(tokens)/3):]]),\n",
    "        'quartSent1' : sentimentGrams([tokens[:int(len(tokens)/4)]]),\n",
    "        'quartSent2' : sentimentGrams([tokens[int(len(tokens)/4):2*int(len(tokens)/4)]]),\n",
    "        'quartSent3' : sentimentGrams([tokens[2*int(len(tokens)/4):3*int(len(tokens)/4)]]),\n",
    "        'quartSent4' : sentimentGrams([tokens[3*int(len(tokens)/4):]])\n",
    "    }\n",
    "    sentCompound = {}\n",
    "    for key, val in sent.items():\n",
    "        sentCompound[key+\"Vader\"] = val[0]['Vader']['compound'] + 1\n",
    "        sentCompound[key+\"LiuHu\"] = val[0]['LiuHu']['compound'] + 1\n",
    "    \n",
    "    capFreq = capLetterFreq(ull)\n",
    "    allCapsFreq = cases.count('AC')/len(cases)\n",
    "    normSuffFreq = keyToStr(normSuffFreq)\n",
    "    norm2SuffFreq = keyToStr(norm2SuffFreq)\n",
    "    toksuff = keyToStr(dict(freq(tokenSuffixes(tokens))))\n",
    "    unigrams = keyToStr(dict(freq(grams(tokens, 1))))\n",
    "    bigrams = keyToStr(dict(freq(grams(tokens, 2))))\n",
    "    trigrams = keyToStr(dict(freq(grams(tokens, 3))))\n",
    "    unigramsPos = keyToStr(dict(freq(grams(postags, 1))))\n",
    "    bigramsPos = keyToStr(dict(freq(grams(postags, 2))))\n",
    "    trigramsPos = keyToStr(dict(freq(grams(postags, 3))))\n",
    "    feat = {}\n",
    "    feat.update(unigrams)\n",
    "    feat.update(bigrams)\n",
    "    feat.update(trigrams)\n",
    "    feat.update(unigramsPos)\n",
    "    feat.update(bigramsPos)\n",
    "    feat.update(trigramsPos)\n",
    "    feat.update(puncuationFreqDict)\n",
    "    feat.update(toksuff)\n",
    "    feat.update(normSuffFreq)\n",
    "    feat.update(norm2SuffFreq)\n",
    "    feat.update(sentCompound)\n",
    "    feat.update({\"capFreq\":capFreq, \"allCapsFreq\":allCapsFreq})\n",
    "    return feat"
   ]
  },
  {
   "cell_type": "code",
   "execution_count": null,
   "metadata": {
    "collapsed": true
   },
   "outputs": [],
   "source": [
    "total = 20000\n",
    "trainTestCount = int(total/2)"
   ]
  },
  {
   "cell_type": "code",
   "execution_count": null,
   "metadata": {
    "collapsed": false
   },
   "outputs": [],
   "source": [
    "sarcasticTweets = tweet_iterate(\"../json/sarcastic/unique.json\", key=\"text\")\n",
    "sarcasticFeats = [(feature(repr(next(sarcasticTweets))), True) for x in range(0,total)]\n",
    "\n",
    "seriousTweets = tweet_iterate(\"../json/non_sarcastic/unique.json\", key=\"text\")\n",
    "seriousFeats = [(feature(repr(next(seriousTweets))), False) for x in range(0,total)]"
   ]
  },
  {
   "cell_type": "code",
   "execution_count": null,
   "metadata": {
    "collapsed": true
   },
   "outputs": [],
   "source": [
    "t = []\n",
    "a = []"
   ]
  },
  {
   "cell_type": "code",
   "execution_count": null,
   "metadata": {
    "collapsed": true
   },
   "outputs": [],
   "source": [
    "from random import shuffle\n",
    "featTup = sarcasticFeats + seriousFeats\n",
    "shuffle(featTup)\n",
    "(feats, bools) = list(zip(*featTup))"
   ]
  },
  {
   "cell_type": "code",
   "execution_count": null,
   "metadata": {
    "collapsed": false
   },
   "outputs": [],
   "source": [
    "dv = DictVectorizer()\n",
    "vec = dv.fit_transform(feats[:trainTestCount])"
   ]
  },
  {
   "cell_type": "code",
   "execution_count": null,
   "metadata": {
    "collapsed": false
   },
   "outputs": [],
   "source": [
    "from sklearn.neural_network import MLPClassifier\n",
    "from sklearn.neighbors import KNeighborsClassifier, KNeighborsRegressor\n",
    "from sklearn.svm import SVC\n",
    "from sklearn.gaussian_process import GaussianProcessClassifier\n",
    "from sklearn.gaussian_process.kernels import RBF\n",
    "from sklearn.tree import DecisionTreeClassifier\n",
    "from sklearn.ensemble import RandomForestClassifier, AdaBoostClassifier\n",
    "from sklearn.naive_bayes import GaussianNB, BernoulliNB, MultinomialNB\n",
    "from sklearn.discriminant_analysis import QuadraticDiscriminantAnalysis, LinearDiscriminantAnalysis\n",
    "from sklearn.linear_model import LogisticRegression, LogisticRegressionCV\n",
    "from sklearn.linear_model import SGDClassifier\n",
    "classifier = [\n",
    "    LogisticRegressionCV(),\n",
    "    LogisticRegression(),\n",
    "    SGDClassifier(),\n",
    "    LinearDiscriminantAnalysis(), \n",
    "    #SVC(),\n",
    "    #GaussianProcessClassifier(),\n",
    "    DecisionTreeClassifier(),\n",
    "    RandomForestClassifier(8),\n",
    "    RandomForestClassifier(16),\n",
    "    RandomForestClassifier(32),\n",
    "    RandomForestClassifier(64),\n",
    "    #MLPClassifier(alpha=1),\n",
    "    AdaBoostClassifier(),\n",
    "    GaussianNB(),\n",
    "    BernoulliNB(),\n",
    "    MultinomialNB(),\n",
    "    #QuadraticDiscriminantAnalysis()\n",
    "    ]\n",
    "d = {}\n",
    "for i, c in enumerate(classifier):\n",
    "    d[str(type(c))+str(i)] = c\n",
    "    print(str(i)+\"\\t\"+str(type(c)))\n",
    "\n",
    "m = ml(d)"
   ]
  },
  {
   "cell_type": "code",
   "execution_count": null,
   "metadata": {
    "collapsed": false
   },
   "outputs": [],
   "source": [
    "trainOutput = m.trainVectorizedFeatures(vec, bools[:trainTestCount])\n",
    "t.append(dict([(k,v[1].total_seconds()) for k,v in trainOutput.items()]))\n",
    "\n",
    "total = 0\n",
    "for w in sorted(t[-1], key=t[-1].get, reverse=True):\n",
    "    total += t[-1][w]\n",
    "    print(w, t[-1][w])\n",
    "print(\"Total: \", total)"
   ]
  },
  {
   "cell_type": "code",
   "execution_count": null,
   "metadata": {
    "collapsed": false
   },
   "outputs": [],
   "source": [
    "a.append(m.accuracyVectorizedFeatures(dv.transform(feats[trainTestCount:]), bools[trainTestCount:]))\n",
    "for w in sorted(a[-1], key=a[-1].get, reverse=True):\n",
    "    print(w, a[-1][w])"
   ]
  },
  {
   "cell_type": "code",
   "execution_count": null,
   "metadata": {
    "collapsed": false
   },
   "outputs": [],
   "source": []
  },
  {
   "cell_type": "code",
   "execution_count": null,
   "metadata": {
    "collapsed": false
   },
   "outputs": [],
   "source": []
  },
  {
   "cell_type": "code",
   "execution_count": null,
   "metadata": {
    "collapsed": true
   },
   "outputs": [],
   "source": []
  }
 ],
 "metadata": {
  "anaconda-cloud": {},
  "kernelspec": {
   "display_name": "Python [conda root]",
   "language": "python",
   "name": "conda-root-py"
  },
  "language_info": {
   "codemirror_mode": {
    "name": "ipython",
    "version": 3
   },
   "file_extension": ".py",
   "mimetype": "text/x-python",
   "name": "python",
   "nbconvert_exporter": "python",
   "pygments_lexer": "ipython3",
   "version": "3.5.2"
  }
 },
 "nbformat": 4,
 "nbformat_minor": 1
}
