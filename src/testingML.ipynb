{
 "cells": [
  {
   "cell_type": "code",
   "execution_count": 1,
   "metadata": {
    "collapsed": false
   },
   "outputs": [],
   "source": [
    "from ml import *"
   ]
  },
  {
   "cell_type": "markdown",
   "metadata": {},
   "source": [
    "### Process 50 tweets, if n is ommitted it processes all of them, sets lable and saves the processed tweets"
   ]
  },
  {
   "cell_type": "code",
   "execution_count": 2,
   "metadata": {
    "collapsed": false
   },
   "outputs": [
    {
     "name": "stdout",
     "output_type": "stream",
     "text": [
      "0.531004\n"
     ]
    }
   ],
   "source": [
    "sarcasticFeats = processTweets(jsonFileName=JSON_DIR+\"sarcastic/unique.json\", sarcastic=True, save=True, n=50)"
   ]
  },
  {
   "cell_type": "code",
   "execution_count": 3,
   "metadata": {
    "collapsed": false
   },
   "outputs": [
    {
     "name": "stdout",
     "output_type": "stream",
     "text": [
      "1.413\n"
     ]
    }
   ],
   "source": [
    "seriousFeats = processTweets(jsonFileName=JSON_DIR+\"non_sarcastic/unique.json\", sarcastic=False, save=True, n=200)"
   ]
  },
  {
   "cell_type": "markdown",
   "metadata": {},
   "source": [
    "### Load the processed tweets (if you previously processed them)"
   ]
  },
  {
   "cell_type": "code",
   "execution_count": 4,
   "metadata": {
    "collapsed": false
   },
   "outputs": [],
   "source": [
    "sarcasticFeats = loadFeatures(sarcastic=True)\n",
    "seriousFeats = loadFeatures(sarcastic=False)"
   ]
  },
  {
   "cell_type": "markdown",
   "metadata": {},
   "source": [
    "### Randomize the ordering and return a list which has equal sarcastic/non-sarcastic"
   ]
  },
  {
   "cell_type": "code",
   "execution_count": 5,
   "metadata": {
    "collapsed": false,
    "scrolled": true
   },
   "outputs": [],
   "source": [
    "(features, sarcasm) = shuffleFeatures(sarcasticFeats, seriousFeats)"
   ]
  },
  {
   "cell_type": "markdown",
   "metadata": {},
   "source": [
    "### Flatten feature dictionaries, if leaveout is a feature that feature is ommitted"
   ]
  },
  {
   "cell_type": "code",
   "execution_count": 6,
   "metadata": {
    "collapsed": false
   },
   "outputs": [],
   "source": [
    "features = flattenFeatureDicts(features, leaveOut=None)"
   ]
  },
  {
   "cell_type": "markdown",
   "metadata": {},
   "source": [
    "### Vectorize and fit, then save the features and the vectorizer"
   ]
  },
  {
   "cell_type": "code",
   "execution_count": 7,
   "metadata": {
    "collapsed": false
   },
   "outputs": [],
   "source": [
    "(dv, X, y) = vectorize(features, sarcasm, fit=True, save=True)"
   ]
  },
  {
   "cell_type": "markdown",
   "metadata": {},
   "source": [
    "### Load vectorizer and features"
   ]
  },
  {
   "cell_type": "code",
   "execution_count": 8,
   "metadata": {
    "collapsed": true
   },
   "outputs": [],
   "source": [
    "(dv, X, y) = loadVectorizer(features=True)"
   ]
  },
  {
   "cell_type": "markdown",
   "metadata": {},
   "source": [
    "### If using a loaded vectorizer, with unprocessed features you have to transform the features into vectors"
   ]
  },
  {
   "cell_type": "code",
   "execution_count": 9,
   "metadata": {
    "collapsed": true
   },
   "outputs": [],
   "source": [
    "(X, y) = vectorizerTransform(dv, features, sarcasm)"
   ]
  },
  {
   "cell_type": "markdown",
   "metadata": {},
   "source": [
    "### Train and test, reports results"
   ]
  },
  {
   "cell_type": "code",
   "execution_count": 10,
   "metadata": {
    "collapsed": false
   },
   "outputs": [
    {
     "name": "stdout",
     "output_type": "stream",
     "text": [
      "Starting iteration 0: 2017-04-12 20:17:52.711915\n",
      "\n",
      "\n",
      "Starting to train...\n",
      "Trained:\t0\t<class 'sklearn.linear_model.logistic.LogisticRegression'>\tTime: 0\n",
      "\n",
      "\n",
      "Starting to test...\n",
      "Tested:\t0\t<class 'sklearn.linear_model.logistic.LogisticRegression'>\tTime: 0\tScore:\t0.700000\n",
      "Iteration time:\t0\n",
      "Total elapsed time:\t0\n",
      "Starting iteration 1: 2017-04-12 20:17:52.754935\n",
      "\n",
      "\n",
      "Starting to train...\n",
      "Trained:\t0\t<class 'sklearn.linear_model.logistic.LogisticRegression'>\tTime: 0\n",
      "\n",
      "\n",
      "Starting to test...\n",
      "Tested:\t0\t<class 'sklearn.linear_model.logistic.LogisticRegression'>\tTime: 0\tScore:\t0.600000\n",
      "Iteration time:\t0\n",
      "Total elapsed time:\t0\n"
     ]
    },
    {
     "data": {
      "text/plain": [
       "{(0,\n",
       "  0,\n",
       "  \"<class 'sklearn.linear_model.logistic.LogisticRegression'>\"): {'score': 0.69999999999999996, 'testTime': 0.0},\n",
       " (1,\n",
       "  0,\n",
       "  \"<class 'sklearn.linear_model.logistic.LogisticRegression'>\"): {'score': 0.59999999999999998, 'testTime': 0.0}}"
      ]
     },
     "execution_count": 10,
     "metadata": {},
     "output_type": "execute_result"
    }
   ],
   "source": [
    "trainTest(X, y, dv, reduce=0, splits=2, trainsize=0.5, classifiers=DEFAULT_CLASSIFIERS, voting=False)"
   ]
  },
  {
   "cell_type": "markdown",
   "metadata": {},
   "source": [
    "### Optimize classifiers"
   ]
  },
  {
   "cell_type": "code",
   "execution_count": 11,
   "metadata": {
    "collapsed": false
   },
   "outputs": [
    {
     "name": "stdout",
     "output_type": "stream",
     "text": [
      "Starting iteration 0: 2017-04-12 20:17:52.802915\n",
      "\n",
      "\n",
      "Starting to train & Test...\n",
      "Iteration time:\t0\n",
      "Total elapsed time:\t0\n",
      "Starting iteration 1: 2017-04-12 20:17:52.803914\n",
      "\n",
      "\n",
      "Starting to train & Test...\n",
      "Iteration time:\t0\n",
      "Total elapsed time:\t0\n"
     ]
    },
    {
     "data": {
      "text/plain": [
       "1"
      ]
     },
     "execution_count": 11,
     "metadata": {},
     "output_type": "execute_result"
    }
   ],
   "source": [
    "optimize(X, y, dv, reduce=0, splits=2, trainsize=0.5, classifiers=DEFAULT_CLASSIFIERS_ARGS, crossValidation=10, maxIter=20)"
   ]
  }
 ],
 "metadata": {
  "anaconda-cloud": {},
  "kernelspec": {
   "display_name": "Python [conda root]",
   "language": "python",
   "name": "conda-root-py"
  },
  "language_info": {
   "codemirror_mode": {
    "name": "ipython",
    "version": 3
   },
   "file_extension": ".py",
   "mimetype": "text/x-python",
   "name": "python",
   "nbconvert_exporter": "python",
   "pygments_lexer": "ipython3",
   "version": "3.5.2"
  }
 },
 "nbformat": 4,
 "nbformat_minor": 1
}
