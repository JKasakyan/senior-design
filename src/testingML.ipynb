{
 "cells": [
  {
   "cell_type": "code",
   "execution_count": 1,
   "metadata": {
    "collapsed": false
   },
   "outputs": [
    {
     "name": "stderr",
     "output_type": "stream",
     "text": [
      "C:\\Program Files\\Anaconda3\\lib\\site-packages\\nltk\\twitter\\__init__.py:20: UserWarning: The twython library has not been installed. Some functionality from the twitter package will not be available.\n",
      "  warnings.warn(\"The twython library has not been installed. \"\n"
     ]
    }
   ],
   "source": [
    "from basic_nlp import *\n",
    "from json_io import *\n",
    "from ml import *"
   ]
  },
  {
   "cell_type": "code",
   "execution_count": 17,
   "metadata": {
    "collapsed": false
   },
   "outputs": [],
   "source": [
    "def keyToStr(d):\n",
    "    new = {}\n",
    "    for key,value in d.items():\n",
    "        new[str(key)] = value\n",
    "    return new\n",
    "\n",
    "def unigramFeature(tweet):\n",
    "    tokens = tokenize(tweet)\n",
    "    tagged = pos(tokens)\n",
    "    chunked = chunk(tagged)\n",
    "    tokens = tokNoNE(chunked)\n",
    "    ull = upperLowerLen(tokens)\n",
    "    cases = wordCases(ull)\n",
    "    tagged = pos(tokens)\n",
    "    lemma  = lemmatize(tagged)\n",
    "    puncuationFreqDict = punctuationFeatures(tweet)\n",
    "    for key,val in puncuationFreqDict.items():\n",
    "        puncuationFreqDict[key]=val[2]\n",
    "    \n",
    "    capFreq = capLetterFreq(ull)\n",
    "    allCapsFreq = cases.count('AC')/len(cases)\n",
    "    unigrams = keyToStr(dict(freq(grams(tokens, 1))))\n",
    "    bigrams = keyToStr(dict(freq(grams(tokens, 2))))\n",
    "    trigrams = keyToStr(dict(freq(grams(tokens, 3))))\n",
    "    feat = {}\n",
    "    feat.update(unigrams)\n",
    "    #feat.update(bigrams)\n",
    "    #feat.update(trigrams)\n",
    "    #feat.update(puncuationFreqDict)\n",
    "    feat.update({\"capFreq\":capFreq, \"allCapsFreq\":allCapsFreq})\n",
    "    return feat"
   ]
  },
  {
   "cell_type": "code",
   "execution_count": 18,
   "metadata": {
    "collapsed": false
   },
   "outputs": [],
   "source": [
    "sarcasticTweets = tweet_iterate(\"../json/sarcastic/unique.json\", key=\"text\")\n",
    "sarcasticFeats = [(unigramFeature(repr(next(sarcasticTweets))), True) for x in range(0,100)]\n",
    "\n",
    "seriousTweets = tweet_iterate(\"../json/non_sarcastic/unique.json\", key=\"text\")\n",
    "seriousFeats = [(unigramFeature(repr(next(seriousTweets))), False) for x in range(0,100)]"
   ]
  },
  {
   "cell_type": "code",
   "execution_count": 19,
   "metadata": {
    "collapsed": false
   },
   "outputs": [],
   "source": [
    "from random import shuffle\n",
    "featTup = sarcasticFeats + seriousFeats\n",
    "shuffle(featTup)\n",
    "(feats, bools) = list(zip(*featTup))\n",
    "vec = createFeatVector(feats)[1]"
   ]
  },
  {
   "cell_type": "code",
   "execution_count": 20,
   "metadata": {
    "collapsed": true
   },
   "outputs": [],
   "source": [
    "from sklearn.naive_bayes import GaussianNB\n",
    "m = ml({\"naive bayes\":GaussianNB()})"
   ]
  },
  {
   "cell_type": "code",
   "execution_count": 21,
   "metadata": {
    "collapsed": false
   },
   "outputs": [
    {
     "data": {
      "text/plain": [
       "{'naive bayes': GaussianNB()}"
      ]
     },
     "execution_count": 21,
     "metadata": {},
     "output_type": "execute_result"
    }
   ],
   "source": [
    "m.trainVectorizedFeatures(vec[:50], bools[:50])"
   ]
  },
  {
   "cell_type": "code",
   "execution_count": 22,
   "metadata": {
    "collapsed": false
   },
   "outputs": [
    {
     "data": {
      "text/plain": [
       "{'naive bayes': 0.64000000000000001}"
      ]
     },
     "execution_count": 22,
     "metadata": {},
     "output_type": "execute_result"
    }
   ],
   "source": [
    "m.accuracyVectorizedFeatures(vec[50:], bools[50:])"
   ]
  },
  {
   "cell_type": "code",
   "execution_count": null,
   "metadata": {
    "collapsed": false
   },
   "outputs": [],
   "source": []
  },
  {
   "cell_type": "code",
   "execution_count": null,
   "metadata": {
    "collapsed": false
   },
   "outputs": [],
   "source": []
  },
  {
   "cell_type": "code",
   "execution_count": null,
   "metadata": {
    "collapsed": true
   },
   "outputs": [],
   "source": []
  },
  {
   "cell_type": "code",
   "execution_count": null,
   "metadata": {
    "collapsed": true
   },
   "outputs": [],
   "source": []
  },
  {
   "cell_type": "code",
   "execution_count": null,
   "metadata": {
    "collapsed": true
   },
   "outputs": [],
   "source": []
  }
 ],
 "metadata": {
  "anaconda-cloud": {},
  "kernelspec": {
   "display_name": "Python [conda root]",
   "language": "python",
   "name": "conda-root-py"
  },
  "language_info": {
   "codemirror_mode": {
    "name": "ipython",
    "version": 3
   },
   "file_extension": ".py",
   "mimetype": "text/x-python",
   "name": "python",
   "nbconvert_exporter": "python",
   "pygments_lexer": "ipython3",
   "version": "3.5.2"
  }
 },
 "nbformat": 4,
 "nbformat_minor": 1
}
