{
 "cells": [
  {
   "cell_type": "code",
   "execution_count": null,
   "metadata": {
    "collapsed": false
   },
   "outputs": [],
   "source": [
    "import ml\n",
    "import nlp\n",
    "import pickle\n",
    "import re"
   ]
  },
  {
   "cell_type": "code",
   "execution_count": null,
   "metadata": {
    "collapsed": false
   },
   "outputs": [],
   "source": [
    "results = pickle.load(open('-twitter-trained-log87.pickle', 'rb'))\n",
    "classifier = results[0][2][1][0] # best logistic\n",
    "dvp = pickle.load(open('-twitter-dvp87.pickle', 'rb'))"
   ]
  },
  {
   "cell_type": "markdown",
   "metadata": {},
   "source": [
    "## Sarcastic tweets and links"
   ]
  },
  {
   "cell_type": "markdown",
   "metadata": {},
   "source": [
    "* [1](https://twitter.com/Josh2Gud4U/status/862109054306586629)\n",
    "* [2](https://twitter.com/RealMattCouch/status/863967970141274113)\n",
    "* [3](https://twitter.com/RJohnson633/status/864511315360051202)\n",
    "* [4](https://twitter.com/Sweete_Ladye/status/864489056046022656)\n",
    "* [5](https://twitter.com/KETCHUPnim/status/864287377031782400)\n",
    "* [6](https://twitter.com/700MHz/status/864540452573282304)\n",
    "* [7](https://twitter.com/PreciousJerbear/status/864531889054519296)\n",
    "* [8](https://twitter.com/flyingisdying/status/861201513326268416)\n",
    "* [9](https://twitter.com/_Up_n_Down_/status/861182998087172097)\n",
    "* [10](https://twitter.com/ElleLatham/status/864697141461082112)\n",
    "* [11](https://twitter.com/gregfig2/status/864699196812677120)\n",
    "* [12](https://twitter.com/CoreySmith_2/status/864694750867324928)\n",
    "* [13](https://twitter.com/robwiii/status/864694557866328064)\n",
    "* [14](https://twitter.com/jjesscharm/status/864684128897314817)\n",
    "* [15](https://twitter.com/Uncle_Sammich/status/864675310930845696)"
   ]
  },
  {
   "cell_type": "code",
   "execution_count": null,
   "metadata": {
    "collapsed": true
   },
   "outputs": [],
   "source": [
    "sarcastic_tweets_with_hash = [\n",
    "    '''I can't believe what I'm seeing!!!! I thought WB doesn't give a damn about WW marketing!!!!!! #sarcasm https://t.co/XxklhWRS6N''',\n",
    "    '''Anyone else notice how much the leaks have slowed down with Comey gone.. strange right? #sarcasm''',\n",
    "    '''@Ebeychelle Don't insult him. He's a gun toting, bible believing son of a baptist BBQ eater. God has blessed us with Trump to MAGA. #sarcasm''',\n",
    "    '''Good thing the GOP and Fox News assure me this is all fake news. Otherwise I may be seriously concerned about the fate of the USA. #sarcasm''',\n",
    "    '''I like how she's being smug on the cherry blossoms over the Switzerland trip😂\n",
    "\n",
    "#jihyo: aren't you envious? 😏 #sarcasm\n",
    "\n",
    "🌸 > 🇨🇭''',\n",
    "    '''@thehill Sure I'll watch North Korean - China - Russian and Iran news all very creditable sources #sarcasm''',\n",
    "    '''@mikefreemanNFL Because voicing your beliefs if they're political is worse than actual physical abuse #sarcasm #idiots''',\n",
    "    '''Don't mind me, I am in 'one of those moods' today... #sarcasm & nonsensical ramblings mixed with some #spiritual stuff''',\n",
    "    '''Can't wait to move to South Cali where we'll have to pay out the nose to put our dog in doggie daycare everyday. #sarcasm #ihatemywife''',\n",
    "    '''@rntaylor1963 @ninaturner @JohnKasich @SenSanders Yes. I like propaganda on Fox. Fox is the only propaganda I'll watch. #sarcasm''',\n",
    "    '''@DodgersNation Wait... You mean the video game is not the same??? 😁    #sarcasm''',\n",
    "    '''It's good that the #Orioles have 3 catchers and 6 relievers in this game. #sarcasm''',\n",
    "    '''@politco That would be great for the party, a 80 year old candidate #sarcasm''',\n",
    "    '''Tonight was the icing on a spectacular day. 😒 #sarcasm''',\n",
    "    '''Just remember kids, it’s all your teachers fault. You aren’t accountable for anything. #TrueStorey #sarcasm'''\n",
    "]\n"
   ]
  },
  {
   "cell_type": "markdown",
   "metadata": {},
   "source": [
    "## Sanity check"
   ]
  },
  {
   "cell_type": "code",
   "execution_count": null,
   "metadata": {
    "collapsed": false
   },
   "outputs": [],
   "source": [
    "re.sub('#sarcasm', \n",
    "       '', \n",
    "       \"this #sarcasm is a test #sarcasm #test #sarcasm\"\n",
    ")"
   ]
  },
  {
   "cell_type": "code",
   "execution_count": null,
   "metadata": {
    "collapsed": false
   },
   "outputs": [],
   "source": [
    "sarcastic_tweets_without_hash = [re.sub('#sarcasm', '', x) for x in sarcastic_tweets_with_hash]"
   ]
  },
  {
   "cell_type": "code",
   "execution_count": null,
   "metadata": {
    "collapsed": false
   },
   "outputs": [],
   "source": [
    "sarcastic_tweets_without_hash"
   ]
  },
  {
   "cell_type": "markdown",
   "metadata": {},
   "source": [
    "## Prediction"
   ]
  },
  {
   "cell_type": "code",
   "execution_count": null,
   "metadata": {
    "collapsed": false
   },
   "outputs": [],
   "source": [
    "pre = ml.predict(sarcastic_tweets_without_hash,\n",
    "           classifier,\n",
    "           dvp,\n",
    "           nlp.cleanTokensTwitter)\n",
    "\n",
    "for t,p,pp in zip(sarcastic_tweets_without_hash, pre['prediction'], pre['prediction_probabilities']):\n",
    "    print(t)\n",
    "    print('\\tSarcastic' if p else '\\tNon-sarcastic')\n",
    "    print('\\t'+str(pp[1]*100)+'%' if p else '\\t'+str(pp[0]*100)+'%')\n",
    "    print()"
   ]
  },
  {
   "cell_type": "markdown",
   "metadata": {},
   "source": [
    "## Serious tweets and links"
   ]
  },
  {
   "cell_type": "markdown",
   "metadata": {},
   "source": [
    "* [1](https://twitter.com/RichieLarkin87/status/864545414518853632)\n",
    "* [2](https://twitter.com/realDonaldTrump/status/864436162567471104)\n",
    "* [3](https://twitter.com/zakhenxumalo89/status/852182273076101120)\n",
    "* [4](https://twitter.com/abcdxxaguilar/status/852182273348599809)\n",
    "* [5](https://twitter.com/elainejchen/status/854053068668903426)\n",
    "* [6](https://twitter.com/D2KX_/status/852182273508167681)\n",
    "* [7](https://twitter.com/AlgilarKnight/status/852182273260761089)\n",
    "* [8](https://twitter.com/HelmBuysHomes/status/864547971110535168)\n",
    "* [9](https://twitter.com/xxevinhaxx/status/862391015574994946)\n",
    "* [10](https://twitter.com/mrjosephbonner/status/864549335459012608)\n",
    "* [11](https://twitter.com/AltNatParkSer/status/829067461735641088)\n",
    "* [12](https://twitter.com/NASAJPL/status/864217164680634368)\n",
    "* [13](https://twitter.com/DeLyfe_/status/864553572733562881)\n",
    "* [14](https://twitter.com/vidz_monster/status/864227534208151552)\n",
    "* [15](https://twitter.com/NPR/status/864623058233036801)"
   ]
  },
  {
   "cell_type": "code",
   "execution_count": null,
   "metadata": {
    "collapsed": true
   },
   "outputs": [],
   "source": [
    "serious_tweets = [\n",
    "    '''@HitmanHandle @sammynumber9 @upwardsat45d @SalfordDevils Did anyone manage to offer anyone a lift to the meeting?''',\n",
    "    '''As President I wanted to share with Russia (at an openly scheduled W.H. meeting) which I have the absolute right to do, facts pertaining....''',\n",
    "    '''@TheMikeAppel @eNCA Jessie Duarte a Gupta tea girl who have sold her soul to the shebeen and has become a Zuma propagandist in Gupta media''',\n",
    "    '''@Fact omg i can still remember when i let my dog eat the chocolates na tira tira huhu i crei @ my best starrr!! 😩 https://t.co/AkfykK7a7T''',\n",
    "    '''Never thought that clunkiness/cost of microscope might be holding back public health https://t.co/TQQcvBheDf so $1 microscope exciting!''',\n",
    "    '''@SwiftOnSecurity They sponsor literally every podcast ever, followed by Crunchyroll.''',\n",
    "    '''@rylolli Happy birthday! :D''',\n",
    "    '''#Calgary #news Preliminary inquiry continues for Edward Downey, accused of killing Taliyah Marsman, Sara Baillie https://t.co/CcuZuIWQ29 https://t.co/PvgNMNBEB4''',\n",
    "    '''Viciei no 13 reasons why''',\n",
    "    '''Dallas Independent School District Under Fire After 7-Year-Old Boy With Special Needs Is Arrested - https://t.co/2XpH9ddFAG  #Dallas #News https://t.co/gl4tZyxgXU''',\n",
    "    '''We will campaign against every single senator who voted for #DeVos. That is a promise. Retweet and follow to join us!''',\n",
    "    '''Work 💪 @MarsRovers’ Oppy reached the main destination of her 2 yr extended mission & begins to study ancient valley https://t.co/tmTAw8rs13''',\n",
    "    '''How many retweets to give the Lakers the number 1 pick? @NBA''',\n",
    "    '''You Won't BELIEVE what the cameras captured at WAL*MART 2017 #1: https://t.co/3m47rFnSDG via @YouTube''',\n",
    "    '''@NPR @johnson_carrie A second associate says Comey wrote notes for his files on several conversations with Trump. \"He was concerned,\" the second source said.''',\n",
    "]"
   ]
  },
  {
   "cell_type": "markdown",
   "metadata": {},
   "source": [
    "## Prediction"
   ]
  },
  {
   "cell_type": "code",
   "execution_count": null,
   "metadata": {
    "collapsed": false
   },
   "outputs": [],
   "source": [
    "pre = ml.predict(serious_tweets,\n",
    "           classifier,\n",
    "           dvp,\n",
    "           nlp.cleanTokensTwitter)\n",
    "\n",
    "for t,p,pp in zip(serious_tweets, pre['prediction'], pre['prediction_probabilities']):\n",
    "    print(t)\n",
    "    print('\\tSarcastic' if p else '\\tNon-sarcastic')\n",
    "    print('\\t'+str(pp[1]*100)+'%' if p else '\\t'+str(pp[0]*100)+'%')\n",
    "    print()"
   ]
  },
  {
   "cell_type": "code",
   "execution_count": null,
   "metadata": {
    "collapsed": true
   },
   "outputs": [],
   "source": []
  }
 ],
 "metadata": {
  "anaconda-cloud": {},
  "kernelspec": {
   "display_name": "Python3 (senior-design)",
   "language": "python",
   "name": "senior-design"
  },
  "language_info": {
   "codemirror_mode": {
    "name": "ipython",
    "version": 3
   },
   "file_extension": ".py",
   "mimetype": "text/x-python",
   "name": "python",
   "nbconvert_exporter": "python",
   "pygments_lexer": "ipython3",
   "version": "3.5.2"
  }
 },
 "nbformat": 4,
 "nbformat_minor": 1
}
