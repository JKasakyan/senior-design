{
 "cells": [
  {
   "cell_type": "code",
   "execution_count": 1,
   "metadata": {
    "collapsed": false
   },
   "outputs": [
    {
     "name": "stderr",
     "output_type": "stream",
     "text": [
      "/Users/James/anaconda/envs/senior-design/lib/python3.5/site-packages/nltk/twitter/__init__.py:20: UserWarning: The twython library has not been installed. Some functionality from the twitter package will not be available.\n",
      "  warnings.warn(\"The twython library has not been installed. \"\n"
     ]
    }
   ],
   "source": [
    "import ml\n",
    "import nlp\n",
    "import pickle\n",
    "import re"
   ]
  },
  {
   "cell_type": "code",
   "execution_count": 4,
   "metadata": {
    "collapsed": false
   },
   "outputs": [],
   "source": [
    "dvp = pickle.load(open('./pickled/v2-twitter-dvp.pickle', 'rb'))\n",
    "results = ml.best_classifiers(\n",
    "    [pickle.load(open('./pickled/v2-twitter-trained-log-balanced.pickle', 'rb'))], \n",
    "    [\"LOG_balanced\"],\n",
    "    dvp\n",
    ")\n",
    "classifier = results[\"LOG_balanced\"][\"classifier\"]\n",
    "dvp = results[\"LOG_balanced\"][\"dvp\"]"
   ]
  },
  {
   "cell_type": "markdown",
   "metadata": {},
   "source": [
    "## Sarcastic tweets and links"
   ]
  },
  {
   "cell_type": "markdown",
   "metadata": {},
   "source": [
    "* [1](https://twitter.com/Josh2Gud4U/status/862109054306586629)\n",
    "* [2](https://twitter.com/RealMattCouch/status/863967970141274113)\n",
    "* [3](https://twitter.com/RJohnson633/status/864511315360051202)\n",
    "* [4](https://twitter.com/Sweete_Ladye/status/864489056046022656)\n",
    "* [5](https://twitter.com/KETCHUPnim/status/864287377031782400)\n",
    "* [6](https://twitter.com/700MHz/status/864540452573282304)\n",
    "* [7](https://twitter.com/PreciousJerbear/status/864531889054519296)\n",
    "* [8](https://twitter.com/flyingisdying/status/861201513326268416)\n",
    "* [9](https://twitter.com/_Up_n_Down_/status/861182998087172097)\n",
    "* [10](https://twitter.com/ElleLatham/status/864697141461082112)\n",
    "* [11](https://twitter.com/gregfig2/status/864699196812677120)\n",
    "* [12](https://twitter.com/CoreySmith_2/status/864694750867324928)\n",
    "* [13](https://twitter.com/robwiii/status/864694557866328064)\n",
    "* [14](https://twitter.com/jjesscharm/status/864684128897314817)\n",
    "* [15](https://twitter.com/Uncle_Sammich/status/864675310930845696)"
   ]
  },
  {
   "cell_type": "code",
   "execution_count": 6,
   "metadata": {
    "collapsed": true
   },
   "outputs": [],
   "source": [
    "sarcastic_tweets_with_hash = [\n",
    "    '''I can't believe what I'm seeing!!!! I thought WB doesn't give a damn about WW marketing!!!!!! #sarcasm https://t.co/XxklhWRS6N''',\n",
    "    '''Anyone else notice how much the leaks have slowed down with Comey gone.. strange right? #sarcasm''',\n",
    "    '''@Ebeychelle Don't insult him. He's a gun toting, bible believing son of a baptist BBQ eater. God has blessed us with Trump to MAGA. #sarcasm''',\n",
    "    '''Good thing the GOP and Fox News assure me this is all fake news. Otherwise I may be seriously concerned about the fate of the USA. #sarcasm''',\n",
    "    '''I like how she's being smug on the cherry blossoms over the Switzerland trip😂\n",
    "\n",
    "#jihyo: aren't you envious? 😏 #sarcasm\n",
    "\n",
    "🌸 > 🇨🇭''',\n",
    "    '''@thehill Sure I'll watch North Korean - China - Russian and Iran news all very creditable sources #sarcasm''',\n",
    "    '''@mikefreemanNFL Because voicing your beliefs if they're political is worse than actual physical abuse #sarcasm #idiots''',\n",
    "    '''Don't mind me, I am in 'one of those moods' today... #sarcasm & nonsensical ramblings mixed with some #spiritual stuff''',\n",
    "    '''Can't wait to move to South Cali where we'll have to pay out the nose to put our dog in doggie daycare everyday. #sarcasm #ihatemywife''',\n",
    "    '''@rntaylor1963 @ninaturner @JohnKasich @SenSanders Yes. I like propaganda on Fox. Fox is the only propaganda I'll watch. #sarcasm''',\n",
    "    '''@DodgersNation Wait... You mean the video game is not the same??? 😁    #sarcasm''',\n",
    "    '''It's good that the #Orioles have 3 catchers and 6 relievers in this game. #sarcasm''',\n",
    "    '''@politco That would be great for the party, a 80 year old candidate #sarcasm''',\n",
    "    '''Tonight was the icing on a spectacular day. 😒 #sarcasm''',\n",
    "    '''Just remember kids, it’s all your teachers fault. You aren’t accountable for anything. #TrueStorey #sarcasm'''\n",
    "]\n"
   ]
  },
  {
   "cell_type": "markdown",
   "metadata": {},
   "source": [
    "## Sanity check"
   ]
  },
  {
   "cell_type": "code",
   "execution_count": 7,
   "metadata": {
    "collapsed": false
   },
   "outputs": [
    {
     "name": "stdout",
     "output_type": "stream",
     "text": [
      "(['this', 'is', 'a', 'test'], 'this  is a test')\n"
     ]
    }
   ],
   "source": [
    "print(nlp.cleanTokensTwitter(\"this #sarcasm is a test #sarcasm #test #sarcasm\"))\n",
    "sarcastic_tweets_without_hash = [nlp.cleanTokensTwitter(x)[1] for x in sarcastic_tweets_with_hash]"
   ]
  },
  {
   "cell_type": "code",
   "execution_count": 8,
   "metadata": {
    "collapsed": false
   },
   "outputs": [
    {
     "data": {
      "text/plain": [
       "[\"I can't believe what I'm seeing!!!! I thought WB doesn't give a damn about WW marketing!!!!!!  LinkTOK\",\n",
       " 'Anyone else notice how much the leaks have slowed down with Comey gone.. strange right?',\n",
       " \"NameTOK Don't insult him. He's a gun toting, bible believing son of a baptist BBQ eater. God has blessed us with Trump to MAGA.\",\n",
       " 'Good thing the GOP and Fox News assure me this is all fake news. Otherwise I may be seriously concerned about the fate of the USA.',\n",
       " \"I like how she's being smug on the cherry blossoms over the Switzerland trip😂\\n\\n: aren't you envious? 😏 \\n\\n🌸 > 🇨🇭\",\n",
       " \"NameTOK Sure I'll watch North Korean - China - Russian and Iran news all very creditable sources\",\n",
       " \"NameTOK Because voicing your beliefs if they're political is worse than actual physical abuse\",\n",
       " \"Don't mind me, I am in 'one of those moods' today...  & nonsensical ramblings mixed with some  stuff\",\n",
       " \"Can't wait to move to South Cali where we'll have to pay out the nose to put our dog in doggie daycare everyday.\",\n",
       " \"NameTOK NameTOK NameTOK NameTOK Yes. I like propaganda on Fox. Fox is the only propaganda I'll watch.\",\n",
       " 'NameTOK Wait... You mean the video game is not the same??? 😁',\n",
       " \"It's good that the  have 3 catchers and 6 relievers in this game.\",\n",
       " 'NameTOK That would be great for the party, a 80 year old candidate',\n",
       " 'Tonight was the icing on a spectacular day. 😒',\n",
       " 'Just remember kids, it’s all your teachers fault. You aren’t accountable for anything.']"
      ]
     },
     "execution_count": 8,
     "metadata": {},
     "output_type": "execute_result"
    }
   ],
   "source": [
    "sarcastic_tweets_without_hash"
   ]
  },
  {
   "cell_type": "markdown",
   "metadata": {},
   "source": [
    "## Prediction"
   ]
  },
  {
   "cell_type": "code",
   "execution_count": 10,
   "metadata": {
    "collapsed": false
   },
   "outputs": [
    {
     "name": "stdout",
     "output_type": "stream",
     "text": [
      "I can't believe what I'm seeing!!!! I thought WB doesn't give a damn about WW marketing!!!!!!  LinkTOK\n",
      "\tSarcastic\n",
      "\t82.0870740604%\n",
      "\n",
      "Anyone else notice how much the leaks have slowed down with Comey gone.. strange right?\n",
      "\tSarcastic\n",
      "\t88.3171727318%\n",
      "\n",
      "NameTOK Don't insult him. He's a gun toting, bible believing son of a baptist BBQ eater. God has blessed us with Trump to MAGA.\n",
      "\tSarcastic\n",
      "\t75.2290131963%\n",
      "\n",
      "Good thing the GOP and Fox News assure me this is all fake news. Otherwise I may be seriously concerned about the fate of the USA.\n",
      "\tSarcastic\n",
      "\t98.9142077979%\n",
      "\n",
      "I like how she's being smug on the cherry blossoms over the Switzerland trip😂\n",
      "\n",
      ": aren't you envious? 😏 \n",
      "\n",
      "🌸 > 🇨🇭\n",
      "\tSarcastic\n",
      "\t92.829243441%\n",
      "\n",
      "NameTOK Sure I'll watch North Korean - China - Russian and Iran news all very creditable sources\n",
      "\tSerious\n",
      "\t82.5477806071%\n",
      "\n",
      "NameTOK Because voicing your beliefs if they're political is worse than actual physical abuse\n",
      "\tSarcastic\n",
      "\t76.7123138813%\n",
      "\n",
      "Don't mind me, I am in 'one of those moods' today...  & nonsensical ramblings mixed with some  stuff\n",
      "\tSarcastic\n",
      "\t65.1192035048%\n",
      "\n",
      "Can't wait to move to South Cali where we'll have to pay out the nose to put our dog in doggie daycare everyday.\n",
      "\tSarcastic\n",
      "\t69.2149370994%\n",
      "\n",
      "NameTOK NameTOK NameTOK NameTOK Yes. I like propaganda on Fox. Fox is the only propaganda I'll watch.\n",
      "\tSerious\n",
      "\t52.5788114473%\n",
      "\n",
      "NameTOK Wait... You mean the video game is not the same??? 😁\n",
      "\tSerious\n",
      "\t56.2100323769%\n",
      "\n",
      "It's good that the  have 3 catchers and 6 relievers in this game.\n",
      "\tSarcastic\n",
      "\t78.5498753097%\n",
      "\n",
      "NameTOK That would be great for the party, a 80 year old candidate\n",
      "\tSarcastic\n",
      "\t74.9184784051%\n",
      "\n",
      "Tonight was the icing on a spectacular day. 😒\n",
      "\tSarcastic\n",
      "\t66.6830055541%\n",
      "\n",
      "Just remember kids, it’s all your teachers fault. You aren’t accountable for anything.\n",
      "\tSarcastic\n",
      "\t75.5909840515%\n",
      "\n"
     ]
    }
   ],
   "source": [
    "pre = ml.predict(sarcastic_tweets_without_hash,\n",
    "           classifier,\n",
    "           dvp,\n",
    "           nlp.cleanTokensTwitter)\n",
    "\n",
    "for t,p,pp in zip(sarcastic_tweets_without_hash, pre['prediction'], pre['prediction_probabilities']):\n",
    "    print(t)\n",
    "    print('\\tSarcastic' if p else '\\tSerious')\n",
    "    print('\\t'+str(pp[1]*100)+'%' if p else '\\t'+str(pp[0]*100)+'%')\n",
    "    print()"
   ]
  },
  {
   "cell_type": "markdown",
   "metadata": {},
   "source": [
    "## Serious tweets and links"
   ]
  },
  {
   "cell_type": "markdown",
   "metadata": {},
   "source": [
    "* [1](https://twitter.com/RichieLarkin87/status/864545414518853632)\n",
    "* [2](https://twitter.com/realDonaldTrump/status/864436162567471104)\n",
    "* [3](https://twitter.com/zakhenxumalo89/status/852182273076101120)\n",
    "* [4](https://twitter.com/abcdxxaguilar/status/852182273348599809)\n",
    "* [5](https://twitter.com/elainejchen/status/854053068668903426)\n",
    "* [6](https://twitter.com/D2KX_/status/852182273508167681)\n",
    "* [7](https://twitter.com/AlgilarKnight/status/852182273260761089)\n",
    "* [8](https://twitter.com/HelmBuysHomes/status/864547971110535168)\n",
    "* [9](https://twitter.com/xxevinhaxx/status/862391015574994946)\n",
    "* [10](https://twitter.com/mrjosephbonner/status/864549335459012608)\n",
    "* [11](https://twitter.com/AltNatParkSer/status/829067461735641088)\n",
    "* [12](https://twitter.com/NASAJPL/status/864217164680634368)\n",
    "* [13](https://twitter.com/DeLyfe_/status/864553572733562881)\n",
    "* [14](https://twitter.com/vidz_monster/status/864227534208151552)\n",
    "* [15](https://twitter.com/NPR/status/864623058233036801)"
   ]
  },
  {
   "cell_type": "code",
   "execution_count": 11,
   "metadata": {
    "collapsed": true
   },
   "outputs": [],
   "source": [
    "serious_tweets = [\n",
    "    '''@HitmanHandle @sammynumber9 @upwardsat45d @SalfordDevils Did anyone manage to offer anyone a lift to the meeting?''',\n",
    "    '''As President I wanted to share with Russia (at an openly scheduled W.H. meeting) which I have the absolute right to do, facts pertaining....''',\n",
    "    '''@TheMikeAppel @eNCA Jessie Duarte a Gupta tea girl who have sold her soul to the shebeen and has become a Zuma propagandist in Gupta media''',\n",
    "    '''@Fact omg i can still remember when i let my dog eat the chocolates na tira tira huhu i crei @ my best starrr!! 😩 https://t.co/AkfykK7a7T''',\n",
    "    '''Never thought that clunkiness/cost of microscope might be holding back public health https://t.co/TQQcvBheDf so $1 microscope exciting!''',\n",
    "    '''@SwiftOnSecurity They sponsor literally every podcast ever, followed by Crunchyroll.''',\n",
    "    '''@rylolli Happy birthday! :D''',\n",
    "    '''#Calgary #news Preliminary inquiry continues for Edward Downey, accused of killing Taliyah Marsman, Sara Baillie https://t.co/CcuZuIWQ29 https://t.co/PvgNMNBEB4''',\n",
    "    '''Viciei no 13 reasons why''',\n",
    "    '''Dallas Independent School District Under Fire After 7-Year-Old Boy With Special Needs Is Arrested - https://t.co/2XpH9ddFAG  #Dallas #News https://t.co/gl4tZyxgXU''',\n",
    "    '''We will campaign against every single senator who voted for #DeVos. That is a promise. Retweet and follow to join us!''',\n",
    "    '''Work 💪 @MarsRovers’ Oppy reached the main destination of her 2 yr extended mission & begins to study ancient valley https://t.co/tmTAw8rs13''',\n",
    "    '''How many retweets to give the Lakers the number 1 pick? @NBA''',\n",
    "    '''You Won't BELIEVE what the cameras captured at WAL*MART 2017 #1: https://t.co/3m47rFnSDG via @YouTube''',\n",
    "    '''@NPR @johnson_carrie A second associate says Comey wrote notes for his files on several conversations with Trump. \"He was concerned,\" the second source said.''',\n",
    "]"
   ]
  },
  {
   "cell_type": "code",
   "execution_count": 12,
   "metadata": {
    "collapsed": false
   },
   "outputs": [
    {
     "data": {
      "text/plain": [
       "['NameTOK NameTOK NameTOK NameTOK Did anyone manage to offer anyone a lift to the meeting?',\n",
       " 'As President I wanted to share with Russia (at an openly scheduled W.H. meeting) which I have the absolute right to do, facts pertaining....',\n",
       " 'NameTOK NameTOK Jessie Duarte a Gupta tea girl who have sold her soul to the shebeen and has become a Zuma propagandist in Gupta media',\n",
       " 'NameTOK omg i can still remember when i let my dog eat the chocolates na tira tira huhu i crei @ my best starrr!! 😩 LinkTOK',\n",
       " 'Never thought that clunkiness/cost of microscope might be holding back public health LinkTOK so $1 microscope exciting!',\n",
       " 'NameTOK They sponsor literally every podcast ever, followed by Crunchyroll.',\n",
       " 'NameTOK Happy birthday! :D',\n",
       " '  Preliminary inquiry continues for Edward Downey, accused of killing Taliyah Marsman, Sara Baillie LinkTOK LinkTOK',\n",
       " 'Viciei no 13 reasons why',\n",
       " 'Dallas Independent School District Under Fire After 7-Year-Old Boy With Special Needs Is Arrested - LinkTOK    LinkTOK',\n",
       " 'We will campaign against every single senator who voted for . That is a promise. Retweet and follow to join us!',\n",
       " 'Work 💪 NameTOK’ Oppy reached the main destination of her 2 yr extended mission & begins to study ancient valley LinkTOK',\n",
       " 'How many retweets to give the Lakers the number 1 pick? NameTOK',\n",
       " \"You Won't BELIEVE what the cameras captured at WAL*MART 2017 : LinkTOK via NameTOK\",\n",
       " 'NameTOK NameTOK A second associate says Comey wrote notes for his files on several conversations with Trump. \"He was concerned,\" the second source said.']"
      ]
     },
     "execution_count": 12,
     "metadata": {},
     "output_type": "execute_result"
    }
   ],
   "source": [
    "serious_tweets = [nlp.cleanTokensTwitter(x)[1] for x in serious_tweets]\n",
    "serious_tweets"
   ]
  },
  {
   "cell_type": "markdown",
   "metadata": {},
   "source": [
    "## Prediction"
   ]
  },
  {
   "cell_type": "code",
   "execution_count": 13,
   "metadata": {
    "collapsed": false
   },
   "outputs": [
    {
     "name": "stdout",
     "output_type": "stream",
     "text": [
      "NameTOK NameTOK NameTOK NameTOK Did anyone manage to offer anyone a lift to the meeting?\n",
      "\tSerious\n",
      "\t58.3306281356%\n",
      "\n",
      "As President I wanted to share with Russia (at an openly scheduled W.H. meeting) which I have the absolute right to do, facts pertaining....\n",
      "\tSarcastic\n",
      "\t85.0358963236%\n",
      "\n",
      "NameTOK NameTOK Jessie Duarte a Gupta tea girl who have sold her soul to the shebeen and has become a Zuma propagandist in Gupta media\n",
      "\tSerious\n",
      "\t78.5054676728%\n",
      "\n",
      "NameTOK omg i can still remember when i let my dog eat the chocolates na tira tira huhu i crei @ my best starrr!! 😩 LinkTOK\n",
      "\tSerious\n",
      "\t82.7218593257%\n",
      "\n",
      "Never thought that clunkiness/cost of microscope might be holding back public health LinkTOK so $1 microscope exciting!\n",
      "\tSarcastic\n",
      "\t93.0502544539%\n",
      "\n",
      "NameTOK They sponsor literally every podcast ever, followed by Crunchyroll.\n",
      "\tSerious\n",
      "\t63.688877047%\n",
      "\n",
      "NameTOK Happy birthday! :D\n",
      "\tSerious\n",
      "\t88.3675284952%\n",
      "\n",
      "  Preliminary inquiry continues for Edward Downey, accused of killing Taliyah Marsman, Sara Baillie LinkTOK LinkTOK\n",
      "\tSarcastic\n",
      "\t50.3505581128%\n",
      "\n",
      "Viciei no 13 reasons why\n",
      "\tSerious\n",
      "\t85.3302468847%\n",
      "\n",
      "Dallas Independent School District Under Fire After 7-Year-Old Boy With Special Needs Is Arrested - LinkTOK    LinkTOK\n",
      "\tSerious\n",
      "\t98.2328945942%\n",
      "\n",
      "We will campaign against every single senator who voted for . That is a promise. Retweet and follow to join us!\n",
      "\tSerious\n",
      "\t54.1433128556%\n",
      "\n",
      "Work 💪 NameTOK’ Oppy reached the main destination of her 2 yr extended mission & begins to study ancient valley LinkTOK\n",
      "\tSerious\n",
      "\t73.3680891385%\n",
      "\n",
      "How many retweets to give the Lakers the number 1 pick? NameTOK\n",
      "\tSarcastic\n",
      "\t63.0579274051%\n",
      "\n",
      "You Won't BELIEVE what the cameras captured at WAL*MART 2017 : LinkTOK via NameTOK\n",
      "\tSerious\n",
      "\t93.5818957633%\n",
      "\n",
      "NameTOK NameTOK A second associate says Comey wrote notes for his files on several conversations with Trump. \"He was concerned,\" the second source said.\n",
      "\tSerious\n",
      "\t60.9028123681%\n",
      "\n"
     ]
    }
   ],
   "source": [
    "pre = ml.predict(serious_tweets,\n",
    "           classifier,\n",
    "           dvp,\n",
    "           nlp.cleanTokensTwitter)\n",
    "\n",
    "for t,p,pp in zip(serious_tweets, pre['prediction'], pre['prediction_probabilities']):\n",
    "    print(t)\n",
    "    print('\\tSarcastic' if p else '\\tSerious')\n",
    "    print('\\t'+str(pp[1]*100)+'%' if p else '\\t'+str(pp[0]*100)+'%')\n",
    "    print()"
   ]
  },
  {
   "cell_type": "code",
   "execution_count": null,
   "metadata": {
    "collapsed": true
   },
   "outputs": [],
   "source": []
  }
 ],
 "metadata": {
  "anaconda-cloud": {},
  "kernelspec": {
   "display_name": "Python [conda env:senior-design]",
   "language": "python",
   "name": "conda-env-senior-design-py"
  },
  "language_info": {
   "codemirror_mode": {
    "name": "ipython",
    "version": 3
   },
   "file_extension": ".py",
   "mimetype": "text/x-python",
   "name": "python",
   "nbconvert_exporter": "python",
   "pygments_lexer": "ipython3",
   "version": "3.5.2"
  }
 },
 "nbformat": 4,
 "nbformat_minor": 1
}
