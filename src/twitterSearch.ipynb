{
 "cells": [
  {
   "cell_type": "code",
   "execution_count": null,
   "metadata": {
    "collapsed": false
   },
   "outputs": [],
   "source": [
    "from TwitterSearch import *\n",
    "from login import *\n",
    "import pprint"
   ]
  },
  {
   "cell_type": "code",
   "execution_count": null,
   "metadata": {
    "collapsed": false,
    "scrolled": true
   },
   "outputs": [],
   "source": [
    "try:\n",
    "    tso = TwitterSearchOrder() # create a TwitterSearchOrder object\n",
    "    tso.set_keywords([\"#sarcasm\"]) # let's define all words we would like to have a look for\n",
    "    tso.set_language('en') # we want to see German tweets only\n",
    "    tso.set_include_entities(True) # and give us all those entity information\n",
    "    tso.arguments.update({\"tweet_mode\": \"extended\"})\n",
    "\n",
    "    # it's about time to create a TwitterSearch object with our secret tokens\n",
    "    ts = TwitterSearch(\n",
    "        consumer_key = CONSUMER_KEY,\n",
    "        consumer_secret = CONSUMER_SECRET,\n",
    "        access_token = ACCESS_TOKEN,\n",
    "        access_token_secret = ACCESS_SECRET\n",
    "     )\n",
    "\n",
    "     # this is where the fun actually starts :)\n",
    "    for tweet in ts.search_tweets_iterable(tso):\n",
    "        d = {'id': tweet['id'],\n",
    "                   'urls': not not tweet['entities']['urls'],\n",
    "                   'media': \"media\" in tweet[\"entities\"],\n",
    "                   'text': tweet['full_text']}\n",
    "        print(d)\n",
    "\n",
    "except TwitterSearchException as e: # take care of all those ugly errors if there are some\n",
    "    print(e)\n",
    "    \n",
    "print(\"Done\")"
   ]
  },
  {
   "cell_type": "code",
   "execution_count": null,
   "metadata": {
    "collapsed": false
   },
   "outputs": [],
   "source": [
    "try:\n",
    "    tso = TwitterSearchOrder() # create a TwitterSearchOrder object\n",
    "    tso.set_keywords(['Tonight means a lot to me @nyrangers. Thank you for being an amazing organization. Proud t']) # let's define all words we would like to have a look for\n",
    "    tso.set_language('en') # we want to see German tweets only\n",
    "    tso.set_include_entities(True) # and give us all those entity information\n",
    "\n",
    "    # it's about time to create a TwitterSearch object with our secret tokens\n",
    "    ts = TwitterSearch(\n",
    "        consumer_key = CONSUMER_KEY,\n",
    "        consumer_secret = CONSUMER_SECRET,\n",
    "        access_token = ACCESS_TOKEN,\n",
    "        access_token_secret = ACCESS_SECRET\n",
    "     )\n",
    "\n",
    "     # this is where the fun actually starts :)\n",
    "    for tweet in ts.search_tweets_iterable(tso):\n",
    "        pp = pprint.PrettyPrinter(indent=4)\n",
    "        pp.pprint( tweet)\n",
    "\n",
    "\n",
    "except TwitterSearchException as e: # take care of all those ugly errors if there are some\n",
    "    print(e)\n",
    "    \n",
    "print(\"Done\")"
   ]
  },
  {
   "cell_type": "code",
   "execution_count": null,
   "metadata": {
    "collapsed": true
   },
   "outputs": [],
   "source": [
    "import json\n",
    "from application_only_auth import Client\n",
    "from urllib.parse import quote\n",
    "from login import CONSUMER_KEY, CONSUMER_SECRET"
   ]
  },
  {
   "cell_type": "code",
   "execution_count": null,
   "metadata": {
    "collapsed": false
   },
   "outputs": [],
   "source": [
    "client = Client(CONSUMER_KEY, CONSUMER_SECRET)\n",
    "twitter = 'https://api.twitter.com/1.1/search/tweets.json?'\n",
    "lang = '&lang=en'\n",
    "resulttype = '&result_type=popular'# mixed recent\n",
    "count = '&count=100'\n",
    "mode = \"&tweet_mode=extended\"\n",
    "query = \"q=\" + quote(\"@DBeastmodeQueen The creative team did not even bother to establish details like this. So, what else do we expect\")\n",
    "\n",
    "# Pretty print of tweet payload\n",
    "tweet = client.request(twitter+query+count+mode)\n",
    "print(json.dumps(tweet, sort_keys=True, indent=4, separators=(',', ':')))\n",
    "\n",
    "# Show rate limit status for this application\n",
    "status = client.rate_limit_status()\n",
    "print(status['resources']['search'])"
   ]
  },
  {
   "cell_type": "code",
   "execution_count": null,
   "metadata": {
    "collapsed": false
   },
   "outputs": [],
   "source": [
    "tso.arguments"
   ]
  },
  {
   "cell_type": "code",
   "execution_count": null,
   "metadata": {
    "collapsed": true
   },
   "outputs": [],
   "source": [
    "import re"
   ]
  },
  {
   "cell_type": "code",
   "execution_count": null,
   "metadata": {
    "collapsed": true
   },
   "outputs": [],
   "source": []
  }
 ],
 "metadata": {
  "anaconda-cloud": {},
  "kernelspec": {
   "display_name": "Python3 (senior-design)",
   "language": "python",
   "name": "senior-design"
  },
  "language_info": {
   "codemirror_mode": {
    "name": "ipython",
    "version": 3
   },
   "file_extension": ".py",
   "mimetype": "text/x-python",
   "name": "python",
   "nbconvert_exporter": "python",
   "pygments_lexer": "ipython3",
   "version": "3.5.2"
  }
 },
 "nbformat": 4,
 "nbformat_minor": 0
}
