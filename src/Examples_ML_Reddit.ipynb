{
 "cells": [
  {
   "cell_type": "code",
   "execution_count": 2,
   "metadata": {
    "collapsed": true,
    "scrolled": true
   },
   "outputs": [],
   "source": [
    "from ml import *\n",
    "from os import listdir\n",
    "from itertools import chain\n",
    "from random import randrange\n",
    "import json"
   ]
  },
  {
   "cell_type": "markdown",
   "metadata": {},
   "source": [
    "### Process tweets, if n is ommitted it processes all of them, sets lable and saves the processed tweets"
   ]
  },
  {
   "cell_type": "code",
   "execution_count": 5,
   "metadata": {
    "collapsed": true
   },
   "outputs": [],
   "source": [
    "path = JSON_DIR+\"reddit/\"\n",
    "sarcastic_path = path+\"sarcastic/\"\n",
    "serious_path = path+\"serious/\"\n",
    "filename_extra = '-reddit-'"
   ]
  },
  {
   "cell_type": "code",
   "execution_count": 6,
   "metadata": {},
   "outputs": [
    {
     "name": "stdout",
     "output_type": "stream",
     "text": [
      "842.426074\n",
      "825.114764\n",
      "826.306756\n",
      "804.364713\n",
      "750.121143\n",
      "744.396029\n",
      "741.389323\n",
      "353.782265\n"
     ]
    }
   ],
   "source": [
    "for n, filename in enumerate(listdir(sarcastic_path)):\n",
    "    processReddit(jsonFileName=sarcastic_path+filename, sarcastic=True, save=False, extra=filename_extra+str(n))"
   ]
  },
  {
   "cell_type": "code",
   "execution_count": 7,
   "metadata": {
    "scrolled": true
   },
   "outputs": [
    {
     "name": "stdout",
     "output_type": "stream",
     "text": [
      "766.996376\n",
      "751.348329\n",
      "750.825802\n",
      "752.10167\n",
      "286.213183\n",
      "748.580278\n",
      "741.530079\n",
      "745.35906\n",
      "746.997278\n",
      "750.808468\n",
      "747.943496\n",
      "746.492557\n",
      "749.71604\n"
     ]
    }
   ],
   "source": [
    "for n, filename in enumerate(listdir(serious_path)):\n",
    "    processReddit(jsonFileName=serious_path+filename, sarcastic=False, save=True, extra=filename_extra+str(n))"
   ]
  },
  {
   "cell_type": "markdown",
   "metadata": {},
   "source": [
    "### Randomize reddit data"
   ]
  },
  {
   "cell_type": "code",
   "execution_count": 8,
   "metadata": {
    "collapsed": true,
    "scrolled": true
   },
   "outputs": [],
   "source": [
    "listOfListOfSarcasticFeats = [[] for i in range(7)]\n",
    "for i in range(8):\n",
    "    sarcasticFeats = loadFeatures(sarcastic=True, extra=filename_extra+str(i))\n",
    "    for feat in sarcasticFeats:\n",
    "        listOfListOfSarcasticFeats[randrange(7)].append(feat)\n",
    "for n, feats in enumerate(listOfListOfSarcasticFeats):\n",
    "    saveFeatures(feats, sarcastic=True, extra=\"randomized-\"+str(n))\n",
    "    listOfListOfSarcasticFeats[n]=[]"
   ]
  },
  {
   "cell_type": "code",
   "execution_count": null,
   "metadata": {
    "collapsed": true
   },
   "outputs": [],
   "source": [
    "listOfListOfseriousFeats = [[] for i in range(7)]\n",
    "for i in range(13):\n",
    "    seriousFeats = loadFeatures(sarcastic=False, extra=filename_extra+str(i))\n",
    "    for feat in seriousFeats:\n",
    "        listOfListOfseriousFeats[randrange(7)].append(feat)\n",
    "for n, feats in enumerate(listOfListOfseriousFeats):\n",
    "    saveFeatures(feats, sarcastic=False, extra=\"randomized-\"+str(n))\n",
    "    listOfListOfseriousFeats[n]=[]"
   ]
  },
  {
   "cell_type": "markdown",
   "metadata": {},
   "source": [
    "### Load random set of features"
   ]
  },
  {
   "cell_type": "code",
   "execution_count": 3,
   "metadata": {},
   "outputs": [],
   "source": [
    "sarcasticFeats = loadFeatures(sarcastic=True, extra=\"randomized-\"+str(randrange(7)))\n",
    "seriousFeats = loadFeatures(sarcastic=False, extra=\"randomized-\"+str(randrange(7)))"
   ]
  },
  {
   "cell_type": "markdown",
   "metadata": {},
   "source": [
    "### Flatten feature dictionaries, if leaveout is a feature that feature is ommitted"
   ]
  },
  {
   "cell_type": "code",
   "execution_count": 4,
   "metadata": {
    "collapsed": true
   },
   "outputs": [],
   "source": [
    "(features, sarcasm) = list(zip(*(sarcasticFeats+seriousFeats)))"
   ]
  },
  {
   "cell_type": "code",
   "execution_count": 5,
   "metadata": {
    "collapsed": true
   },
   "outputs": [],
   "source": [
    "features = flattenFeatureDicts(features, leaveOut=None)"
   ]
  },
  {
   "cell_type": "markdown",
   "metadata": {},
   "source": [
    "### Train and test, reports results"
   ]
  },
  {
   "cell_type": "code",
   "execution_count": 5,
   "metadata": {
    "scrolled": true
   },
   "outputs": [
    {
     "name": "stdout",
     "output_type": "stream",
     "text": [
      "Starting iteration 0: 2017-04-25 20:29:13.702547\n",
      "\n",
      "\n",
      "Features before reduction: (169312, 3872735)\n"
     ]
    },
    {
     "name": "stderr",
     "output_type": "stream",
     "text": [
      "C:\\Program Files\\Anaconda3\\lib\\site-packages\\sklearn\\feature_selection\\univariate_selection.py:113: UserWarning: Features [0 0 0 0 0 0 0 0 0] are constant.\n",
      "  UserWarning)\n",
      "C:\\Program Files\\Anaconda3\\lib\\site-packages\\sklearn\\feature_selection\\univariate_selection.py:114: RuntimeWarning: invalid value encountered in true_divide\n",
      "  f = msb / msw\n"
     ]
    },
    {
     "name": "stdout",
     "output_type": "stream",
     "text": [
      "\n",
      "\n",
      "Features after reduction: (169312, 5000)\n",
      "\n",
      "\n",
      "Starting to train...\n",
      "Trained:\t0\t<class 'sklearn.linear_model.logistic.LogisticRegression'>\tTime: 114\n",
      "\n",
      "\n",
      "Starting to test...\n",
      "Tested:\t0\t<class 'sklearn.linear_model.logistic.LogisticRegression'>\tTime: 0\tScore:\t0.955562\n",
      "Iteration time:\t284\n",
      "Total elapsed time:\t284\n",
      "Starting iteration 1: 2017-04-25 20:33:58.020779\n",
      "\n",
      "\n",
      "Features before reduction: (169312, 3868583)\n",
      "\n",
      "\n",
      "Features after reduction: (169312, 5000)\n",
      "\n",
      "\n",
      "Starting to train...\n",
      "Trained:\t0\t<class 'sklearn.linear_model.logistic.LogisticRegression'>\tTime: 109\n",
      "\n",
      "\n",
      "Starting to test...\n",
      "Tested:\t0\t<class 'sklearn.linear_model.logistic.LogisticRegression'>\tTime: 0\tScore:\t0.953885\n",
      "Iteration time:\t311\n",
      "Total elapsed time:\t596\n",
      "Starting iteration 2: 2017-04-25 20:39:10.060153\n",
      "\n",
      "\n",
      "Features before reduction: (169312, 3870694)\n",
      "\n",
      "\n",
      "Features after reduction: (169312, 5000)\n",
      "\n",
      "\n",
      "Starting to train...\n",
      "Trained:\t0\t<class 'sklearn.linear_model.logistic.LogisticRegression'>\tTime: 108\n",
      "\n",
      "\n",
      "Starting to test...\n",
      "Tested:\t0\t<class 'sklearn.linear_model.logistic.LogisticRegression'>\tTime: 0\tScore:\t0.954995\n",
      "Iteration time:\t434\n",
      "Total elapsed time:\t1031\n"
     ]
    },
    {
     "data": {
      "text/plain": [
       "{(0,\n",
       "  0,\n",
       "  \"<class 'sklearn.linear_model.logistic.LogisticRegression'>\"): {'score': 0.95556238040114339, 'testTime': 0.021},\n",
       " (1,\n",
       "  0,\n",
       "  \"<class 'sklearn.linear_model.logistic.LogisticRegression'>\"): {'score': 0.95388504335089419, 'testTime': 0.017002},\n",
       " (2,\n",
       "  0,\n",
       "  \"<class 'sklearn.linear_model.logistic.LogisticRegression'>\"): {'score': 0.95499539322922822, 'testTime': 0.018498}}"
      ]
     },
     "execution_count": 5,
     "metadata": {},
     "output_type": "execute_result"
    }
   ],
   "source": [
    "trainTest(features,\n",
    "          sarcasm,\n",
    "          reduce=5000,\n",
    "          splits=3,\n",
    "          trainsize=0.8,\n",
    "          testsize=0.2,\n",
    "          classifiers=DEFAULT_CLASSIFIERS)"
   ]
  },
  {
   "cell_type": "markdown",
   "metadata": {
    "collapsed": true
   },
   "source": [
    "### Testing saved classifier with data"
   ]
  },
  {
   "cell_type": "code",
   "execution_count": 6,
   "metadata": {},
   "outputs": [
    {
     "name": "stdout",
     "output_type": "stream",
     "text": [
      "Score:\t0.545430\n"
     ]
    },
    {
     "data": {
      "text/plain": [
       "{'score': 0.54542973180292997}"
      ]
     },
     "execution_count": 6,
     "metadata": {},
     "output_type": "execute_result"
    }
   ],
   "source": [
    "listOfClassifiersDV = loadClassifiersDV('pickled/2017-04-25205540579589 2voting.pickle')\n",
    "(classifier, dv) = listOfClassifiersDV[0]\n",
    "testSavedClassifier(features, sarcasm, classifier[0], dv)"
   ]
  },
  {
   "cell_type": "code",
   "execution_count": null,
   "metadata": {
    "collapsed": true
   },
   "outputs": [],
   "source": []
  }
 ],
 "metadata": {
  "anaconda-cloud": {},
  "kernelspec": {
   "display_name": "Python [conda root]",
   "language": "python",
   "name": "conda-root-py"
  },
  "language_info": {
   "codemirror_mode": {
    "name": "ipython",
    "version": 3
   },
   "file_extension": ".py",
   "mimetype": "text/x-python",
   "name": "python",
   "nbconvert_exporter": "python",
   "pygments_lexer": "ipython3",
   "version": "3.5.2"
  }
 },
 "nbformat": 4,
 "nbformat_minor": 1
}
