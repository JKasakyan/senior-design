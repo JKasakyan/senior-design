{
 "cells": [
  {
   "cell_type": "code",
   "execution_count": 4,
   "metadata": {
    "collapsed": true,
    "scrolled": true
   },
   "outputs": [],
   "source": [
    "from ml import *\n",
    "from os import listdir\n",
    "from itertools import chain\n",
    "from random import randrange"
   ]
  },
  {
   "cell_type": "markdown",
   "metadata": {},
   "source": [
    "### Process tweets, if n is ommitted it processes all of them, sets lable and saves the processed tweets"
   ]
  },
  {
   "cell_type": "code",
   "execution_count": 5,
   "metadata": {
    "collapsed": true
   },
   "outputs": [],
   "source": [
    "path = JSON_DIR+\"reddit/\"\n",
    "sarcastic_path = path+\"sarcastic/\"\n",
    "serious_path = path+\"serious/\"\n",
    "filename_extra = '-reddit-'"
   ]
  },
  {
   "cell_type": "code",
   "execution_count": 6,
   "metadata": {},
   "outputs": [
    {
     "name": "stdout",
     "output_type": "stream",
     "text": [
      "842.426074\n",
      "825.114764\n",
      "826.306756\n",
      "804.364713\n",
      "750.121143\n",
      "744.396029\n",
      "741.389323\n",
      "353.782265\n"
     ]
    }
   ],
   "source": [
    "for n, filename in enumerate(listdir(sarcastic_path)):\n",
    "    processReddit(jsonFileName=sarcastic_path+filename, sarcastic=True, save=True, extra=filename_extra+str(n))"
   ]
  },
  {
   "cell_type": "code",
   "execution_count": 7,
   "metadata": {
    "scrolled": true
   },
   "outputs": [
    {
     "name": "stdout",
     "output_type": "stream",
     "text": [
      "766.996376\n",
      "751.348329\n",
      "750.825802\n",
      "752.10167\n",
      "286.213183\n",
      "748.580278\n",
      "741.530079\n",
      "745.35906\n",
      "746.997278\n",
      "750.808468\n",
      "747.943496\n",
      "746.492557\n",
      "749.71604\n"
     ]
    }
   ],
   "source": [
    "for n, filename in enumerate(listdir(serious_path)):\n",
    "    processReddit(jsonFileName=serious_path+filename, sarcastic=False, save=True, extra=filename_extra+str(n))"
   ]
  },
  {
   "cell_type": "markdown",
   "metadata": {},
   "source": [
    "### Randomize reddit data"
   ]
  },
  {
   "cell_type": "code",
   "execution_count": 8,
   "metadata": {
    "collapsed": true,
    "scrolled": true
   },
   "outputs": [],
   "source": [
    "listOfListOfSarcasticFeats = [[] for i in range(7)]\n",
    "for i in range(8):\n",
    "    sarcasticFeats = loadFeatures(sarcastic=True, extra=filename_extra+str(i))\n",
    "    for feat in sarcasticFeats:\n",
    "        listOfListOfSarcasticFeats[randrange(7)].append(feat)\n",
    "for n, feats in enumerate(listOfListOfSarcasticFeats):\n",
    "    saveFeatures(feats, sarcastic=True, extra=\"randomized-\"+str(n))\n",
    "    listOfListOfSarcasticFeats[n]=[]"
   ]
  },
  {
   "cell_type": "code",
   "execution_count": 9,
   "metadata": {},
   "outputs": [],
   "source": [
    "seriousFeats = loadFeatures(sarcastic=False, extra=filename_extra+str(randrange(12)))\n",
    "listOfListOfseriousFeats = [[] for i in range(7)]\n",
    "for i in range(8):\n",
    "    seriousFeats = loadFeatures(sarcastic=False, extra=filename_extra+str(i))\n",
    "    for feat in seriousFeats:\n",
    "        listOfListOfseriousFeats[randrange(7)].append(feat)\n",
    "for n, feats in enumerate(listOfListOfseriousFeats):\n",
    "    saveFeatures(feats, sarcastic=False, extra=\"randomized-\"+str(n))\n",
    "    listOfListOfseriousFeats[n]=[]"
   ]
  },
  {
   "cell_type": "markdown",
   "metadata": {},
   "source": [
    "### Load random set of features"
   ]
  },
  {
   "cell_type": "code",
   "execution_count": 10,
   "metadata": {},
   "outputs": [],
   "source": [
    "sarcasticFeats = loadFeatures(sarcastic=True, extra=filename_extra+str(randrange(7)))\n",
    "seriousFeats = loadFeatures(sarcastic=False, extra=filename_extra+str(randrange(7)))"
   ]
  },
  {
   "cell_type": "markdown",
   "metadata": {},
   "source": [
    "### Randomize the ordering and return a list which has equal sarcastic/non-sarcastic"
   ]
  },
  {
   "cell_type": "code",
   "execution_count": 11,
   "metadata": {
    "collapsed": true,
    "scrolled": true
   },
   "outputs": [],
   "source": [
    "(features, sarcasm) = shuffleFeatures(sarcasticFeats, seriousFeats)"
   ]
  },
  {
   "cell_type": "markdown",
   "metadata": {},
   "source": [
    "### Flatten feature dictionaries, if leaveout is a feature that feature is ommitted"
   ]
  },
  {
   "cell_type": "code",
   "execution_count": 12,
   "metadata": {
    "collapsed": true
   },
   "outputs": [],
   "source": [
    "features = flattenFeatureDicts(features, leaveOut=None)"
   ]
  },
  {
   "cell_type": "markdown",
   "metadata": {},
   "source": [
    "### Train and test, reports results"
   ]
  },
  {
   "cell_type": "code",
   "execution_count": 13,
   "metadata": {},
   "outputs": [
    {
     "name": "stdout",
     "output_type": "stream",
     "text": [
      "Starting iteration 0: 2017-04-24 08:39:06.317405\n",
      "\n",
      "\n",
      "Features before reduction: (160000, 3682384)\n"
     ]
    },
    {
     "name": "stderr",
     "output_type": "stream",
     "text": [
      "C:\\Program Files\\Anaconda3\\lib\\site-packages\\sklearn\\feature_selection\\univariate_selection.py:113: UserWarning: Features [0 0 0 0 0 0 0 0 0] are constant.\n",
      "  UserWarning)\n",
      "C:\\Program Files\\Anaconda3\\lib\\site-packages\\sklearn\\feature_selection\\univariate_selection.py:114: RuntimeWarning: invalid value encountered in true_divide\n",
      "  f = msb / msw\n"
     ]
    },
    {
     "name": "stdout",
     "output_type": "stream",
     "text": [
      "\n",
      "\n",
      "Features after reduction: (160000, 5000)\n",
      "\n",
      "\n",
      "Starting to train...\n",
      "Trained:\t0\t<class 'sklearn.linear_model.logistic.LogisticRegression'>\tTime: 89\n",
      "\n",
      "\n",
      "Starting to test...\n",
      "Tested:\t0\t<class 'sklearn.linear_model.logistic.LogisticRegression'>\tTime: 0\tScore:\t0.955000\n",
      "Iteration time:\t712\n",
      "Total elapsed time:\t712\n",
      "Starting iteration 1: 2017-04-24 08:50:58.412252\n",
      "\n",
      "\n",
      "Features before reduction: (160000, 3678873)\n",
      "\n",
      "\n",
      "Features after reduction: (160000, 5000)\n",
      "\n",
      "\n",
      "Starting to train...\n",
      "Trained:\t0\t<class 'sklearn.linear_model.logistic.LogisticRegression'>\tTime: 102\n",
      "\n",
      "\n",
      "Starting to test...\n",
      "Tested:\t0\t<class 'sklearn.linear_model.logistic.LogisticRegression'>\tTime: 0\tScore:\t0.957875\n",
      "Iteration time:\t598\n",
      "Total elapsed time:\t1310\n",
      "Starting iteration 2: 2017-04-24 09:00:56.557176\n",
      "\n",
      "\n",
      "Features before reduction: (160000, 3677947)\n",
      "\n",
      "\n",
      "Features after reduction: (160000, 5000)\n",
      "\n",
      "\n",
      "Starting to train...\n",
      "Trained:\t0\t<class 'sklearn.linear_model.logistic.LogisticRegression'>\tTime: 153\n",
      "\n",
      "\n",
      "Starting to test...\n",
      "Tested:\t0\t<class 'sklearn.linear_model.logistic.LogisticRegression'>\tTime: 0\tScore:\t0.955650\n",
      "Iteration time:\t641\n",
      "Total elapsed time:\t1953\n"
     ]
    },
    {
     "data": {
      "text/plain": [
       "{(0,\n",
       "  0,\n",
       "  \"<class 'sklearn.linear_model.logistic.LogisticRegression'>\"): {'score': 0.95499999999999996, 'testTime': 0.03329},\n",
       " (1,\n",
       "  0,\n",
       "  \"<class 'sklearn.linear_model.logistic.LogisticRegression'>\"): {'score': 0.95787500000000003, 'testTime': 0.027993},\n",
       " (2,\n",
       "  0,\n",
       "  \"<class 'sklearn.linear_model.logistic.LogisticRegression'>\"): {'score': 0.95565, 'testTime': 0.024989}}"
      ]
     },
     "execution_count": 13,
     "metadata": {},
     "output_type": "execute_result"
    }
   ],
   "source": [
    "trainTest(features,\n",
    "          sarcasm,\n",
    "          reduce=5000,\n",
    "          splits=3,\n",
    "          trainsize=0.8,\n",
    "          testsize=0.2,\n",
    "          classifiers=DEFAULT_CLASSIFIERS)"
   ]
  }
 ],
 "metadata": {
  "anaconda-cloud": {},
  "kernelspec": {
   "display_name": "Python [conda root]",
   "language": "python",
   "name": "conda-root-py"
  },
  "language_info": {
   "codemirror_mode": {
    "name": "ipython",
    "version": 3
   },
   "file_extension": ".py",
   "mimetype": "text/x-python",
   "name": "python",
   "nbconvert_exporter": "python",
   "pygments_lexer": "ipython3",
   "version": "3.5.2"
  }
 },
 "nbformat": 4,
 "nbformat_minor": 1
}
