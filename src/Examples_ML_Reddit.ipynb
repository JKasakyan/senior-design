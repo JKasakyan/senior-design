{
 "cells": [
  {
   "cell_type": "code",
   "execution_count": 2,
   "metadata": {
    "collapsed": true,
    "scrolled": true
   },
   "outputs": [],
   "source": [
    "import ml\n",
    "import nlp\n",
    "import json_io\n",
    "import pickle\n",
    "from itertools import chain\n",
    "from dvs import DictVectorizerPartial\n",
    "import numpy as np"
   ]
  },
  {
   "cell_type": "markdown",
   "metadata": {},
   "source": [
    "### Process comment"
   ]
  },
  {
   "cell_type": "code",
   "execution_count": null,
   "metadata": {
    "collapsed": true
   },
   "outputs": [],
   "source": [
    "path = ml.JSON_DIR+\"reddit/\"\n",
    "sarcastic_path = path+\"sarcastic/\"\n",
    "serious_path = path+\"serious/\"\n",
    "source = '-reddit-'\n",
    "features_path = 'features/'\n",
    "n=10"
   ]
  },
  {
   "cell_type": "code",
   "execution_count": null,
   "metadata": {
    "collapsed": true
   },
   "outputs": [],
   "source": [
    "json_io.processRandomizeJson(sarcastic=True,\n",
    "                     json_path=sarcastic_path,\n",
    "                     features_path=features_path,\n",
    "                     source=source,\n",
    "                     n=n,\n",
    "                     cleanTokens=nlp.cleanTokensReddit)\n",
    "json_io.processRandomizeJson(sarcastic=False,\n",
    "                     json_path=serious_path,\n",
    "                     features_path=features_path,\n",
    "                     source=source,\n",
    "                     n=n,\n",
    "                     cleanTokens=nlp.cleanTokensReddit)"
   ]
  },
  {
   "cell_type": "markdown",
   "metadata": {},
   "source": [
    "### Load set of features"
   ]
  },
  {
   "cell_type": "code",
   "execution_count": null,
   "metadata": {
    "collapsed": true
   },
   "outputs": [],
   "source": [
    "sarcasticFeats = json_io.loadProcessedFeatures(features_path,\n",
    "                                       source,\n",
    "                                       sarcastic=True,\n",
    "                                       n=5,\n",
    "                                       random=False)\n",
    "seriousFeats = json_io.loadProcessedFeatures(features_path,\n",
    "                                     source,\n",
    "                                     sarcastic=False,\n",
    "                                     n=3,\n",
    "                                     random=False)\n",
    "features = chain(sarcasticFeats, seriousFeats)"
   ]
  },
  {
   "cell_type": "markdown",
   "metadata": {},
   "source": [
    "### Flatten feature dictionaries, if leaveout is a feature that feature is ommitted"
   ]
  },
  {
   "cell_type": "code",
   "execution_count": null,
   "metadata": {
    "collapsed": true
   },
   "outputs": [],
   "source": [
    "dvp = DictVectorizerPartial()"
   ]
  },
  {
   "cell_type": "code",
   "execution_count": null,
   "metadata": {
    "collapsed": true
   },
   "outputs": [],
   "source": [
    "(X,y) = ml.split_feat(features, 2)"
   ]
  },
  {
   "cell_type": "code",
   "execution_count": null,
   "metadata": {
    "collapsed": true
   },
   "outputs": [],
   "source": [
    "(X,y) = ml.flatten(X,y)"
   ]
  },
  {
   "cell_type": "code",
   "execution_count": null,
   "metadata": {
    "collapsed": true
   },
   "outputs": [],
   "source": [
    "(X,y) = (dvp.partial_fit_transform(X), np.array(list(y)))"
   ]
  },
  {
   "cell_type": "code",
   "execution_count": null,
   "metadata": {
    "collapsed": true
   },
   "outputs": [],
   "source": [
    "pickle.dump(dvp, open('pickled/-reddit-dvp.pickle', 'wb'))\n",
    "pickle.dump(y, open('pickled/-reddit-y.pickle', 'wb'))\n",
    "pickle.dump(X, open('pickled/-reddit-X.pickle', 'wb'))"
   ]
  },
  {
   "cell_type": "code",
   "execution_count": 3,
   "metadata": {},
   "outputs": [],
   "source": [
    "X = pickle.load(open('pickled/-reddit-X.pickle', 'rb'))\n",
    "y = pickle.load(open('pickled/-reddit-y.pickle', 'rb'))"
   ]
  },
  {
   "cell_type": "markdown",
   "metadata": {},
   "source": [
    "### Train and test, reports results"
   ]
  },
  {
   "cell_type": "code",
   "execution_count": 4,
   "metadata": {
    "collapsed": true
   },
   "outputs": [],
   "source": [
    "from sklearn.linear_model import LogisticRegression, SGDClassifier\n",
    "from sklearn.naive_bayes import BernoulliNB, MultinomialNB\n",
    "classifiers = [\n",
    "    #LogisticRegression(n_jobs=-1),\n",
    "    #SGDClassifier(loss='log'),\n",
    "    #BernoulliNB(),\n",
    "    MultinomialNB(),\n",
    "]"
   ]
  },
  {
   "cell_type": "code",
   "execution_count": null,
   "metadata": {
    "scrolled": true
   },
   "outputs": [
    {
     "name": "stdout",
     "output_type": "stream",
     "text": [
      "\n",
      "\t\tReduction: 0\n",
      "\n",
      "\t\tTraining size: 0.01\n",
      "Starting to train <class 'sklearn.naive_bayes.MultinomialNB'>\n",
      "<class 'sklearn.naive_bayes.MultinomialNB'>\tTime: 0\tScore:\t0.653264\n",
      "Starting to train <class 'sklearn.naive_bayes.MultinomialNB'>\n",
      "<class 'sklearn.naive_bayes.MultinomialNB'>\tTime: 0\tScore:\t0.643739\n",
      "\n",
      "\t\tTraining size: 0.05\n",
      "Starting to train <class 'sklearn.naive_bayes.MultinomialNB'>\n",
      "<class 'sklearn.naive_bayes.MultinomialNB'>\tTime: 0\tScore:\t0.688723\n",
      "Starting to train <class 'sklearn.naive_bayes.MultinomialNB'>\n",
      "<class 'sklearn.naive_bayes.MultinomialNB'>\tTime: 0\tScore:\t0.685449\n",
      "\n",
      "\t\tTraining size: 0.1\n",
      "Starting to train <class 'sklearn.naive_bayes.MultinomialNB'>\n",
      "<class 'sklearn.naive_bayes.MultinomialNB'>\tTime: 1\tScore:\t0.700569\n",
      "Starting to train <class 'sklearn.naive_bayes.MultinomialNB'>\n",
      "<class 'sklearn.naive_bayes.MultinomialNB'>\tTime: 1\tScore:\t0.704171\n",
      "\n",
      "\t\tTraining size: 0.2\n",
      "Starting to train <class 'sklearn.naive_bayes.MultinomialNB'>\n",
      "<class 'sklearn.naive_bayes.MultinomialNB'>\tTime: 1\tScore:\t0.715145\n",
      "Starting to train <class 'sklearn.naive_bayes.MultinomialNB'>\n",
      "<class 'sklearn.naive_bayes.MultinomialNB'>\tTime: 1\tScore:\t0.717077\n",
      "\n",
      "\t\tTraining size: 0.4\n",
      "Starting to train <class 'sklearn.naive_bayes.MultinomialNB'>\n",
      "<class 'sklearn.naive_bayes.MultinomialNB'>\tTime: 2\tScore:\t0.726958\n",
      "Starting to train <class 'sklearn.naive_bayes.MultinomialNB'>\n",
      "<class 'sklearn.naive_bayes.MultinomialNB'>\tTime: 2\tScore:\t0.726395\n",
      "\n",
      "\t\tTraining size: 0.6\n",
      "Starting to train <class 'sklearn.naive_bayes.MultinomialNB'>\n",
      "<class 'sklearn.naive_bayes.MultinomialNB'>\tTime: 3\tScore:\t0.731694\n",
      "Starting to train <class 'sklearn.naive_bayes.MultinomialNB'>\n",
      "<class 'sklearn.naive_bayes.MultinomialNB'>\tTime: 3\tScore:\t0.730037\n",
      "\n",
      "\t\tTraining size: 0.8\n",
      "Starting to train <class 'sklearn.naive_bayes.MultinomialNB'>\n",
      "<class 'sklearn.naive_bayes.MultinomialNB'>\tTime: 3\tScore:\t0.736792\n",
      "Starting to train <class 'sklearn.naive_bayes.MultinomialNB'>\n",
      "<class 'sklearn.naive_bayes.MultinomialNB'>\tTime: 3\tScore:\t0.734780\n",
      "\n",
      "\t\tReduction: 2500000\n",
      "\n",
      "\t\tTraining size: 0.01\n",
      "Features before reduction: (7453, 12490143)\n"
     ]
    },
    {
     "name": "stderr",
     "output_type": "stream",
     "text": [
      "C:\\Program Files\\Anaconda3\\lib\\site-packages\\sklearn\\feature_selection\\univariate_selection.py:113: UserWarning: Features [0 0 0 ..., 0 0 0] are constant.\n",
      "  UserWarning)\n",
      "C:\\Program Files\\Anaconda3\\lib\\site-packages\\sklearn\\feature_selection\\univariate_selection.py:114: RuntimeWarning: invalid value encountered in true_divide\n",
      "  f = msb / msw\n"
     ]
    },
    {
     "name": "stdout",
     "output_type": "stream",
     "text": [
      "Features after reduction: (7453, 2500000)\n",
      "Starting to train <class 'sklearn.naive_bayes.MultinomialNB'>\n",
      "<class 'sklearn.naive_bayes.MultinomialNB'>\tTime: 0\tScore:\t0.651829\n",
      "Features before reduction: (7453, 12490143)\n",
      "Features after reduction: (7453, 2500000)\n",
      "Starting to train <class 'sklearn.naive_bayes.MultinomialNB'>\n",
      "<class 'sklearn.naive_bayes.MultinomialNB'>\tTime: 0\tScore:\t0.620898\n",
      "\n",
      "\t\tTraining size: 0.05\n"
     ]
    }
   ],
   "source": [
    "results = []\n",
    "for reduceamount in [0, 2500000, 1000000, 500000, 100000]: #, 50000, 25000, 10000, 7500, 5000, 2500, 1500, 1000, 750, 500, 250, 100, 50, 10, 5]:\n",
    "    print(\"\\n\\t\\tReduction: \"+str(reduceamount))\n",
    "    for trainsize in [0.01, 0.05, 0.1, 0.2, 0.4, 0.6, 0.8]:\n",
    "        print(\"\\n\\t\\tTraining size: \"+str(trainsize))\n",
    "        results.append((reduceamount,\n",
    "                       trainsize,\n",
    "                       ml.trainTest(X,\n",
    "                                    y,\n",
    "                                    classifiers=classifiers,\n",
    "                                    reduce=reduceamount,\n",
    "                                    splits=2,\n",
    "                                    trainsize=trainsize,\n",
    "                                    testsize=0.2)))\n",
    "pickle.dump(results, open('pickled/-reddit-trained.pickle', 'wb'))\n",
    "print(results)    "
   ]
  },
  {
   "cell_type": "code",
   "execution_count": null,
   "metadata": {
    "collapsed": true
   },
   "outputs": [],
   "source": [
    "xyz = []\n",
    "for red, train, res in results:\n",
    "    acc = [r[2] for r in res]\n",
    "    xyz.append((red, train, sum(acc)/len(acc)))\n",
    "json_io.list_to_json(xyz, \"-reddit-reduction-trainsize-accuracy-mnbayes.json\", old_format=True)"
   ]
  },
  {
   "cell_type": "code",
   "execution_count": null,
   "metadata": {
    "collapsed": true
   },
   "outputs": [],
   "source": [
    "from sklearn.linear_model import LogisticRegression, SGDClassifier\n",
    "from sklearn.naive_bayes import BernoulliNB, MultinomialNB\n",
    "classifiers = [\n",
    "    LogisticRegression(n_jobs=-1),\n",
    "    #SGDClassifier(loss='log'),\n",
    "    #BernoulliNB(),\n",
    "    #MultinomialNB(),\n",
    "]\n",
    "results = []\n",
    "for reduceamount in [0, 2500000, 1000000]: #, 50000, 25000, 10000, 7500, 5000, 2500, 1500, 1000, 750, 500, 250, 100, 50, 10, 5]:\n",
    "    print(\"\\n\\t\\tReduction: \"+str(reduceamount))\n",
    "    for trainsize in [0.01, 0.05, 0.1, 0.2, 0.4, 0.6, 0.8]:\n",
    "        print(\"\\n\\t\\tTraining size: \"+str(trainsize))\n",
    "        results.append((reduceamount,\n",
    "                       trainsize,\n",
    "                       ml.trainTest(X,\n",
    "                                    y,\n",
    "                                    classifiers=classifiers,\n",
    "                                    reduce=reduceamount,\n",
    "                                    splits=2,\n",
    "                                    trainsize=trainsize,\n",
    "                                    testsize=0.2)))\n",
    "pickle.dump(results, open('pickled/-reddit-trained-log.pickle', 'wb'))\n",
    "print(results)    "
   ]
  },
  {
   "cell_type": "code",
   "execution_count": null,
   "metadata": {
    "collapsed": true
   },
   "outputs": [],
   "source": [
    "xyz = []\n",
    "for red, train, res in results:\n",
    "    acc = [r[2] for r in res]\n",
    "    xyz.append((red, train, sum(acc)/len(acc)))\n",
    "json_io.list_to_json(xyz, \"-reddit-reduction-trainsize-accuracy-log.json\", old_format=True)"
   ]
  },
  {
   "cell_type": "code",
   "execution_count": null,
   "metadata": {
    "collapsed": true
   },
   "outputs": [],
   "source": []
  }
 ],
 "metadata": {
  "anaconda-cloud": {},
  "kernelspec": {
   "display_name": "Python [conda root]",
   "language": "python",
   "name": "conda-root-py"
  },
  "language_info": {
   "codemirror_mode": {
    "name": "ipython",
    "version": 3
   },
   "file_extension": ".py",
   "mimetype": "text/x-python",
   "name": "python",
   "nbconvert_exporter": "python",
   "pygments_lexer": "ipython3",
   "version": "3.5.2"
  }
 },
 "nbformat": 4,
 "nbformat_minor": 1
}
