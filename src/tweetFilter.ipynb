{
 "cells": [
  {
   "cell_type": "markdown",
   "metadata": {},
   "source": [
    "# Filtering/parsing tweets"
   ]
  },
  {
   "cell_type": "code",
   "execution_count": 48,
   "metadata": {
    "collapsed": true
   },
   "outputs": [],
   "source": [
    "import pickle\n",
    "from datetime import datetime\n",
    "import pandas as pd\n",
    "\n",
    "PATH_TO_TWEETS = \"../data/\""
   ]
  },
  {
   "cell_type": "markdown",
   "metadata": {},
   "source": [
    "#### Pickled twitter response data used in this example: https://drive.google.com/open?id=0B2x-3KrueUw1b2ozbzM2eWVzWGs\n",
    "\n"
   ]
  },
  {
   "cell_type": "code",
   "execution_count": 11,
   "metadata": {
    "collapsed": false
   },
   "outputs": [],
   "source": [
    "tweets = pickle.load(open(PATH_TO_TWEETS + \"tweet0.p\", \"rb\"))"
   ]
  },
  {
   "cell_type": "markdown",
   "metadata": {},
   "source": [
    "#### Boolean expressions for filtering"
   ]
  },
  {
   "cell_type": "code",
   "execution_count": 12,
   "metadata": {
    "collapsed": true
   },
   "outputs": [],
   "source": [
    "no_url = lambda json: not json[\"entities\"][\"urls\"]\n",
    "no_media = lambda json: not \"media\" in json[\"entities\"]\n",
    "no_mentions = lambda json: not json[\"entities\"][\"user_mentions\"]"
   ]
  },
  {
   "cell_type": "markdown",
   "metadata": {},
   "source": [
    "#### Filtering results for those without embedded URLS, media (pic/video), and those that include no mentions (@)."
   ]
  },
  {
   "cell_type": "code",
   "execution_count": 63,
   "metadata": {
    "collapsed": false
   },
   "outputs": [],
   "source": [
    "filtered_tweets = [tweet for tweet in tweets[\"statuses\"] if (no_url(tweet) and no_media(tweet) and no_mentions(tweet))]"
   ]
  },
  {
   "cell_type": "markdown",
   "metadata": {},
   "source": [
    "#### Create pandas dataframe for tweet data"
   ]
  },
  {
   "cell_type": "code",
   "execution_count": 78,
   "metadata": {
    "collapsed": false
   },
   "outputs": [],
   "source": [
    "data = {\n",
    "    \"original_tweet\": [tweet[\"text\"] for tweet in filtered_tweets],\n",
    "    \"parsed_tweet\": [tweet[\"text\"].replace(\"\\n\", \" \") for tweet in filtered_tweets],\n",
    "}\n",
    "tweet_df = pd.DataFrame(data, index=[datetime.strptime(tweet[\"created_at\"],\"%a %b %d %H:%M:%S %z %Y\") for tweet in filtered_tweets])"
   ]
  },
  {
   "cell_type": "code",
   "execution_count": 80,
   "metadata": {
    "collapsed": false
   },
   "outputs": [
    {
     "data": {
      "text/html": [
       "<div>\n",
       "<table border=\"1\" class=\"dataframe\">\n",
       "  <thead>\n",
       "    <tr style=\"text-align: right;\">\n",
       "      <th></th>\n",
       "      <th>original_tweet</th>\n",
       "      <th>parsed_tweet</th>\n",
       "    </tr>\n",
       "  </thead>\n",
       "  <tbody>\n",
       "    <tr>\n",
       "      <th>2017-01-25 00:04:40+00:00</th>\n",
       "      <td>Should dead people be allowed to vote?\\n\\n#CNN...</td>\n",
       "      <td>Should dead people be allowed to vote?  #CNN D...</td>\n",
       "    </tr>\n",
       "    <tr>\n",
       "      <th>2017-01-24 20:38:08+00:00</th>\n",
       "      <td>Apparently #Trump is all for horse abuse and d...</td>\n",
       "      <td>Apparently #Trump is all for horse abuse and d...</td>\n",
       "    </tr>\n",
       "    <tr>\n",
       "      <th>2017-01-24 17:11:42+00:00</th>\n",
       "      <td>#Trump is firing #FBID James #Comey &amp;amp; appo...</td>\n",
       "      <td>#Trump is firing #FBID James #Comey &amp;amp; appo...</td>\n",
       "    </tr>\n",
       "    <tr>\n",
       "      <th>2017-01-23 05:45:42+00:00</th>\n",
       "      <td>No matter what happens #dearrussiantourist you...</td>\n",
       "      <td>No matter what happens #dearrussiantourist you...</td>\n",
       "    </tr>\n",
       "    <tr>\n",
       "      <th>2017-01-23 04:10:39+00:00</th>\n",
       "      <td>Since my team didn't win, I should riot like t...</td>\n",
       "      <td>Since my team didn't win, I should riot like t...</td>\n",
       "    </tr>\n",
       "  </tbody>\n",
       "</table>\n",
       "</div>"
      ],
      "text/plain": [
       "                                                              original_tweet  \\\n",
       "2017-01-25 00:04:40+00:00  Should dead people be allowed to vote?\\n\\n#CNN...   \n",
       "2017-01-24 20:38:08+00:00  Apparently #Trump is all for horse abuse and d...   \n",
       "2017-01-24 17:11:42+00:00  #Trump is firing #FBID James #Comey &amp; appo...   \n",
       "2017-01-23 05:45:42+00:00  No matter what happens #dearrussiantourist you...   \n",
       "2017-01-23 04:10:39+00:00  Since my team didn't win, I should riot like t...   \n",
       "\n",
       "                                                                parsed_tweet  \n",
       "2017-01-25 00:04:40+00:00  Should dead people be allowed to vote?  #CNN D...  \n",
       "2017-01-24 20:38:08+00:00  Apparently #Trump is all for horse abuse and d...  \n",
       "2017-01-24 17:11:42+00:00  #Trump is firing #FBID James #Comey &amp; appo...  \n",
       "2017-01-23 05:45:42+00:00  No matter what happens #dearrussiantourist you...  \n",
       "2017-01-23 04:10:39+00:00  Since my team didn't win, I should riot like t...  "
      ]
     },
     "execution_count": 80,
     "metadata": {},
     "output_type": "execute_result"
    }
   ],
   "source": [
    "tweet_df.head()"
   ]
  },
  {
   "cell_type": "code",
   "execution_count": 82,
   "metadata": {
    "collapsed": false
   },
   "outputs": [
    {
     "data": {
      "text/html": [
       "<div>\n",
       "<table border=\"1\" class=\"dataframe\">\n",
       "  <thead>\n",
       "    <tr style=\"text-align: right;\">\n",
       "      <th></th>\n",
       "      <th>original_tweet</th>\n",
       "      <th>parsed_tweet</th>\n",
       "      <th>character_count</th>\n",
       "    </tr>\n",
       "  </thead>\n",
       "  <tbody>\n",
       "    <tr>\n",
       "      <th>2017-01-25 00:04:40+00:00</th>\n",
       "      <td>Should dead people be allowed to vote?\\n\\n#CNN...</td>\n",
       "      <td>Should dead people be allowed to vote?  #CNN D...</td>\n",
       "      <td>139</td>\n",
       "    </tr>\n",
       "    <tr>\n",
       "      <th>2017-01-24 20:38:08+00:00</th>\n",
       "      <td>Apparently #Trump is all for horse abuse and d...</td>\n",
       "      <td>Apparently #Trump is all for horse abuse and d...</td>\n",
       "      <td>126</td>\n",
       "    </tr>\n",
       "    <tr>\n",
       "      <th>2017-01-24 17:11:42+00:00</th>\n",
       "      <td>#Trump is firing #FBID James #Comey &amp;amp; appo...</td>\n",
       "      <td>#Trump is firing #FBID James #Comey &amp;amp; appo...</td>\n",
       "      <td>142</td>\n",
       "    </tr>\n",
       "    <tr>\n",
       "      <th>2017-01-23 05:45:42+00:00</th>\n",
       "      <td>No matter what happens #dearrussiantourist you...</td>\n",
       "      <td>No matter what happens #dearrussiantourist you...</td>\n",
       "      <td>132</td>\n",
       "    </tr>\n",
       "    <tr>\n",
       "      <th>2017-01-23 04:10:39+00:00</th>\n",
       "      <td>Since my team didn't win, I should riot like t...</td>\n",
       "      <td>Since my team didn't win, I should riot like t...</td>\n",
       "      <td>136</td>\n",
       "    </tr>\n",
       "  </tbody>\n",
       "</table>\n",
       "</div>"
      ],
      "text/plain": [
       "                                                              original_tweet  \\\n",
       "2017-01-25 00:04:40+00:00  Should dead people be allowed to vote?\\n\\n#CNN...   \n",
       "2017-01-24 20:38:08+00:00  Apparently #Trump is all for horse abuse and d...   \n",
       "2017-01-24 17:11:42+00:00  #Trump is firing #FBID James #Comey &amp; appo...   \n",
       "2017-01-23 05:45:42+00:00  No matter what happens #dearrussiantourist you...   \n",
       "2017-01-23 04:10:39+00:00  Since my team didn't win, I should riot like t...   \n",
       "\n",
       "                                                                parsed_tweet  \\\n",
       "2017-01-25 00:04:40+00:00  Should dead people be allowed to vote?  #CNN D...   \n",
       "2017-01-24 20:38:08+00:00  Apparently #Trump is all for horse abuse and d...   \n",
       "2017-01-24 17:11:42+00:00  #Trump is firing #FBID James #Comey &amp; appo...   \n",
       "2017-01-23 05:45:42+00:00  No matter what happens #dearrussiantourist you...   \n",
       "2017-01-23 04:10:39+00:00  Since my team didn't win, I should riot like t...   \n",
       "\n",
       "                           character_count  \n",
       "2017-01-25 00:04:40+00:00              139  \n",
       "2017-01-24 20:38:08+00:00              126  \n",
       "2017-01-24 17:11:42+00:00              142  \n",
       "2017-01-23 05:45:42+00:00              132  \n",
       "2017-01-23 04:10:39+00:00              136  "
      ]
     },
     "execution_count": 82,
     "metadata": {},
     "output_type": "execute_result"
    }
   ],
   "source": [
    "tweet_df[\"character_count\"] = tweet_df[\"original_tweet\"].apply(lambda original_tweet: len(original_tweet))\n",
    "tweet_df.head()"
   ]
  },
  {
   "cell_type": "code",
   "execution_count": 88,
   "metadata": {
    "collapsed": false
   },
   "outputs": [
    {
     "data": {
      "text/html": [
       "<div>\n",
       "<table border=\"1\" class=\"dataframe\">\n",
       "  <thead>\n",
       "    <tr style=\"text-align: right;\">\n",
       "      <th></th>\n",
       "      <th>original_tweet</th>\n",
       "      <th>parsed_tweet</th>\n",
       "      <th>character_count</th>\n",
       "    </tr>\n",
       "  </thead>\n",
       "  <tbody>\n",
       "    <tr>\n",
       "      <th>2017-01-25 00:04:40+00:00</th>\n",
       "      <td>Should dead people be allowed to vote?\\n\\n#CNN Debates it tonite all night tune in #lolol #Sarcasm #TRUMP #SeanSpicerSays\\n#Trumpismypresident</td>\n",
       "      <td>Should dead people be allowed to vote?  #CNN Debates it tonite all night tune in #lolol #Sarcasm #TRUMP #SeanSpicerSays #Trumpismypresident</td>\n",
       "      <td>139</td>\n",
       "    </tr>\n",
       "    <tr>\n",
       "      <th>2017-01-24 20:38:08+00:00</th>\n",
       "      <td>Apparently #Trump is all for horse abuse and delays outlawing inhumane 'soring' practice. Way to go. #offtoagoodstart #sarcasm</td>\n",
       "      <td>Apparently #Trump is all for horse abuse and delays outlawing inhumane 'soring' practice. Way to go. #offtoagoodstart #sarcasm</td>\n",
       "      <td>126</td>\n",
       "    </tr>\n",
       "    <tr>\n",
       "      <th>2017-01-24 17:11:42+00:00</th>\n",
       "      <td>#Trump is firing #FBID James #Comey &amp;amp; appointing a totally legit new guy, Jim Comey. Should be an exciting 4 yrs! #Sarcasm #Disappointment</td>\n",
       "      <td>#Trump is firing #FBID James #Comey &amp;amp; appointing a totally legit new guy, Jim Comey. Should be an exciting 4 yrs! #Sarcasm #Disappointment</td>\n",
       "      <td>142</td>\n",
       "    </tr>\n",
       "    <tr>\n",
       "      <th>2017-01-23 05:45:42+00:00</th>\n",
       "      <td>No matter what happens #dearrussiantourist you won't get a discount #sorrynotsorry not even if #Trump is #president #sarcasm #retail</td>\n",
       "      <td>No matter what happens #dearrussiantourist you won't get a discount #sorrynotsorry not even if #Trump is #president #sarcasm #retail</td>\n",
       "      <td>132</td>\n",
       "    </tr>\n",
       "    <tr>\n",
       "      <th>2017-01-23 04:10:39+00:00</th>\n",
       "      <td>Since my team didn't win, I should riot like the liberals since I didn't get my way!! #sarcasm #Superbowl #Falcons #Patriots #NFL #Trump</td>\n",
       "      <td>Since my team didn't win, I should riot like the liberals since I didn't get my way!! #sarcasm #Superbowl #Falcons #Patriots #NFL #Trump</td>\n",
       "      <td>136</td>\n",
       "    </tr>\n",
       "  </tbody>\n",
       "</table>\n",
       "</div>"
      ],
      "text/plain": [
       "                                                                                                                                                           original_tweet  \\\n",
       "2017-01-25 00:04:40+00:00  Should dead people be allowed to vote?\\n\\n#CNN Debates it tonite all night tune in #lolol #Sarcasm #TRUMP #SeanSpicerSays\\n#Trumpismypresident   \n",
       "2017-01-24 20:38:08+00:00                  Apparently #Trump is all for horse abuse and delays outlawing inhumane 'soring' practice. Way to go. #offtoagoodstart #sarcasm   \n",
       "2017-01-24 17:11:42+00:00  #Trump is firing #FBID James #Comey &amp; appointing a totally legit new guy, Jim Comey. Should be an exciting 4 yrs! #Sarcasm #Disappointment   \n",
       "2017-01-23 05:45:42+00:00            No matter what happens #dearrussiantourist you won't get a discount #sorrynotsorry not even if #Trump is #president #sarcasm #retail   \n",
       "2017-01-23 04:10:39+00:00        Since my team didn't win, I should riot like the liberals since I didn't get my way!! #sarcasm #Superbowl #Falcons #Patriots #NFL #Trump   \n",
       "\n",
       "                                                                                                                                                             parsed_tweet  \\\n",
       "2017-01-25 00:04:40+00:00     Should dead people be allowed to vote?  #CNN Debates it tonite all night tune in #lolol #Sarcasm #TRUMP #SeanSpicerSays #Trumpismypresident   \n",
       "2017-01-24 20:38:08+00:00                  Apparently #Trump is all for horse abuse and delays outlawing inhumane 'soring' practice. Way to go. #offtoagoodstart #sarcasm   \n",
       "2017-01-24 17:11:42+00:00  #Trump is firing #FBID James #Comey &amp; appointing a totally legit new guy, Jim Comey. Should be an exciting 4 yrs! #Sarcasm #Disappointment   \n",
       "2017-01-23 05:45:42+00:00            No matter what happens #dearrussiantourist you won't get a discount #sorrynotsorry not even if #Trump is #president #sarcasm #retail   \n",
       "2017-01-23 04:10:39+00:00        Since my team didn't win, I should riot like the liberals since I didn't get my way!! #sarcasm #Superbowl #Falcons #Patriots #NFL #Trump   \n",
       "\n",
       "                           character_count  \n",
       "2017-01-25 00:04:40+00:00              139  \n",
       "2017-01-24 20:38:08+00:00              126  \n",
       "2017-01-24 17:11:42+00:00              142  \n",
       "2017-01-23 05:45:42+00:00              132  \n",
       "2017-01-23 04:10:39+00:00              136  "
      ]
     },
     "execution_count": 88,
     "metadata": {},
     "output_type": "execute_result"
    }
   ],
   "source": [
    "pd.set_option(\"max_colwidth\", 400)\n",
    "tweet_df.head()"
   ]
  },
  {
   "cell_type": "code",
   "execution_count": 92,
   "metadata": {
    "collapsed": false
   },
   "outputs": [
    {
     "data": {
      "text/html": [
       "<div>\n",
       "<table border=\"1\" class=\"dataframe\">\n",
       "  <thead>\n",
       "    <tr style=\"text-align: right;\">\n",
       "      <th></th>\n",
       "      <th>character_count</th>\n",
       "    </tr>\n",
       "  </thead>\n",
       "  <tbody>\n",
       "    <tr>\n",
       "      <th>count</th>\n",
       "      <td>20.000000</td>\n",
       "    </tr>\n",
       "    <tr>\n",
       "      <th>mean</th>\n",
       "      <td>129.700000</td>\n",
       "    </tr>\n",
       "    <tr>\n",
       "      <th>std</th>\n",
       "      <td>17.767801</td>\n",
       "    </tr>\n",
       "    <tr>\n",
       "      <th>min</th>\n",
       "      <td>62.000000</td>\n",
       "    </tr>\n",
       "    <tr>\n",
       "      <th>25%</th>\n",
       "      <td>128.250000</td>\n",
       "    </tr>\n",
       "    <tr>\n",
       "      <th>50%</th>\n",
       "      <td>135.000000</td>\n",
       "    </tr>\n",
       "    <tr>\n",
       "      <th>75%</th>\n",
       "      <td>139.250000</td>\n",
       "    </tr>\n",
       "    <tr>\n",
       "      <th>max</th>\n",
       "      <td>143.000000</td>\n",
       "    </tr>\n",
       "  </tbody>\n",
       "</table>\n",
       "</div>"
      ],
      "text/plain": [
       "       character_count\n",
       "count        20.000000\n",
       "mean        129.700000\n",
       "std          17.767801\n",
       "min          62.000000\n",
       "25%         128.250000\n",
       "50%         135.000000\n",
       "75%         139.250000\n",
       "max         143.000000"
      ]
     },
     "execution_count": 92,
     "metadata": {},
     "output_type": "execute_result"
    }
   ],
   "source": [
    "tweet_df.describe()"
   ]
  },
  {
   "cell_type": "code",
   "execution_count": null,
   "metadata": {
    "collapsed": true
   },
   "outputs": [],
   "source": []
  }
 ],
 "metadata": {
  "kernelspec": {
   "display_name": "Python3 (senior-design)",
   "language": "python",
   "name": "senior-design"
  },
  "language_info": {
   "codemirror_mode": {
    "name": "ipython",
    "version": 3
   },
   "file_extension": ".py",
   "mimetype": "text/x-python",
   "name": "python",
   "nbconvert_exporter": "python",
   "pygments_lexer": "ipython3",
   "version": "3.5.2"
  }
 },
 "nbformat": 4,
 "nbformat_minor": 1
}
