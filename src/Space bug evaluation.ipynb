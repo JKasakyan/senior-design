{
 "cells": [
  {
   "cell_type": "markdown",
   "metadata": {},
   "source": [
    "## Investigating swings in classification produced by removing #sarcasm and keeping/removing the blank space it creates"
   ]
  },
  {
   "cell_type": "code",
   "execution_count": 2,
   "metadata": {
    "collapsed": false
   },
   "outputs": [
    {
     "name": "stderr",
     "output_type": "stream",
     "text": [
      "/Users/James/anaconda/envs/senior-design/lib/python3.5/site-packages/nltk/twitter/__init__.py:20: UserWarning: The twython library has not been installed. Some functionality from the twitter package will not be available.\n",
      "  warnings.warn(\"The twython library has not been installed. \"\n"
     ]
    }
   ],
   "source": [
    "import ml\n",
    "import nlp\n",
    "import pickle\n",
    "import re\n",
    "from re import sub\n",
    "from nltk.tokenize.casual import _replace_html_entities\n",
    "from nltk import word_tokenize"
   ]
  },
  {
   "cell_type": "code",
   "execution_count": 3,
   "metadata": {
    "collapsed": true
   },
   "outputs": [],
   "source": [
    "pickle_path = 'pickled/'"
   ]
  },
  {
   "cell_type": "markdown",
   "metadata": {},
   "source": [
    "### Importing best classifier (logistic regression cross-validated on 80% of data)"
   ]
  },
  {
   "cell_type": "code",
   "execution_count": 3,
   "metadata": {
    "collapsed": false
   },
   "outputs": [],
   "source": [
    "results = pickle.load(open(pickle_path + '-twitter-trained-log-unbalanced.pickle', 'rb'))\n",
    "dvp = pickle.load(open(pickle_path + '-twitter-dvp.pickle', 'rb'))"
   ]
  },
  {
   "cell_type": "code",
   "execution_count": 4,
   "metadata": {
    "collapsed": false
   },
   "outputs": [
    {
     "data": {
      "text/plain": [
       "defaultdict(dict,\n",
       "            {'LOG_unbalanced': {'classifier': LogisticRegression(C=1.0, class_weight=None, dual=False, fit_intercept=True,\n",
       "                        intercept_scaling=1, max_iter=100, multi_class='ovr', n_jobs=1,\n",
       "                        penalty='l2', random_state=None, solver='liblinear', tol=0.0001,\n",
       "                        verbose=0, warm_start=False),\n",
       "              'dvp': DictVectorizerPartial(dtype=<class 'numpy.float32'>, feature_names=None,\n",
       "                         separator='=', sparse=True, vocab=None),\n",
       "              'reduction': 0,\n",
       "              'score': 0.87133067876655246,\n",
       "              'size': 0.8,\n",
       "              'train_time': 376.016126}})"
      ]
     },
     "execution_count": 4,
     "metadata": {},
     "output_type": "execute_result"
    }
   ],
   "source": [
    "best = ml.best_classifiers([results], [\"LOG_unbalanced\"], dvp)\n",
    "best"
   ]
  },
  {
   "cell_type": "code",
   "execution_count": 5,
   "metadata": {
    "collapsed": false
   },
   "outputs": [],
   "source": [
    "classifier = best[\"LOG_unbalanced\"][\"classifier\"]\n",
    "dvp = best[\"LOG_unbalanced\"][\"dvp\"]"
   ]
  },
  {
   "cell_type": "markdown",
   "metadata": {},
   "source": [
    "### Helper functions"
   ]
  },
  {
   "cell_type": "code",
   "execution_count": 4,
   "metadata": {
    "collapsed": true
   },
   "outputs": [],
   "source": [
    "def test_and_print(tweets, classifier, dvp):\n",
    "    pre = ml.predict(tweets,\n",
    "           classifier,\n",
    "           dvp,\n",
    "           nlp.cleanTokensTwitter)\n",
    "\n",
    "    for t,p,pp in zip(tweets, pre['prediction'], pre['prediction_probabilities']):\n",
    "        print(t)\n",
    "        print('\\tSarcastic' if p else '\\tSerious')\n",
    "        print('\\t'+str(pp[1]*100)+'%' if p else '\\t'+str(pp[0]*100)+'%')\n",
    "        print()\n",
    "        \n",
    "def alt_test_and_print(tweets, classifier, dvp):\n",
    "    pre = ml.predict(tweets,\n",
    "           classifier,\n",
    "           dvp,\n",
    "           alternative_clean)\n",
    "\n",
    "    for t,p,pp in zip(tweets, pre['prediction'], pre['prediction_probabilities']):\n",
    "        print(t)\n",
    "        print('\\tSarcastic' if p else '\\tSerious')\n",
    "        print('\\t'+str(pp[1]*100)+'%' if p else '\\t'+str(pp[0]*100)+'%')\n",
    "        print()\n",
    "        \n",
    "def alternative_clean(tweet):\n",
    "    tweet = sub(nlp.TWEET_HANDLE_RE, \"NameTOK\", tweet)\n",
    "    tweet = sub(nlp.TWEET_LINK_RE, \"LinkTOK\", tweet)\n",
    "    tweet = sub(nlp.HASHTAG_RE, \"\", tweet)\n",
    "    tweet = _replace_html_entities(tweet)\n",
    "    tweet = tweet.rstrip()\n",
    "    tokens = word_tokenize(tweet)\n",
    "    return tokens, tweet\n",
    "\n",
    "def most_informative_feature_for_class(vectorizer, classifier, classlabel, n=10):\n",
    "    labelid = list(classifier.classes_).index(classlabel)\n",
    "    feature_names = vectorizer.get_feature_names()\n",
    "    if (classlabel): \n",
    "        topn = sorted(zip(classifier.coef_[0], feature_names))[-n:]\n",
    "    else:\n",
    "        topn = sorted(zip(classifier.coef_[0], feature_names))[:n]\n",
    "\n",
    "    for coef, feat in topn:\n",
    "        print (classlabel, feat, coef)\n",
    "        \n",
    "def find_best_classifier(results):\n",
    "    highest_acc = 0.0\n",
    "    best_classifier = None\n",
    "    for r in results:\n",
    "        classifiers = r[2]\n",
    "        for c in classifiers:\n",
    "            if c[2] > highest_acc:\n",
    "                highest_acc = c[2]\n",
    "                best_classifier = r\n",
    "\n",
    "    return best_classifier"
   ]
  },
  {
   "cell_type": "markdown",
   "metadata": {},
   "source": [
    "# Example of issue"
   ]
  },
  {
   "cell_type": "code",
   "execution_count": 13,
   "metadata": {
    "collapsed": false
   },
   "outputs": [],
   "source": [
    "test_sarcastic_text = [\n",
    "             'Having MS is really easy and fun. #sarcasm',\n",
    "             'Having MS is really easy and fun. ',\n",
    "             'Having MS is really easy and fun.',\n",
    "             'Having MS is really easy and fun',\n",
    "             'The classiest event a bar can throw is a foam party. #Sarcasm',\n",
    "             'The classiest event a bar can throw is a foam party. ',\n",
    "             'The classiest event a bar can throw is a foam party.',\n",
    "             'The classiest event a bar can throw is a foam party',\n",
    "             '@thehill Sure I\\'ll watch North Korean - China - Russian and Iran news all very creditable sources #sarcasm',\n",
    "             '@thehill Sure I\\'ll watch North Korean - China - Russian and Iran news all very creditable sources ',\n",
    "             '@thehill Sure I\\'ll watch North Korean - China - Russian and Iran news all very creditable sources',\n",
    "             '@mikefreemanNFL Because voicing your beliefs if they\\'re political is worse than actual physical abuse #sarcasm #idiots',\n",
    "             '@mikefreemanNFL Because voicing your beliefs if they\\'re political is worse than actual physical abuse  #idiots',\n",
    "             '@mikefreemanNFL Because voicing your beliefs if they\\'re political is worse than actual physical abuse #idiots',\n",
    "             '@mikefreemanNFL Because voicing your beliefs if they\\'re political is worse than actual physical abuse #',\n",
    "             '@mikefreemanNFL Because voicing your beliefs if they\\'re political is worse than actual physical abuse ',\n",
    "             '@mikefreemanNFL Because voicing your beliefs if they\\'re political is worse than actual physical abuse',\n",
    "             '@mikefreemanNFL Because voicing your beliefs if they\\'re political is worse than actual physical abuse.',\n",
    "    \n",
    "]"
   ]
  },
  {
   "cell_type": "code",
   "execution_count": 11,
   "metadata": {
    "collapsed": false,
    "scrolled": false
   },
   "outputs": [
    {
     "name": "stdout",
     "output_type": "stream",
     "text": [
      "Having MS is really easy and fun. #sarcasm\n",
      "\tSarcastic\n",
      "\t95.5382460923%\n",
      "\n",
      "Having MS is really easy and fun. \n",
      "\tSarcastic\n",
      "\t95.5382460923%\n",
      "\n",
      "Having MS is really easy and fun.\n",
      "\tSerious\n",
      "\t92.9694146335%\n",
      "\n",
      "Having MS is really easy and fun\n",
      "\tSarcastic\n",
      "\t68.4250281747%\n",
      "\n",
      "The classiest event a bar can throw is a foam party. #Sarcasm\n",
      "\tSerious\n",
      "\t56.8570085424%\n",
      "\n",
      "The classiest event a bar can throw is a foam party. \n",
      "\tSerious\n",
      "\t56.8570085424%\n",
      "\n",
      "The classiest event a bar can throw is a foam party.\n",
      "\tSerious\n",
      "\t98.9521429322%\n",
      "\n",
      "The classiest event a bar can throw is a foam party\n",
      "\tSerious\n",
      "\t93.2898160203%\n",
      "\n",
      "@thehill Sure I'll watch North Korean - China - Russian and Iran news all very creditable sources #sarcasm\n",
      "\tSarcastic\n",
      "\t82.7001799788%\n",
      "\n",
      "@thehill Sure I'll watch North Korean - China - Russian and Iran news all very creditable sources \n",
      "\tSarcastic\n",
      "\t82.7001799788%\n",
      "\n",
      "@thehill Sure I'll watch North Korean - China - Russian and Iran news all very creditable sources\n",
      "\tSerious\n",
      "\t99.0031407564%\n",
      "\n",
      "@mikefreemanNFL Because voicing your beliefs if they're political is worse than actual physical abuse #sarcasm #idiots\n",
      "\tSarcastic\n",
      "\t97.8647713502%\n",
      "\n",
      "@mikefreemanNFL Because voicing your beliefs if they're political is worse than actual physical abuse  #idiots\n",
      "\tSarcastic\n",
      "\t97.8647713502%\n",
      "\n",
      "@mikefreemanNFL Because voicing your beliefs if they're political is worse than actual physical abuse #idiots\n",
      "\tSarcastic\n",
      "\t97.8588106098%\n",
      "\n",
      "@mikefreemanNFL Because voicing your beliefs if they're political is worse than actual physical abuse #\n",
      "\tSerious\n",
      "\t70.679450222%\n",
      "\n",
      "@mikefreemanNFL Because voicing your beliefs if they're political is worse than actual physical abuse \n",
      "\tSarcastic\n",
      "\t97.8588106098%\n",
      "\n",
      "@mikefreemanNFL Because voicing your beliefs if they're political is worse than actual physical abuse\n",
      "\tSerious\n",
      "\t86.2205426002%\n",
      "\n",
      "@mikefreemanNFL Because voicing your beliefs if they're political is worse than actual physical abuse.\n",
      "\tSerious\n",
      "\t96.9035976043%\n",
      "\n"
     ]
    }
   ],
   "source": [
    "test_and_print(test_sarcastic_text, classifier, dvp)"
   ]
  },
  {
   "cell_type": "markdown",
   "metadata": {},
   "source": [
    "The examples above show that classifications of sarcastic tweets with this model are erroneously assigning a huge weight to the presence of a dangling space at the end of the text. Usually this dangling trailing space is caused by removing \"#sarcasm\" --which overwhelmingly appears at the end of sarcastic tweets-- but that is not exclusively the case. Looking at the last example, \"#sarcasm\" is followed by \"#idiots\". Due to the underlying method of hastag removal in our methods, all hastags are removed. Thus \"#sarcasm\" and \"#idiots\" are removed and two dangling spaces remain. The tweet remains classified as sarcastic until the dangling trailing spaces are removed, at which point it is classified as serious. \n",
    "\n",
    "In every case either the classification itself or the prediction probability swing heavily towards non-sarcastic once the trailing dangling spaces are removed. This indicates the model is relying on the presence of a programming artifact rather than the actual structure and features of the tweet in order to classify it correctly.    "
   ]
  },
  {
   "cell_type": "code",
   "execution_count": 14,
   "metadata": {
    "collapsed": true
   },
   "outputs": [],
   "source": [
    "test_serious_text = [\n",
    "    'Marsch listed Aurelien Collin & Connor Lade as \"day-to-day.\" Keita got a slight knock, didn\\'t train today w/ #RBNY.',\n",
    "    'Marsch listed Aurelien Collin & Connor Lade as \"day-to-day.\" Keita got a slight knock, didn\\'t train today w/ #RBNY. #sarcasm',\n",
    "    'Marsch listed Aurelien Collin & Connor Lade as \"day-to-day.\" Keita got a slight knock, didn\\'t train today w/ #RBNY. ',\n",
    "    'How many retweets to give the Lakers the number 1 pick? @NBA',\n",
    "    'How many retweets to give the Lakers the number 1 pick? @NBA #sarcasm',\n",
    "    'How many retweets to give the Lakers the number 1 pick? @NBA ',\n",
    "    'Never thought that clunkiness/cost of microscope might be holding back public health https://t.co/TQQcvBheDf so $1 microscope exciting!',\n",
    "    'Never thought that clunkiness/cost of microscope might be holding back public health https://t.co/TQQcvBheDf so $1 microscope exciting! #sarcasm',\n",
    "    'Never thought that clunkiness/cost of microscope might be holding back public health https://t.co/TQQcvBheDf so $1 microscope exciting! ',\n",
    "    '@SwiftOnSecurity They sponsor literally every podcast ever, followed by Crunchyroll.',\n",
    "    '@SwiftOnSecurity They sponsor literally every podcast ever, followed by Crunchyroll. #sarcasm',\n",
    "    '@SwiftOnSecurity They sponsor literally every podcast ever, followed by Crunchyroll. ',\n",
    "]"
   ]
  },
  {
   "cell_type": "code",
   "execution_count": 13,
   "metadata": {
    "collapsed": false
   },
   "outputs": [
    {
     "name": "stdout",
     "output_type": "stream",
     "text": [
      "Marsch listed Aurelien Collin & Connor Lade as \"day-to-day.\" Keita got a slight knock, didn't train today w/ #RBNY.\n",
      "\tSerious\n",
      "\t99.8915777064%\n",
      "\n",
      "Marsch listed Aurelien Collin & Connor Lade as \"day-to-day.\" Keita got a slight knock, didn't train today w/ #RBNY. #sarcasm\n",
      "\tSerious\n",
      "\t99.8907313844%\n",
      "\n",
      "Marsch listed Aurelien Collin & Connor Lade as \"day-to-day.\" Keita got a slight knock, didn't train today w/ #RBNY. \n",
      "\tSerious\n",
      "\t99.8907313844%\n",
      "\n",
      "How many retweets to give the Lakers the number 1 pick? @NBA\n",
      "\tSerious\n",
      "\t87.2958283871%\n",
      "\n",
      "How many retweets to give the Lakers the number 1 pick? @NBA #sarcasm\n",
      "\tSerious\n",
      "\t87.2096300967%\n",
      "\n",
      "How many retweets to give the Lakers the number 1 pick? @NBA \n",
      "\tSerious\n",
      "\t87.2096300967%\n",
      "\n",
      "Never thought that clunkiness/cost of microscope might be holding back public health https://t.co/TQQcvBheDf so $1 microscope exciting!\n",
      "\tSerious\n",
      "\t93.2313394438%\n",
      "\n",
      "Never thought that clunkiness/cost of microscope might be holding back public health https://t.co/TQQcvBheDf so $1 microscope exciting! #sarcasm\n",
      "\tSerious\n",
      "\t93.2138550935%\n",
      "\n",
      "Never thought that clunkiness/cost of microscope might be holding back public health https://t.co/TQQcvBheDf so $1 microscope exciting! \n",
      "\tSerious\n",
      "\t93.2138550935%\n",
      "\n",
      "@SwiftOnSecurity They sponsor literally every podcast ever, followed by Crunchyroll.\n",
      "\tSerious\n",
      "\t99.8574825972%\n",
      "\n",
      "@SwiftOnSecurity They sponsor literally every podcast ever, followed by Crunchyroll. #sarcasm\n",
      "\tSerious\n",
      "\t81.1182918153%\n",
      "\n",
      "@SwiftOnSecurity They sponsor literally every podcast ever, followed by Crunchyroll. \n",
      "\tSerious\n",
      "\t81.1182918153%\n",
      "\n"
     ]
    }
   ],
   "source": [
    "test_and_print(test_serious_text, classifier, dvp)"
   ]
  },
  {
   "cell_type": "markdown",
   "metadata": {},
   "source": [
    "Interestingly, it seems the effect is not as severe in the serious tweets samples. Adding \"#sarcasm\" and \" \" to the end of the sampled serious tweets results in no change in classification and a smaller changes in prediction probability. "
   ]
  },
  {
   "cell_type": "markdown",
   "metadata": {},
   "source": [
    "## Attempt at solution: Using an alternative tweet cleaning method (alternative_clean) that performs a rstrip() of the text of the tweet, removing the dangling spaces"
   ]
  },
  {
   "cell_type": "code",
   "execution_count": 9,
   "metadata": {
    "collapsed": true
   },
   "outputs": [],
   "source": [
    "import matplotlib\n",
    "import matplotlib.pyplot as plt\n",
    "from json_io import list_from_json, list_to_json, TWEET_LINK_RE, tweet_iterate"
   ]
  },
  {
   "cell_type": "code",
   "execution_count": 10,
   "metadata": {
    "collapsed": true
   },
   "outputs": [],
   "source": [
    "SARCASTIC_PATH = \"../json/twitter/sarcastic/unique.json\"\n",
    "SARCASTIC_HASH_PATH = \"../json/sarcastic/hash_dict.json\"\n",
    "SERIOUS_PATH = \"../json/twitter/serious/unique.json\"\n",
    "SERIOUS_HASH_PATH = \"../json/twitter/serious/hash_dict.json\""
   ]
  },
  {
   "cell_type": "code",
   "execution_count": 11,
   "metadata": {
    "collapsed": false
   },
   "outputs": [],
   "source": [
    "sarcastic_tweets = list_from_json(SARCASTIC_PATH, old_format=False)\n",
    "serious_tweets = list_from_json(SERIOUS_PATH, old_format=False)"
   ]
  },
  {
   "cell_type": "code",
   "execution_count": 12,
   "metadata": {
    "collapsed": false
   },
   "outputs": [
    {
     "name": "stdout",
     "output_type": "stream",
     "text": [
      "58164\n",
      "173868\n"
     ]
    }
   ],
   "source": [
    "print(len(sarcastic_tweets))\n",
    "print(len(serious_tweets))"
   ]
  },
  {
   "cell_type": "code",
   "execution_count": 13,
   "metadata": {
    "collapsed": true
   },
   "outputs": [],
   "source": [
    "import pandas as pd"
   ]
  },
  {
   "cell_type": "code",
   "execution_count": 25,
   "metadata": {
    "collapsed": false
   },
   "outputs": [],
   "source": [
    "pre = ml.predict([x[\"text\"] for x in sarcastic_tweets[:50]],\n",
    "           classifier,\n",
    "           dvp,\n",
    "           nlp.cleanTokensTwitter)\n",
    "\n",
    "pre_space_strip = ml.predict([x[\"text\"] for x in sarcastic_tweets[:50]],\n",
    "           classifier,\n",
    "           dvp,\n",
    "           alternative_clean)"
   ]
  },
  {
   "cell_type": "code",
   "execution_count": 30,
   "metadata": {
    "collapsed": false,
    "scrolled": false
   },
   "outputs": [
    {
     "data": {
      "text/html": [
       "<div>\n",
       "<style>\n",
       "    .dataframe thead tr:only-child th {\n",
       "        text-align: right;\n",
       "    }\n",
       "\n",
       "    .dataframe thead th {\n",
       "        text-align: left;\n",
       "    }\n",
       "\n",
       "    .dataframe tbody tr th {\n",
       "        vertical-align: top;\n",
       "    }\n",
       "</style>\n",
       "<table border=\"1\" class=\"dataframe\">\n",
       "  <thead>\n",
       "    <tr style=\"text-align: right;\">\n",
       "      <th></th>\n",
       "      <th>noSpace_prob</th>\n",
       "      <th>noSpace_sarcastic</th>\n",
       "      <th>o_prob</th>\n",
       "      <th>o_sarcastic</th>\n",
       "      <th>o_text</th>\n",
       "    </tr>\n",
       "  </thead>\n",
       "  <tbody>\n",
       "    <tr>\n",
       "      <th>0</th>\n",
       "      <td>96.595865</td>\n",
       "      <td>True</td>\n",
       "      <td>96.595865</td>\n",
       "      <td>True</td>\n",
       "      <td>@MetalBlonde Come on Karina! What about the #b...</td>\n",
       "    </tr>\n",
       "    <tr>\n",
       "      <th>1</th>\n",
       "      <td>87.346849</td>\n",
       "      <td>False</td>\n",
       "      <td>87.346849</td>\n",
       "      <td>False</td>\n",
       "      <td>Take that Black History month.Make America Whi...</td>\n",
       "    </tr>\n",
       "    <tr>\n",
       "      <th>2</th>\n",
       "      <td>89.526470</td>\n",
       "      <td>False</td>\n",
       "      <td>89.526470</td>\n",
       "      <td>False</td>\n",
       "      <td>Officially in love with M$ Azure #sarcasm #pow...</td>\n",
       "    </tr>\n",
       "    <tr>\n",
       "      <th>3</th>\n",
       "      <td>99.254244</td>\n",
       "      <td>True</td>\n",
       "      <td>99.254244</td>\n",
       "      <td>True</td>\n",
       "      <td>Classy. 🙄🙄🙄 #sarcasm \\nHow's that whole \"uniti...</td>\n",
       "    </tr>\n",
       "    <tr>\n",
       "      <th>4</th>\n",
       "      <td>79.498309</td>\n",
       "      <td>True</td>\n",
       "      <td>79.498309</td>\n",
       "      <td>True</td>\n",
       "      <td>#draintheswamp riiiigggghhhttt. #sarcasm https...</td>\n",
       "    </tr>\n",
       "    <tr>\n",
       "      <th>5</th>\n",
       "      <td>54.430044</td>\n",
       "      <td>True</td>\n",
       "      <td>54.430044</td>\n",
       "      <td>True</td>\n",
       "      <td>@HanselCreative dude totally!!!!\\n\\n.\\n.\\n.\\n....</td>\n",
       "    </tr>\n",
       "    <tr>\n",
       "      <th>6</th>\n",
       "      <td>91.580739</td>\n",
       "      <td>True</td>\n",
       "      <td>91.580739</td>\n",
       "      <td>True</td>\n",
       "      <td>@amritabhinder n one more thing @TarekFatah te...</td>\n",
       "    </tr>\n",
       "    <tr>\n",
       "      <th>7</th>\n",
       "      <td>92.591917</td>\n",
       "      <td>True</td>\n",
       "      <td>92.591917</td>\n",
       "      <td>True</td>\n",
       "      <td>@AJ I look forward to hearing about people goi...</td>\n",
       "    </tr>\n",
       "    <tr>\n",
       "      <th>8</th>\n",
       "      <td>95.680305</td>\n",
       "      <td>True</td>\n",
       "      <td>95.680305</td>\n",
       "      <td>True</td>\n",
       "      <td>@SharonLeavy @labourlewis Where's Corbyn? That...</td>\n",
       "    </tr>\n",
       "    <tr>\n",
       "      <th>9</th>\n",
       "      <td>77.631688</td>\n",
       "      <td>True</td>\n",
       "      <td>77.631688</td>\n",
       "      <td>True</td>\n",
       "      <td>This is my 'I ❤️ Stansted' face #sarcasm #lond...</td>\n",
       "    </tr>\n",
       "    <tr>\n",
       "      <th>10</th>\n",
       "      <td>94.826851</td>\n",
       "      <td>True</td>\n",
       "      <td>94.826851</td>\n",
       "      <td>True</td>\n",
       "      <td>Thanks #Comcast having terrible cable TV so I ...</td>\n",
       "    </tr>\n",
       "    <tr>\n",
       "      <th>11</th>\n",
       "      <td>76.708514</td>\n",
       "      <td>True</td>\n",
       "      <td>76.708514</td>\n",
       "      <td>True</td>\n",
       "      <td>What do you think ?\\n#motivation #women #truth...</td>\n",
       "    </tr>\n",
       "    <tr>\n",
       "      <th>12</th>\n",
       "      <td>96.785808</td>\n",
       "      <td>True</td>\n",
       "      <td>96.785808</td>\n",
       "      <td>True</td>\n",
       "      <td>@tedcruz I'm sure he won't be the same miserab...</td>\n",
       "    </tr>\n",
       "    <tr>\n",
       "      <th>13</th>\n",
       "      <td>98.471463</td>\n",
       "      <td>True</td>\n",
       "      <td>98.471463</td>\n",
       "      <td>True</td>\n",
       "      <td>LOL! #Sarcasm at it's best⚡️ “'This is why Tru...</td>\n",
       "    </tr>\n",
       "    <tr>\n",
       "      <th>14</th>\n",
       "      <td>86.232278</td>\n",
       "      <td>True</td>\n",
       "      <td>86.232278</td>\n",
       "      <td>True</td>\n",
       "      <td>Must be why the employment rate is so good las...</td>\n",
       "    </tr>\n",
       "    <tr>\n",
       "      <th>15</th>\n",
       "      <td>99.348987</td>\n",
       "      <td>True</td>\n",
       "      <td>99.348987</td>\n",
       "      <td>True</td>\n",
       "      <td>I think I might like this place. Does Twitter ...</td>\n",
       "    </tr>\n",
       "    <tr>\n",
       "      <th>16</th>\n",
       "      <td>98.325344</td>\n",
       "      <td>True</td>\n",
       "      <td>98.325344</td>\n",
       "      <td>True</td>\n",
       "      <td>Trying #sarcasm when you're sick &amp;amp; not thi...</td>\n",
       "    </tr>\n",
       "    <tr>\n",
       "      <th>17</th>\n",
       "      <td>99.395974</td>\n",
       "      <td>False</td>\n",
       "      <td>99.395974</td>\n",
       "      <td>False</td>\n",
       "      <td>This is no doubt how it plays out #Sarcasm htt...</td>\n",
       "    </tr>\n",
       "    <tr>\n",
       "      <th>18</th>\n",
       "      <td>96.190646</td>\n",
       "      <td>True</td>\n",
       "      <td>96.190646</td>\n",
       "      <td>True</td>\n",
       "      <td>Got an email from a prince, country needs my h...</td>\n",
       "    </tr>\n",
       "    <tr>\n",
       "      <th>19</th>\n",
       "      <td>97.845951</td>\n",
       "      <td>True</td>\n",
       "      <td>97.845951</td>\n",
       "      <td>True</td>\n",
       "      <td>@MotherJones Price is adding more and more sli...</td>\n",
       "    </tr>\n",
       "    <tr>\n",
       "      <th>20</th>\n",
       "      <td>98.748589</td>\n",
       "      <td>True</td>\n",
       "      <td>98.748589</td>\n",
       "      <td>True</td>\n",
       "      <td>Best life tip I've ever read on internet... I ...</td>\n",
       "    </tr>\n",
       "    <tr>\n",
       "      <th>21</th>\n",
       "      <td>99.952133</td>\n",
       "      <td>True</td>\n",
       "      <td>99.952133</td>\n",
       "      <td>True</td>\n",
       "      <td>@EllenPompeo here in Canada we have stricter r...</td>\n",
       "    </tr>\n",
       "    <tr>\n",
       "      <th>22</th>\n",
       "      <td>95.514270</td>\n",
       "      <td>True</td>\n",
       "      <td>95.514270</td>\n",
       "      <td>True</td>\n",
       "      <td>House Republicans vote to expand gun access fo...</td>\n",
       "    </tr>\n",
       "    <tr>\n",
       "      <th>23</th>\n",
       "      <td>83.575230</td>\n",
       "      <td>True</td>\n",
       "      <td>83.575230</td>\n",
       "      <td>True</td>\n",
       "      <td>@tmillsNC guess this will be #obama fault as w...</td>\n",
       "    </tr>\n",
       "    <tr>\n",
       "      <th>24</th>\n",
       "      <td>92.855650</td>\n",
       "      <td>True</td>\n",
       "      <td>92.855650</td>\n",
       "      <td>True</td>\n",
       "      <td>#Arnold #Trump #Sarcasm What a great response ...</td>\n",
       "    </tr>\n",
       "    <tr>\n",
       "      <th>25</th>\n",
       "      <td>92.609536</td>\n",
       "      <td>True</td>\n",
       "      <td>92.609536</td>\n",
       "      <td>True</td>\n",
       "      <td>@AndrewLawton There is no Private/Public wage ...</td>\n",
       "    </tr>\n",
       "    <tr>\n",
       "      <th>26</th>\n",
       "      <td>91.101228</td>\n",
       "      <td>True</td>\n",
       "      <td>91.101228</td>\n",
       "      <td>True</td>\n",
       "      <td>Amazed that I spent 4 years @wku and didn't he...</td>\n",
       "    </tr>\n",
       "    <tr>\n",
       "      <th>27</th>\n",
       "      <td>99.855090</td>\n",
       "      <td>True</td>\n",
       "      <td>99.855090</td>\n",
       "      <td>True</td>\n",
       "      <td>@PressSec A reporter gets to ask about \"black ...</td>\n",
       "    </tr>\n",
       "    <tr>\n",
       "      <th>28</th>\n",
       "      <td>96.786541</td>\n",
       "      <td>True</td>\n",
       "      <td>96.786541</td>\n",
       "      <td>True</td>\n",
       "      <td>blackjack is a fun game, but the other hand sh...</td>\n",
       "    </tr>\n",
       "    <tr>\n",
       "      <th>29</th>\n",
       "      <td>61.250555</td>\n",
       "      <td>True</td>\n",
       "      <td>61.250555</td>\n",
       "      <td>True</td>\n",
       "      <td>#TrumpBan effect #sarcasm https://t.co/W3LNJ7qBBZ</td>\n",
       "    </tr>\n",
       "    <tr>\n",
       "      <th>30</th>\n",
       "      <td>99.492100</td>\n",
       "      <td>True</td>\n",
       "      <td>99.492100</td>\n",
       "      <td>True</td>\n",
       "      <td>.@realDonaldTrump nice job killing all of thos...</td>\n",
       "    </tr>\n",
       "    <tr>\n",
       "      <th>31</th>\n",
       "      <td>80.651839</td>\n",
       "      <td>False</td>\n",
       "      <td>80.651839</td>\n",
       "      <td>False</td>\n",
       "      <td>@AdamJKovac @eleijon No #sarcasm here?</td>\n",
       "    </tr>\n",
       "    <tr>\n",
       "      <th>32</th>\n",
       "      <td>86.920826</td>\n",
       "      <td>True</td>\n",
       "      <td>86.920826</td>\n",
       "      <td>True</td>\n",
       "      <td>Nothing says \"I love you\" like a gift card. #G...</td>\n",
       "    </tr>\n",
       "    <tr>\n",
       "      <th>33</th>\n",
       "      <td>99.889287</td>\n",
       "      <td>True</td>\n",
       "      <td>99.889287</td>\n",
       "      <td>True</td>\n",
       "      <td>@BraddJaffy @albamonica well that's not too fa...</td>\n",
       "    </tr>\n",
       "    <tr>\n",
       "      <th>34</th>\n",
       "      <td>95.187963</td>\n",
       "      <td>True</td>\n",
       "      <td>95.187963</td>\n",
       "      <td>True</td>\n",
       "      <td>My high school education trumps your extensive...</td>\n",
       "    </tr>\n",
       "    <tr>\n",
       "      <th>35</th>\n",
       "      <td>98.708119</td>\n",
       "      <td>True</td>\n",
       "      <td>98.708119</td>\n",
       "      <td>True</td>\n",
       "      <td>@chorkins it's not like persons with mental il...</td>\n",
       "    </tr>\n",
       "    <tr>\n",
       "      <th>36</th>\n",
       "      <td>99.967769</td>\n",
       "      <td>True</td>\n",
       "      <td>99.967769</td>\n",
       "      <td>True</td>\n",
       "      <td>@KMeinherz @PrisonPlanet Women should be paid ...</td>\n",
       "    </tr>\n",
       "    <tr>\n",
       "      <th>37</th>\n",
       "      <td>81.762275</td>\n",
       "      <td>False</td>\n",
       "      <td>81.762275</td>\n",
       "      <td>False</td>\n",
       "      <td>It's sooo true though! #funny #meme #lol #humo...</td>\n",
       "    </tr>\n",
       "    <tr>\n",
       "      <th>38</th>\n",
       "      <td>99.647263</td>\n",
       "      <td>True</td>\n",
       "      <td>99.647263</td>\n",
       "      <td>True</td>\n",
       "      <td>@betancourtm90 @bsquared82 @OldWomanRiver @SUP...</td>\n",
       "    </tr>\n",
       "    <tr>\n",
       "      <th>39</th>\n",
       "      <td>99.697637</td>\n",
       "      <td>True</td>\n",
       "      <td>99.697637</td>\n",
       "      <td>True</td>\n",
       "      <td>But...I thought only 109 people affected...no?...</td>\n",
       "    </tr>\n",
       "    <tr>\n",
       "      <th>40</th>\n",
       "      <td>81.793634</td>\n",
       "      <td>True</td>\n",
       "      <td>81.793634</td>\n",
       "      <td>True</td>\n",
       "      <td>Typical downtown #Vancouver weather. #sarcasm ...</td>\n",
       "    </tr>\n",
       "    <tr>\n",
       "      <th>41</th>\n",
       "      <td>94.511190</td>\n",
       "      <td>True</td>\n",
       "      <td>94.511190</td>\n",
       "      <td>True</td>\n",
       "      <td>Do terrible things to people or we'll cut your...</td>\n",
       "    </tr>\n",
       "    <tr>\n",
       "      <th>42</th>\n",
       "      <td>97.467866</td>\n",
       "      <td>True</td>\n",
       "      <td>97.467866</td>\n",
       "      <td>True</td>\n",
       "      <td>Not all girls are\\nMade of #sugar\\nAnd #spice\\...</td>\n",
       "    </tr>\n",
       "    <tr>\n",
       "      <th>43</th>\n",
       "      <td>99.833524</td>\n",
       "      <td>True</td>\n",
       "      <td>99.833524</td>\n",
       "      <td>True</td>\n",
       "      <td>Thanks @ABCNetwork... Can't wait for that HUGE...</td>\n",
       "    </tr>\n",
       "    <tr>\n",
       "      <th>44</th>\n",
       "      <td>56.985134</td>\n",
       "      <td>True</td>\n",
       "      <td>56.985134</td>\n",
       "      <td>True</td>\n",
       "      <td>He is a man of action #Sarcasm https://t.co/ma...</td>\n",
       "    </tr>\n",
       "    <tr>\n",
       "      <th>45</th>\n",
       "      <td>90.222889</td>\n",
       "      <td>True</td>\n",
       "      <td>90.222889</td>\n",
       "      <td>True</td>\n",
       "      <td>Awesome... feel so loved right now... #sarcasm</td>\n",
       "    </tr>\n",
       "    <tr>\n",
       "      <th>46</th>\n",
       "      <td>92.245455</td>\n",
       "      <td>True</td>\n",
       "      <td>92.245455</td>\n",
       "      <td>True</td>\n",
       "      <td>Good plan. Throw some domestic violence in the...</td>\n",
       "    </tr>\n",
       "    <tr>\n",
       "      <th>47</th>\n",
       "      <td>99.418078</td>\n",
       "      <td>True</td>\n",
       "      <td>99.418078</td>\n",
       "      <td>True</td>\n",
       "      <td>@GeorgeTakei But we don't want another Bowling...</td>\n",
       "    </tr>\n",
       "    <tr>\n",
       "      <th>48</th>\n",
       "      <td>99.725714</td>\n",
       "      <td>True</td>\n",
       "      <td>99.725714</td>\n",
       "      <td>True</td>\n",
       "      <td>@iamirishdave @ladygaga you forgot the ' #sarc...</td>\n",
       "    </tr>\n",
       "    <tr>\n",
       "      <th>49</th>\n",
       "      <td>99.846587</td>\n",
       "      <td>True</td>\n",
       "      <td>99.846587</td>\n",
       "      <td>True</td>\n",
       "      <td>#lol #funny #comedy #sarcasm RT lifestyIeposts...</td>\n",
       "    </tr>\n",
       "  </tbody>\n",
       "</table>\n",
       "</div>"
      ],
      "text/plain": [
       "    noSpace_prob  noSpace_sarcastic     o_prob  o_sarcastic  \\\n",
       "0      96.595865               True  96.595865         True   \n",
       "1      87.346849              False  87.346849        False   \n",
       "2      89.526470              False  89.526470        False   \n",
       "3      99.254244               True  99.254244         True   \n",
       "4      79.498309               True  79.498309         True   \n",
       "5      54.430044               True  54.430044         True   \n",
       "6      91.580739               True  91.580739         True   \n",
       "7      92.591917               True  92.591917         True   \n",
       "8      95.680305               True  95.680305         True   \n",
       "9      77.631688               True  77.631688         True   \n",
       "10     94.826851               True  94.826851         True   \n",
       "11     76.708514               True  76.708514         True   \n",
       "12     96.785808               True  96.785808         True   \n",
       "13     98.471463               True  98.471463         True   \n",
       "14     86.232278               True  86.232278         True   \n",
       "15     99.348987               True  99.348987         True   \n",
       "16     98.325344               True  98.325344         True   \n",
       "17     99.395974              False  99.395974        False   \n",
       "18     96.190646               True  96.190646         True   \n",
       "19     97.845951               True  97.845951         True   \n",
       "20     98.748589               True  98.748589         True   \n",
       "21     99.952133               True  99.952133         True   \n",
       "22     95.514270               True  95.514270         True   \n",
       "23     83.575230               True  83.575230         True   \n",
       "24     92.855650               True  92.855650         True   \n",
       "25     92.609536               True  92.609536         True   \n",
       "26     91.101228               True  91.101228         True   \n",
       "27     99.855090               True  99.855090         True   \n",
       "28     96.786541               True  96.786541         True   \n",
       "29     61.250555               True  61.250555         True   \n",
       "30     99.492100               True  99.492100         True   \n",
       "31     80.651839              False  80.651839        False   \n",
       "32     86.920826               True  86.920826         True   \n",
       "33     99.889287               True  99.889287         True   \n",
       "34     95.187963               True  95.187963         True   \n",
       "35     98.708119               True  98.708119         True   \n",
       "36     99.967769               True  99.967769         True   \n",
       "37     81.762275              False  81.762275        False   \n",
       "38     99.647263               True  99.647263         True   \n",
       "39     99.697637               True  99.697637         True   \n",
       "40     81.793634               True  81.793634         True   \n",
       "41     94.511190               True  94.511190         True   \n",
       "42     97.467866               True  97.467866         True   \n",
       "43     99.833524               True  99.833524         True   \n",
       "44     56.985134               True  56.985134         True   \n",
       "45     90.222889               True  90.222889         True   \n",
       "46     92.245455               True  92.245455         True   \n",
       "47     99.418078               True  99.418078         True   \n",
       "48     99.725714               True  99.725714         True   \n",
       "49     99.846587               True  99.846587         True   \n",
       "\n",
       "                                               o_text  \n",
       "0   @MetalBlonde Come on Karina! What about the #b...  \n",
       "1   Take that Black History month.Make America Whi...  \n",
       "2   Officially in love with M$ Azure #sarcasm #pow...  \n",
       "3   Classy. 🙄🙄🙄 #sarcasm \\nHow's that whole \"uniti...  \n",
       "4   #draintheswamp riiiigggghhhttt. #sarcasm https...  \n",
       "5   @HanselCreative dude totally!!!!\\n\\n.\\n.\\n.\\n....  \n",
       "6   @amritabhinder n one more thing @TarekFatah te...  \n",
       "7   @AJ I look forward to hearing about people goi...  \n",
       "8   @SharonLeavy @labourlewis Where's Corbyn? That...  \n",
       "9   This is my 'I ❤️ Stansted' face #sarcasm #lond...  \n",
       "10  Thanks #Comcast having terrible cable TV so I ...  \n",
       "11  What do you think ?\\n#motivation #women #truth...  \n",
       "12  @tedcruz I'm sure he won't be the same miserab...  \n",
       "13  LOL! #Sarcasm at it's best⚡️ “'This is why Tru...  \n",
       "14  Must be why the employment rate is so good las...  \n",
       "15  I think I might like this place. Does Twitter ...  \n",
       "16  Trying #sarcasm when you're sick &amp; not thi...  \n",
       "17  This is no doubt how it plays out #Sarcasm htt...  \n",
       "18  Got an email from a prince, country needs my h...  \n",
       "19  @MotherJones Price is adding more and more sli...  \n",
       "20  Best life tip I've ever read on internet... I ...  \n",
       "21  @EllenPompeo here in Canada we have stricter r...  \n",
       "22  House Republicans vote to expand gun access fo...  \n",
       "23  @tmillsNC guess this will be #obama fault as w...  \n",
       "24  #Arnold #Trump #Sarcasm What a great response ...  \n",
       "25  @AndrewLawton There is no Private/Public wage ...  \n",
       "26  Amazed that I spent 4 years @wku and didn't he...  \n",
       "27  @PressSec A reporter gets to ask about \"black ...  \n",
       "28  blackjack is a fun game, but the other hand sh...  \n",
       "29  #TrumpBan effect #sarcasm https://t.co/W3LNJ7qBBZ  \n",
       "30  .@realDonaldTrump nice job killing all of thos...  \n",
       "31             @AdamJKovac @eleijon No #sarcasm here?  \n",
       "32  Nothing says \"I love you\" like a gift card. #G...  \n",
       "33  @BraddJaffy @albamonica well that's not too fa...  \n",
       "34  My high school education trumps your extensive...  \n",
       "35  @chorkins it's not like persons with mental il...  \n",
       "36  @KMeinherz @PrisonPlanet Women should be paid ...  \n",
       "37  It's sooo true though! #funny #meme #lol #humo...  \n",
       "38  @betancourtm90 @bsquared82 @OldWomanRiver @SUP...  \n",
       "39  But...I thought only 109 people affected...no?...  \n",
       "40  Typical downtown #Vancouver weather. #sarcasm ...  \n",
       "41  Do terrible things to people or we'll cut your...  \n",
       "42  Not all girls are\\nMade of #sugar\\nAnd #spice\\...  \n",
       "43  Thanks @ABCNetwork... Can't wait for that HUGE...  \n",
       "44  He is a man of action #Sarcasm https://t.co/ma...  \n",
       "45     Awesome... feel so loved right now... #sarcasm  \n",
       "46  Good plan. Throw some domestic violence in the...  \n",
       "47  @GeorgeTakei But we don't want another Bowling...  \n",
       "48  @iamirishdave @ladygaga you forgot the ' #sarc...  \n",
       "49  #lol #funny #comedy #sarcasm RT lifestyIeposts...  "
      ]
     },
     "execution_count": 30,
     "metadata": {},
     "output_type": "execute_result"
    }
   ],
   "source": [
    "sarcastic_df = pd.DataFrame({\"o_text\": [x[\"text\"] for x in sarcastic_tweets[:50]],\n",
    "                             \"o_sarcastic\": pre[\"prediction\"],\n",
    "                             \"o_prob\": [tup[1][1]*100 if tup[0] else tup[1][0]*100 for tup in zip(pre[\"prediction\"], pre[\"prediction_probabilities\"])],\n",
    "                             \"noSpace_sarcastic\": pre_space_strip[\"prediction\"],\n",
    "                             \"noSpace_prob\": [tup[1][1]*100 if tup[0] else tup[1][0]*100 for tup in zip(pre_space_strip[\"prediction\"], pre_space_strip[\"prediction_probabilities\"])]})\n",
    "sarcastic_df"
   ]
  },
  {
   "cell_type": "markdown",
   "metadata": {},
   "source": [
    "### Something is wrong. Using alternative_clean should produce a different string (and different prediction/prediction probability), but in every case the prediction on the string that was cleaned using nlp.cleanTokensTwitter is exactly the same as the prediction on the string cleaned using alternative_clean"
   ]
  },
  {
   "cell_type": "markdown",
   "metadata": {},
   "source": [
    "# Investigate"
   ]
  },
  {
   "cell_type": "markdown",
   "metadata": {},
   "source": [
    "### Alternative clean works as expected"
   ]
  },
  {
   "cell_type": "code",
   "execution_count": 32,
   "metadata": {
    "collapsed": false
   },
   "outputs": [
    {
     "name": "stdout",
     "output_type": "stream",
     "text": [
      "False\n",
      "True\n"
     ]
    }
   ],
   "source": [
    "print(alternative_clean('Having MS is really easy and fun. #sarcasm') == nlp.cleanTokensTwitter('Having MS is really easy and fun. #sarcasm'))\n",
    "print(alternative_clean('Having MS is really easy and fun. #sarcasm') == nlp.cleanTokensTwitter('Having MS is really easy and fun.'))"
   ]
  },
  {
   "cell_type": "markdown",
   "metadata": {},
   "source": [
    "### Predict does not"
   ]
  },
  {
   "cell_type": "markdown",
   "metadata": {},
   "source": [
    "### These should NOT be equal"
   ]
  },
  {
   "cell_type": "code",
   "execution_count": 34,
   "metadata": {
    "collapsed": false
   },
   "outputs": [
    {
     "name": "stdout",
     "output_type": "stream",
     "text": [
      "{'prediction': array([ True], dtype=bool), 'classifier': LogisticRegression(C=1.0, class_weight=None, dual=False, fit_intercept=True,\n",
      "          intercept_scaling=1, max_iter=100, multi_class='ovr', n_jobs=1,\n",
      "          penalty='l2', random_state=None, solver='liblinear', tol=0.0001,\n",
      "          verbose=0, warm_start=False), 'prediction_probabilities': array([[ 0.04461754,  0.95538246]])}\n",
      "{'prediction': array([ True], dtype=bool), 'classifier': LogisticRegression(C=1.0, class_weight=None, dual=False, fit_intercept=True,\n",
      "          intercept_scaling=1, max_iter=100, multi_class='ovr', n_jobs=1,\n",
      "          penalty='l2', random_state=None, solver='liblinear', tol=0.0001,\n",
      "          verbose=0, warm_start=False), 'prediction_probabilities': array([[ 0.04461754,  0.95538246]])}\n"
     ]
    }
   ],
   "source": [
    "print(ml.predict(['Having MS is really easy and fun. #sarcasm'], classifier, dvp, nlp.cleanTokensTwitter))\n",
    "print(ml.predict(['Having MS is really easy and fun. #sarcasm'], classifier, dvp, alternative_clean))"
   ]
  },
  {
   "cell_type": "markdown",
   "metadata": {},
   "source": [
    "### These SHOULD be equal"
   ]
  },
  {
   "cell_type": "code",
   "execution_count": 6,
   "metadata": {
    "collapsed": false,
    "scrolled": true
   },
   "outputs": [
    {
     "name": "stdout",
     "output_type": "stream",
     "text": [
      "{'classifier': LogisticRegression(C=1.0, class_weight=None, dual=False, fit_intercept=True,\n",
      "          intercept_scaling=1, max_iter=100, multi_class='ovr', n_jobs=-1,\n",
      "          penalty='l2', random_state=None, solver='liblinear', tol=0.0001,\n",
      "          verbose=0, warm_start=False), 'prediction_probabilities': array([[ 0.92960334,  0.07039666]]), 'prediction': array([False], dtype=bool)}\n",
      "{'classifier': LogisticRegression(C=1.0, class_weight=None, dual=False, fit_intercept=True,\n",
      "          intercept_scaling=1, max_iter=100, multi_class='ovr', n_jobs=-1,\n",
      "          penalty='l2', random_state=None, solver='liblinear', tol=0.0001,\n",
      "          verbose=0, warm_start=False), 'prediction_probabilities': array([[ 0.12693929,  0.87306071]]), 'prediction': array([ True], dtype=bool)}\n"
     ]
    }
   ],
   "source": [
    "print(ml.predict(['Having MS is really easy and fun.'], classifier, dvp, nlp.cleanTokensTwitter))\n",
    "print(ml.predict(['Having MS is really easy and fun. #sarcasm'], classifier, dvp, alternative_clean))"
   ]
  },
  {
   "cell_type": "markdown",
   "metadata": {},
   "source": [
    "### Feature does not"
   ]
  },
  {
   "cell_type": "code",
   "execution_count": 35,
   "metadata": {
    "collapsed": false,
    "scrolled": true
   },
   "outputs": [
    {
     "name": "stdout",
     "output_type": "stream",
     "text": [
      "True\n",
      "False\n"
     ]
    }
   ],
   "source": [
    "print(nlp.feature('Having MS is really easy and fun. #sarcasm', nlp.cleanTokensTwitter) == nlp.feature('Having MS is really easy and fun. #sarcasm', alternative_clean))\n",
    "print(nlp.feature('Having MS is really easy and fun. #sarcasm', alternative_clean) == nlp.feature('Having MS is really easy and fun.', nlp.cleanTokensTwitter))"
   ]
  },
  {
   "cell_type": "markdown",
   "metadata": {},
   "source": [
    "### Investigating feature"
   ]
  },
  {
   "cell_type": "code",
   "execution_count": 40,
   "metadata": {
    "collapsed": true
   },
   "outputs": [],
   "source": [
    "nlp.feature??"
   ]
  },
  {
   "cell_type": "markdown",
   "metadata": {},
   "source": [
    "### First step in feature pipeline is calling repr() on text of tweet"
   ]
  },
  {
   "cell_type": "code",
   "execution_count": 37,
   "metadata": {
    "collapsed": false
   },
   "outputs": [
    {
     "data": {
      "text/plain": [
       "\"'Having MS is really easy and fun. #sarcasm'\""
      ]
     },
     "execution_count": 37,
     "metadata": {},
     "output_type": "execute_result"
    }
   ],
   "source": [
    "repr1 = repr('Having MS is really easy and fun. #sarcasm')\n",
    "repr1"
   ]
  },
  {
   "cell_type": "code",
   "execution_count": 38,
   "metadata": {
    "collapsed": false
   },
   "outputs": [
    {
     "data": {
      "text/plain": [
       "\"'Having MS is really easy and fun.'\""
      ]
     },
     "execution_count": 38,
     "metadata": {},
     "output_type": "execute_result"
    }
   ],
   "source": [
    "repr2 = repr('Having MS is really easy and fun.')\n",
    "repr2"
   ]
  },
  {
   "cell_type": "markdown",
   "metadata": {},
   "source": [
    "#### Calling Repr on a string adds quotes to end of text, causing alternative clean to not find any trailing spaces and perform identically to nlp.cleanTokensTwitter"
   ]
  },
  {
   "cell_type": "code",
   "execution_count": 84,
   "metadata": {
    "collapsed": false
   },
   "outputs": [
    {
     "name": "stdout",
     "output_type": "stream",
     "text": [
      "True\n",
      "True\n"
     ]
    }
   ],
   "source": [
    "print(alternative_clean(repr1) == nlp.cleanTokensTwitter(repr1))\n",
    "print(alternative_clean(repr2) == nlp.cleanTokensTwitter(repr2))"
   ]
  },
  {
   "cell_type": "markdown",
   "metadata": {},
   "source": [
    "### Repr is also affecting the tokenizer"
   ]
  },
  {
   "cell_type": "code",
   "execution_count": 39,
   "metadata": {
    "collapsed": false
   },
   "outputs": [
    {
     "name": "stdout",
     "output_type": "stream",
     "text": [
      "False\n",
      "False\n"
     ]
    }
   ],
   "source": [
    "print(nlp.cleanTokensTwitter(repr1) == nlp.cleanTokensTwitter('Having MS is really easy and fun. #sarcasm'))\n",
    "print(nlp.cleanTokensTwitter(repr2) == nlp.cleanTokensTwitter('Having MS is really easy and fun.'))"
   ]
  },
  {
   "cell_type": "markdown",
   "metadata": {},
   "source": [
    "### After commenting out text = repr(text)"
   ]
  },
  {
   "cell_type": "code",
   "execution_count": 14,
   "metadata": {
    "collapsed": true
   },
   "outputs": [],
   "source": [
    "nlp.feature??"
   ]
  },
  {
   "cell_type": "markdown",
   "metadata": {},
   "source": [
    "#### Alternative clean works as expected"
   ]
  },
  {
   "cell_type": "code",
   "execution_count": 15,
   "metadata": {
    "collapsed": false
   },
   "outputs": [
    {
     "name": "stdout",
     "output_type": "stream",
     "text": [
      "False\n",
      "True\n"
     ]
    }
   ],
   "source": [
    "print(alternative_clean('Having MS is really easy and fun. #sarcasm') == nlp.cleanTokensTwitter('Having MS is really easy and fun. #sarcasm'))\n",
    "print(alternative_clean('Having MS is really easy and fun. #sarcasm') == nlp.cleanTokensTwitter('Having MS is really easy and fun.'))"
   ]
  },
  {
   "cell_type": "markdown",
   "metadata": {},
   "source": [
    "#### Predict seems to work as expected. Probabilities differ slightly."
   ]
  },
  {
   "cell_type": "code",
   "execution_count": 16,
   "metadata": {
    "collapsed": false,
    "scrolled": true
   },
   "outputs": [
    {
     "name": "stdout",
     "output_type": "stream",
     "text": [
      "{'prediction': array([ True], dtype=bool), 'classifier': LogisticRegression(C=1.0, class_weight=None, dual=False, fit_intercept=True,\n",
      "          intercept_scaling=1, max_iter=100, multi_class='ovr', n_jobs=1,\n",
      "          penalty='l2', random_state=None, solver='liblinear', tol=0.0001,\n",
      "          verbose=0, warm_start=False), 'prediction_probabilities': array([[ 0.02236605,  0.97763395]])}\n",
      "{'prediction': array([ True], dtype=bool), 'classifier': LogisticRegression(C=1.0, class_weight=None, dual=False, fit_intercept=True,\n",
      "          intercept_scaling=1, max_iter=100, multi_class='ovr', n_jobs=1,\n",
      "          penalty='l2', random_state=None, solver='liblinear', tol=0.0001,\n",
      "          verbose=0, warm_start=False), 'prediction_probabilities': array([[ 0.02251699,  0.97748301]])}\n"
     ]
    }
   ],
   "source": [
    "print(ml.predict(['Having MS is really easy and fun. #sarcasm'], classifier, dvp, nlp.cleanTokensTwitter))\n",
    "print(ml.predict(['Having MS is really easy and fun. #sarcasm'], classifier, dvp, alternative_clean))"
   ]
  },
  {
   "cell_type": "markdown",
   "metadata": {},
   "source": [
    "#### Predict works as expected"
   ]
  },
  {
   "cell_type": "code",
   "execution_count": 17,
   "metadata": {
    "collapsed": false
   },
   "outputs": [
    {
     "name": "stdout",
     "output_type": "stream",
     "text": [
      "{'prediction': array([ True], dtype=bool), 'classifier': LogisticRegression(C=1.0, class_weight=None, dual=False, fit_intercept=True,\n",
      "          intercept_scaling=1, max_iter=100, multi_class='ovr', n_jobs=1,\n",
      "          penalty='l2', random_state=None, solver='liblinear', tol=0.0001,\n",
      "          verbose=0, warm_start=False), 'prediction_probabilities': array([[ 0.02251699,  0.97748301]])}\n",
      "{'prediction': array([ True], dtype=bool), 'classifier': LogisticRegression(C=1.0, class_weight=None, dual=False, fit_intercept=True,\n",
      "          intercept_scaling=1, max_iter=100, multi_class='ovr', n_jobs=1,\n",
      "          penalty='l2', random_state=None, solver='liblinear', tol=0.0001,\n",
      "          verbose=0, warm_start=False), 'prediction_probabilities': array([[ 0.02251699,  0.97748301]])}\n"
     ]
    }
   ],
   "source": [
    "print(ml.predict(['Having MS is really easy and fun. #sarcasm'], classifier, dvp, alternative_clean))\n",
    "print(ml.predict(['Having MS is really easy and fun.'], classifier, dvp, nlp.cleanTokensTwitter))"
   ]
  },
  {
   "cell_type": "markdown",
   "metadata": {},
   "source": [
    "#### Feature works as expected"
   ]
  },
  {
   "cell_type": "code",
   "execution_count": 18,
   "metadata": {
    "collapsed": false
   },
   "outputs": [
    {
     "name": "stdout",
     "output_type": "stream",
     "text": [
      "False\n",
      "True\n"
     ]
    }
   ],
   "source": [
    "print(nlp.feature('Having MS is really easy and fun. #sarcasm', nlp.cleanTokensTwitter) == nlp.feature('Having MS is really easy and fun. #sarcasm', alternative_clean))\n",
    "print(nlp.feature('Having MS is really easy and fun. #sarcasm', alternative_clean) == nlp.feature('Having MS is really easy and fun.', nlp.cleanTokensTwitter))"
   ]
  },
  {
   "cell_type": "markdown",
   "metadata": {},
   "source": [
    "### Revised attempt at dataframe"
   ]
  },
  {
   "cell_type": "code",
   "execution_count": 19,
   "metadata": {
    "collapsed": true
   },
   "outputs": [],
   "source": [
    "pre = ml.predict([x[\"text\"] for x in sarcastic_tweets[:50]],\n",
    "           classifier,\n",
    "           dvp,\n",
    "           nlp.cleanTokensTwitter)\n",
    "\n",
    "pre_space_strip = ml.predict([x[\"text\"] for x in sarcastic_tweets[:50]],\n",
    "           classifier,\n",
    "           dvp,\n",
    "           alternative_clean)"
   ]
  },
  {
   "cell_type": "code",
   "execution_count": 20,
   "metadata": {
    "collapsed": false,
    "scrolled": false
   },
   "outputs": [
    {
     "data": {
      "text/html": [
       "<div>\n",
       "<style>\n",
       "    .dataframe thead tr:only-child th {\n",
       "        text-align: right;\n",
       "    }\n",
       "\n",
       "    .dataframe thead th {\n",
       "        text-align: left;\n",
       "    }\n",
       "\n",
       "    .dataframe tbody tr th {\n",
       "        vertical-align: top;\n",
       "    }\n",
       "</style>\n",
       "<table border=\"1\" class=\"dataframe\">\n",
       "  <thead>\n",
       "    <tr style=\"text-align: right;\">\n",
       "      <th></th>\n",
       "      <th>ns_prob</th>\n",
       "      <th>ns_sarcastic</th>\n",
       "      <th>o_prob</th>\n",
       "      <th>o_sarcastic</th>\n",
       "      <th>o_text</th>\n",
       "    </tr>\n",
       "  </thead>\n",
       "  <tbody>\n",
       "    <tr>\n",
       "      <th>0</th>\n",
       "      <td>94.153289</td>\n",
       "      <td>True</td>\n",
       "      <td>94.280688</td>\n",
       "      <td>True</td>\n",
       "      <td>@MetalBlonde Come on Karina! What about the #b...</td>\n",
       "    </tr>\n",
       "    <tr>\n",
       "      <th>1</th>\n",
       "      <td>70.501927</td>\n",
       "      <td>False</td>\n",
       "      <td>70.501927</td>\n",
       "      <td>False</td>\n",
       "      <td>Take that Black History month.Make America Whi...</td>\n",
       "    </tr>\n",
       "    <tr>\n",
       "      <th>2</th>\n",
       "      <td>92.349261</td>\n",
       "      <td>False</td>\n",
       "      <td>92.255461</td>\n",
       "      <td>False</td>\n",
       "      <td>Officially in love with M$ Azure #sarcasm #pow...</td>\n",
       "    </tr>\n",
       "    <tr>\n",
       "      <th>3</th>\n",
       "      <td>84.663902</td>\n",
       "      <td>True</td>\n",
       "      <td>84.663902</td>\n",
       "      <td>True</td>\n",
       "      <td>Classy. 🙄🙄🙄 #sarcasm \\nHow's that whole \"uniti...</td>\n",
       "    </tr>\n",
       "    <tr>\n",
       "      <th>4</th>\n",
       "      <td>91.256633</td>\n",
       "      <td>True</td>\n",
       "      <td>91.256633</td>\n",
       "      <td>True</td>\n",
       "      <td>#draintheswamp riiiigggghhhttt. #sarcasm https...</td>\n",
       "    </tr>\n",
       "    <tr>\n",
       "      <th>5</th>\n",
       "      <td>54.892505</td>\n",
       "      <td>False</td>\n",
       "      <td>53.528123</td>\n",
       "      <td>False</td>\n",
       "      <td>@HanselCreative dude totally!!!!\\n\\n.\\n.\\n.\\n....</td>\n",
       "    </tr>\n",
       "    <tr>\n",
       "      <th>6</th>\n",
       "      <td>94.930410</td>\n",
       "      <td>True</td>\n",
       "      <td>94.930410</td>\n",
       "      <td>True</td>\n",
       "      <td>@amritabhinder n one more thing @TarekFatah te...</td>\n",
       "    </tr>\n",
       "    <tr>\n",
       "      <th>7</th>\n",
       "      <td>95.694558</td>\n",
       "      <td>True</td>\n",
       "      <td>95.694558</td>\n",
       "      <td>True</td>\n",
       "      <td>@AJ I look forward to hearing about people goi...</td>\n",
       "    </tr>\n",
       "    <tr>\n",
       "      <th>8</th>\n",
       "      <td>95.925353</td>\n",
       "      <td>False</td>\n",
       "      <td>95.837830</td>\n",
       "      <td>False</td>\n",
       "      <td>@SharonLeavy @labourlewis Where's Corbyn? That...</td>\n",
       "    </tr>\n",
       "    <tr>\n",
       "      <th>9</th>\n",
       "      <td>59.829001</td>\n",
       "      <td>True</td>\n",
       "      <td>59.829001</td>\n",
       "      <td>True</td>\n",
       "      <td>This is my 'I ❤️ Stansted' face #sarcasm #lond...</td>\n",
       "    </tr>\n",
       "    <tr>\n",
       "      <th>10</th>\n",
       "      <td>80.897066</td>\n",
       "      <td>True</td>\n",
       "      <td>80.909291</td>\n",
       "      <td>True</td>\n",
       "      <td>Thanks #Comcast having terrible cable TV so I ...</td>\n",
       "    </tr>\n",
       "    <tr>\n",
       "      <th>11</th>\n",
       "      <td>94.680561</td>\n",
       "      <td>False</td>\n",
       "      <td>94.680561</td>\n",
       "      <td>False</td>\n",
       "      <td>What do you think ?\\n#motivation #women #truth...</td>\n",
       "    </tr>\n",
       "    <tr>\n",
       "      <th>12</th>\n",
       "      <td>98.158009</td>\n",
       "      <td>True</td>\n",
       "      <td>98.158009</td>\n",
       "      <td>True</td>\n",
       "      <td>@tedcruz I'm sure he won't be the same miserab...</td>\n",
       "    </tr>\n",
       "    <tr>\n",
       "      <th>13</th>\n",
       "      <td>91.170149</td>\n",
       "      <td>True</td>\n",
       "      <td>91.170149</td>\n",
       "      <td>True</td>\n",
       "      <td>LOL! #Sarcasm at it's best⚡️ “'This is why Tru...</td>\n",
       "    </tr>\n",
       "    <tr>\n",
       "      <th>14</th>\n",
       "      <td>94.675094</td>\n",
       "      <td>True</td>\n",
       "      <td>94.675094</td>\n",
       "      <td>True</td>\n",
       "      <td>Must be why the employment rate is so good las...</td>\n",
       "    </tr>\n",
       "    <tr>\n",
       "      <th>15</th>\n",
       "      <td>84.462561</td>\n",
       "      <td>True</td>\n",
       "      <td>84.462561</td>\n",
       "      <td>True</td>\n",
       "      <td>I think I might like this place. Does Twitter ...</td>\n",
       "    </tr>\n",
       "    <tr>\n",
       "      <th>16</th>\n",
       "      <td>98.737617</td>\n",
       "      <td>True</td>\n",
       "      <td>98.737617</td>\n",
       "      <td>True</td>\n",
       "      <td>Trying #sarcasm when you're sick &amp;amp; not thi...</td>\n",
       "    </tr>\n",
       "    <tr>\n",
       "      <th>17</th>\n",
       "      <td>98.247803</td>\n",
       "      <td>False</td>\n",
       "      <td>98.247803</td>\n",
       "      <td>False</td>\n",
       "      <td>This is no doubt how it plays out #Sarcasm htt...</td>\n",
       "    </tr>\n",
       "    <tr>\n",
       "      <th>18</th>\n",
       "      <td>95.183549</td>\n",
       "      <td>True</td>\n",
       "      <td>95.200709</td>\n",
       "      <td>True</td>\n",
       "      <td>Got an email from a prince, country needs my h...</td>\n",
       "    </tr>\n",
       "    <tr>\n",
       "      <th>19</th>\n",
       "      <td>97.419969</td>\n",
       "      <td>True</td>\n",
       "      <td>97.423912</td>\n",
       "      <td>True</td>\n",
       "      <td>@MotherJones Price is adding more and more sli...</td>\n",
       "    </tr>\n",
       "    <tr>\n",
       "      <th>20</th>\n",
       "      <td>98.512936</td>\n",
       "      <td>True</td>\n",
       "      <td>98.512936</td>\n",
       "      <td>True</td>\n",
       "      <td>Best life tip I've ever read on internet... I ...</td>\n",
       "    </tr>\n",
       "    <tr>\n",
       "      <th>21</th>\n",
       "      <td>88.834807</td>\n",
       "      <td>True</td>\n",
       "      <td>88.857265</td>\n",
       "      <td>True</td>\n",
       "      <td>@EllenPompeo here in Canada we have stricter r...</td>\n",
       "    </tr>\n",
       "    <tr>\n",
       "      <th>22</th>\n",
       "      <td>61.583487</td>\n",
       "      <td>False</td>\n",
       "      <td>61.458072</td>\n",
       "      <td>False</td>\n",
       "      <td>House Republicans vote to expand gun access fo...</td>\n",
       "    </tr>\n",
       "    <tr>\n",
       "      <th>23</th>\n",
       "      <td>87.537945</td>\n",
       "      <td>True</td>\n",
       "      <td>87.579796</td>\n",
       "      <td>True</td>\n",
       "      <td>@tmillsNC guess this will be #obama fault as w...</td>\n",
       "    </tr>\n",
       "    <tr>\n",
       "      <th>24</th>\n",
       "      <td>76.845318</td>\n",
       "      <td>True</td>\n",
       "      <td>76.845318</td>\n",
       "      <td>True</td>\n",
       "      <td>#Arnold #Trump #Sarcasm What a great response ...</td>\n",
       "    </tr>\n",
       "    <tr>\n",
       "      <th>25</th>\n",
       "      <td>70.603872</td>\n",
       "      <td>True</td>\n",
       "      <td>70.650856</td>\n",
       "      <td>True</td>\n",
       "      <td>@AndrewLawton There is no Private/Public wage ...</td>\n",
       "    </tr>\n",
       "    <tr>\n",
       "      <th>26</th>\n",
       "      <td>74.448785</td>\n",
       "      <td>True</td>\n",
       "      <td>74.448785</td>\n",
       "      <td>True</td>\n",
       "      <td>Amazed that I spent 4 years @wku and didn't he...</td>\n",
       "    </tr>\n",
       "    <tr>\n",
       "      <th>27</th>\n",
       "      <td>99.208292</td>\n",
       "      <td>True</td>\n",
       "      <td>99.210124</td>\n",
       "      <td>True</td>\n",
       "      <td>@PressSec A reporter gets to ask about \"black ...</td>\n",
       "    </tr>\n",
       "    <tr>\n",
       "      <th>28</th>\n",
       "      <td>78.592138</td>\n",
       "      <td>False</td>\n",
       "      <td>78.392525</td>\n",
       "      <td>False</td>\n",
       "      <td>blackjack is a fun game, but the other hand sh...</td>\n",
       "    </tr>\n",
       "    <tr>\n",
       "      <th>29</th>\n",
       "      <td>73.824863</td>\n",
       "      <td>False</td>\n",
       "      <td>73.824863</td>\n",
       "      <td>False</td>\n",
       "      <td>#TrumpBan effect #sarcasm https://t.co/W3LNJ7qBBZ</td>\n",
       "    </tr>\n",
       "    <tr>\n",
       "      <th>30</th>\n",
       "      <td>75.290575</td>\n",
       "      <td>True</td>\n",
       "      <td>75.421262</td>\n",
       "      <td>True</td>\n",
       "      <td>.@realDonaldTrump nice job killing all of thos...</td>\n",
       "    </tr>\n",
       "    <tr>\n",
       "      <th>31</th>\n",
       "      <td>79.267481</td>\n",
       "      <td>False</td>\n",
       "      <td>79.267481</td>\n",
       "      <td>False</td>\n",
       "      <td>@AdamJKovac @eleijon No #sarcasm here?</td>\n",
       "    </tr>\n",
       "    <tr>\n",
       "      <th>32</th>\n",
       "      <td>83.130187</td>\n",
       "      <td>False</td>\n",
       "      <td>83.130187</td>\n",
       "      <td>False</td>\n",
       "      <td>Nothing says \"I love you\" like a gift card. #G...</td>\n",
       "    </tr>\n",
       "    <tr>\n",
       "      <th>33</th>\n",
       "      <td>99.170271</td>\n",
       "      <td>True</td>\n",
       "      <td>99.170271</td>\n",
       "      <td>True</td>\n",
       "      <td>@BraddJaffy @albamonica well that's not too fa...</td>\n",
       "    </tr>\n",
       "    <tr>\n",
       "      <th>34</th>\n",
       "      <td>97.716675</td>\n",
       "      <td>True</td>\n",
       "      <td>97.721787</td>\n",
       "      <td>True</td>\n",
       "      <td>My high school education trumps your extensive...</td>\n",
       "    </tr>\n",
       "    <tr>\n",
       "      <th>35</th>\n",
       "      <td>66.361971</td>\n",
       "      <td>False</td>\n",
       "      <td>66.317150</td>\n",
       "      <td>False</td>\n",
       "      <td>@chorkins it's not like persons with mental il...</td>\n",
       "    </tr>\n",
       "    <tr>\n",
       "      <th>36</th>\n",
       "      <td>99.833137</td>\n",
       "      <td>True</td>\n",
       "      <td>99.833797</td>\n",
       "      <td>True</td>\n",
       "      <td>@KMeinherz @PrisonPlanet Women should be paid ...</td>\n",
       "    </tr>\n",
       "    <tr>\n",
       "      <th>37</th>\n",
       "      <td>88.830810</td>\n",
       "      <td>False</td>\n",
       "      <td>88.830810</td>\n",
       "      <td>False</td>\n",
       "      <td>It's sooo true though! #funny #meme #lol #humo...</td>\n",
       "    </tr>\n",
       "    <tr>\n",
       "      <th>38</th>\n",
       "      <td>98.503308</td>\n",
       "      <td>True</td>\n",
       "      <td>98.508910</td>\n",
       "      <td>True</td>\n",
       "      <td>@betancourtm90 @bsquared82 @OldWomanRiver @SUP...</td>\n",
       "    </tr>\n",
       "    <tr>\n",
       "      <th>39</th>\n",
       "      <td>97.476508</td>\n",
       "      <td>True</td>\n",
       "      <td>97.476508</td>\n",
       "      <td>True</td>\n",
       "      <td>But...I thought only 109 people affected...no?...</td>\n",
       "    </tr>\n",
       "    <tr>\n",
       "      <th>40</th>\n",
       "      <td>96.356081</td>\n",
       "      <td>True</td>\n",
       "      <td>96.356081</td>\n",
       "      <td>True</td>\n",
       "      <td>Typical downtown #Vancouver weather. #sarcasm ...</td>\n",
       "    </tr>\n",
       "    <tr>\n",
       "      <th>41</th>\n",
       "      <td>71.329848</td>\n",
       "      <td>True</td>\n",
       "      <td>71.329848</td>\n",
       "      <td>True</td>\n",
       "      <td>Do terrible things to people or we'll cut your...</td>\n",
       "    </tr>\n",
       "    <tr>\n",
       "      <th>42</th>\n",
       "      <td>97.677550</td>\n",
       "      <td>True</td>\n",
       "      <td>97.677550</td>\n",
       "      <td>True</td>\n",
       "      <td>Not all girls are\\nMade of #sugar\\nAnd #spice\\...</td>\n",
       "    </tr>\n",
       "    <tr>\n",
       "      <th>43</th>\n",
       "      <td>76.894661</td>\n",
       "      <td>True</td>\n",
       "      <td>77.101157</td>\n",
       "      <td>True</td>\n",
       "      <td>Thanks @ABCNetwork... Can't wait for that HUGE...</td>\n",
       "    </tr>\n",
       "    <tr>\n",
       "      <th>44</th>\n",
       "      <td>52.366486</td>\n",
       "      <td>True</td>\n",
       "      <td>52.366486</td>\n",
       "      <td>True</td>\n",
       "      <td>He is a man of action #Sarcasm https://t.co/ma...</td>\n",
       "    </tr>\n",
       "    <tr>\n",
       "      <th>45</th>\n",
       "      <td>67.986436</td>\n",
       "      <td>True</td>\n",
       "      <td>68.697644</td>\n",
       "      <td>True</td>\n",
       "      <td>Awesome... feel so loved right now... #sarcasm</td>\n",
       "    </tr>\n",
       "    <tr>\n",
       "      <th>46</th>\n",
       "      <td>97.099686</td>\n",
       "      <td>True</td>\n",
       "      <td>97.099686</td>\n",
       "      <td>True</td>\n",
       "      <td>Good plan. Throw some domestic violence in the...</td>\n",
       "    </tr>\n",
       "    <tr>\n",
       "      <th>47</th>\n",
       "      <td>53.409326</td>\n",
       "      <td>True</td>\n",
       "      <td>53.762331</td>\n",
       "      <td>True</td>\n",
       "      <td>@GeorgeTakei But we don't want another Bowling...</td>\n",
       "    </tr>\n",
       "    <tr>\n",
       "      <th>48</th>\n",
       "      <td>99.826564</td>\n",
       "      <td>True</td>\n",
       "      <td>99.826564</td>\n",
       "      <td>True</td>\n",
       "      <td>@iamirishdave @ladygaga you forgot the ' #sarc...</td>\n",
       "    </tr>\n",
       "    <tr>\n",
       "      <th>49</th>\n",
       "      <td>62.355288</td>\n",
       "      <td>True</td>\n",
       "      <td>62.355288</td>\n",
       "      <td>True</td>\n",
       "      <td>#lol #funny #comedy #sarcasm RT lifestyIeposts...</td>\n",
       "    </tr>\n",
       "  </tbody>\n",
       "</table>\n",
       "</div>"
      ],
      "text/plain": [
       "      ns_prob  ns_sarcastic     o_prob  o_sarcastic  \\\n",
       "0   94.153289          True  94.280688         True   \n",
       "1   70.501927         False  70.501927        False   \n",
       "2   92.349261         False  92.255461        False   \n",
       "3   84.663902          True  84.663902         True   \n",
       "4   91.256633          True  91.256633         True   \n",
       "5   54.892505         False  53.528123        False   \n",
       "6   94.930410          True  94.930410         True   \n",
       "7   95.694558          True  95.694558         True   \n",
       "8   95.925353         False  95.837830        False   \n",
       "9   59.829001          True  59.829001         True   \n",
       "10  80.897066          True  80.909291         True   \n",
       "11  94.680561         False  94.680561        False   \n",
       "12  98.158009          True  98.158009         True   \n",
       "13  91.170149          True  91.170149         True   \n",
       "14  94.675094          True  94.675094         True   \n",
       "15  84.462561          True  84.462561         True   \n",
       "16  98.737617          True  98.737617         True   \n",
       "17  98.247803         False  98.247803        False   \n",
       "18  95.183549          True  95.200709         True   \n",
       "19  97.419969          True  97.423912         True   \n",
       "20  98.512936          True  98.512936         True   \n",
       "21  88.834807          True  88.857265         True   \n",
       "22  61.583487         False  61.458072        False   \n",
       "23  87.537945          True  87.579796         True   \n",
       "24  76.845318          True  76.845318         True   \n",
       "25  70.603872          True  70.650856         True   \n",
       "26  74.448785          True  74.448785         True   \n",
       "27  99.208292          True  99.210124         True   \n",
       "28  78.592138         False  78.392525        False   \n",
       "29  73.824863         False  73.824863        False   \n",
       "30  75.290575          True  75.421262         True   \n",
       "31  79.267481         False  79.267481        False   \n",
       "32  83.130187         False  83.130187        False   \n",
       "33  99.170271          True  99.170271         True   \n",
       "34  97.716675          True  97.721787         True   \n",
       "35  66.361971         False  66.317150        False   \n",
       "36  99.833137          True  99.833797         True   \n",
       "37  88.830810         False  88.830810        False   \n",
       "38  98.503308          True  98.508910         True   \n",
       "39  97.476508          True  97.476508         True   \n",
       "40  96.356081          True  96.356081         True   \n",
       "41  71.329848          True  71.329848         True   \n",
       "42  97.677550          True  97.677550         True   \n",
       "43  76.894661          True  77.101157         True   \n",
       "44  52.366486          True  52.366486         True   \n",
       "45  67.986436          True  68.697644         True   \n",
       "46  97.099686          True  97.099686         True   \n",
       "47  53.409326          True  53.762331         True   \n",
       "48  99.826564          True  99.826564         True   \n",
       "49  62.355288          True  62.355288         True   \n",
       "\n",
       "                                               o_text  \n",
       "0   @MetalBlonde Come on Karina! What about the #b...  \n",
       "1   Take that Black History month.Make America Whi...  \n",
       "2   Officially in love with M$ Azure #sarcasm #pow...  \n",
       "3   Classy. 🙄🙄🙄 #sarcasm \\nHow's that whole \"uniti...  \n",
       "4   #draintheswamp riiiigggghhhttt. #sarcasm https...  \n",
       "5   @HanselCreative dude totally!!!!\\n\\n.\\n.\\n.\\n....  \n",
       "6   @amritabhinder n one more thing @TarekFatah te...  \n",
       "7   @AJ I look forward to hearing about people goi...  \n",
       "8   @SharonLeavy @labourlewis Where's Corbyn? That...  \n",
       "9   This is my 'I ❤️ Stansted' face #sarcasm #lond...  \n",
       "10  Thanks #Comcast having terrible cable TV so I ...  \n",
       "11  What do you think ?\\n#motivation #women #truth...  \n",
       "12  @tedcruz I'm sure he won't be the same miserab...  \n",
       "13  LOL! #Sarcasm at it's best⚡️ “'This is why Tru...  \n",
       "14  Must be why the employment rate is so good las...  \n",
       "15  I think I might like this place. Does Twitter ...  \n",
       "16  Trying #sarcasm when you're sick &amp; not thi...  \n",
       "17  This is no doubt how it plays out #Sarcasm htt...  \n",
       "18  Got an email from a prince, country needs my h...  \n",
       "19  @MotherJones Price is adding more and more sli...  \n",
       "20  Best life tip I've ever read on internet... I ...  \n",
       "21  @EllenPompeo here in Canada we have stricter r...  \n",
       "22  House Republicans vote to expand gun access fo...  \n",
       "23  @tmillsNC guess this will be #obama fault as w...  \n",
       "24  #Arnold #Trump #Sarcasm What a great response ...  \n",
       "25  @AndrewLawton There is no Private/Public wage ...  \n",
       "26  Amazed that I spent 4 years @wku and didn't he...  \n",
       "27  @PressSec A reporter gets to ask about \"black ...  \n",
       "28  blackjack is a fun game, but the other hand sh...  \n",
       "29  #TrumpBan effect #sarcasm https://t.co/W3LNJ7qBBZ  \n",
       "30  .@realDonaldTrump nice job killing all of thos...  \n",
       "31             @AdamJKovac @eleijon No #sarcasm here?  \n",
       "32  Nothing says \"I love you\" like a gift card. #G...  \n",
       "33  @BraddJaffy @albamonica well that's not too fa...  \n",
       "34  My high school education trumps your extensive...  \n",
       "35  @chorkins it's not like persons with mental il...  \n",
       "36  @KMeinherz @PrisonPlanet Women should be paid ...  \n",
       "37  It's sooo true though! #funny #meme #lol #humo...  \n",
       "38  @betancourtm90 @bsquared82 @OldWomanRiver @SUP...  \n",
       "39  But...I thought only 109 people affected...no?...  \n",
       "40  Typical downtown #Vancouver weather. #sarcasm ...  \n",
       "41  Do terrible things to people or we'll cut your...  \n",
       "42  Not all girls are\\nMade of #sugar\\nAnd #spice\\...  \n",
       "43  Thanks @ABCNetwork... Can't wait for that HUGE...  \n",
       "44  He is a man of action #Sarcasm https://t.co/ma...  \n",
       "45     Awesome... feel so loved right now... #sarcasm  \n",
       "46  Good plan. Throw some domestic violence in the...  \n",
       "47  @GeorgeTakei But we don't want another Bowling...  \n",
       "48  @iamirishdave @ladygaga you forgot the ' #sarc...  \n",
       "49  #lol #funny #comedy #sarcasm RT lifestyIeposts...  "
      ]
     },
     "execution_count": 20,
     "metadata": {},
     "output_type": "execute_result"
    }
   ],
   "source": [
    "sarcastic_df = pd.DataFrame({\"o_text\": [x[\"text\"] for x in sarcastic_tweets[:50]],\n",
    "                             \"o_sarcastic\": pre[\"prediction\"],\n",
    "                             \"o_prob\": [tup[1][1]*100 if tup[0] else tup[1][0]*100 for tup in zip(pre[\"prediction\"], pre[\"prediction_probabilities\"])],\n",
    "                             \"ns_sarcastic\": pre_space_strip[\"prediction\"],\n",
    "                             \"ns_prob\": [tup[1][1]*100 if tup[0] else tup[1][0]*100 for tup in zip(pre_space_strip[\"prediction\"], pre_space_strip[\"prediction_probabilities\"])]})\n",
    "sarcastic_df"
   ]
  },
  {
   "cell_type": "markdown",
   "metadata": {},
   "source": [
    "#### Removing the pre-processing step of calling repr() on the text of every tweet fixed the problems with alternative_clean behaving identically to nlp.cleanTokensTwitter. The revised pipeline of NOT calling repr() and removing trailing whitespace now correctly produces different results from the original pipeline. From the dataframe above we can see the predictions remain the same regardless of which method is used, and the prediction probabilities rarely deviate more than 1%. \n",
    "\n",
    "#### This does NOT mean that using this revised pipeline will result in only small changes. The dataframe above, in combination with the example tweets at the beginning of the notebook where the prediction swung wildly based on the presence of trailing spaces, show that the original classifier very likely relied on the presence/absence of trailing spaces to make its classifications."
   ]
  },
  {
   "cell_type": "markdown",
   "metadata": {},
   "source": [
    "### Re-examining issue\n",
    "\n",
    "### Hypothesis: Predicting on the same strings from the beginning of the notebook will result in similarly wild swings of prediction/prediction probability when using the old nlp.cleanTokensTwitter method. Using alternative_clean which strips white space from the end of tweets will result in more stable predictions."
   ]
  },
  {
   "cell_type": "code",
   "execution_count": 23,
   "metadata": {
    "collapsed": true
   },
   "outputs": [],
   "source": [
    "test_sarcastic_text = [\n",
    "             'Having MS is really easy and fun. #sarcasm',\n",
    "             'Having MS is really easy and fun. ',\n",
    "             'Having MS is really easy and fun.',\n",
    "             'Having MS is really easy and fun',\n",
    "             'The classiest event a bar can throw is a foam party. #Sarcasm',\n",
    "             'The classiest event a bar can throw is a foam party. ',\n",
    "             'The classiest event a bar can throw is a foam party.',\n",
    "             'The classiest event a bar can throw is a foam party',\n",
    "             '@thehill Sure I\\'ll watch North Korean - China - Russian and Iran news all very creditable sources #sarcasm',\n",
    "             '@thehill Sure I\\'ll watch North Korean - China - Russian and Iran news all very creditable sources ',\n",
    "             '@thehill Sure I\\'ll watch North Korean - China - Russian and Iran news all very creditable sources',\n",
    "             '@mikefreemanNFL Because voicing your beliefs if they\\'re political is worse than actual physical abuse #sarcasm #idiots',\n",
    "             '@mikefreemanNFL Because voicing your beliefs if they\\'re political is worse than actual physical abuse  #idiots',\n",
    "             '@mikefreemanNFL Because voicing your beliefs if they\\'re political is worse than actual physical abuse #idiots',\n",
    "             '@mikefreemanNFL Because voicing your beliefs if they\\'re political is worse than actual physical abuse #',\n",
    "             '@mikefreemanNFL Because voicing your beliefs if they\\'re political is worse than actual physical abuse ',\n",
    "             '@mikefreemanNFL Because voicing your beliefs if they\\'re political is worse than actual physical abuse',\n",
    "             '@mikefreemanNFL Because voicing your beliefs if they\\'re political is worse than actual physical abuse.',\n",
    "    \n",
    "]"
   ]
  },
  {
   "cell_type": "code",
   "execution_count": 22,
   "metadata": {
    "collapsed": false
   },
   "outputs": [
    {
     "name": "stdout",
     "output_type": "stream",
     "text": [
      "Having MS is really easy and fun. #sarcasm\n",
      "\tSarcastic\n",
      "\t97.7633947628%\n",
      "\n",
      "Having MS is really easy and fun. \n",
      "\tSarcastic\n",
      "\t97.7633947628%\n",
      "\n",
      "Having MS is really easy and fun.\n",
      "\tSarcastic\n",
      "\t97.7483006504%\n",
      "\n",
      "Having MS is really easy and fun\n",
      "\tSarcastic\n",
      "\t76.0116313602%\n",
      "\n",
      "The classiest event a bar can throw is a foam party. #Sarcasm\n",
      "\tSarcastic\n",
      "\t65.2400088794%\n",
      "\n",
      "The classiest event a bar can throw is a foam party. \n",
      "\tSarcastic\n",
      "\t65.2400088794%\n",
      "\n",
      "The classiest event a bar can throw is a foam party.\n",
      "\tSarcastic\n",
      "\t65.1879805414%\n",
      "\n",
      "The classiest event a bar can throw is a foam party\n",
      "\tNon-sarcastic\n",
      "\t96.5156663706%\n",
      "\n",
      "@thehill Sure I'll watch North Korean - China - Russian and Iran news all very creditable sources #sarcasm\n",
      "\tNon-sarcastic\n",
      "\t94.9862370198%\n",
      "\n",
      "@thehill Sure I'll watch North Korean - China - Russian and Iran news all very creditable sources \n",
      "\tNon-sarcastic\n",
      "\t94.9862370198%\n",
      "\n",
      "@thehill Sure I'll watch North Korean - China - Russian and Iran news all very creditable sources\n",
      "\tNon-sarcastic\n",
      "\t94.9989697847%\n",
      "\n",
      "@mikefreemanNFL Because voicing your beliefs if they're political is worse than actual physical abuse #sarcasm #idiots\n",
      "\tNon-sarcastic\n",
      "\t78.324687774%\n",
      "\n",
      "@mikefreemanNFL Because voicing your beliefs if they're political is worse than actual physical abuse  #idiots\n",
      "\tNon-sarcastic\n",
      "\t78.324687774%\n",
      "\n",
      "@mikefreemanNFL Because voicing your beliefs if they're political is worse than actual physical abuse #idiots\n",
      "\tNon-sarcastic\n",
      "\t78.3457770188%\n",
      "\n",
      "@mikefreemanNFL Because voicing your beliefs if they're political is worse than actual physical abuse #\n",
      "\tNon-sarcastic\n",
      "\t58.8142952038%\n",
      "\n",
      "@mikefreemanNFL Because voicing your beliefs if they're political is worse than actual physical abuse \n",
      "\tNon-sarcastic\n",
      "\t78.3457770188%\n",
      "\n",
      "@mikefreemanNFL Because voicing your beliefs if they're political is worse than actual physical abuse\n",
      "\tNon-sarcastic\n",
      "\t78.3879111487%\n",
      "\n",
      "@mikefreemanNFL Because voicing your beliefs if they're political is worse than actual physical abuse.\n",
      "\tSarcastic\n",
      "\t60.0085874141%\n",
      "\n"
     ]
    }
   ],
   "source": [
    "test_and_print(test_sarcastic_text, classifier, dvp)"
   ]
  },
  {
   "cell_type": "code",
   "execution_count": 25,
   "metadata": {
    "collapsed": false
   },
   "outputs": [
    {
     "name": "stdout",
     "output_type": "stream",
     "text": [
      "Having MS is really easy and fun. #sarcasm\n",
      "\tSarcastic\n",
      "\t97.7483006504%\n",
      "\n",
      "Having MS is really easy and fun. \n",
      "\tSarcastic\n",
      "\t97.7483006504%\n",
      "\n",
      "Having MS is really easy and fun.\n",
      "\tSarcastic\n",
      "\t97.7483006504%\n",
      "\n",
      "Having MS is really easy and fun\n",
      "\tSarcastic\n",
      "\t76.0116313602%\n",
      "\n",
      "The classiest event a bar can throw is a foam party. #Sarcasm\n",
      "\tSarcastic\n",
      "\t65.1879805414%\n",
      "\n",
      "The classiest event a bar can throw is a foam party. \n",
      "\tSarcastic\n",
      "\t65.1879805414%\n",
      "\n",
      "The classiest event a bar can throw is a foam party.\n",
      "\tSarcastic\n",
      "\t65.1879805414%\n",
      "\n",
      "The classiest event a bar can throw is a foam party\n",
      "\tNon-sarcastic\n",
      "\t96.5156663706%\n",
      "\n",
      "@thehill Sure I'll watch North Korean - China - Russian and Iran news all very creditable sources #sarcasm\n",
      "\tNon-sarcastic\n",
      "\t94.9989697847%\n",
      "\n",
      "@thehill Sure I'll watch North Korean - China - Russian and Iran news all very creditable sources \n",
      "\tNon-sarcastic\n",
      "\t94.9989697847%\n",
      "\n",
      "@thehill Sure I'll watch North Korean - China - Russian and Iran news all very creditable sources\n",
      "\tNon-sarcastic\n",
      "\t94.9989697847%\n",
      "\n",
      "@mikefreemanNFL Because voicing your beliefs if they're political is worse than actual physical abuse #sarcasm #idiots\n",
      "\tNon-sarcastic\n",
      "\t78.3879111487%\n",
      "\n",
      "@mikefreemanNFL Because voicing your beliefs if they're political is worse than actual physical abuse  #idiots\n",
      "\tNon-sarcastic\n",
      "\t78.3879111487%\n",
      "\n",
      "@mikefreemanNFL Because voicing your beliefs if they're political is worse than actual physical abuse #idiots\n",
      "\tNon-sarcastic\n",
      "\t78.3879111487%\n",
      "\n",
      "@mikefreemanNFL Because voicing your beliefs if they're political is worse than actual physical abuse #\n",
      "\tNon-sarcastic\n",
      "\t58.8142952038%\n",
      "\n",
      "@mikefreemanNFL Because voicing your beliefs if they're political is worse than actual physical abuse \n",
      "\tNon-sarcastic\n",
      "\t78.3879111487%\n",
      "\n",
      "@mikefreemanNFL Because voicing your beliefs if they're political is worse than actual physical abuse\n",
      "\tNon-sarcastic\n",
      "\t78.3879111487%\n",
      "\n",
      "@mikefreemanNFL Because voicing your beliefs if they're political is worse than actual physical abuse.\n",
      "\tSarcastic\n",
      "\t60.0085874141%\n",
      "\n"
     ]
    }
   ],
   "source": [
    "alt_test_and_print(test_sarcastic_text, classifier, dvp)"
   ]
  },
  {
   "cell_type": "code",
   "execution_count": 26,
   "metadata": {
    "collapsed": true
   },
   "outputs": [],
   "source": [
    "test_serious_text = [\n",
    "    'Marsch listed Aurelien Collin & Connor Lade as \"day-to-day.\" Keita got a slight knock, didn\\'t train today w/ #RBNY.',\n",
    "    'Marsch listed Aurelien Collin & Connor Lade as \"day-to-day.\" Keita got a slight knock, didn\\'t train today w/ #RBNY. #sarcasm',\n",
    "    'Marsch listed Aurelien Collin & Connor Lade as \"day-to-day.\" Keita got a slight knock, didn\\'t train today w/ #RBNY. ',\n",
    "    'How many retweets to give the Lakers the number 1 pick? @NBA',\n",
    "    'How many retweets to give the Lakers the number 1 pick? @NBA #sarcasm',\n",
    "    'How many retweets to give the Lakers the number 1 pick? @NBA ',\n",
    "    'Never thought that clunkiness/cost of microscope might be holding back public health https://t.co/TQQcvBheDf so $1 microscope exciting!',\n",
    "    'Never thought that clunkiness/cost of microscope might be holding back public health https://t.co/TQQcvBheDf so $1 microscope exciting! #sarcasm',\n",
    "    'Never thought that clunkiness/cost of microscope might be holding back public health https://t.co/TQQcvBheDf so $1 microscope exciting! ',\n",
    "    '@SwiftOnSecurity They sponsor literally every podcast ever, followed by Crunchyroll.',\n",
    "    '@SwiftOnSecurity They sponsor literally every podcast ever, followed by Crunchyroll. #sarcasm',\n",
    "    '@SwiftOnSecurity They sponsor literally every podcast ever, followed by Crunchyroll. ',\n",
    "]"
   ]
  },
  {
   "cell_type": "code",
   "execution_count": 27,
   "metadata": {
    "collapsed": false
   },
   "outputs": [
    {
     "name": "stdout",
     "output_type": "stream",
     "text": [
      "Marsch listed Aurelien Collin & Connor Lade as \"day-to-day.\" Keita got a slight knock, didn't train today w/ #RBNY.\n",
      "\tNon-sarcastic\n",
      "\t99.5243137495%\n",
      "\n",
      "Marsch listed Aurelien Collin & Connor Lade as \"day-to-day.\" Keita got a slight knock, didn't train today w/ #RBNY. #sarcasm\n",
      "\tNon-sarcastic\n",
      "\t99.5212005566%\n",
      "\n",
      "Marsch listed Aurelien Collin & Connor Lade as \"day-to-day.\" Keita got a slight knock, didn't train today w/ #RBNY. \n",
      "\tNon-sarcastic\n",
      "\t99.5212005566%\n",
      "\n",
      "How many retweets to give the Lakers the number 1 pick? @NBA\n",
      "\tNon-sarcastic\n",
      "\t75.5746950757%\n",
      "\n",
      "How many retweets to give the Lakers the number 1 pick? @NBA #sarcasm\n",
      "\tNon-sarcastic\n",
      "\t75.5321183463%\n",
      "\n",
      "How many retweets to give the Lakers the number 1 pick? @NBA \n",
      "\tNon-sarcastic\n",
      "\t75.5321183463%\n",
      "\n",
      "Never thought that clunkiness/cost of microscope might be holding back public health https://t.co/TQQcvBheDf so $1 microscope exciting!\n",
      "\tNon-sarcastic\n",
      "\t93.2234507183%\n",
      "\n",
      "Never thought that clunkiness/cost of microscope might be holding back public health https://t.co/TQQcvBheDf so $1 microscope exciting! #sarcasm\n",
      "\tNon-sarcastic\n",
      "\t93.2138122177%\n",
      "\n",
      "Never thought that clunkiness/cost of microscope might be holding back public health https://t.co/TQQcvBheDf so $1 microscope exciting! \n",
      "\tNon-sarcastic\n",
      "\t93.2138122177%\n",
      "\n",
      "@SwiftOnSecurity They sponsor literally every podcast ever, followed by Crunchyroll.\n",
      "\tNon-sarcastic\n",
      "\t89.7940501088%\n",
      "\n",
      "@SwiftOnSecurity They sponsor literally every podcast ever, followed by Crunchyroll. #sarcasm\n",
      "\tNon-sarcastic\n",
      "\t89.7669695413%\n",
      "\n",
      "@SwiftOnSecurity They sponsor literally every podcast ever, followed by Crunchyroll. \n",
      "\tNon-sarcastic\n",
      "\t89.7669695413%\n",
      "\n"
     ]
    }
   ],
   "source": [
    "test_and_print(test_serious_text, classifier, dvp)"
   ]
  },
  {
   "cell_type": "code",
   "execution_count": 28,
   "metadata": {
    "collapsed": false
   },
   "outputs": [
    {
     "name": "stdout",
     "output_type": "stream",
     "text": [
      "Marsch listed Aurelien Collin & Connor Lade as \"day-to-day.\" Keita got a slight knock, didn't train today w/ #RBNY.\n",
      "\tNon-sarcastic\n",
      "\t99.5243137495%\n",
      "\n",
      "Marsch listed Aurelien Collin & Connor Lade as \"day-to-day.\" Keita got a slight knock, didn't train today w/ #RBNY. #sarcasm\n",
      "\tNon-sarcastic\n",
      "\t99.5243137495%\n",
      "\n",
      "Marsch listed Aurelien Collin & Connor Lade as \"day-to-day.\" Keita got a slight knock, didn't train today w/ #RBNY. \n",
      "\tNon-sarcastic\n",
      "\t99.5243137495%\n",
      "\n",
      "How many retweets to give the Lakers the number 1 pick? @NBA\n",
      "\tNon-sarcastic\n",
      "\t75.5746950757%\n",
      "\n",
      "How many retweets to give the Lakers the number 1 pick? @NBA #sarcasm\n",
      "\tNon-sarcastic\n",
      "\t75.5746950757%\n",
      "\n",
      "How many retweets to give the Lakers the number 1 pick? @NBA \n",
      "\tNon-sarcastic\n",
      "\t75.5746950757%\n",
      "\n",
      "Never thought that clunkiness/cost of microscope might be holding back public health https://t.co/TQQcvBheDf so $1 microscope exciting!\n",
      "\tNon-sarcastic\n",
      "\t93.2234507183%\n",
      "\n",
      "Never thought that clunkiness/cost of microscope might be holding back public health https://t.co/TQQcvBheDf so $1 microscope exciting! #sarcasm\n",
      "\tNon-sarcastic\n",
      "\t93.2234507183%\n",
      "\n",
      "Never thought that clunkiness/cost of microscope might be holding back public health https://t.co/TQQcvBheDf so $1 microscope exciting! \n",
      "\tNon-sarcastic\n",
      "\t93.2234507183%\n",
      "\n",
      "@SwiftOnSecurity They sponsor literally every podcast ever, followed by Crunchyroll.\n",
      "\tNon-sarcastic\n",
      "\t89.7940501088%\n",
      "\n",
      "@SwiftOnSecurity They sponsor literally every podcast ever, followed by Crunchyroll. #sarcasm\n",
      "\tNon-sarcastic\n",
      "\t89.7940501088%\n",
      "\n",
      "@SwiftOnSecurity They sponsor literally every podcast ever, followed by Crunchyroll. \n",
      "\tNon-sarcastic\n",
      "\t89.7940501088%\n",
      "\n"
     ]
    }
   ],
   "source": [
    "alt_test_and_print(test_serious_text, classifier, dvp)"
   ]
  },
  {
   "cell_type": "markdown",
   "metadata": {},
   "source": [
    "#### The hypothesis seems to be incorrect. The wild swings in prediction/prediction probability produced by either keeping or removing the dangling space from the end of sarcastic tweets are not present regardless of which cleaning method is used. Across all tweets, the difference between using alternative_clean vs.  nlp.cleanTokensTwitter is negligible. This means that repr() was the main culprit behind the wild swings seen in the beginning of the notebook. It also means that the classifier was heavily relying on the influence repr() had on the features of a tweet to make a classification.\n",
    "\n",
    "#### Another thing to note is the effect of the tweet ending with a period (.) Regardless of the cleaning method, the presence of a trailing period results in a significantly higher swing in prediction probabilty towards sarcastic. In some cases its removal was enough to swing the prediction entirely from sarcastic to serious. It's hard to tell whether or not this is an artifact from training the classifier on tweets where repr() was called as the first step in the pre-processing pipeline. It's possible that the quotes added by repr() altered the tokens at the end of a tweet and resulted in heavily weighting features that appeared near the end of tweets like periods and question marks."
   ]
  },
  {
   "cell_type": "markdown",
   "metadata": {},
   "source": [
    "# Investigating the effect of repr() on tokens"
   ]
  },
  {
   "cell_type": "markdown",
   "metadata": {},
   "source": [
    "Using repr(text) as the first step in the feature processing pipeline for a tweet caused the addition of quotation marks at the beginning and end of each tweet"
   ]
  },
  {
   "cell_type": "code",
   "execution_count": 29,
   "metadata": {
    "collapsed": false
   },
   "outputs": [
    {
     "data": {
      "text/plain": [
       "\"'Example tweet. #sarcasm'\""
      ]
     },
     "execution_count": 29,
     "metadata": {},
     "output_type": "execute_result"
    }
   ],
   "source": [
    "repr(\"Example tweet. #sarcasm\")"
   ]
  },
  {
   "cell_type": "code",
   "execution_count": 30,
   "metadata": {
    "collapsed": false
   },
   "outputs": [
    {
     "data": {
      "text/plain": [
       "\"'Example tweet.'\""
      ]
     },
     "execution_count": 30,
     "metadata": {},
     "output_type": "execute_result"
    }
   ],
   "source": [
    "repr(\"Example tweet.\")"
   ]
  },
  {
   "cell_type": "code",
   "execution_count": 33,
   "metadata": {
    "collapsed": false
   },
   "outputs": [
    {
     "name": "stdout",
     "output_type": "stream",
     "text": [
      "([\"'Example\", 'tweet.', \"'\"], \"'Example tweet. '\")\n",
      "(['Example', 'tweet', '.'], 'Example tweet. ')\n"
     ]
    }
   ],
   "source": [
    "print(nlp.cleanTokensTwitter(repr(\"Example tweet. #sarcasm\")))\n",
    "print(nlp.cleanTokensTwitter(\"Example tweet. #sarcasm\"))"
   ]
  },
  {
   "cell_type": "code",
   "execution_count": 34,
   "metadata": {
    "collapsed": false
   },
   "outputs": [
    {
     "name": "stdout",
     "output_type": "stream",
     "text": [
      "([\"'Example\", 'tweet.', \"'\"], \"'Example tweet. '\")\n",
      "(['Example', 'tweet', '.'], 'Example tweet. ')\n"
     ]
    }
   ],
   "source": [
    "print(nlp.cleanTokensTwitter(repr(\"Example tweet. \")))\n",
    "print(nlp.cleanTokensTwitter(\"Example tweet. \"))"
   ]
  },
  {
   "cell_type": "code",
   "execution_count": 35,
   "metadata": {
    "collapsed": false
   },
   "outputs": [
    {
     "name": "stdout",
     "output_type": "stream",
     "text": [
      "([\"'Example\", 'tweet', '.', \"'\"], \"'Example tweet.'\")\n",
      "(['Example', 'tweet', '.'], 'Example tweet.')\n"
     ]
    }
   ],
   "source": [
    "print(nlp.cleanTokensTwitter(repr(\"Example tweet.\")))\n",
    "print(nlp.cleanTokensTwitter(\"Example tweet.\"))"
   ]
  },
  {
   "cell_type": "code",
   "execution_count": 36,
   "metadata": {
    "collapsed": false
   },
   "outputs": [
    {
     "name": "stdout",
     "output_type": "stream",
     "text": [
      "([\"'Example\", 'tweet', \"'\"], \"'Example tweet '\")\n",
      "(['Example', 'tweet'], 'Example tweet ')\n"
     ]
    }
   ],
   "source": [
    "print(nlp.cleanTokensTwitter(repr(\"Example tweet #sarcasm\")))\n",
    "print(nlp.cleanTokensTwitter(\"Example tweet #sarcasm\"))"
   ]
  },
  {
   "cell_type": "code",
   "execution_count": 37,
   "metadata": {
    "collapsed": false
   },
   "outputs": [
    {
     "name": "stdout",
     "output_type": "stream",
     "text": [
      "([\"'Example\", 'tweet', \"'\"], \"'Example tweet '\")\n",
      "(['Example', 'tweet'], 'Example tweet ')\n"
     ]
    }
   ],
   "source": [
    "print(nlp.cleanTokensTwitter(repr(\"Example tweet \")))\n",
    "print(nlp.cleanTokensTwitter(\"Example tweet \"))"
   ]
  },
  {
   "cell_type": "code",
   "execution_count": 38,
   "metadata": {
    "collapsed": false
   },
   "outputs": [
    {
     "name": "stdout",
     "output_type": "stream",
     "text": [
      "([\"'Example\", 'tweet', \"'\"], \"'Example tweet'\")\n",
      "(['Example', 'tweet'], 'Example tweet')\n"
     ]
    }
   ],
   "source": [
    "print(nlp.cleanTokensTwitter(repr(\"Example tweet\")))\n",
    "print(nlp.cleanTokensTwitter(\"Example tweet\"))"
   ]
  },
  {
   "cell_type": "markdown",
   "metadata": {},
   "source": [
    "### How did this drastically affect the classifier?"
   ]
  },
  {
   "cell_type": "markdown",
   "metadata": {
    "collapsed": false
   },
   "source": [
    "#### For all features EXCEPT punctuation, the tokens of the tweet were used. In all cases, repr(text) replaced text as the first step in the feature processing pipeline"
   ]
  },
  {
   "cell_type": "code",
   "execution_count": 16,
   "metadata": {
    "collapsed": false
   },
   "outputs": [
    {
     "name": "stdout",
     "output_type": "stream",
     "text": [
      "Having MS is really easy and fun. #sarcasm\n",
      "\tSarcastic\n",
      "\t95.5382460923%\n",
      "\n",
      "Having MS is really easy and fun. \n",
      "\tSarcastic\n",
      "\t95.5382460923%\n",
      "\n",
      "Having MS is really easy and fun.\n",
      "\tSerious\n",
      "\t92.9694146335%\n",
      "\n",
      "Having MS is really easy and fun #sarcasm\n",
      "\tSarcastic\n",
      "\t68.8796539155%\n",
      "\n",
      "Having MS is really easy and fun \n",
      "\tSarcastic\n",
      "\t68.8796539155%\n",
      "\n",
      "Having MS is really easy and fun\n",
      "\tSarcastic\n",
      "\t68.4250281747%\n",
      "\n",
      "([\"'Having\", 'MS', 'is', 'really', 'easy', 'and', 'fun.', \"'\"], \"'Having MS is really easy and fun. '\")\n",
      "([\"'Having\", 'MS', 'is', 'really', 'easy', 'and', 'fun.', \"'\"], \"'Having MS is really easy and fun. '\")\n",
      "([\"'Having\", 'MS', 'is', 'really', 'easy', 'and', 'fun', '.', \"'\"], \"'Having MS is really easy and fun.'\")\n",
      "([\"'Having\", 'MS', 'is', 'really', 'easy', 'and', 'fun', \"'\"], \"'Having MS is really easy and fun '\")\n",
      "([\"'Having\", 'MS', 'is', 'really', 'easy', 'and', 'fun', \"'\"], \"'Having MS is really easy and fun '\")\n",
      "([\"'Having\", 'MS', 'is', 'really', 'easy', 'and', 'fun', \"'\"], \"'Having MS is really easy and fun'\")\n"
     ]
    }
   ],
   "source": [
    "test_and_print(\n",
    "    ['Having MS is really easy and fun. #sarcasm',\n",
    "     'Having MS is really easy and fun. ',\n",
    "     'Having MS is really easy and fun.',\n",
    "     'Having MS is really easy and fun #sarcasm',\n",
    "     'Having MS is really easy and fun ',\n",
    "     'Having MS is really easy and fun',\n",
    "    ],\n",
    "    classifier,\n",
    "    dvp\n",
    ")\n",
    "\n",
    "print(nlp.cleanTokensTwitter(repr('Having MS is really easy and fun. #sarcasm')))\n",
    "print(nlp.cleanTokensTwitter(repr('Having MS is really easy and fun. ')))\n",
    "print(nlp.cleanTokensTwitter(repr('Having MS is really easy and fun.')))\n",
    "print(nlp.cleanTokensTwitter(repr('Having MS is really easy and fun #sarcasm')))\n",
    "print(nlp.cleanTokensTwitter(repr('Having MS is really easy and fun ')))\n",
    "print(nlp.cleanTokensTwitter(repr('Having MS is really easy and fun')))"
   ]
  },
  {
   "cell_type": "markdown",
   "metadata": {},
   "source": [
    "#### N-grams are affected by calling repr(). The first word in a tweet is matched to the n-gram 'word instead of word\n",
    "\n",
    "#### In cases where a dangling space occurs at the end of the tweet, such as when the tweet ends with a hashtag, the last word is matched to the n-gram \"word.\" instead of \"word\"\n",
    "\n",
    "#### When no dangling space exists, the period character appears as its own n-gram. Because the vast majority of sarcastic tweets in our dataset ended with #sarcastic (and a dangling space when removed in pre-processing), it is likely that the classifier relied heavily on the period unigram and period-close quote bigram being present in serious tweets and not appearing in sarcastic tweets."
   ]
  },
  {
   "cell_type": "markdown",
   "metadata": {},
   "source": [
    "#### Confirming by looking at most influential features"
   ]
  },
  {
   "cell_type": "code",
   "execution_count": 23,
   "metadata": {
    "collapsed": false
   },
   "outputs": [
    {
     "data": {
      "text/plain": [
       "[('Serious', 'TOTAL/LENGTH', -7.2950022873247136),\n",
       " ('Serious', \"'_RAW/LEN\", -5.1315491326820348),\n",
       " ('Serious', \"grm2 . '\", -2.0140869680084821)]"
      ]
     },
     "execution_count": 23,
     "metadata": {},
     "output_type": "execute_result"
    }
   ],
   "source": [
    "ml.top_n_features(classifier, dvp, False, \"Sarcastic\", \"Serious\", n=3)"
   ]
  },
  {
   "cell_type": "markdown",
   "metadata": {},
   "source": [
    "#### All three of the most informative features indicating a serious tweet have to do with punctuation which was altered by using repr(). The bigram period close-quote also appears as expected as a feature weighted heavily for classifying tweets as serious."
   ]
  },
  {
   "cell_type": "markdown",
   "metadata": {},
   "source": [
    "# Testing V2 classifier"
   ]
  },
  {
   "cell_type": "markdown",
   "metadata": {},
   "source": [
    "#### For v2 the same twitter dataset was used for training and testing. The sole difference between v1 and v2 is that for the v2 classifier, the pre-processing step of calling repr() was removed, and trailing white space was stripped from all tweets. "
   ]
  },
  {
   "cell_type": "code",
   "execution_count": 6,
   "metadata": {
    "collapsed": false
   },
   "outputs": [],
   "source": [
    "dvp_v2 = pickle.load(open(pickle_path + 'v2-twitter-dvp.pickle', 'rb'))\n",
    "classifier_v2_results = pickle.load(open(pickle_path + 'v2-twitter-trained-log-unbalanced.pickle', 'rb'))\n",
    "best_classifier_v2 = ml.best_classifiers([classifier_v2_results], [\"LOG_unbalanced\"], dvp_v2)"
   ]
  },
  {
   "cell_type": "code",
   "execution_count": 7,
   "metadata": {
    "collapsed": false
   },
   "outputs": [],
   "source": [
    "classifier_v2 = best_classifier_v2[\"LOG_unbalanced\"][\"classifier\"]\n",
    "dvp_v2 = best_classifier_v2[\"LOG_unbalanced\"][\"dvp\"]"
   ]
  },
  {
   "cell_type": "code",
   "execution_count": 12,
   "metadata": {
    "collapsed": false
   },
   "outputs": [
    {
     "name": "stdout",
     "output_type": "stream",
     "text": [
      "Having MS is really easy and fun. #sarcasm\n",
      "\tSarcastic\n",
      "\t81.9169344669%\n",
      "\n",
      "Having MS is really easy and fun. \n",
      "\tSarcastic\n",
      "\t81.9169344669%\n",
      "\n",
      "Having MS is really easy and fun.\n",
      "\tSarcastic\n",
      "\t81.9169344669%\n",
      "\n",
      "Having MS is really easy and fun #sarcasm\n",
      "\tSarcastic\n",
      "\t98.4449320038%\n",
      "\n",
      "Having MS is really easy and fun \n",
      "\tSarcastic\n",
      "\t98.4449320038%\n",
      "\n",
      "Having MS is really easy and fun\n",
      "\tSarcastic\n",
      "\t98.4449320038%\n",
      "\n",
      "(['Having', 'MS', 'is', 'really', 'easy', 'and', 'fun', '.'], 'Having MS is really easy and fun.')\n",
      "(['Having', 'MS', 'is', 'really', 'easy', 'and', 'fun', '.'], 'Having MS is really easy and fun.')\n",
      "(['Having', 'MS', 'is', 'really', 'easy', 'and', 'fun', '.'], 'Having MS is really easy and fun.')\n",
      "(['Having', 'MS', 'is', 'really', 'easy', 'and', 'fun'], 'Having MS is really easy and fun')\n",
      "(['Having', 'MS', 'is', 'really', 'easy', 'and', 'fun'], 'Having MS is really easy and fun')\n",
      "(['Having', 'MS', 'is', 'really', 'easy', 'and', 'fun'], 'Having MS is really easy and fun')\n"
     ]
    }
   ],
   "source": [
    "test_and_print(\n",
    "    ['Having MS is really easy and fun. #sarcasm',\n",
    "     'Having MS is really easy and fun. ',\n",
    "     'Having MS is really easy and fun.',\n",
    "     'Having MS is really easy and fun #sarcasm',\n",
    "     'Having MS is really easy and fun ',\n",
    "     'Having MS is really easy and fun',\n",
    "    ],\n",
    "    classifier_v2,\n",
    "    dvp_v2\n",
    ")\n",
    "\n",
    "print(nlp.cleanTokensTwitter('Having MS is really easy and fun. #sarcasm'))\n",
    "print(nlp.cleanTokensTwitter('Having MS is really easy and fun. '))\n",
    "print(nlp.cleanTokensTwitter('Having MS is really easy and fun.'))\n",
    "print(nlp.cleanTokensTwitter('Having MS is really easy and fun #sarcasm'))\n",
    "print(nlp.cleanTokensTwitter('Having MS is really easy and fun '))\n",
    "print(nlp.cleanTokensTwitter('Having MS is really easy and fun'))"
   ]
  },
  {
   "cell_type": "code",
   "execution_count": 15,
   "metadata": {
    "collapsed": false,
    "scrolled": false
   },
   "outputs": [
    {
     "name": "stdout",
     "output_type": "stream",
     "text": [
      "Having MS is really easy and fun. #sarcasm\n",
      "\tSarcastic\n",
      "\t81.9169344669%\n",
      "\n",
      "Having MS is really easy and fun. \n",
      "\tSarcastic\n",
      "\t81.9169344669%\n",
      "\n",
      "Having MS is really easy and fun.\n",
      "\tSarcastic\n",
      "\t81.9169344669%\n",
      "\n",
      "Having MS is really easy and fun\n",
      "\tSarcastic\n",
      "\t98.4449320038%\n",
      "\n",
      "The classiest event a bar can throw is a foam party. #Sarcasm\n",
      "\tSarcastic\n",
      "\t99.9983285883%\n",
      "\n",
      "The classiest event a bar can throw is a foam party. \n",
      "\tSarcastic\n",
      "\t99.9983285883%\n",
      "\n",
      "The classiest event a bar can throw is a foam party.\n",
      "\tSarcastic\n",
      "\t99.9983285883%\n",
      "\n",
      "The classiest event a bar can throw is a foam party\n",
      "\tSarcastic\n",
      "\t99.9999530524%\n",
      "\n",
      "@thehill Sure I'll watch North Korean - China - Russian and Iran news all very creditable sources #sarcasm\n",
      "\tSarcastic\n",
      "\t99.9990420016%\n",
      "\n",
      "@thehill Sure I'll watch North Korean - China - Russian and Iran news all very creditable sources \n",
      "\tSarcastic\n",
      "\t99.9990420016%\n",
      "\n",
      "@thehill Sure I'll watch North Korean - China - Russian and Iran news all very creditable sources\n",
      "\tSarcastic\n",
      "\t99.9990420016%\n",
      "\n",
      "@mikefreemanNFL Because voicing your beliefs if they're political is worse than actual physical abuse #sarcasm #idiots\n",
      "\tSarcastic\n",
      "\t99.9998157397%\n",
      "\n",
      "@mikefreemanNFL Because voicing your beliefs if they're political is worse than actual physical abuse  #idiots\n",
      "\tSarcastic\n",
      "\t99.9998157397%\n",
      "\n",
      "@mikefreemanNFL Because voicing your beliefs if they're political is worse than actual physical abuse #idiots\n",
      "\tSarcastic\n",
      "\t99.9998157397%\n",
      "\n",
      "@mikefreemanNFL Because voicing your beliefs if they're political is worse than actual physical abuse #\n",
      "\tSarcastic\n",
      "\t99.9994964509%\n",
      "\n",
      "@mikefreemanNFL Because voicing your beliefs if they're political is worse than actual physical abuse \n",
      "\tSarcastic\n",
      "\t99.9998157397%\n",
      "\n",
      "@mikefreemanNFL Because voicing your beliefs if they're political is worse than actual physical abuse\n",
      "\tSarcastic\n",
      "\t99.9998157397%\n",
      "\n",
      "@mikefreemanNFL Because voicing your beliefs if they're political is worse than actual physical abuse.\n",
      "\tSarcastic\n",
      "\t99.9976770979%\n",
      "\n"
     ]
    }
   ],
   "source": [
    "test_and_print(test_sarcastic_text, classifier_v2, dvp_v2)"
   ]
  },
  {
   "cell_type": "markdown",
   "metadata": {},
   "source": [
    "# Conclusion"
   ]
  },
  {
   "cell_type": "markdown",
   "metadata": {},
   "source": [
    "The use of repr() had a significant impact on the classifier and made it appear to be extremely accurate, when in reality the classifier was heavily relying on programming artifacts resulting from the combination of calling repr() on tweet texts and tokenizing that output.\n",
    "\n",
    "Looking at the results of classification using the v2 classifier, we can see that classification and prediction probability are completely unaffected by trailing spaces. While tweets ending in periods versus the same exact tweet ending without a period may differ slightly in their prediction probability, the swing is not as dramatic as in V1 and most importantly doesn't rely on a programming artifact to reach that conclusion. One possible explanation is that in our twitter dataset there are simply more serious tweets ending with a period than sarcastic tweets ending with a period. Another possible explanation is that the choice of ending a tweet with a period versus omitting it is actually informative when determining whether the user who tweeted it was being sarcastic or not.  "
   ]
  },
  {
   "cell_type": "code",
   "execution_count": null,
   "metadata": {
    "collapsed": true
   },
   "outputs": [],
   "source": []
  }
 ],
 "metadata": {
  "anaconda-cloud": {},
  "kernelspec": {
   "display_name": "Python [conda env:senior-design]",
   "language": "python",
   "name": "conda-env-senior-design-py"
  },
  "language_info": {
   "codemirror_mode": {
    "name": "ipython",
    "version": 3
   },
   "file_extension": ".py",
   "mimetype": "text/x-python",
   "name": "python",
   "nbconvert_exporter": "python",
   "pygments_lexer": "ipython3",
   "version": "3.5.2"
  }
 },
 "nbformat": 4,
 "nbformat_minor": 1
}
