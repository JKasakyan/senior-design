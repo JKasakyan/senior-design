{
 "cells": [
  {
   "cell_type": "markdown",
   "metadata": {},
   "source": [
    "## Investigating swings in classification produced by removing #sarcasm and keeping/removing the blank space it creates"
   ]
  },
  {
   "cell_type": "code",
   "execution_count": 1,
   "metadata": {
    "collapsed": false
   },
   "outputs": [
    {
     "name": "stderr",
     "output_type": "stream",
     "text": [
      "/Users/James/anaconda/envs/senior-design/lib/python3.5/site-packages/nltk/twitter/__init__.py:20: UserWarning: The twython library has not been installed. Some functionality from the twitter package will not be available.\n",
      "  warnings.warn(\"The twython library has not been installed. \"\n"
     ]
    }
   ],
   "source": [
    "import ml\n",
    "import nlp\n",
    "import pickle\n",
    "import re\n",
    "from re import sub\n",
    "from nltk.tokenize.casual import _replace_html_entities\n",
    "from nltk import word_tokenize"
   ]
  },
  {
   "cell_type": "code",
   "execution_count": 2,
   "metadata": {
    "collapsed": true
   },
   "outputs": [],
   "source": [
    "pickle_path = 'pickled/'"
   ]
  },
  {
   "cell_type": "markdown",
   "metadata": {},
   "source": [
    "### Importing best classifier (logistic regression cross-validated on 80% of data)"
   ]
  },
  {
   "cell_type": "code",
   "execution_count": 2,
   "metadata": {
    "collapsed": true
   },
   "outputs": [],
   "source": [
    "results = pickle.load(open('-twitter-trained-log87.pickle', 'rb'))\n",
    "classifier = results[0][2][1][0] # best logistic\n",
    "dvp = pickle.load(open('-twitter-dvp87.pickle', 'rb'))"
   ]
  },
  {
   "cell_type": "markdown",
   "metadata": {},
   "source": [
    "### Helper functions"
   ]
  },
  {
   "cell_type": "code",
   "execution_count": 132,
   "metadata": {
    "collapsed": true
   },
   "outputs": [],
   "source": [
    "def test_and_print(tweets, classifier, dvp):\n",
    "    pre = ml.predict(tweets,\n",
    "           classifier,\n",
    "           dvp,\n",
    "           nlp.cleanTokensTwitter)\n",
    "\n",
    "    for t,p,pp in zip(tweets, pre['prediction'], pre['prediction_probabilities']):\n",
    "        print(t)\n",
    "        print('\\tSarcastic' if p else '\\tNon-sarcastic')\n",
    "        print('\\t'+str(pp[1]*100)+'%' if p else '\\t'+str(pp[0]*100)+'%')\n",
    "        print()\n",
    "        \n",
    "def alt_test_and_print(tweets, classifier, dvp):\n",
    "    pre = ml.predict(tweets,\n",
    "           classifier,\n",
    "           dvp,\n",
    "           alternative_clean)\n",
    "\n",
    "    for t,p,pp in zip(tweets, pre['prediction'], pre['prediction_probabilities']):\n",
    "        print(t)\n",
    "        print('\\tSarcastic' if p else '\\tNon-sarcastic')\n",
    "        print('\\t'+str(pp[1]*100)+'%' if p else '\\t'+str(pp[0]*100)+'%')\n",
    "        print()\n",
    "        \n",
    "def alternative_clean(tweet):\n",
    "    tweet = sub(nlp.TWEET_HANDLE_RE, \"NameTOK\", tweet)\n",
    "    tweet = sub(nlp.TWEET_LINK_RE, \"LinkTOK\", tweet)\n",
    "    tweet = sub(nlp.HASHTAG_RE, \"\", tweet)\n",
    "    tweet = _replace_html_entities(tweet)\n",
    "    tweet = tweet.rstrip()\n",
    "    tokens = word_tokenize(tweet)\n",
    "    return tokens, tweet\n",
    "\n",
    "def most_informative_feature_for_class(vectorizer, classifier, classlabel, n=10):\n",
    "    labelid = list(classifier.classes_).index(classlabel)\n",
    "    feature_names = vectorizer.get_feature_names()\n",
    "    if (classlabel): \n",
    "        topn = sorted(zip(classifier.coef_[0], feature_names))[-n:]\n",
    "    else:\n",
    "        topn = sorted(zip(classifier.coef_[0], feature_names))[:n]\n",
    "\n",
    "    for coef, feat in topn:\n",
    "        print (classlabel, feat, coef)\n",
    "        \n",
    "def find_best_classifier(results):\n",
    "    highest_acc = 0.0\n",
    "    best_classifier = None\n",
    "    for r in results:\n",
    "        classifiers = r[2]\n",
    "        for c in classifiers:\n",
    "            if c[2] > highest_acc:\n",
    "                highest_acc = c[2]\n",
    "                best_classifier = r\n",
    "\n",
    "    return best_classifier"
   ]
  },
  {
   "cell_type": "markdown",
   "metadata": {},
   "source": [
    "# Example of issue"
   ]
  },
  {
   "cell_type": "code",
   "execution_count": 133,
   "metadata": {
    "collapsed": false
   },
   "outputs": [],
   "source": [
    "test_sarcastic_text = [\n",
    "             'Having MS is really easy and fun. #sarcasm',\n",
    "             'Having MS is really easy and fun. ',\n",
    "             'Having MS is really easy and fun.',\n",
    "             'Having MS is really easy and fun',\n",
    "             'The classiest event a bar can throw is a foam party. #Sarcasm',\n",
    "             'The classiest event a bar can throw is a foam party. ',\n",
    "             'The classiest event a bar can throw is a foam party.',\n",
    "             'The classiest event a bar can throw is a foam party',\n",
    "             '@thehill Sure I\\'ll watch North Korean - China - Russian and Iran news all very creditable sources #sarcasm',\n",
    "             '@thehill Sure I\\'ll watch North Korean - China - Russian and Iran news all very creditable sources ',\n",
    "             '@thehill Sure I\\'ll watch North Korean - China - Russian and Iran news all very creditable sources',\n",
    "             '@mikefreemanNFL Because voicing your beliefs if they\\'re political is worse than actual physical abuse #sarcasm #idiots',\n",
    "             '@mikefreemanNFL Because voicing your beliefs if they\\'re political is worse than actual physical abuse  #idiots',\n",
    "             '@mikefreemanNFL Because voicing your beliefs if they\\'re political is worse than actual physical abuse #idiots',\n",
    "             '@mikefreemanNFL Because voicing your beliefs if they\\'re political is worse than actual physical abuse #',\n",
    "             '@mikefreemanNFL Because voicing your beliefs if they\\'re political is worse than actual physical abuse ',\n",
    "             '@mikefreemanNFL Because voicing your beliefs if they\\'re political is worse than actual physical abuse',\n",
    "             '@mikefreemanNFL Because voicing your beliefs if they\\'re political is worse than actual physical abuse.',\n",
    "    \n",
    "]"
   ]
  },
  {
   "cell_type": "code",
   "execution_count": 7,
   "metadata": {
    "collapsed": false,
    "scrolled": false
   },
   "outputs": [
    {
     "name": "stdout",
     "output_type": "stream",
     "text": [
      "Having MS is really easy and fun. #sarcasm\n",
      "\tSarcastic\n",
      "\t87.3060709339%\n",
      "\n",
      "Having MS is really easy and fun. \n",
      "\tSarcastic\n",
      "\t87.3060709339%\n",
      "\n",
      "Having MS is really easy and fun.\n",
      "\tNon-sarcastic\n",
      "\t92.9603340041%\n",
      "\n",
      "Having MS is really easy and fun\n",
      "\tSarcastic\n",
      "\t56.6225091866%\n",
      "\n",
      "The classiest event a bar can throw is a foam party. #Sarcasm\n",
      "\tNon-sarcastic\n",
      "\t52.9740675825%\n",
      "\n",
      "The classiest event a bar can throw is a foam party. \n",
      "\tNon-sarcastic\n",
      "\t52.9740675825%\n",
      "\n",
      "The classiest event a bar can throw is a foam party.\n",
      "\tNon-sarcastic\n",
      "\t98.5267101183%\n",
      "\n",
      "The classiest event a bar can throw is a foam party\n",
      "\tNon-sarcastic\n",
      "\t90.8922815287%\n",
      "\n",
      "@thehill Sure I'll watch North Korean - China - Russian and Iran news all very creditable sources #sarcasm\n",
      "\tSarcastic\n",
      "\t80.58434523%\n",
      "\n",
      "@thehill Sure I'll watch North Korean - China - Russian and Iran news all very creditable sources \n",
      "\tSarcastic\n",
      "\t80.58434523%\n",
      "\n",
      "@thehill Sure I'll watch North Korean - China - Russian and Iran news all very creditable sources\n",
      "\tNon-sarcastic\n",
      "\t97.335875044%\n",
      "\n",
      "@mikefreemanNFL Because voicing your beliefs if they're political is worse than actual physical abuse #sarcasm #idiots\n",
      "\tSarcastic\n",
      "\t96.6524851614%\n",
      "\n",
      "@mikefreemanNFL Because voicing your beliefs if they're political is worse than actual physical abuse  #idiots\n",
      "\tSarcastic\n",
      "\t96.6524851614%\n",
      "\n",
      "@mikefreemanNFL Because voicing your beliefs if they're political is worse than actual physical abuse #idiots\n",
      "\tSarcastic\n",
      "\t96.6448782866%\n",
      "\n",
      "@mikefreemanNFL Because voicing your beliefs if they're political is worse than actual physical abuse #\n",
      "\tNon-sarcastic\n",
      "\t66.4401753359%\n",
      "\n",
      "@mikefreemanNFL Because voicing your beliefs if they're political is worse than actual physical abuse \n",
      "\tSarcastic\n",
      "\t96.6448782866%\n",
      "\n",
      "@mikefreemanNFL Because voicing your beliefs if they're political is worse than actual physical abuse\n",
      "\tNon-sarcastic\n",
      "\t84.7851939685%\n",
      "\n",
      "@mikefreemanNFL Because voicing your beliefs if they're political is worse than actual physical abuse.\n",
      "\tNon-sarcastic\n",
      "\t95.012421294%\n",
      "\n"
     ]
    }
   ],
   "source": [
    "test_and_print(test_sarcastic_text, classifier, dvp)"
   ]
  },
  {
   "cell_type": "markdown",
   "metadata": {},
   "source": [
    "The examples above show that classification of sarcastic tweets with this model are erroneously assigning a huge weight to the presence of a dangling space at the end of the text. Usually this dangling trailing space is caused by removing \"#sarcasm\" --which overwhelmingly appears at the end of sarcastic tweets-- but that is not exclusively the case. Looking at the last example, \"#sarcasm\" is followed by \"#idiots\". Due to the underlying method of hastag removal in our methods, all hastags are removed. Thus \"#sarcasm\" and \"#idiots\" are removed and two dangling spaces remain. The tweet remains classified as sarcastic until the dangling trailing spaces are removed, at which point it is classified as serious. \n",
    "\n",
    "In every case either the classification itself or the prediction probability swing heavily towards non-sarcastic once the trailing dangling spaces are removed. This indicates the model is relying on the presence of a programming artifact rather than the actual structure and features of the tweet in order to classify it correctly.    "
   ]
  },
  {
   "cell_type": "code",
   "execution_count": 8,
   "metadata": {
    "collapsed": true
   },
   "outputs": [],
   "source": [
    "test_serious_text = [\n",
    "    'Marsch listed Aurelien Collin & Connor Lade as \"day-to-day.\" Keita got a slight knock, didn\\'t train today w/ #RBNY.',\n",
    "    'Marsch listed Aurelien Collin & Connor Lade as \"day-to-day.\" Keita got a slight knock, didn\\'t train today w/ #RBNY. #sarcasm',\n",
    "    'Marsch listed Aurelien Collin & Connor Lade as \"day-to-day.\" Keita got a slight knock, didn\\'t train today w/ #RBNY. ',\n",
    "    'How many retweets to give the Lakers the number 1 pick? @NBA',\n",
    "    'How many retweets to give the Lakers the number 1 pick? @NBA #sarcasm',\n",
    "    'How many retweets to give the Lakers the number 1 pick? @NBA ',\n",
    "    'Never thought that clunkiness/cost of microscope might be holding back public health https://t.co/TQQcvBheDf so $1 microscope exciting!',\n",
    "    'Never thought that clunkiness/cost of microscope might be holding back public health https://t.co/TQQcvBheDf so $1 microscope exciting! #sarcasm',\n",
    "    'Never thought that clunkiness/cost of microscope might be holding back public health https://t.co/TQQcvBheDf so $1 microscope exciting! ',\n",
    "    '@SwiftOnSecurity They sponsor literally every podcast ever, followed by Crunchyroll.',\n",
    "    '@SwiftOnSecurity They sponsor literally every podcast ever, followed by Crunchyroll. #sarcasm',\n",
    "    '@SwiftOnSecurity They sponsor literally every podcast ever, followed by Crunchyroll. ',\n",
    "]"
   ]
  },
  {
   "cell_type": "code",
   "execution_count": 9,
   "metadata": {
    "collapsed": false
   },
   "outputs": [
    {
     "name": "stdout",
     "output_type": "stream",
     "text": [
      "Marsch listed Aurelien Collin & Connor Lade as \"day-to-day.\" Keita got a slight knock, didn't train today w/ #RBNY.\n",
      "\tNon-sarcastic\n",
      "\t99.6887600279%\n",
      "\n",
      "Marsch listed Aurelien Collin & Connor Lade as \"day-to-day.\" Keita got a slight knock, didn't train today w/ #RBNY. #sarcasm\n",
      "\tNon-sarcastic\n",
      "\t99.6867570202%\n",
      "\n",
      "Marsch listed Aurelien Collin & Connor Lade as \"day-to-day.\" Keita got a slight knock, didn't train today w/ #RBNY. \n",
      "\tNon-sarcastic\n",
      "\t99.6867570202%\n",
      "\n",
      "How many retweets to give the Lakers the number 1 pick? @NBA\n",
      "\tNon-sarcastic\n",
      "\t89.4377033169%\n",
      "\n",
      "How many retweets to give the Lakers the number 1 pick? @NBA #sarcasm\n",
      "\tNon-sarcastic\n",
      "\t89.3761907222%\n",
      "\n",
      "How many retweets to give the Lakers the number 1 pick? @NBA \n",
      "\tNon-sarcastic\n",
      "\t89.3761907222%\n",
      "\n",
      "Never thought that clunkiness/cost of microscope might be holding back public health https://t.co/TQQcvBheDf so $1 microscope exciting!\n",
      "\tNon-sarcastic\n",
      "\t86.022159641%\n",
      "\n",
      "Never thought that clunkiness/cost of microscope might be holding back public health https://t.co/TQQcvBheDf so $1 microscope exciting! #sarcasm\n",
      "\tNon-sarcastic\n",
      "\t85.9943838847%\n",
      "\n",
      "Never thought that clunkiness/cost of microscope might be holding back public health https://t.co/TQQcvBheDf so $1 microscope exciting! \n",
      "\tNon-sarcastic\n",
      "\t85.9943838847%\n",
      "\n",
      "@SwiftOnSecurity They sponsor literally every podcast ever, followed by Crunchyroll.\n",
      "\tNon-sarcastic\n",
      "\t99.8622708764%\n",
      "\n",
      "@SwiftOnSecurity They sponsor literally every podcast ever, followed by Crunchyroll. #sarcasm\n",
      "\tNon-sarcastic\n",
      "\t89.7577222225%\n",
      "\n",
      "@SwiftOnSecurity They sponsor literally every podcast ever, followed by Crunchyroll. \n",
      "\tNon-sarcastic\n",
      "\t89.7577222225%\n",
      "\n"
     ]
    }
   ],
   "source": [
    "test_and_print(test_serious_text, classifier, dvp)"
   ]
  },
  {
   "cell_type": "markdown",
   "metadata": {},
   "source": [
    "Interestingly, it seems that effect is not observed in serious tweets. Adding \"#sarcasm\" and \" \" to the end of serious tweets results in no change in classification and a negligible change in prediction probability. "
   ]
  },
  {
   "cell_type": "code",
   "execution_count": 10,
   "metadata": {
    "collapsed": true
   },
   "outputs": [],
   "source": [
    "import matplotlib\n",
    "import matplotlib.pyplot as plt\n",
    "from json_io import list_from_json, list_to_json, TWEET_LINK_RE, tweet_iterate"
   ]
  },
  {
   "cell_type": "code",
   "execution_count": 11,
   "metadata": {
    "collapsed": true
   },
   "outputs": [],
   "source": [
    "SARCASTIC_PATH = \"../json/Twitter hash+old/sarcastic/unique.json\"\n",
    "SARCASTIC_HASH_PATH = \"../json/sarcastic/hash_dict.json\"\n",
    "NON_SARCASTIC_PATH = \"../json/Twitter hash+old/serious/unique.json\"\n",
    "NON_SARCASTIC_HASH_PATH = \"../json/non_sarcastic/hash_dict.json\""
   ]
  },
  {
   "cell_type": "code",
   "execution_count": 12,
   "metadata": {
    "collapsed": false
   },
   "outputs": [],
   "source": [
    "sarcastic_tweets = list_from_json(SARCASTIC_PATH)\n",
    "serious_tweets = list_from_json(NON_SARCASTIC_PATH)"
   ]
  },
  {
   "cell_type": "code",
   "execution_count": 13,
   "metadata": {
    "collapsed": false
   },
   "outputs": [
    {
     "name": "stdout",
     "output_type": "stream",
     "text": [
      "52679\n",
      "163298\n"
     ]
    }
   ],
   "source": [
    "print(len(sarcastic_tweets))\n",
    "print(len(serious_tweets))"
   ]
  },
  {
   "cell_type": "code",
   "execution_count": 14,
   "metadata": {
    "collapsed": true
   },
   "outputs": [],
   "source": [
    "import pandas as pd"
   ]
  },
  {
   "cell_type": "code",
   "execution_count": 18,
   "metadata": {
    "collapsed": false
   },
   "outputs": [],
   "source": [
    "pre = ml.predict([x[\"text\"] for x in sarcastic_tweets[:50]],\n",
    "           classifier,\n",
    "           dvp,\n",
    "           nlp.cleanTokensTwitter)\n",
    "\n",
    "pre_space_strip = ml.predict([x[\"text\"] for x in sarcastic_tweets[:50]],\n",
    "           classifier,\n",
    "           dvp,\n",
    "           alternative_clean)"
   ]
  },
  {
   "cell_type": "code",
   "execution_count": 19,
   "metadata": {
    "collapsed": false
   },
   "outputs": [
    {
     "data": {
      "text/plain": [
       "{'classifier': LogisticRegression(C=1.0, class_weight=None, dual=False, fit_intercept=True,\n",
       "           intercept_scaling=1, max_iter=100, multi_class='ovr', n_jobs=-1,\n",
       "           penalty='l2', random_state=None, solver='liblinear', tol=0.0001,\n",
       "           verbose=0, warm_start=False),\n",
       " 'prediction': array([ True, False,  True,  True,  True,  True,  True,  True,  True,\n",
       "        False,  True,  True,  True,  True,  True,  True,  True, False,\n",
       "         True,  True,  True,  True,  True, False,  True,  True,  True,\n",
       "         True,  True, False,  True, False,  True,  True,  True,  True,\n",
       "         True,  True,  True,  True, False,  True,  True,  True, False,\n",
       "         True,  True,  True,  True,  True], dtype=bool),\n",
       " 'prediction_probabilities': array([[  3.21369254e-02,   9.67863075e-01],\n",
       "        [  9.44699169e-01,   5.53008311e-02],\n",
       "        [  3.80935953e-01,   6.19064047e-01],\n",
       "        [  2.47414337e-02,   9.75258566e-01],\n",
       "        [  3.06351862e-01,   6.93648138e-01],\n",
       "        [  2.16269211e-01,   7.83730789e-01],\n",
       "        [  1.15171863e-01,   8.84828137e-01],\n",
       "        [  1.63920186e-01,   8.36079814e-01],\n",
       "        [  5.09792907e-02,   9.49020709e-01],\n",
       "        [  9.45939116e-01,   5.40608838e-02],\n",
       "        [  5.88226298e-02,   9.41177370e-01],\n",
       "        [  1.45474589e-01,   8.54525411e-01],\n",
       "        [  6.16321946e-02,   9.38367805e-01],\n",
       "        [  1.27135135e-02,   9.87286486e-01],\n",
       "        [  3.15416355e-01,   6.84583645e-01],\n",
       "        [  5.99443397e-03,   9.94005566e-01],\n",
       "        [  2.84715747e-02,   9.71528425e-01],\n",
       "        [  6.92776048e-01,   3.07223952e-01],\n",
       "        [  7.08006457e-02,   9.29199354e-01],\n",
       "        [  1.72957065e-01,   8.27042935e-01],\n",
       "        [  1.76791092e-02,   9.82320891e-01],\n",
       "        [  7.94533181e-04,   9.99205467e-01],\n",
       "        [  6.80065217e-02,   9.31993478e-01],\n",
       "        [  8.39276804e-01,   1.60723196e-01],\n",
       "        [  1.23725953e-01,   8.76274047e-01],\n",
       "        [  1.42842543e-01,   8.57157457e-01],\n",
       "        [  1.16941440e-01,   8.83058560e-01],\n",
       "        [  1.43255410e-02,   9.85674459e-01],\n",
       "        [  4.93517972e-02,   9.50648203e-01],\n",
       "        [  5.21180727e-01,   4.78819273e-01],\n",
       "        [  1.75275840e-02,   9.82472416e-01],\n",
       "        [  9.22076394e-01,   7.79236059e-02],\n",
       "        [  1.53726743e-01,   8.46273257e-01],\n",
       "        [  4.69274369e-03,   9.95307256e-01],\n",
       "        [  1.13728440e-01,   8.86271560e-01],\n",
       "        [  1.84764610e-02,   9.81523539e-01],\n",
       "        [  2.32765920e-03,   9.97672341e-01],\n",
       "        [  4.10358385e-01,   5.89641615e-01],\n",
       "        [  7.88919017e-03,   9.92110810e-01],\n",
       "        [  6.55502557e-03,   9.93444974e-01],\n",
       "        [  6.40326899e-01,   3.59673101e-01],\n",
       "        [  1.44571245e-01,   8.55428755e-01],\n",
       "        [  9.43598445e-02,   9.05640155e-01],\n",
       "        [  1.77909603e-03,   9.98220904e-01],\n",
       "        [  6.90342685e-01,   3.09657315e-01],\n",
       "        [  1.94760762e-01,   8.05239238e-01],\n",
       "        [  1.02217604e-01,   8.97782396e-01],\n",
       "        [  1.33641024e-02,   9.86635898e-01],\n",
       "        [  7.24181103e-03,   9.92758189e-01],\n",
       "        [  2.01819551e-03,   9.97981804e-01]])}"
      ]
     },
     "execution_count": 19,
     "metadata": {},
     "output_type": "execute_result"
    }
   ],
   "source": [
    "pre"
   ]
  },
  {
   "cell_type": "code",
   "execution_count": 20,
   "metadata": {
    "collapsed": false
   },
   "outputs": [
    {
     "data": {
      "text/html": [
       "<div>\n",
       "<style>\n",
       "    .dataframe thead tr:only-child th {\n",
       "        text-align: right;\n",
       "    }\n",
       "\n",
       "    .dataframe thead th {\n",
       "        text-align: left;\n",
       "    }\n",
       "\n",
       "    .dataframe tbody tr th {\n",
       "        vertical-align: top;\n",
       "    }\n",
       "</style>\n",
       "<table border=\"1\" class=\"dataframe\">\n",
       "  <thead>\n",
       "    <tr style=\"text-align: right;\">\n",
       "      <th></th>\n",
       "      <th>ns_prob</th>\n",
       "      <th>ns_sarcastic</th>\n",
       "      <th>o_prob</th>\n",
       "      <th>o_sarcastic</th>\n",
       "      <th>o_text</th>\n",
       "    </tr>\n",
       "  </thead>\n",
       "  <tbody>\n",
       "    <tr>\n",
       "      <th>0</th>\n",
       "      <td>96.786307</td>\n",
       "      <td>True</td>\n",
       "      <td>96.786307</td>\n",
       "      <td>True</td>\n",
       "      <td>@MetalBlonde Come on Karina! What about the #b...</td>\n",
       "    </tr>\n",
       "    <tr>\n",
       "      <th>1</th>\n",
       "      <td>94.469917</td>\n",
       "      <td>False</td>\n",
       "      <td>94.469917</td>\n",
       "      <td>False</td>\n",
       "      <td>Take that Black History month.Make America Whi...</td>\n",
       "    </tr>\n",
       "    <tr>\n",
       "      <th>2</th>\n",
       "      <td>61.906405</td>\n",
       "      <td>True</td>\n",
       "      <td>61.906405</td>\n",
       "      <td>True</td>\n",
       "      <td>Officially in love with M$ Azure #sarcasm #pow...</td>\n",
       "    </tr>\n",
       "    <tr>\n",
       "      <th>3</th>\n",
       "      <td>97.525857</td>\n",
       "      <td>True</td>\n",
       "      <td>97.525857</td>\n",
       "      <td>True</td>\n",
       "      <td>Classy. 🙄🙄🙄 #sarcasm \\nHow's that whole \"uniti...</td>\n",
       "    </tr>\n",
       "    <tr>\n",
       "      <th>4</th>\n",
       "      <td>69.364814</td>\n",
       "      <td>True</td>\n",
       "      <td>69.364814</td>\n",
       "      <td>True</td>\n",
       "      <td>#draintheswamp riiiigggghhhttt. #sarcasm https...</td>\n",
       "    </tr>\n",
       "    <tr>\n",
       "      <th>5</th>\n",
       "      <td>78.373079</td>\n",
       "      <td>True</td>\n",
       "      <td>78.373079</td>\n",
       "      <td>True</td>\n",
       "      <td>@HanselCreative dude totally!!!!\\n\\n.\\n.\\n.\\n....</td>\n",
       "    </tr>\n",
       "    <tr>\n",
       "      <th>6</th>\n",
       "      <td>88.482814</td>\n",
       "      <td>True</td>\n",
       "      <td>88.482814</td>\n",
       "      <td>True</td>\n",
       "      <td>@amritabhinder n one more thing @TarekFatah te...</td>\n",
       "    </tr>\n",
       "    <tr>\n",
       "      <th>7</th>\n",
       "      <td>83.607981</td>\n",
       "      <td>True</td>\n",
       "      <td>83.607981</td>\n",
       "      <td>True</td>\n",
       "      <td>@AJ I look forward to hearing about people goi...</td>\n",
       "    </tr>\n",
       "    <tr>\n",
       "      <th>8</th>\n",
       "      <td>94.902071</td>\n",
       "      <td>True</td>\n",
       "      <td>94.902071</td>\n",
       "      <td>True</td>\n",
       "      <td>@SharonLeavy @labourlewis Where's Corbyn? That...</td>\n",
       "    </tr>\n",
       "    <tr>\n",
       "      <th>9</th>\n",
       "      <td>94.593912</td>\n",
       "      <td>False</td>\n",
       "      <td>94.593912</td>\n",
       "      <td>False</td>\n",
       "      <td>This is my 'I ❤️ Stansted' face #sarcasm #lond...</td>\n",
       "    </tr>\n",
       "    <tr>\n",
       "      <th>10</th>\n",
       "      <td>94.117737</td>\n",
       "      <td>True</td>\n",
       "      <td>94.117737</td>\n",
       "      <td>True</td>\n",
       "      <td>Thanks #Comcast having terrible cable TV so I ...</td>\n",
       "    </tr>\n",
       "    <tr>\n",
       "      <th>11</th>\n",
       "      <td>85.452541</td>\n",
       "      <td>True</td>\n",
       "      <td>85.452541</td>\n",
       "      <td>True</td>\n",
       "      <td>What do you think ?\\n#motivation #women #truth...</td>\n",
       "    </tr>\n",
       "    <tr>\n",
       "      <th>12</th>\n",
       "      <td>93.836781</td>\n",
       "      <td>True</td>\n",
       "      <td>93.836781</td>\n",
       "      <td>True</td>\n",
       "      <td>@tedcruz I'm sure he won't be the same miserab...</td>\n",
       "    </tr>\n",
       "    <tr>\n",
       "      <th>13</th>\n",
       "      <td>98.728649</td>\n",
       "      <td>True</td>\n",
       "      <td>98.728649</td>\n",
       "      <td>True</td>\n",
       "      <td>LOL! #Sarcasm at it's best⚡️ “'This is why Tru...</td>\n",
       "    </tr>\n",
       "    <tr>\n",
       "      <th>14</th>\n",
       "      <td>68.458364</td>\n",
       "      <td>True</td>\n",
       "      <td>68.458364</td>\n",
       "      <td>True</td>\n",
       "      <td>Must be why the employment rate is so good las...</td>\n",
       "    </tr>\n",
       "    <tr>\n",
       "      <th>15</th>\n",
       "      <td>99.400557</td>\n",
       "      <td>True</td>\n",
       "      <td>99.400557</td>\n",
       "      <td>True</td>\n",
       "      <td>I think I might like this place. Does Twitter ...</td>\n",
       "    </tr>\n",
       "    <tr>\n",
       "      <th>16</th>\n",
       "      <td>97.152843</td>\n",
       "      <td>True</td>\n",
       "      <td>97.152843</td>\n",
       "      <td>True</td>\n",
       "      <td>Trying #sarcasm when you're sick &amp;amp; not thi...</td>\n",
       "    </tr>\n",
       "    <tr>\n",
       "      <th>17</th>\n",
       "      <td>69.277605</td>\n",
       "      <td>False</td>\n",
       "      <td>69.277605</td>\n",
       "      <td>False</td>\n",
       "      <td>This is no doubt how it plays out #Sarcasm htt...</td>\n",
       "    </tr>\n",
       "    <tr>\n",
       "      <th>18</th>\n",
       "      <td>92.919935</td>\n",
       "      <td>True</td>\n",
       "      <td>92.919935</td>\n",
       "      <td>True</td>\n",
       "      <td>Got an email from a prince, country needs my h...</td>\n",
       "    </tr>\n",
       "    <tr>\n",
       "      <th>19</th>\n",
       "      <td>82.704293</td>\n",
       "      <td>True</td>\n",
       "      <td>82.704293</td>\n",
       "      <td>True</td>\n",
       "      <td>@MotherJones Price is adding more and more sli...</td>\n",
       "    </tr>\n",
       "    <tr>\n",
       "      <th>20</th>\n",
       "      <td>98.232089</td>\n",
       "      <td>True</td>\n",
       "      <td>98.232089</td>\n",
       "      <td>True</td>\n",
       "      <td>Best life tip I've ever read on internet... I ...</td>\n",
       "    </tr>\n",
       "    <tr>\n",
       "      <th>21</th>\n",
       "      <td>99.920547</td>\n",
       "      <td>True</td>\n",
       "      <td>99.920547</td>\n",
       "      <td>True</td>\n",
       "      <td>@EllenPompeo here in Canada we have stricter r...</td>\n",
       "    </tr>\n",
       "    <tr>\n",
       "      <th>22</th>\n",
       "      <td>93.199348</td>\n",
       "      <td>True</td>\n",
       "      <td>93.199348</td>\n",
       "      <td>True</td>\n",
       "      <td>House Republicans vote to expand gun access fo...</td>\n",
       "    </tr>\n",
       "    <tr>\n",
       "      <th>23</th>\n",
       "      <td>83.927680</td>\n",
       "      <td>False</td>\n",
       "      <td>83.927680</td>\n",
       "      <td>False</td>\n",
       "      <td>@tmillsNC guess this will be #obama fault as w...</td>\n",
       "    </tr>\n",
       "    <tr>\n",
       "      <th>24</th>\n",
       "      <td>87.627405</td>\n",
       "      <td>True</td>\n",
       "      <td>87.627405</td>\n",
       "      <td>True</td>\n",
       "      <td>#Arnold #Trump #Sarcasm What a great response ...</td>\n",
       "    </tr>\n",
       "    <tr>\n",
       "      <th>25</th>\n",
       "      <td>85.715746</td>\n",
       "      <td>True</td>\n",
       "      <td>85.715746</td>\n",
       "      <td>True</td>\n",
       "      <td>@AndrewLawton There is no Private/Public wage ...</td>\n",
       "    </tr>\n",
       "    <tr>\n",
       "      <th>26</th>\n",
       "      <td>88.305856</td>\n",
       "      <td>True</td>\n",
       "      <td>88.305856</td>\n",
       "      <td>True</td>\n",
       "      <td>Amazed that I spent 4 years @wku and didn't he...</td>\n",
       "    </tr>\n",
       "    <tr>\n",
       "      <th>27</th>\n",
       "      <td>98.567446</td>\n",
       "      <td>True</td>\n",
       "      <td>98.567446</td>\n",
       "      <td>True</td>\n",
       "      <td>@PressSec A reporter gets to ask about \"black ...</td>\n",
       "    </tr>\n",
       "    <tr>\n",
       "      <th>28</th>\n",
       "      <td>95.064820</td>\n",
       "      <td>True</td>\n",
       "      <td>95.064820</td>\n",
       "      <td>True</td>\n",
       "      <td>blackjack is a fun game, but the other hand sh...</td>\n",
       "    </tr>\n",
       "    <tr>\n",
       "      <th>29</th>\n",
       "      <td>52.118073</td>\n",
       "      <td>False</td>\n",
       "      <td>52.118073</td>\n",
       "      <td>False</td>\n",
       "      <td>#TrumpBan effect #sarcasm https://t.co/W3LNJ7qBBZ</td>\n",
       "    </tr>\n",
       "    <tr>\n",
       "      <th>30</th>\n",
       "      <td>98.247242</td>\n",
       "      <td>True</td>\n",
       "      <td>98.247242</td>\n",
       "      <td>True</td>\n",
       "      <td>.@realDonaldTrump nice job killing all of thos...</td>\n",
       "    </tr>\n",
       "    <tr>\n",
       "      <th>31</th>\n",
       "      <td>92.207639</td>\n",
       "      <td>False</td>\n",
       "      <td>92.207639</td>\n",
       "      <td>False</td>\n",
       "      <td>@AdamJKovac @eleijon No #sarcasm here?</td>\n",
       "    </tr>\n",
       "    <tr>\n",
       "      <th>32</th>\n",
       "      <td>84.627326</td>\n",
       "      <td>True</td>\n",
       "      <td>84.627326</td>\n",
       "      <td>True</td>\n",
       "      <td>Nothing says \"I love you\" like a gift card. #G...</td>\n",
       "    </tr>\n",
       "    <tr>\n",
       "      <th>33</th>\n",
       "      <td>99.530726</td>\n",
       "      <td>True</td>\n",
       "      <td>99.530726</td>\n",
       "      <td>True</td>\n",
       "      <td>@BraddJaffy @albamonica well that's not too fa...</td>\n",
       "    </tr>\n",
       "    <tr>\n",
       "      <th>34</th>\n",
       "      <td>88.627156</td>\n",
       "      <td>True</td>\n",
       "      <td>88.627156</td>\n",
       "      <td>True</td>\n",
       "      <td>My high school education trumps your extensive...</td>\n",
       "    </tr>\n",
       "    <tr>\n",
       "      <th>35</th>\n",
       "      <td>98.152354</td>\n",
       "      <td>True</td>\n",
       "      <td>98.152354</td>\n",
       "      <td>True</td>\n",
       "      <td>@chorkins it's not like persons with mental il...</td>\n",
       "    </tr>\n",
       "    <tr>\n",
       "      <th>36</th>\n",
       "      <td>99.767234</td>\n",
       "      <td>True</td>\n",
       "      <td>99.767234</td>\n",
       "      <td>True</td>\n",
       "      <td>@KMeinherz @PrisonPlanet Women should be paid ...</td>\n",
       "    </tr>\n",
       "    <tr>\n",
       "      <th>37</th>\n",
       "      <td>58.964161</td>\n",
       "      <td>True</td>\n",
       "      <td>58.964161</td>\n",
       "      <td>True</td>\n",
       "      <td>It's sooo true though! #funny #meme #lol #humo...</td>\n",
       "    </tr>\n",
       "    <tr>\n",
       "      <th>38</th>\n",
       "      <td>99.211081</td>\n",
       "      <td>True</td>\n",
       "      <td>99.211081</td>\n",
       "      <td>True</td>\n",
       "      <td>@betancourtm90 @bsquared82 @OldWomanRiver @SUP...</td>\n",
       "    </tr>\n",
       "    <tr>\n",
       "      <th>39</th>\n",
       "      <td>99.344497</td>\n",
       "      <td>True</td>\n",
       "      <td>99.344497</td>\n",
       "      <td>True</td>\n",
       "      <td>But...I thought only 109 people affected...no?...</td>\n",
       "    </tr>\n",
       "    <tr>\n",
       "      <th>40</th>\n",
       "      <td>64.032690</td>\n",
       "      <td>False</td>\n",
       "      <td>64.032690</td>\n",
       "      <td>False</td>\n",
       "      <td>Typical downtown #Vancouver weather. #sarcasm ...</td>\n",
       "    </tr>\n",
       "    <tr>\n",
       "      <th>41</th>\n",
       "      <td>85.542876</td>\n",
       "      <td>True</td>\n",
       "      <td>85.542876</td>\n",
       "      <td>True</td>\n",
       "      <td>Do terrible things to people or we'll cut your...</td>\n",
       "    </tr>\n",
       "    <tr>\n",
       "      <th>42</th>\n",
       "      <td>90.564016</td>\n",
       "      <td>True</td>\n",
       "      <td>90.564016</td>\n",
       "      <td>True</td>\n",
       "      <td>Not all girls are\\nMade of #sugar\\nAnd #spice\\...</td>\n",
       "    </tr>\n",
       "    <tr>\n",
       "      <th>43</th>\n",
       "      <td>99.822090</td>\n",
       "      <td>True</td>\n",
       "      <td>99.822090</td>\n",
       "      <td>True</td>\n",
       "      <td>Thanks @ABCNetwork... Can't wait for that HUGE...</td>\n",
       "    </tr>\n",
       "    <tr>\n",
       "      <th>44</th>\n",
       "      <td>69.034269</td>\n",
       "      <td>False</td>\n",
       "      <td>69.034269</td>\n",
       "      <td>False</td>\n",
       "      <td>He is a man of action #Sarcasm https://t.co/ma...</td>\n",
       "    </tr>\n",
       "    <tr>\n",
       "      <th>45</th>\n",
       "      <td>80.523924</td>\n",
       "      <td>True</td>\n",
       "      <td>80.523924</td>\n",
       "      <td>True</td>\n",
       "      <td>Awesome... feel so loved right now... #sarcasm</td>\n",
       "    </tr>\n",
       "    <tr>\n",
       "      <th>46</th>\n",
       "      <td>89.778240</td>\n",
       "      <td>True</td>\n",
       "      <td>89.778240</td>\n",
       "      <td>True</td>\n",
       "      <td>Good plan. Throw some domestic violence in the...</td>\n",
       "    </tr>\n",
       "    <tr>\n",
       "      <th>47</th>\n",
       "      <td>98.663590</td>\n",
       "      <td>True</td>\n",
       "      <td>98.663590</td>\n",
       "      <td>True</td>\n",
       "      <td>@GeorgeTakei But we don't want another Bowling...</td>\n",
       "    </tr>\n",
       "    <tr>\n",
       "      <th>48</th>\n",
       "      <td>99.275819</td>\n",
       "      <td>True</td>\n",
       "      <td>99.275819</td>\n",
       "      <td>True</td>\n",
       "      <td>@iamirishdave @ladygaga you forgot the ' #sarc...</td>\n",
       "    </tr>\n",
       "    <tr>\n",
       "      <th>49</th>\n",
       "      <td>99.798180</td>\n",
       "      <td>True</td>\n",
       "      <td>99.798180</td>\n",
       "      <td>True</td>\n",
       "      <td>#lol #funny #comedy #sarcasm RT lifestyIeposts...</td>\n",
       "    </tr>\n",
       "  </tbody>\n",
       "</table>\n",
       "</div>"
      ],
      "text/plain": [
       "      ns_prob  ns_sarcastic     o_prob  o_sarcastic  \\\n",
       "0   96.786307          True  96.786307         True   \n",
       "1   94.469917         False  94.469917        False   \n",
       "2   61.906405          True  61.906405         True   \n",
       "3   97.525857          True  97.525857         True   \n",
       "4   69.364814          True  69.364814         True   \n",
       "5   78.373079          True  78.373079         True   \n",
       "6   88.482814          True  88.482814         True   \n",
       "7   83.607981          True  83.607981         True   \n",
       "8   94.902071          True  94.902071         True   \n",
       "9   94.593912         False  94.593912        False   \n",
       "10  94.117737          True  94.117737         True   \n",
       "11  85.452541          True  85.452541         True   \n",
       "12  93.836781          True  93.836781         True   \n",
       "13  98.728649          True  98.728649         True   \n",
       "14  68.458364          True  68.458364         True   \n",
       "15  99.400557          True  99.400557         True   \n",
       "16  97.152843          True  97.152843         True   \n",
       "17  69.277605         False  69.277605        False   \n",
       "18  92.919935          True  92.919935         True   \n",
       "19  82.704293          True  82.704293         True   \n",
       "20  98.232089          True  98.232089         True   \n",
       "21  99.920547          True  99.920547         True   \n",
       "22  93.199348          True  93.199348         True   \n",
       "23  83.927680         False  83.927680        False   \n",
       "24  87.627405          True  87.627405         True   \n",
       "25  85.715746          True  85.715746         True   \n",
       "26  88.305856          True  88.305856         True   \n",
       "27  98.567446          True  98.567446         True   \n",
       "28  95.064820          True  95.064820         True   \n",
       "29  52.118073         False  52.118073        False   \n",
       "30  98.247242          True  98.247242         True   \n",
       "31  92.207639         False  92.207639        False   \n",
       "32  84.627326          True  84.627326         True   \n",
       "33  99.530726          True  99.530726         True   \n",
       "34  88.627156          True  88.627156         True   \n",
       "35  98.152354          True  98.152354         True   \n",
       "36  99.767234          True  99.767234         True   \n",
       "37  58.964161          True  58.964161         True   \n",
       "38  99.211081          True  99.211081         True   \n",
       "39  99.344497          True  99.344497         True   \n",
       "40  64.032690         False  64.032690        False   \n",
       "41  85.542876          True  85.542876         True   \n",
       "42  90.564016          True  90.564016         True   \n",
       "43  99.822090          True  99.822090         True   \n",
       "44  69.034269         False  69.034269        False   \n",
       "45  80.523924          True  80.523924         True   \n",
       "46  89.778240          True  89.778240         True   \n",
       "47  98.663590          True  98.663590         True   \n",
       "48  99.275819          True  99.275819         True   \n",
       "49  99.798180          True  99.798180         True   \n",
       "\n",
       "                                               o_text  \n",
       "0   @MetalBlonde Come on Karina! What about the #b...  \n",
       "1   Take that Black History month.Make America Whi...  \n",
       "2   Officially in love with M$ Azure #sarcasm #pow...  \n",
       "3   Classy. 🙄🙄🙄 #sarcasm \\nHow's that whole \"uniti...  \n",
       "4   #draintheswamp riiiigggghhhttt. #sarcasm https...  \n",
       "5   @HanselCreative dude totally!!!!\\n\\n.\\n.\\n.\\n....  \n",
       "6   @amritabhinder n one more thing @TarekFatah te...  \n",
       "7   @AJ I look forward to hearing about people goi...  \n",
       "8   @SharonLeavy @labourlewis Where's Corbyn? That...  \n",
       "9   This is my 'I ❤️ Stansted' face #sarcasm #lond...  \n",
       "10  Thanks #Comcast having terrible cable TV so I ...  \n",
       "11  What do you think ?\\n#motivation #women #truth...  \n",
       "12  @tedcruz I'm sure he won't be the same miserab...  \n",
       "13  LOL! #Sarcasm at it's best⚡️ “'This is why Tru...  \n",
       "14  Must be why the employment rate is so good las...  \n",
       "15  I think I might like this place. Does Twitter ...  \n",
       "16  Trying #sarcasm when you're sick &amp; not thi...  \n",
       "17  This is no doubt how it plays out #Sarcasm htt...  \n",
       "18  Got an email from a prince, country needs my h...  \n",
       "19  @MotherJones Price is adding more and more sli...  \n",
       "20  Best life tip I've ever read on internet... I ...  \n",
       "21  @EllenPompeo here in Canada we have stricter r...  \n",
       "22  House Republicans vote to expand gun access fo...  \n",
       "23  @tmillsNC guess this will be #obama fault as w...  \n",
       "24  #Arnold #Trump #Sarcasm What a great response ...  \n",
       "25  @AndrewLawton There is no Private/Public wage ...  \n",
       "26  Amazed that I spent 4 years @wku and didn't he...  \n",
       "27  @PressSec A reporter gets to ask about \"black ...  \n",
       "28  blackjack is a fun game, but the other hand sh...  \n",
       "29  #TrumpBan effect #sarcasm https://t.co/W3LNJ7qBBZ  \n",
       "30  .@realDonaldTrump nice job killing all of thos...  \n",
       "31             @AdamJKovac @eleijon No #sarcasm here?  \n",
       "32  Nothing says \"I love you\" like a gift card. #G...  \n",
       "33  @BraddJaffy @albamonica well that's not too fa...  \n",
       "34  My high school education trumps your extensive...  \n",
       "35  @chorkins it's not like persons with mental il...  \n",
       "36  @KMeinherz @PrisonPlanet Women should be paid ...  \n",
       "37  It's sooo true though! #funny #meme #lol #humo...  \n",
       "38  @betancourtm90 @bsquared82 @OldWomanRiver @SUP...  \n",
       "39  But...I thought only 109 people affected...no?...  \n",
       "40  Typical downtown #Vancouver weather. #sarcasm ...  \n",
       "41  Do terrible things to people or we'll cut your...  \n",
       "42  Not all girls are\\nMade of #sugar\\nAnd #spice\\...  \n",
       "43  Thanks @ABCNetwork... Can't wait for that HUGE...  \n",
       "44  He is a man of action #Sarcasm https://t.co/ma...  \n",
       "45     Awesome... feel so loved right now... #sarcasm  \n",
       "46  Good plan. Throw some domestic violence in the...  \n",
       "47  @GeorgeTakei But we don't want another Bowling...  \n",
       "48  @iamirishdave @ladygaga you forgot the ' #sarc...  \n",
       "49  #lol #funny #comedy #sarcasm RT lifestyIeposts...  "
      ]
     },
     "execution_count": 20,
     "metadata": {},
     "output_type": "execute_result"
    }
   ],
   "source": [
    "sarcastic_df = pd.DataFrame({\"o_text\": [x[\"text\"] for x in sarcastic_tweets[:50]],\n",
    "                             \"o_sarcastic\": pre[\"prediction\"],\n",
    "                             \"o_prob\": [tup[1][1]*100 if tup[0] else tup[1][0]*100 for tup in zip(pre[\"prediction\"], pre[\"prediction_probabilities\"])],\n",
    "                             \"ns_sarcastic\": pre_space_strip[\"prediction\"],\n",
    "                             \"ns_prob\": [tup[1][1]*100 if tup[0] else tup[1][0]*100 for tup in zip(pre_space_strip[\"prediction\"], pre_space_strip[\"prediction_probabilities\"])]})\n",
    "sarcastic_df"
   ]
  },
  {
   "cell_type": "markdown",
   "metadata": {},
   "source": [
    "### Alternative clean works as expected"
   ]
  },
  {
   "cell_type": "code",
   "execution_count": 4,
   "metadata": {
    "collapsed": false
   },
   "outputs": [
    {
     "name": "stdout",
     "output_type": "stream",
     "text": [
      "False\n",
      "True\n"
     ]
    }
   ],
   "source": [
    "print(alternative_clean('Having MS is really easy and fun. #sarcasm') == nlp.cleanTokensTwitter('Having MS is really easy and fun. #sarcasm'))\n",
    "print(alternative_clean('Having MS is really easy and fun. #sarcasm') == nlp.cleanTokensTwitter('Having MS is really easy and fun.'))"
   ]
  },
  {
   "cell_type": "markdown",
   "metadata": {},
   "source": [
    "### Predict does not"
   ]
  },
  {
   "cell_type": "code",
   "execution_count": 5,
   "metadata": {
    "collapsed": false
   },
   "outputs": [
    {
     "name": "stdout",
     "output_type": "stream",
     "text": [
      "{'classifier': LogisticRegression(C=1.0, class_weight=None, dual=False, fit_intercept=True,\n",
      "          intercept_scaling=1, max_iter=100, multi_class='ovr', n_jobs=-1,\n",
      "          penalty='l2', random_state=None, solver='liblinear', tol=0.0001,\n",
      "          verbose=0, warm_start=False), 'prediction_probabilities': array([[ 0.12693929,  0.87306071]]), 'prediction': array([ True], dtype=bool)}\n",
      "{'classifier': LogisticRegression(C=1.0, class_weight=None, dual=False, fit_intercept=True,\n",
      "          intercept_scaling=1, max_iter=100, multi_class='ovr', n_jobs=-1,\n",
      "          penalty='l2', random_state=None, solver='liblinear', tol=0.0001,\n",
      "          verbose=0, warm_start=False), 'prediction_probabilities': array([[ 0.12693929,  0.87306071]]), 'prediction': array([ True], dtype=bool)}\n"
     ]
    }
   ],
   "source": [
    "print(ml.predict(['Having MS is really easy and fun. #sarcasm'], classifier, dvp, nlp.cleanTokensTwitter))\n",
    "print(ml.predict(['Having MS is really easy and fun. #sarcasm'], classifier, dvp, alternative_clean))"
   ]
  },
  {
   "cell_type": "code",
   "execution_count": 6,
   "metadata": {
    "collapsed": false,
    "scrolled": true
   },
   "outputs": [
    {
     "name": "stdout",
     "output_type": "stream",
     "text": [
      "{'classifier': LogisticRegression(C=1.0, class_weight=None, dual=False, fit_intercept=True,\n",
      "          intercept_scaling=1, max_iter=100, multi_class='ovr', n_jobs=-1,\n",
      "          penalty='l2', random_state=None, solver='liblinear', tol=0.0001,\n",
      "          verbose=0, warm_start=False), 'prediction_probabilities': array([[ 0.92960334,  0.07039666]]), 'prediction': array([False], dtype=bool)}\n",
      "{'classifier': LogisticRegression(C=1.0, class_weight=None, dual=False, fit_intercept=True,\n",
      "          intercept_scaling=1, max_iter=100, multi_class='ovr', n_jobs=-1,\n",
      "          penalty='l2', random_state=None, solver='liblinear', tol=0.0001,\n",
      "          verbose=0, warm_start=False), 'prediction_probabilities': array([[ 0.12693929,  0.87306071]]), 'prediction': array([ True], dtype=bool)}\n"
     ]
    }
   ],
   "source": [
    "print(ml.predict(['Having MS is really easy and fun.'], classifier, dvp, nlp.cleanTokensTwitter))\n",
    "print(ml.predict(['Having MS is really easy and fun. #sarcasm'], classifier, dvp, alternative_clean))"
   ]
  },
  {
   "cell_type": "markdown",
   "metadata": {},
   "source": [
    "### Feature does not"
   ]
  },
  {
   "cell_type": "code",
   "execution_count": 7,
   "metadata": {
    "collapsed": false,
    "scrolled": true
   },
   "outputs": [
    {
     "name": "stdout",
     "output_type": "stream",
     "text": [
      "True\n",
      "False\n"
     ]
    }
   ],
   "source": [
    "print(nlp.feature('Having MS is really easy and fun. #sarcasm', nlp.cleanTokensTwitter) == nlp.feature('Having MS is really easy and fun. #sarcasm', alternative_clean))\n",
    "print(nlp.feature('Having MS is really easy and fun. #sarcasm', alternative_clean) == nlp.feature('Having MS is really easy and fun.', nlp.cleanTokensTwitter))"
   ]
  },
  {
   "cell_type": "markdown",
   "metadata": {},
   "source": [
    "### Investigating feature"
   ]
  },
  {
   "cell_type": "code",
   "execution_count": 77,
   "metadata": {
    "collapsed": false
   },
   "outputs": [
    {
     "data": {
      "text/plain": [
       "\"'Having MS is really easy and fun. #sarcasm'\""
      ]
     },
     "execution_count": 77,
     "metadata": {},
     "output_type": "execute_result"
    }
   ],
   "source": [
    "# nlp.py\n",
    "\n",
    "# def feature(text, cleanTokens):\n",
    "#     text = repr(text)\n",
    "#     (tokens, text) = cleanTokens(text)\n",
    "\n",
    "#     (tokens, postags) = tokPosTagsNoNE(tokens)\n",
    "#     (capFreq, allCapsFreq) = casesFeat(tokens)\n",
    "\n",
    "repr1 = repr('Having MS is really easy and fun. #sarcasm')\n",
    "repr1"
   ]
  },
  {
   "cell_type": "code",
   "execution_count": 76,
   "metadata": {
    "collapsed": false
   },
   "outputs": [
    {
     "data": {
      "text/plain": [
       "\"'Having MS is really easy and fun.'\""
      ]
     },
     "execution_count": 76,
     "metadata": {},
     "output_type": "execute_result"
    }
   ],
   "source": [
    "repr2 = repr('Having MS is really easy and fun.')\n",
    "repr2"
   ]
  },
  {
   "cell_type": "markdown",
   "metadata": {},
   "source": [
    "#### Repr adds quotes to end of text, causing alternative clean to not find any trailing spaces and perform identically to nlp.cleanTokensTwitter"
   ]
  },
  {
   "cell_type": "code",
   "execution_count": 84,
   "metadata": {
    "collapsed": false
   },
   "outputs": [
    {
     "name": "stdout",
     "output_type": "stream",
     "text": [
      "True\n",
      "True\n"
     ]
    }
   ],
   "source": [
    "print(alternative_clean(repr1) == nlp.cleanTokensTwitter(repr1))\n",
    "print(alternative_clean(repr2) == nlp.cleanTokensTwitter(repr2))"
   ]
  },
  {
   "cell_type": "code",
   "execution_count": 86,
   "metadata": {
    "collapsed": false
   },
   "outputs": [
    {
     "name": "stdout",
     "output_type": "stream",
     "text": [
      "False\n",
      "False\n"
     ]
    }
   ],
   "source": [
    "print(nlp.cleanTokensTwitter(repr1) == nlp.cleanTokensTwitter('Having MS is really easy and fun. #sarcasm'))\n",
    "print(nlp.cleanTokensTwitter(repr2) == nlp.cleanTokensTwitter('Having MS is really easy and fun.'))"
   ]
  },
  {
   "cell_type": "markdown",
   "metadata": {},
   "source": [
    "### After commenting out text = repr(text)"
   ]
  },
  {
   "cell_type": "code",
   "execution_count": 4,
   "metadata": {
    "collapsed": true
   },
   "outputs": [],
   "source": [
    "nlp.feature??"
   ]
  },
  {
   "cell_type": "markdown",
   "metadata": {},
   "source": [
    "#### Alternative clean works as expected"
   ]
  },
  {
   "cell_type": "code",
   "execution_count": 5,
   "metadata": {
    "collapsed": false
   },
   "outputs": [
    {
     "name": "stdout",
     "output_type": "stream",
     "text": [
      "False\n",
      "True\n"
     ]
    }
   ],
   "source": [
    "print(alternative_clean('Having MS is really easy and fun. #sarcasm') == nlp.cleanTokensTwitter('Having MS is really easy and fun. #sarcasm'))\n",
    "print(alternative_clean('Having MS is really easy and fun. #sarcasm') == nlp.cleanTokensTwitter('Having MS is really easy and fun.'))"
   ]
  },
  {
   "cell_type": "markdown",
   "metadata": {},
   "source": [
    "#### Predict seems to work as expected in first case. Probabilities differ slightly."
   ]
  },
  {
   "cell_type": "code",
   "execution_count": 6,
   "metadata": {
    "collapsed": false,
    "scrolled": true
   },
   "outputs": [
    {
     "name": "stdout",
     "output_type": "stream",
     "text": [
      "{'classifier': LogisticRegression(C=1.0, class_weight=None, dual=False, fit_intercept=True,\n",
      "          intercept_scaling=1, max_iter=100, multi_class='ovr', n_jobs=-1,\n",
      "          penalty='l2', random_state=None, solver='liblinear', tol=0.0001,\n",
      "          verbose=0, warm_start=False), 'prediction': array([ True], dtype=bool), 'prediction_probabilities': array([[ 0.04226943,  0.95773057]])}\n",
      "{'classifier': LogisticRegression(C=1.0, class_weight=None, dual=False, fit_intercept=True,\n",
      "          intercept_scaling=1, max_iter=100, multi_class='ovr', n_jobs=-1,\n",
      "          penalty='l2', random_state=None, solver='liblinear', tol=0.0001,\n",
      "          verbose=0, warm_start=False), 'prediction': array([ True], dtype=bool), 'prediction_probabilities': array([[ 0.04249474,  0.95750526]])}\n"
     ]
    }
   ],
   "source": [
    "print(ml.predict(['Having MS is really easy and fun. #sarcasm'], classifier, dvp, nlp.cleanTokensTwitter))\n",
    "print(ml.predict(['Having MS is really easy and fun. #sarcasm'], classifier, dvp, alternative_clean))"
   ]
  },
  {
   "cell_type": "markdown",
   "metadata": {},
   "source": [
    "#### Works as expected"
   ]
  },
  {
   "cell_type": "code",
   "execution_count": 9,
   "metadata": {
    "collapsed": false
   },
   "outputs": [
    {
     "name": "stdout",
     "output_type": "stream",
     "text": [
      "{'classifier': LogisticRegression(C=1.0, class_weight=None, dual=False, fit_intercept=True,\n",
      "          intercept_scaling=1, max_iter=100, multi_class='ovr', n_jobs=-1,\n",
      "          penalty='l2', random_state=None, solver='liblinear', tol=0.0001,\n",
      "          verbose=0, warm_start=False), 'prediction': array([ True], dtype=bool), 'prediction_probabilities': array([[ 0.04249474,  0.95750526]])}\n",
      "{'classifier': LogisticRegression(C=1.0, class_weight=None, dual=False, fit_intercept=True,\n",
      "          intercept_scaling=1, max_iter=100, multi_class='ovr', n_jobs=-1,\n",
      "          penalty='l2', random_state=None, solver='liblinear', tol=0.0001,\n",
      "          verbose=0, warm_start=False), 'prediction': array([ True], dtype=bool), 'prediction_probabilities': array([[ 0.04249474,  0.95750526]])}\n"
     ]
    }
   ],
   "source": [
    "print(ml.predict(['Having MS is really easy and fun. #sarcasm'], classifier, dvp, alternative_clean))\n",
    "print(ml.predict(['Having MS is really easy and fun.'], classifier, dvp, nlp.cleanTokensTwitter))"
   ]
  },
  {
   "cell_type": "markdown",
   "metadata": {},
   "source": [
    "#### Feature works as expected"
   ]
  },
  {
   "cell_type": "code",
   "execution_count": 4,
   "metadata": {
    "collapsed": false
   },
   "outputs": [
    {
     "name": "stdout",
     "output_type": "stream",
     "text": [
      "False\n",
      "True\n"
     ]
    }
   ],
   "source": [
    "print(nlp.feature('Having MS is really easy and fun. #sarcasm', nlp.cleanTokensTwitter) == nlp.feature('Having MS is really easy and fun. #sarcasm', alternative_clean))\n",
    "print(nlp.feature('Having MS is really easy and fun. #sarcasm', alternative_clean) == nlp.feature('Having MS is really easy and fun.', nlp.cleanTokensTwitter))"
   ]
  },
  {
   "cell_type": "markdown",
   "metadata": {},
   "source": [
    "### Revised attempt at dataframe"
   ]
  },
  {
   "cell_type": "code",
   "execution_count": 12,
   "metadata": {
    "collapsed": true
   },
   "outputs": [],
   "source": [
    "import matplotlib\n",
    "import matplotlib.pyplot as plt\n",
    "from json_io import list_from_json, list_to_json, TWEET_LINK_RE, tweet_iterate\n",
    "import pandas as pd"
   ]
  },
  {
   "cell_type": "code",
   "execution_count": 13,
   "metadata": {
    "collapsed": true
   },
   "outputs": [],
   "source": [
    "SARCASTIC_PATH = \"../json/Twitter hash+old/sarcastic/unique.json\"\n",
    "SARCASTIC_HASH_PATH = \"../json/sarcastic/hash_dict.json\"\n",
    "NON_SARCASTIC_PATH = \"../json/Twitter hash+old/serious/unique.json\"\n",
    "NON_SARCASTIC_HASH_PATH = \"../json/non_sarcastic/hash_dict.json\""
   ]
  },
  {
   "cell_type": "code",
   "execution_count": 14,
   "metadata": {
    "collapsed": true
   },
   "outputs": [],
   "source": [
    "sarcastic_tweets = list_from_json(SARCASTIC_PATH)\n",
    "serious_tweets = list_from_json(NON_SARCASTIC_PATH)"
   ]
  },
  {
   "cell_type": "code",
   "execution_count": 15,
   "metadata": {
    "collapsed": false
   },
   "outputs": [
    {
     "name": "stdout",
     "output_type": "stream",
     "text": [
      "52679\n",
      "163298\n"
     ]
    }
   ],
   "source": [
    "print(len(sarcastic_tweets))\n",
    "print(len(serious_tweets))"
   ]
  },
  {
   "cell_type": "code",
   "execution_count": 16,
   "metadata": {
    "collapsed": true
   },
   "outputs": [],
   "source": [
    "pre = ml.predict([x[\"text\"] for x in sarcastic_tweets[:50]],\n",
    "           classifier,\n",
    "           dvp,\n",
    "           nlp.cleanTokensTwitter)\n",
    "\n",
    "pre_space_strip = ml.predict([x[\"text\"] for x in sarcastic_tweets[:50]],\n",
    "           classifier,\n",
    "           dvp,\n",
    "           alternative_clean)"
   ]
  },
  {
   "cell_type": "code",
   "execution_count": 17,
   "metadata": {
    "collapsed": false
   },
   "outputs": [
    {
     "data": {
      "text/html": [
       "<div>\n",
       "<style>\n",
       "    .dataframe thead tr:only-child th {\n",
       "        text-align: right;\n",
       "    }\n",
       "\n",
       "    .dataframe thead th {\n",
       "        text-align: left;\n",
       "    }\n",
       "\n",
       "    .dataframe tbody tr th {\n",
       "        vertical-align: top;\n",
       "    }\n",
       "</style>\n",
       "<table border=\"1\" class=\"dataframe\">\n",
       "  <thead>\n",
       "    <tr style=\"text-align: right;\">\n",
       "      <th></th>\n",
       "      <th>ns_prob</th>\n",
       "      <th>ns_sarcastic</th>\n",
       "      <th>o_prob</th>\n",
       "      <th>o_sarcastic</th>\n",
       "      <th>o_text</th>\n",
       "    </tr>\n",
       "  </thead>\n",
       "  <tbody>\n",
       "    <tr>\n",
       "      <th>0</th>\n",
       "      <td>91.218247</td>\n",
       "      <td>True</td>\n",
       "      <td>91.373440</td>\n",
       "      <td>True</td>\n",
       "      <td>@MetalBlonde Come on Karina! What about the #b...</td>\n",
       "    </tr>\n",
       "    <tr>\n",
       "      <th>1</th>\n",
       "      <td>90.887446</td>\n",
       "      <td>False</td>\n",
       "      <td>90.887446</td>\n",
       "      <td>False</td>\n",
       "      <td>Take that Black History month.Make America Whi...</td>\n",
       "    </tr>\n",
       "    <tr>\n",
       "      <th>2</th>\n",
       "      <td>67.632509</td>\n",
       "      <td>False</td>\n",
       "      <td>67.392576</td>\n",
       "      <td>False</td>\n",
       "      <td>Officially in love with M$ Azure #sarcasm #pow...</td>\n",
       "    </tr>\n",
       "    <tr>\n",
       "      <th>3</th>\n",
       "      <td>85.478773</td>\n",
       "      <td>True</td>\n",
       "      <td>85.478773</td>\n",
       "      <td>True</td>\n",
       "      <td>Classy. 🙄🙄🙄 #sarcasm \\nHow's that whole \"uniti...</td>\n",
       "    </tr>\n",
       "    <tr>\n",
       "      <th>4</th>\n",
       "      <td>84.399083</td>\n",
       "      <td>True</td>\n",
       "      <td>84.399083</td>\n",
       "      <td>True</td>\n",
       "      <td>#draintheswamp riiiigggghhhttt. #sarcasm https...</td>\n",
       "    </tr>\n",
       "    <tr>\n",
       "      <th>5</th>\n",
       "      <td>86.303618</td>\n",
       "      <td>True</td>\n",
       "      <td>86.827167</td>\n",
       "      <td>True</td>\n",
       "      <td>@HanselCreative dude totally!!!!\\n\\n.\\n.\\n.\\n....</td>\n",
       "    </tr>\n",
       "    <tr>\n",
       "      <th>6</th>\n",
       "      <td>95.531840</td>\n",
       "      <td>True</td>\n",
       "      <td>95.531840</td>\n",
       "      <td>True</td>\n",
       "      <td>@amritabhinder n one more thing @TarekFatah te...</td>\n",
       "    </tr>\n",
       "    <tr>\n",
       "      <th>7</th>\n",
       "      <td>87.376017</td>\n",
       "      <td>True</td>\n",
       "      <td>87.376017</td>\n",
       "      <td>True</td>\n",
       "      <td>@AJ I look forward to hearing about people goi...</td>\n",
       "    </tr>\n",
       "    <tr>\n",
       "      <th>8</th>\n",
       "      <td>92.272002</td>\n",
       "      <td>False</td>\n",
       "      <td>92.138653</td>\n",
       "      <td>False</td>\n",
       "      <td>@SharonLeavy @labourlewis Where's Corbyn? That...</td>\n",
       "    </tr>\n",
       "    <tr>\n",
       "      <th>9</th>\n",
       "      <td>96.054645</td>\n",
       "      <td>False</td>\n",
       "      <td>96.054645</td>\n",
       "      <td>False</td>\n",
       "      <td>This is my 'I ❤️ Stansted' face #sarcasm #lond...</td>\n",
       "    </tr>\n",
       "    <tr>\n",
       "      <th>10</th>\n",
       "      <td>77.544684</td>\n",
       "      <td>True</td>\n",
       "      <td>77.556152</td>\n",
       "      <td>True</td>\n",
       "      <td>Thanks #Comcast having terrible cable TV so I ...</td>\n",
       "    </tr>\n",
       "    <tr>\n",
       "      <th>11</th>\n",
       "      <td>88.339422</td>\n",
       "      <td>False</td>\n",
       "      <td>88.339422</td>\n",
       "      <td>False</td>\n",
       "      <td>What do you think ?\\n#motivation #women #truth...</td>\n",
       "    </tr>\n",
       "    <tr>\n",
       "      <th>12</th>\n",
       "      <td>96.586158</td>\n",
       "      <td>True</td>\n",
       "      <td>96.586158</td>\n",
       "      <td>True</td>\n",
       "      <td>@tedcruz I'm sure he won't be the same miserab...</td>\n",
       "    </tr>\n",
       "    <tr>\n",
       "      <th>13</th>\n",
       "      <td>96.128314</td>\n",
       "      <td>True</td>\n",
       "      <td>96.128314</td>\n",
       "      <td>True</td>\n",
       "      <td>LOL! #Sarcasm at it's best⚡️ “'This is why Tru...</td>\n",
       "    </tr>\n",
       "    <tr>\n",
       "      <th>14</th>\n",
       "      <td>87.535934</td>\n",
       "      <td>True</td>\n",
       "      <td>87.535934</td>\n",
       "      <td>True</td>\n",
       "      <td>Must be why the employment rate is so good las...</td>\n",
       "    </tr>\n",
       "    <tr>\n",
       "      <th>15</th>\n",
       "      <td>87.267994</td>\n",
       "      <td>True</td>\n",
       "      <td>87.267994</td>\n",
       "      <td>True</td>\n",
       "      <td>I think I might like this place. Does Twitter ...</td>\n",
       "    </tr>\n",
       "    <tr>\n",
       "      <th>16</th>\n",
       "      <td>98.559356</td>\n",
       "      <td>True</td>\n",
       "      <td>98.559356</td>\n",
       "      <td>True</td>\n",
       "      <td>Trying #sarcasm when you're sick &amp;amp; not thi...</td>\n",
       "    </tr>\n",
       "    <tr>\n",
       "      <th>17</th>\n",
       "      <td>58.642741</td>\n",
       "      <td>False</td>\n",
       "      <td>58.642741</td>\n",
       "      <td>False</td>\n",
       "      <td>This is no doubt how it plays out #Sarcasm htt...</td>\n",
       "    </tr>\n",
       "    <tr>\n",
       "      <th>18</th>\n",
       "      <td>90.426395</td>\n",
       "      <td>True</td>\n",
       "      <td>90.452882</td>\n",
       "      <td>True</td>\n",
       "      <td>Got an email from a prince, country needs my h...</td>\n",
       "    </tr>\n",
       "    <tr>\n",
       "      <th>19</th>\n",
       "      <td>74.917173</td>\n",
       "      <td>True</td>\n",
       "      <td>74.941776</td>\n",
       "      <td>True</td>\n",
       "      <td>@MotherJones Price is adding more and more sli...</td>\n",
       "    </tr>\n",
       "    <tr>\n",
       "      <th>20</th>\n",
       "      <td>96.620730</td>\n",
       "      <td>True</td>\n",
       "      <td>96.620730</td>\n",
       "      <td>True</td>\n",
       "      <td>Best life tip I've ever read on internet... I ...</td>\n",
       "    </tr>\n",
       "    <tr>\n",
       "      <th>21</th>\n",
       "      <td>88.141953</td>\n",
       "      <td>True</td>\n",
       "      <td>88.161713</td>\n",
       "      <td>True</td>\n",
       "      <td>@EllenPompeo here in Canada we have stricter r...</td>\n",
       "    </tr>\n",
       "    <tr>\n",
       "      <th>22</th>\n",
       "      <td>85.379375</td>\n",
       "      <td>False</td>\n",
       "      <td>85.323929</td>\n",
       "      <td>False</td>\n",
       "      <td>House Republicans vote to expand gun access fo...</td>\n",
       "    </tr>\n",
       "    <tr>\n",
       "      <th>23</th>\n",
       "      <td>70.556593</td>\n",
       "      <td>False</td>\n",
       "      <td>70.489729</td>\n",
       "      <td>False</td>\n",
       "      <td>@tmillsNC guess this will be #obama fault as w...</td>\n",
       "    </tr>\n",
       "    <tr>\n",
       "      <th>24</th>\n",
       "      <td>60.842075</td>\n",
       "      <td>True</td>\n",
       "      <td>60.842075</td>\n",
       "      <td>True</td>\n",
       "      <td>#Arnold #Trump #Sarcasm What a great response ...</td>\n",
       "    </tr>\n",
       "    <tr>\n",
       "      <th>25</th>\n",
       "      <td>55.778671</td>\n",
       "      <td>True</td>\n",
       "      <td>55.824122</td>\n",
       "      <td>True</td>\n",
       "      <td>@AndrewLawton There is no Private/Public wage ...</td>\n",
       "    </tr>\n",
       "    <tr>\n",
       "      <th>26</th>\n",
       "      <td>69.430603</td>\n",
       "      <td>True</td>\n",
       "      <td>69.430603</td>\n",
       "      <td>True</td>\n",
       "      <td>Amazed that I spent 4 years @wku and didn't he...</td>\n",
       "    </tr>\n",
       "    <tr>\n",
       "      <th>27</th>\n",
       "      <td>96.141737</td>\n",
       "      <td>True</td>\n",
       "      <td>96.148829</td>\n",
       "      <td>True</td>\n",
       "      <td>@PressSec A reporter gets to ask about \"black ...</td>\n",
       "    </tr>\n",
       "    <tr>\n",
       "      <th>28</th>\n",
       "      <td>74.702489</td>\n",
       "      <td>False</td>\n",
       "      <td>74.515163</td>\n",
       "      <td>False</td>\n",
       "      <td>blackjack is a fun game, but the other hand sh...</td>\n",
       "    </tr>\n",
       "    <tr>\n",
       "      <th>29</th>\n",
       "      <td>71.356445</td>\n",
       "      <td>False</td>\n",
       "      <td>71.356445</td>\n",
       "      <td>False</td>\n",
       "      <td>#TrumpBan effect #sarcasm https://t.co/W3LNJ7qBBZ</td>\n",
       "    </tr>\n",
       "    <tr>\n",
       "      <th>30</th>\n",
       "      <td>60.592649</td>\n",
       "      <td>True</td>\n",
       "      <td>60.730406</td>\n",
       "      <td>True</td>\n",
       "      <td>.@realDonaldTrump nice job killing all of thos...</td>\n",
       "    </tr>\n",
       "    <tr>\n",
       "      <th>31</th>\n",
       "      <td>82.182144</td>\n",
       "      <td>False</td>\n",
       "      <td>82.182144</td>\n",
       "      <td>False</td>\n",
       "      <td>@AdamJKovac @eleijon No #sarcasm here?</td>\n",
       "    </tr>\n",
       "    <tr>\n",
       "      <th>32</th>\n",
       "      <td>77.980137</td>\n",
       "      <td>False</td>\n",
       "      <td>77.980137</td>\n",
       "      <td>False</td>\n",
       "      <td>Nothing says \"I love you\" like a gift card. #G...</td>\n",
       "    </tr>\n",
       "    <tr>\n",
       "      <th>33</th>\n",
       "      <td>98.359075</td>\n",
       "      <td>True</td>\n",
       "      <td>98.359075</td>\n",
       "      <td>True</td>\n",
       "      <td>@BraddJaffy @albamonica well that's not too fa...</td>\n",
       "    </tr>\n",
       "    <tr>\n",
       "      <th>34</th>\n",
       "      <td>97.110105</td>\n",
       "      <td>True</td>\n",
       "      <td>97.115294</td>\n",
       "      <td>True</td>\n",
       "      <td>My high school education trumps your extensive...</td>\n",
       "    </tr>\n",
       "    <tr>\n",
       "      <th>35</th>\n",
       "      <td>72.185299</td>\n",
       "      <td>False</td>\n",
       "      <td>72.151987</td>\n",
       "      <td>False</td>\n",
       "      <td>@chorkins it's not like persons with mental il...</td>\n",
       "    </tr>\n",
       "    <tr>\n",
       "      <th>36</th>\n",
       "      <td>98.829339</td>\n",
       "      <td>True</td>\n",
       "      <td>98.833041</td>\n",
       "      <td>True</td>\n",
       "      <td>@KMeinherz @PrisonPlanet Women should be paid ...</td>\n",
       "    </tr>\n",
       "    <tr>\n",
       "      <th>37</th>\n",
       "      <td>60.650065</td>\n",
       "      <td>False</td>\n",
       "      <td>60.650065</td>\n",
       "      <td>False</td>\n",
       "      <td>It's sooo true though! #funny #meme #lol #humo...</td>\n",
       "    </tr>\n",
       "    <tr>\n",
       "      <th>38</th>\n",
       "      <td>96.862823</td>\n",
       "      <td>True</td>\n",
       "      <td>96.872265</td>\n",
       "      <td>True</td>\n",
       "      <td>@betancourtm90 @bsquared82 @OldWomanRiver @SUP...</td>\n",
       "    </tr>\n",
       "    <tr>\n",
       "      <th>39</th>\n",
       "      <td>96.278945</td>\n",
       "      <td>True</td>\n",
       "      <td>96.278945</td>\n",
       "      <td>True</td>\n",
       "      <td>But...I thought only 109 people affected...no?...</td>\n",
       "    </tr>\n",
       "    <tr>\n",
       "      <th>40</th>\n",
       "      <td>90.600096</td>\n",
       "      <td>True</td>\n",
       "      <td>90.600096</td>\n",
       "      <td>True</td>\n",
       "      <td>Typical downtown #Vancouver weather. #sarcasm ...</td>\n",
       "    </tr>\n",
       "    <tr>\n",
       "      <th>41</th>\n",
       "      <td>54.556387</td>\n",
       "      <td>True</td>\n",
       "      <td>54.556387</td>\n",
       "      <td>True</td>\n",
       "      <td>Do terrible things to people or we'll cut your...</td>\n",
       "    </tr>\n",
       "    <tr>\n",
       "      <th>42</th>\n",
       "      <td>92.686764</td>\n",
       "      <td>True</td>\n",
       "      <td>92.686764</td>\n",
       "      <td>True</td>\n",
       "      <td>Not all girls are\\nMade of #sugar\\nAnd #spice\\...</td>\n",
       "    </tr>\n",
       "    <tr>\n",
       "      <th>43</th>\n",
       "      <td>85.718484</td>\n",
       "      <td>True</td>\n",
       "      <td>85.834209</td>\n",
       "      <td>True</td>\n",
       "      <td>Thanks @ABCNetwork... Can't wait for that HUGE...</td>\n",
       "    </tr>\n",
       "    <tr>\n",
       "      <th>44</th>\n",
       "      <td>55.730500</td>\n",
       "      <td>False</td>\n",
       "      <td>55.730500</td>\n",
       "      <td>False</td>\n",
       "      <td>He is a man of action #Sarcasm https://t.co/ma...</td>\n",
       "    </tr>\n",
       "    <tr>\n",
       "      <th>45</th>\n",
       "      <td>65.768321</td>\n",
       "      <td>True</td>\n",
       "      <td>66.362939</td>\n",
       "      <td>True</td>\n",
       "      <td>Awesome... feel so loved right now... #sarcasm</td>\n",
       "    </tr>\n",
       "    <tr>\n",
       "      <th>46</th>\n",
       "      <td>91.044684</td>\n",
       "      <td>True</td>\n",
       "      <td>91.044684</td>\n",
       "      <td>True</td>\n",
       "      <td>Good plan. Throw some domestic violence in the...</td>\n",
       "    </tr>\n",
       "    <tr>\n",
       "      <th>47</th>\n",
       "      <td>50.770964</td>\n",
       "      <td>False</td>\n",
       "      <td>50.474119</td>\n",
       "      <td>False</td>\n",
       "      <td>@GeorgeTakei But we don't want another Bowling...</td>\n",
       "    </tr>\n",
       "    <tr>\n",
       "      <th>48</th>\n",
       "      <td>99.598626</td>\n",
       "      <td>True</td>\n",
       "      <td>99.598626</td>\n",
       "      <td>True</td>\n",
       "      <td>@iamirishdave @ladygaga you forgot the ' #sarc...</td>\n",
       "    </tr>\n",
       "    <tr>\n",
       "      <th>49</th>\n",
       "      <td>76.490063</td>\n",
       "      <td>True</td>\n",
       "      <td>76.490063</td>\n",
       "      <td>True</td>\n",
       "      <td>#lol #funny #comedy #sarcasm RT lifestyIeposts...</td>\n",
       "    </tr>\n",
       "  </tbody>\n",
       "</table>\n",
       "</div>"
      ],
      "text/plain": [
       "      ns_prob  ns_sarcastic     o_prob  o_sarcastic  \\\n",
       "0   91.218247          True  91.373440         True   \n",
       "1   90.887446         False  90.887446        False   \n",
       "2   67.632509         False  67.392576        False   \n",
       "3   85.478773          True  85.478773         True   \n",
       "4   84.399083          True  84.399083         True   \n",
       "5   86.303618          True  86.827167         True   \n",
       "6   95.531840          True  95.531840         True   \n",
       "7   87.376017          True  87.376017         True   \n",
       "8   92.272002         False  92.138653        False   \n",
       "9   96.054645         False  96.054645        False   \n",
       "10  77.544684          True  77.556152         True   \n",
       "11  88.339422         False  88.339422        False   \n",
       "12  96.586158          True  96.586158         True   \n",
       "13  96.128314          True  96.128314         True   \n",
       "14  87.535934          True  87.535934         True   \n",
       "15  87.267994          True  87.267994         True   \n",
       "16  98.559356          True  98.559356         True   \n",
       "17  58.642741         False  58.642741        False   \n",
       "18  90.426395          True  90.452882         True   \n",
       "19  74.917173          True  74.941776         True   \n",
       "20  96.620730          True  96.620730         True   \n",
       "21  88.141953          True  88.161713         True   \n",
       "22  85.379375         False  85.323929        False   \n",
       "23  70.556593         False  70.489729        False   \n",
       "24  60.842075          True  60.842075         True   \n",
       "25  55.778671          True  55.824122         True   \n",
       "26  69.430603          True  69.430603         True   \n",
       "27  96.141737          True  96.148829         True   \n",
       "28  74.702489         False  74.515163        False   \n",
       "29  71.356445         False  71.356445        False   \n",
       "30  60.592649          True  60.730406         True   \n",
       "31  82.182144         False  82.182144        False   \n",
       "32  77.980137         False  77.980137        False   \n",
       "33  98.359075          True  98.359075         True   \n",
       "34  97.110105          True  97.115294         True   \n",
       "35  72.185299         False  72.151987        False   \n",
       "36  98.829339          True  98.833041         True   \n",
       "37  60.650065         False  60.650065        False   \n",
       "38  96.862823          True  96.872265         True   \n",
       "39  96.278945          True  96.278945         True   \n",
       "40  90.600096          True  90.600096         True   \n",
       "41  54.556387          True  54.556387         True   \n",
       "42  92.686764          True  92.686764         True   \n",
       "43  85.718484          True  85.834209         True   \n",
       "44  55.730500         False  55.730500        False   \n",
       "45  65.768321          True  66.362939         True   \n",
       "46  91.044684          True  91.044684         True   \n",
       "47  50.770964         False  50.474119        False   \n",
       "48  99.598626          True  99.598626         True   \n",
       "49  76.490063          True  76.490063         True   \n",
       "\n",
       "                                               o_text  \n",
       "0   @MetalBlonde Come on Karina! What about the #b...  \n",
       "1   Take that Black History month.Make America Whi...  \n",
       "2   Officially in love with M$ Azure #sarcasm #pow...  \n",
       "3   Classy. 🙄🙄🙄 #sarcasm \\nHow's that whole \"uniti...  \n",
       "4   #draintheswamp riiiigggghhhttt. #sarcasm https...  \n",
       "5   @HanselCreative dude totally!!!!\\n\\n.\\n.\\n.\\n....  \n",
       "6   @amritabhinder n one more thing @TarekFatah te...  \n",
       "7   @AJ I look forward to hearing about people goi...  \n",
       "8   @SharonLeavy @labourlewis Where's Corbyn? That...  \n",
       "9   This is my 'I ❤️ Stansted' face #sarcasm #lond...  \n",
       "10  Thanks #Comcast having terrible cable TV so I ...  \n",
       "11  What do you think ?\\n#motivation #women #truth...  \n",
       "12  @tedcruz I'm sure he won't be the same miserab...  \n",
       "13  LOL! #Sarcasm at it's best⚡️ “'This is why Tru...  \n",
       "14  Must be why the employment rate is so good las...  \n",
       "15  I think I might like this place. Does Twitter ...  \n",
       "16  Trying #sarcasm when you're sick &amp; not thi...  \n",
       "17  This is no doubt how it plays out #Sarcasm htt...  \n",
       "18  Got an email from a prince, country needs my h...  \n",
       "19  @MotherJones Price is adding more and more sli...  \n",
       "20  Best life tip I've ever read on internet... I ...  \n",
       "21  @EllenPompeo here in Canada we have stricter r...  \n",
       "22  House Republicans vote to expand gun access fo...  \n",
       "23  @tmillsNC guess this will be #obama fault as w...  \n",
       "24  #Arnold #Trump #Sarcasm What a great response ...  \n",
       "25  @AndrewLawton There is no Private/Public wage ...  \n",
       "26  Amazed that I spent 4 years @wku and didn't he...  \n",
       "27  @PressSec A reporter gets to ask about \"black ...  \n",
       "28  blackjack is a fun game, but the other hand sh...  \n",
       "29  #TrumpBan effect #sarcasm https://t.co/W3LNJ7qBBZ  \n",
       "30  .@realDonaldTrump nice job killing all of thos...  \n",
       "31             @AdamJKovac @eleijon No #sarcasm here?  \n",
       "32  Nothing says \"I love you\" like a gift card. #G...  \n",
       "33  @BraddJaffy @albamonica well that's not too fa...  \n",
       "34  My high school education trumps your extensive...  \n",
       "35  @chorkins it's not like persons with mental il...  \n",
       "36  @KMeinherz @PrisonPlanet Women should be paid ...  \n",
       "37  It's sooo true though! #funny #meme #lol #humo...  \n",
       "38  @betancourtm90 @bsquared82 @OldWomanRiver @SUP...  \n",
       "39  But...I thought only 109 people affected...no?...  \n",
       "40  Typical downtown #Vancouver weather. #sarcasm ...  \n",
       "41  Do terrible things to people or we'll cut your...  \n",
       "42  Not all girls are\\nMade of #sugar\\nAnd #spice\\...  \n",
       "43  Thanks @ABCNetwork... Can't wait for that HUGE...  \n",
       "44  He is a man of action #Sarcasm https://t.co/ma...  \n",
       "45     Awesome... feel so loved right now... #sarcasm  \n",
       "46  Good plan. Throw some domestic violence in the...  \n",
       "47  @GeorgeTakei But we don't want another Bowling...  \n",
       "48  @iamirishdave @ladygaga you forgot the ' #sarc...  \n",
       "49  #lol #funny #comedy #sarcasm RT lifestyIeposts...  "
      ]
     },
     "execution_count": 17,
     "metadata": {},
     "output_type": "execute_result"
    }
   ],
   "source": [
    "sarcastic_df = pd.DataFrame({\"o_text\": [x[\"text\"] for x in sarcastic_tweets[:50]],\n",
    "                             \"o_sarcastic\": pre[\"prediction\"],\n",
    "                             \"o_prob\": [tup[1][1]*100 if tup[0] else tup[1][0]*100 for tup in zip(pre[\"prediction\"], pre[\"prediction_probabilities\"])],\n",
    "                             \"ns_sarcastic\": pre_space_strip[\"prediction\"],\n",
    "                             \"ns_prob\": [tup[1][1]*100 if tup[0] else tup[1][0]*100 for tup in zip(pre_space_strip[\"prediction\"], pre_space_strip[\"prediction_probabilities\"])]})\n",
    "sarcastic_df"
   ]
  },
  {
   "cell_type": "markdown",
   "metadata": {},
   "source": [
    "### Re-examining issue"
   ]
  },
  {
   "cell_type": "code",
   "execution_count": 18,
   "metadata": {
    "collapsed": true
   },
   "outputs": [],
   "source": [
    "test_sarcastic_text = [\n",
    "             'Having MS is really easy and fun. #sarcasm',\n",
    "             'Having MS is really easy and fun. ',\n",
    "             'Having MS is really easy and fun.',\n",
    "             'Having MS is really easy and fun',\n",
    "             'The classiest event a bar can throw is a foam party. #Sarcasm',\n",
    "             'The classiest event a bar can throw is a foam party. ',\n",
    "             'The classiest event a bar can throw is a foam party.',\n",
    "             'The classiest event a bar can throw is a foam party',\n",
    "             '@thehill Sure I\\'ll watch North Korean - China - Russian and Iran news all very creditable sources #sarcasm',\n",
    "             '@thehill Sure I\\'ll watch North Korean - China - Russian and Iran news all very creditable sources ',\n",
    "             '@thehill Sure I\\'ll watch North Korean - China - Russian and Iran news all very creditable sources',\n",
    "             '@mikefreemanNFL Because voicing your beliefs if they\\'re political is worse than actual physical abuse #sarcasm #idiots',\n",
    "             '@mikefreemanNFL Because voicing your beliefs if they\\'re political is worse than actual physical abuse  #idiots',\n",
    "             '@mikefreemanNFL Because voicing your beliefs if they\\'re political is worse than actual physical abuse #idiots',\n",
    "             '@mikefreemanNFL Because voicing your beliefs if they\\'re political is worse than actual physical abuse #',\n",
    "             '@mikefreemanNFL Because voicing your beliefs if they\\'re political is worse than actual physical abuse ',\n",
    "             '@mikefreemanNFL Because voicing your beliefs if they\\'re political is worse than actual physical abuse',\n",
    "             '@mikefreemanNFL Because voicing your beliefs if they\\'re political is worse than actual physical abuse.',\n",
    "    \n",
    "]"
   ]
  },
  {
   "cell_type": "code",
   "execution_count": 19,
   "metadata": {
    "collapsed": false
   },
   "outputs": [
    {
     "name": "stdout",
     "output_type": "stream",
     "text": [
      "Having MS is really easy and fun. #sarcasm\n",
      "\tSarcastic\n",
      "\t95.7730568124%\n",
      "\n",
      "Having MS is really easy and fun. \n",
      "\tSarcastic\n",
      "\t95.7730568124%\n",
      "\n",
      "Having MS is really easy and fun.\n",
      "\tSarcastic\n",
      "\t95.750525886%\n",
      "\n",
      "Having MS is really easy and fun\n",
      "\tSarcastic\n",
      "\t73.1986837306%\n",
      "\n",
      "The classiest event a bar can throw is a foam party. #Sarcasm\n",
      "\tSarcastic\n",
      "\t64.0899195131%\n",
      "\n",
      "The classiest event a bar can throw is a foam party. \n",
      "\tSarcastic\n",
      "\t64.0899195131%\n",
      "\n",
      "The classiest event a bar can throw is a foam party.\n",
      "\tSarcastic\n",
      "\t64.047319944%\n",
      "\n",
      "The classiest event a bar can throw is a foam party\n",
      "\tNon-sarcastic\n",
      "\t91.0680734982%\n",
      "\n",
      "@thehill Sure I'll watch North Korean - China - Russian and Iran news all very creditable sources #sarcasm\n",
      "\tNon-sarcastic\n",
      "\t89.8828590754%\n",
      "\n",
      "@thehill Sure I'll watch North Korean - China - Russian and Iran news all very creditable sources \n",
      "\tNon-sarcastic\n",
      "\t89.8828590754%\n",
      "\n",
      "@thehill Sure I'll watch North Korean - China - Russian and Iran news all very creditable sources\n",
      "\tNon-sarcastic\n",
      "\t89.9032788999%\n",
      "\n",
      "@mikefreemanNFL Because voicing your beliefs if they're political is worse than actual physical abuse #sarcasm #idiots\n",
      "\tNon-sarcastic\n",
      "\t80.0803779452%\n",
      "\n",
      "@mikefreemanNFL Because voicing your beliefs if they're political is worse than actual physical abuse  #idiots\n",
      "\tNon-sarcastic\n",
      "\t80.0803779452%\n",
      "\n",
      "@mikefreemanNFL Because voicing your beliefs if they're political is worse than actual physical abuse #idiots\n",
      "\tNon-sarcastic\n",
      "\t80.0969890562%\n",
      "\n",
      "@mikefreemanNFL Because voicing your beliefs if they're political is worse than actual physical abuse #\n",
      "\tNon-sarcastic\n",
      "\t63.0566355906%\n",
      "\n",
      "@mikefreemanNFL Because voicing your beliefs if they're political is worse than actual physical abuse \n",
      "\tNon-sarcastic\n",
      "\t80.0969890562%\n",
      "\n",
      "@mikefreemanNFL Because voicing your beliefs if they're political is worse than actual physical abuse\n",
      "\tNon-sarcastic\n",
      "\t80.1301801968%\n",
      "\n",
      "@mikefreemanNFL Because voicing your beliefs if they're political is worse than actual physical abuse.\n",
      "\tNon-sarcastic\n",
      "\t51.5091851089%\n",
      "\n"
     ]
    }
   ],
   "source": [
    "test_and_print(test_sarcastic_text, classifier, dvp)"
   ]
  },
  {
   "cell_type": "code",
   "execution_count": 20,
   "metadata": {
    "collapsed": false
   },
   "outputs": [
    {
     "name": "stdout",
     "output_type": "stream",
     "text": [
      "Having MS is really easy and fun. #sarcasm\n",
      "\tSarcastic\n",
      "\t95.750525886%\n",
      "\n",
      "Having MS is really easy and fun. \n",
      "\tSarcastic\n",
      "\t95.750525886%\n",
      "\n",
      "Having MS is really easy and fun.\n",
      "\tSarcastic\n",
      "\t95.750525886%\n",
      "\n",
      "Having MS is really easy and fun\n",
      "\tSarcastic\n",
      "\t73.1986837306%\n",
      "\n",
      "The classiest event a bar can throw is a foam party. #Sarcasm\n",
      "\tSarcastic\n",
      "\t64.047319944%\n",
      "\n",
      "The classiest event a bar can throw is a foam party. \n",
      "\tSarcastic\n",
      "\t64.047319944%\n",
      "\n",
      "The classiest event a bar can throw is a foam party.\n",
      "\tSarcastic\n",
      "\t64.047319944%\n",
      "\n",
      "The classiest event a bar can throw is a foam party\n",
      "\tNon-sarcastic\n",
      "\t91.0680734982%\n",
      "\n",
      "@thehill Sure I'll watch North Korean - China - Russian and Iran news all very creditable sources #sarcasm\n",
      "\tNon-sarcastic\n",
      "\t89.9032788999%\n",
      "\n",
      "@thehill Sure I'll watch North Korean - China - Russian and Iran news all very creditable sources \n",
      "\tNon-sarcastic\n",
      "\t89.9032788999%\n",
      "\n",
      "@thehill Sure I'll watch North Korean - China - Russian and Iran news all very creditable sources\n",
      "\tNon-sarcastic\n",
      "\t89.9032788999%\n",
      "\n",
      "@mikefreemanNFL Because voicing your beliefs if they're political is worse than actual physical abuse #sarcasm #idiots\n",
      "\tNon-sarcastic\n",
      "\t80.1301801968%\n",
      "\n",
      "@mikefreemanNFL Because voicing your beliefs if they're political is worse than actual physical abuse  #idiots\n",
      "\tNon-sarcastic\n",
      "\t80.1301801968%\n",
      "\n",
      "@mikefreemanNFL Because voicing your beliefs if they're political is worse than actual physical abuse #idiots\n",
      "\tNon-sarcastic\n",
      "\t80.1301801968%\n",
      "\n",
      "@mikefreemanNFL Because voicing your beliefs if they're political is worse than actual physical abuse #\n",
      "\tNon-sarcastic\n",
      "\t63.0566355906%\n",
      "\n",
      "@mikefreemanNFL Because voicing your beliefs if they're political is worse than actual physical abuse \n",
      "\tNon-sarcastic\n",
      "\t80.1301801968%\n",
      "\n",
      "@mikefreemanNFL Because voicing your beliefs if they're political is worse than actual physical abuse\n",
      "\tNon-sarcastic\n",
      "\t80.1301801968%\n",
      "\n",
      "@mikefreemanNFL Because voicing your beliefs if they're political is worse than actual physical abuse.\n",
      "\tNon-sarcastic\n",
      "\t51.5091851089%\n",
      "\n"
     ]
    }
   ],
   "source": [
    "alt_test_and_print(test_sarcastic_text, classifier, dvp)"
   ]
  },
  {
   "cell_type": "code",
   "execution_count": 28,
   "metadata": {
    "collapsed": true
   },
   "outputs": [],
   "source": [
    "test_serious_text = [\n",
    "    'Marsch listed Aurelien Collin & Connor Lade as \"day-to-day.\" Keita got a slight knock, didn\\'t train today w/ #RBNY.',\n",
    "    'Marsch listed Aurelien Collin & Connor Lade as \"day-to-day.\" Keita got a slight knock, didn\\'t train today w/ #RBNY. #sarcasm',\n",
    "    'Marsch listed Aurelien Collin & Connor Lade as \"day-to-day.\" Keita got a slight knock, didn\\'t train today w/ #RBNY. ',\n",
    "    'How many retweets to give the Lakers the number 1 pick? @NBA',\n",
    "    'How many retweets to give the Lakers the number 1 pick? @NBA #sarcasm',\n",
    "    'How many retweets to give the Lakers the number 1 pick? @NBA ',\n",
    "    'Never thought that clunkiness/cost of microscope might be holding back public health https://t.co/TQQcvBheDf so $1 microscope exciting!',\n",
    "    'Never thought that clunkiness/cost of microscope might be holding back public health https://t.co/TQQcvBheDf so $1 microscope exciting! #sarcasm',\n",
    "    'Never thought that clunkiness/cost of microscope might be holding back public health https://t.co/TQQcvBheDf so $1 microscope exciting! ',\n",
    "    '@SwiftOnSecurity They sponsor literally every podcast ever, followed by Crunchyroll.',\n",
    "    '@SwiftOnSecurity They sponsor literally every podcast ever, followed by Crunchyroll. #sarcasm',\n",
    "    '@SwiftOnSecurity They sponsor literally every podcast ever, followed by Crunchyroll. ',\n",
    "]"
   ]
  },
  {
   "cell_type": "code",
   "execution_count": 29,
   "metadata": {
    "collapsed": false
   },
   "outputs": [
    {
     "name": "stdout",
     "output_type": "stream",
     "text": [
      "Marsch listed Aurelien Collin & Connor Lade as \"day-to-day.\" Keita got a slight knock, didn't train today w/ #RBNY.\n",
      "\tNon-sarcastic\n",
      "\t97.3463403536%\n",
      "\n",
      "Marsch listed Aurelien Collin & Connor Lade as \"day-to-day.\" Keita got a slight knock, didn't train today w/ #RBNY. #sarcasm\n",
      "\tNon-sarcastic\n",
      "\t97.3323452094%\n",
      "\n",
      "Marsch listed Aurelien Collin & Connor Lade as \"day-to-day.\" Keita got a slight knock, didn't train today w/ #RBNY. \n",
      "\tNon-sarcastic\n",
      "\t97.3323452094%\n",
      "\n",
      "How many retweets to give the Lakers the number 1 pick? @NBA\n",
      "\tNon-sarcastic\n",
      "\t89.8057540459%\n",
      "\n",
      "How many retweets to give the Lakers the number 1 pick? @NBA #sarcasm\n",
      "\tNon-sarcastic\n",
      "\t89.7880724483%\n",
      "\n",
      "How many retweets to give the Lakers the number 1 pick? @NBA \n",
      "\tNon-sarcastic\n",
      "\t89.7880724483%\n",
      "\n",
      "Never thought that clunkiness/cost of microscope might be holding back public health https://t.co/TQQcvBheDf so $1 microscope exciting!\n",
      "\tNon-sarcastic\n",
      "\t83.1653529571%\n",
      "\n",
      "Never thought that clunkiness/cost of microscope might be holding back public health https://t.co/TQQcvBheDf so $1 microscope exciting! #sarcasm\n",
      "\tNon-sarcastic\n",
      "\t83.1476145063%\n",
      "\n",
      "Never thought that clunkiness/cost of microscope might be holding back public health https://t.co/TQQcvBheDf so $1 microscope exciting! \n",
      "\tNon-sarcastic\n",
      "\t83.1476145063%\n",
      "\n",
      "@SwiftOnSecurity They sponsor literally every podcast ever, followed by Crunchyroll.\n",
      "\tNon-sarcastic\n",
      "\t93.1414972207%\n",
      "\n",
      "@SwiftOnSecurity They sponsor literally every podcast ever, followed by Crunchyroll. #sarcasm\n",
      "\tNon-sarcastic\n",
      "\t93.1259330027%\n",
      "\n",
      "@SwiftOnSecurity They sponsor literally every podcast ever, followed by Crunchyroll. \n",
      "\tNon-sarcastic\n",
      "\t93.1259330027%\n",
      "\n"
     ]
    }
   ],
   "source": [
    "test_and_print(test_serious_text, classifier, dvp)"
   ]
  },
  {
   "cell_type": "code",
   "execution_count": 30,
   "metadata": {
    "collapsed": false
   },
   "outputs": [
    {
     "name": "stdout",
     "output_type": "stream",
     "text": [
      "Marsch listed Aurelien Collin & Connor Lade as \"day-to-day.\" Keita got a slight knock, didn't train today w/ #RBNY.\n",
      "\tNon-sarcastic\n",
      "\t97.3463403536%\n",
      "\n",
      "Marsch listed Aurelien Collin & Connor Lade as \"day-to-day.\" Keita got a slight knock, didn't train today w/ #RBNY. #sarcasm\n",
      "\tNon-sarcastic\n",
      "\t97.3463403536%\n",
      "\n",
      "Marsch listed Aurelien Collin & Connor Lade as \"day-to-day.\" Keita got a slight knock, didn't train today w/ #RBNY. \n",
      "\tNon-sarcastic\n",
      "\t97.3463403536%\n",
      "\n",
      "How many retweets to give the Lakers the number 1 pick? @NBA\n",
      "\tNon-sarcastic\n",
      "\t89.8057540459%\n",
      "\n",
      "How many retweets to give the Lakers the number 1 pick? @NBA #sarcasm\n",
      "\tNon-sarcastic\n",
      "\t89.8057540459%\n",
      "\n",
      "How many retweets to give the Lakers the number 1 pick? @NBA \n",
      "\tNon-sarcastic\n",
      "\t89.8057540459%\n",
      "\n",
      "Never thought that clunkiness/cost of microscope might be holding back public health https://t.co/TQQcvBheDf so $1 microscope exciting!\n",
      "\tNon-sarcastic\n",
      "\t83.1653529571%\n",
      "\n",
      "Never thought that clunkiness/cost of microscope might be holding back public health https://t.co/TQQcvBheDf so $1 microscope exciting! #sarcasm\n",
      "\tNon-sarcastic\n",
      "\t83.1653529571%\n",
      "\n",
      "Never thought that clunkiness/cost of microscope might be holding back public health https://t.co/TQQcvBheDf so $1 microscope exciting! \n",
      "\tNon-sarcastic\n",
      "\t83.1653529571%\n",
      "\n",
      "@SwiftOnSecurity They sponsor literally every podcast ever, followed by Crunchyroll.\n",
      "\tNon-sarcastic\n",
      "\t93.1414972207%\n",
      "\n",
      "@SwiftOnSecurity They sponsor literally every podcast ever, followed by Crunchyroll. #sarcasm\n",
      "\tNon-sarcastic\n",
      "\t93.1414972207%\n",
      "\n",
      "@SwiftOnSecurity They sponsor literally every podcast ever, followed by Crunchyroll. \n",
      "\tNon-sarcastic\n",
      "\t93.1414972207%\n",
      "\n"
     ]
    }
   ],
   "source": [
    "alt_test_and_print(test_serious_text, classifier, dvp)"
   ]
  },
  {
   "cell_type": "markdown",
   "metadata": {},
   "source": [
    "### All work as expected"
   ]
  },
  {
   "cell_type": "markdown",
   "metadata": {},
   "source": [
    "# Findings"
   ]
  },
  {
   "cell_type": "markdown",
   "metadata": {},
   "source": [
    "Using repr(text) as the first step in the feature processing pipeline for a tweet caused the addition of quotation marks at the beginning and end of each tweet"
   ]
  },
  {
   "cell_type": "code",
   "execution_count": 32,
   "metadata": {
    "collapsed": false
   },
   "outputs": [
    {
     "data": {
      "text/plain": [
       "\"'Example tweet. #sarcasm'\""
      ]
     },
     "execution_count": 32,
     "metadata": {},
     "output_type": "execute_result"
    }
   ],
   "source": [
    "repr(\"Example tweet. #sarcasm\")"
   ]
  },
  {
   "cell_type": "code",
   "execution_count": 33,
   "metadata": {
    "collapsed": false
   },
   "outputs": [
    {
     "data": {
      "text/plain": [
       "\"'Example tweet.'\""
      ]
     },
     "execution_count": 33,
     "metadata": {},
     "output_type": "execute_result"
    }
   ],
   "source": [
    "repr(\"Example tweet.\")"
   ]
  },
  {
   "cell_type": "code",
   "execution_count": 4,
   "metadata": {
    "collapsed": false,
    "scrolled": true
   },
   "outputs": [
    {
     "name": "stdout",
     "output_type": "stream",
     "text": [
      "([\"'Example\", 'tweet', '.', \"'\"], \"'Example tweet.'\")\n",
      "(['Example', 'tweet', '.'], 'Example tweet.')\n"
     ]
    }
   ],
   "source": [
    "print(nlp.cleanTokensTwitter(repr(\"Example tweet.\")))\n",
    "print(nlp.cleanTokensTwitter(\"Example tweet.\"))"
   ]
  },
  {
   "cell_type": "code",
   "execution_count": 5,
   "metadata": {
    "collapsed": false
   },
   "outputs": [
    {
     "name": "stdout",
     "output_type": "stream",
     "text": [
      "([\"'Example\", 'tweet.', \"'\"], \"'Example tweet. '\")\n",
      "(['Example', 'tweet', '.'], 'Example tweet. ')\n"
     ]
    }
   ],
   "source": [
    "print(nlp.cleanTokensTwitter(repr(\"Example tweet. #sarcasm\")))\n",
    "print(nlp.cleanTokensTwitter(\"Example tweet. #sarcasm\"))"
   ]
  },
  {
   "cell_type": "markdown",
   "metadata": {},
   "source": [
    "### How did this drastically affect the classifier?"
   ]
  },
  {
   "cell_type": "markdown",
   "metadata": {
    "collapsed": false
   },
   "source": [
    "#### For all features EXCEPT punctuation, the tokens of the tweet were used. In all cases, repr(text) replaced text as the first step in the feature processing pipeline"
   ]
  },
  {
   "cell_type": "code",
   "execution_count": 14,
   "metadata": {
    "collapsed": false
   },
   "outputs": [
    {
     "name": "stdout",
     "output_type": "stream",
     "text": [
      "(['Having', 'MS', 'is', 'really', 'easy', 'and', 'fun', '.'], 'Having MS is really easy and fun. ')\n",
      "([\"'Having\", 'MS', 'is', 'really', 'easy', 'and', 'fun.', \"'\"], \"'Having MS is really easy and fun. '\")\n"
     ]
    }
   ],
   "source": [
    "# 'Having MS is really easy and fun. #sarcasm', 87.306% sarcastic\n",
    "# 'Having MS is really easy and fun. ', 87.306% sarcastic\n",
    "# 'Having MS is really easy and fun.', 92.960% non-sarcastic\n",
    "# 'Having MS is really easy and fun', 56.623% sarcastic\n",
    "\n",
    "print(nlp.cleanTokensTwitter('Having MS is really easy and fun. #sarcasm'))\n",
    "print(nlp.cleanTokensTwitter(repr('Having MS is really easy and fun. #sarcasm')))"
   ]
  },
  {
   "cell_type": "code",
   "execution_count": 16,
   "metadata": {
    "collapsed": false
   },
   "outputs": [
    {
     "name": "stdout",
     "output_type": "stream",
     "text": [
      "(['Having', 'MS', 'is', 'really', 'easy', 'and', 'fun', '.'], 'Having MS is really easy and fun. ')\n",
      "([\"'Having\", 'MS', 'is', 'really', 'easy', 'and', 'fun.', \"'\"], \"'Having MS is really easy and fun. '\")\n"
     ]
    }
   ],
   "source": [
    "print(nlp.cleanTokensTwitter('Having MS is really easy and fun. '))\n",
    "print(nlp.cleanTokensTwitter(repr('Having MS is really easy and fun. ')))"
   ]
  },
  {
   "cell_type": "code",
   "execution_count": 17,
   "metadata": {
    "collapsed": false
   },
   "outputs": [
    {
     "name": "stdout",
     "output_type": "stream",
     "text": [
      "(['Having', 'MS', 'is', 'really', 'easy', 'and', 'fun', '.'], 'Having MS is really easy and fun.')\n",
      "([\"'Having\", 'MS', 'is', 'really', 'easy', 'and', 'fun', '.', \"'\"], \"'Having MS is really easy and fun.'\")\n"
     ]
    }
   ],
   "source": [
    "print(nlp.cleanTokensTwitter('Having MS is really easy and fun.'))\n",
    "print(nlp.cleanTokensTwitter(repr('Having MS is really easy and fun.')))"
   ]
  },
  {
   "cell_type": "code",
   "execution_count": 18,
   "metadata": {
    "collapsed": false
   },
   "outputs": [
    {
     "name": "stdout",
     "output_type": "stream",
     "text": [
      "(['Having', 'MS', 'is', 'really', 'easy', 'and', 'fun'], 'Having MS is really easy and fun')\n",
      "([\"'Having\", 'MS', 'is', 'really', 'easy', 'and', 'fun', \"'\"], \"'Having MS is really easy and fun'\")\n"
     ]
    }
   ],
   "source": [
    "print(nlp.cleanTokensTwitter('Having MS is really easy and fun'))\n",
    "print(nlp.cleanTokensTwitter(repr('Having MS is really easy and fun')))"
   ]
  },
  {
   "cell_type": "markdown",
   "metadata": {},
   "source": [
    "#### N-grams are affected. The first word in a tweet is matched to the n-gram 'word instead of word\n",
    "\n",
    "#### In cases where a dangling space occurs at the end of the tweet, such as when the tweet ends with a hashtag, the last word is matched to the n-gram word. instead of word\n",
    "\n",
    "#### When no dangling space exists, the period character appears as its own n-gram. It is likely that the classifier relied heavily on the period n-gram being present in non-sarcastic tweets and not appearing in sarcastic tweets."
   ]
  },
  {
   "cell_type": "markdown",
   "metadata": {},
   "source": [
    "#### Looking at an example without periods"
   ]
  },
  {
   "cell_type": "code",
   "execution_count": 19,
   "metadata": {
    "collapsed": false
   },
   "outputs": [
    {
     "name": "stdout",
     "output_type": "stream",
     "text": [
      "(['NameTOK', 'Sure', 'I', \"'ll\", 'watch', 'North', 'Korean', '-', 'China', '-', 'Russian', 'and', 'Iran', 'news', 'all', 'very', 'creditable', 'sources'], \"NameTOK Sure I'll watch North Korean - China - Russian and Iran news all very creditable sources \")\n",
      "(['``', 'NameTOK', 'Sure', 'I', \"'ll\", 'watch', 'North', 'Korean', '-', 'China', '-', 'Russian', 'and', 'Iran', 'news', 'all', 'very', 'creditable', 'sources', '``'], '\"NameTOK Sure I\\'ll watch North Korean - China - Russian and Iran news all very creditable sources \"')\n"
     ]
    }
   ],
   "source": [
    "# \"@thehill Sure I'll watch North Korean - China - Russian and Iran news all very creditable sources #sarcasm\" 80.584% sarcastic\n",
    "# \"@thehill Sure I'll watch North Korean - China - Russian and Iran news all very creditable sources \" 80.584% sarcastic\n",
    "# \"@thehill Sure I'll watch North Korean - China - Russian and Iran news all very creditable sources\" 97.336% non-sarcastic\n",
    "\n",
    "print(nlp.cleanTokensTwitter(\"@thehill Sure I'll watch North Korean - China - Russian and Iran news all very creditable sources #sarcasm\"))\n",
    "print(nlp.cleanTokensTwitter(repr(\"@thehill Sure I'll watch North Korean - China - Russian and Iran news all very creditable sources #sarcasm\")))"
   ]
  },
  {
   "cell_type": "code",
   "execution_count": 20,
   "metadata": {
    "collapsed": false,
    "scrolled": true
   },
   "outputs": [
    {
     "name": "stdout",
     "output_type": "stream",
     "text": [
      "(['NameTOK', 'Sure', 'I', \"'ll\", 'watch', 'North', 'Korean', '-', 'China', '-', 'Russian', 'and', 'Iran', 'news', 'all', 'very', 'creditable', 'sources'], \"NameTOK Sure I'll watch North Korean - China - Russian and Iran news all very creditable sources \")\n",
      "(['``', 'NameTOK', 'Sure', 'I', \"'ll\", 'watch', 'North', 'Korean', '-', 'China', '-', 'Russian', 'and', 'Iran', 'news', 'all', 'very', 'creditable', 'sources', '``'], '\"NameTOK Sure I\\'ll watch North Korean - China - Russian and Iran news all very creditable sources \"')\n"
     ]
    }
   ],
   "source": [
    "print(nlp.cleanTokensTwitter(\"@thehill Sure I'll watch North Korean - China - Russian and Iran news all very creditable sources \"))\n",
    "print(nlp.cleanTokensTwitter(repr(\"@thehill Sure I'll watch North Korean - China - Russian and Iran news all very creditable sources \")))"
   ]
  },
  {
   "cell_type": "code",
   "execution_count": 21,
   "metadata": {
    "collapsed": false,
    "scrolled": true
   },
   "outputs": [
    {
     "name": "stdout",
     "output_type": "stream",
     "text": [
      "(['NameTOK', 'Sure', 'I', \"'ll\", 'watch', 'North', 'Korean', '-', 'China', '-', 'Russian', 'and', 'Iran', 'news', 'all', 'very', 'creditable', 'sources'], \"NameTOK Sure I'll watch North Korean - China - Russian and Iran news all very creditable sources\")\n",
      "(['``', 'NameTOK', 'Sure', 'I', \"'ll\", 'watch', 'North', 'Korean', '-', 'China', '-', 'Russian', 'and', 'Iran', 'news', 'all', 'very', 'creditable', 'sources', \"''\"], '\"NameTOK Sure I\\'ll watch North Korean - China - Russian and Iran news all very creditable sources\"')\n"
     ]
    }
   ],
   "source": [
    "print(nlp.cleanTokensTwitter(\"@thehill Sure I'll watch North Korean - China - Russian and Iran news all very creditable sources\"))\n",
    "print(nlp.cleanTokensTwitter(repr(\"@thehill Sure I'll watch North Korean - China - Russian and Iran news all very creditable sources\")))"
   ]
  },
  {
   "cell_type": "markdown",
   "metadata": {},
   "source": [
    "#### A new artifact appears when a character that needs to be escaped when represented as a python string appears in the tweet. This is the `` character. When there is a dangling space, it appears as a token twice (once at the beginning, once at the end). When there is no dangling space, it only appears once at the beginning, and a new token '' appears at the end."
   ]
  },
  {
   "cell_type": "code",
   "execution_count": 110,
   "metadata": {
    "collapsed": false
   },
   "outputs": [
    {
     "name": "stdout",
     "output_type": "stream",
     "text": [
      "True grm2 ' i 2.06082484964\n",
      "True grm1 hashtag 2.21268505752\n",
      "True grm1 shocked 2.23309305865\n",
      "True grm1 sarcastic 2.31216836499\n",
      "True grm1 'Shocking 2.37029510357\n",
      "True grm1 'Yay 2.40244926147\n",
      "True grm1 ' 2.60837610358\n",
      "True grm1 sarcasm 2.80359433667\n",
      "True grm2 ' RT 3.02907186299\n",
      "True ._RAW/TOTAL_PUNCT_FOUND 3.53482770131\n"
     ]
    }
   ],
   "source": [
    "most_informative_feature_for_class(dvp, classifier, True)"
   ]
  },
  {
   "cell_type": "code",
   "execution_count": 111,
   "metadata": {
    "collapsed": false
   },
   "outputs": [
    {
     "name": "stdout",
     "output_type": "stream",
     "text": [
      "False TOTAL/LENGTH -6.05327004015\n",
      "False '_RAW/LEN -4.3633856018\n",
      "False grm2 . ' -1.85792898937\n",
      "False \"_RAW/TOTAL_PUNCT_FOUND -1.7348314888\n",
      "False grm1 nude -1.55488148816\n",
      "False grm1 nigga -1.53288527986\n",
      "False '_RAW/TOTAL_PUNCT_FOUND -1.50268372428\n",
      "False grm1 'i -1.49072647577\n",
      "False grm1 porn -1.46982345929\n",
      "False grm1 sex -1.45558813682\n"
     ]
    }
   ],
   "source": [
    "most_informative_feature_for_class(dvp, classifier, False)"
   ]
  },
  {
   "cell_type": "markdown",
   "metadata": {
    "collapsed": true
   },
   "source": [
    "## Comparing new classifier to old"
   ]
  },
  {
   "cell_type": "code",
   "execution_count": 5,
   "metadata": {
    "collapsed": false
   },
   "outputs": [],
   "source": [
    "X = pickle.load(open(pickle_path + '-twitter-X.pickle', 'rb'))\n",
    "y = pickle.load(open(pickle_path + '-twitter-y.pickle', 'rb'))\n",
    "\n",
    "X_v2 = pickle.load(open(pickle_path + '-twitter-X-v2.pickle', 'rb'))\n",
    "y_v2 = pickle.load(open(pickle_path + '-twitter-y-v2.pickle', 'rb'))\n",
    "\n",
    "dvp = pickle.load(open(pickle_path + '-twitter-dvp.pickle', 'rb'))\n",
    "dvp_v2 = pickle.load(open(pickle_path + '-twitter-dvp-v2.pickle', 'rb'))\n",
    "\n",
    "classifier = pickle.load(open(pickle_path + '-twitter-trained.pickle', 'rb'))\n",
    "classifier_v2 = pickle.load(open(pickle_path + '-twitter-trained-v2.pickle', 'rb'))"
   ]
  },
  {
   "cell_type": "code",
   "execution_count": 108,
   "metadata": {
    "collapsed": false
   },
   "outputs": [
    {
     "data": {
      "text/plain": [
       "(0,\n",
       " 0.8,\n",
       " [(MultinomialNB(alpha=1.0, class_prior=None, fit_prior=True),\n",
       "   1.382722,\n",
       "   0.82637281229743498),\n",
       "  (MultinomialNB(alpha=1.0, class_prior=None, fit_prior=True),\n",
       "   0.784222,\n",
       "   0.82521529771275115),\n",
       "  (MultinomialNB(alpha=1.0, class_prior=None, fit_prior=True),\n",
       "   1.083756,\n",
       "   0.82509954625428283)])"
      ]
     },
     "execution_count": 108,
     "metadata": {},
     "output_type": "execute_result"
    }
   ],
   "source": [
    "best_classifier = find_best_classifier(classifier)\n",
    "best_classifier"
   ]
  },
  {
   "cell_type": "code",
   "execution_count": 109,
   "metadata": {
    "collapsed": false
   },
   "outputs": [
    {
     "data": {
      "text/plain": [
       "(0,\n",
       " 0.8,\n",
       " [(MultinomialNB(alpha=1.0, class_prior=None, fit_prior=True),\n",
       "   0.738366,\n",
       "   0.80681081581627934),\n",
       "  (MultinomialNB(alpha=1.0, class_prior=None, fit_prior=True),\n",
       "   0.667845,\n",
       "   0.80442633577183076),\n",
       "  (MultinomialNB(alpha=1.0, class_prior=None, fit_prior=True),\n",
       "   0.678312,\n",
       "   0.8062783591073247)])"
      ]
     },
     "execution_count": 109,
     "metadata": {},
     "output_type": "execute_result"
    }
   ],
   "source": [
    "best_classifier_v2 = find_best_classifier(classifier_v2)\n",
    "best_classifier_v2"
   ]
  },
  {
   "cell_type": "code",
   "execution_count": 131,
   "metadata": {
    "collapsed": false
   },
   "outputs": [
    {
     "name": "stdout",
     "output_type": "stream",
     "text": [
      "True vow2 1 0 -4.67103712541\n",
      "True syl3 1 1 1 -4.64666336094\n",
      "True vow1 0 -4.30103173968\n",
      "True syl2 1 1 -4.22686706271\n",
      "True TOTAL -4.12326270071\n",
      "True vow4 1 1 1 1 -3.97697172696\n",
      "True syl1 1 -3.82194554257\n",
      "True vow3 1 1 1 -3.72575415861\n",
      "True vow2 1 1 -3.48113540597\n",
      "True vow1 1 -3.21550830719\n",
      "None\n",
      "False \\_RAW -16.3595783804\n",
      "False \\_RAW/LEN -16.3595783804\n",
      "False \\_RAW/TOTAL_PUNCT_FOUND -16.3595783804\n",
      "False grm1 ''A -16.3595783804\n",
      "False grm1 ''Come -16.3595783804\n",
      "False grm1 ''Disaster -16.3595783804\n",
      "False grm1 ''Do -16.3595783804\n",
      "False grm1 ''IT -16.3595783804\n",
      "False grm1 ''Mona -16.3595783804\n",
      "False grm1 ''Not -16.3595783804\n",
      "None\n"
     ]
    }
   ],
   "source": [
    "print(most_informative_feature_for_class(dvp, best_classifier[2][0][0], True))\n",
    "print(most_informative_feature_for_class(dvp, best_classifier[2][0][0], False))"
   ]
  },
  {
   "cell_type": "code",
   "execution_count": 129,
   "metadata": {
    "collapsed": false
   },
   "outputs": [
    {
     "name": "stdout",
     "output_type": "stream",
     "text": [
      "True vow2 1 0 -4.78157844314\n",
      "True vow1 0 -4.58288805128\n",
      "True TOTAL -4.56200077533\n",
      "True syl3 1 1 1 -4.53490867122\n",
      "True syl2 1 1 -4.11821302026\n",
      "True vow4 1 1 1 1 -3.89865460923\n",
      "True syl1 1 -3.71596691971\n",
      "True vow3 1 1 1 -3.64635005398\n",
      "True vow2 1 1 -3.39909197263\n",
      "True vow1 1 -3.13091109146\n",
      "None\n",
      "False \\_RAW -16.2730555273\n",
      "False \\_RAW/LEN -16.2730555273\n",
      "False \\_RAW/TOTAL_PUNCT_FOUND -16.2730555273\n",
      "False grm1 ''A -16.2730555273\n",
      "False grm1 ''Come -16.2730555273\n",
      "False grm1 ''Disaster -16.2730555273\n",
      "False grm1 ''Do -16.2730555273\n",
      "False grm1 ''IT -16.2730555273\n",
      "False grm1 ''Mona -16.2730555273\n",
      "False grm1 ''Not -16.2730555273\n",
      "None\n"
     ]
    }
   ],
   "source": [
    "print(most_informative_feature_for_class(dvp_v2, best_classifier_v2[2][0][0], True))\n",
    "print(most_informative_feature_for_class(dvp_v2, best_classifier_v2[2][0][0], False))"
   ]
  },
  {
   "cell_type": "code",
   "execution_count": 122,
   "metadata": {
    "collapsed": true
   },
   "outputs": [],
   "source": [
    "log_classifiers = pickle.load(open('-twitter-trained-log87.pickle', 'rb'))\n",
    "dvp_log = pickle.load(open('-twitter-dvp87.pickle', 'rb'))"
   ]
  },
  {
   "cell_type": "code",
   "execution_count": 124,
   "metadata": {
    "collapsed": false
   },
   "outputs": [
    {
     "data": {
      "text/plain": [
       "(0,\n",
       " 0.8,\n",
       " [(LogisticRegression(C=1.0, class_weight=None, dual=False, fit_intercept=True,\n",
       "             intercept_scaling=1, max_iter=100, multi_class='ovr', n_jobs=-1,\n",
       "             penalty='l2', random_state=None, solver='liblinear', tol=0.0001,\n",
       "             verbose=0, warm_start=False), 415.732046, 0.86950180572275215),\n",
       "  (LogisticRegression(C=1.0, class_weight=None, dual=False, fit_intercept=True,\n",
       "             intercept_scaling=1, max_iter=100, multi_class='ovr', n_jobs=-1,\n",
       "             penalty='l2', random_state=None, solver='liblinear', tol=0.0001,\n",
       "             verbose=0, warm_start=False), 417.592044, 0.8732290026854338)])"
      ]
     },
     "execution_count": 124,
     "metadata": {},
     "output_type": "execute_result"
    }
   ],
   "source": [
    "best_classifier_log = find_best_classifier(log_classifiers)\n",
    "best_classifier_log"
   ]
  },
  {
   "cell_type": "code",
   "execution_count": 128,
   "metadata": {
    "collapsed": false
   },
   "outputs": [
    {
     "name": "stdout",
     "output_type": "stream",
     "text": [
      "True grm2 ' i 2.06082484964\n",
      "True grm1 hashtag 2.21268505752\n",
      "True grm1 shocked 2.23309305865\n",
      "True grm1 sarcastic 2.31216836499\n",
      "True grm1 'Shocking 2.37029510357\n",
      "True grm1 'Yay 2.40244926147\n",
      "True grm1 ' 2.60837610358\n",
      "True grm1 sarcasm 2.80359433667\n",
      "True grm2 ' RT 3.02907186299\n",
      "True ._RAW/TOTAL_PUNCT_FOUND 3.53482770131\n",
      "None\n",
      "False TOTAL/LENGTH -6.05327004015\n",
      "False '_RAW/LEN -4.3633856018\n",
      "False grm2 . ' -1.85792898937\n",
      "False \"_RAW/TOTAL_PUNCT_FOUND -1.7348314888\n",
      "False grm1 nude -1.55488148816\n",
      "False grm1 nigga -1.53288527986\n",
      "False '_RAW/TOTAL_PUNCT_FOUND -1.50268372428\n",
      "False grm1 'i -1.49072647577\n",
      "False grm1 porn -1.46982345929\n",
      "False grm1 sex -1.45558813682\n",
      "None\n"
     ]
    }
   ],
   "source": [
    "print(most_informative_feature_for_class(dvp_log, best_classifier_log[2][1][0], True))\n",
    "print(most_informative_feature_for_class(dvp_log, best_classifier_log[2][1][0], False))"
   ]
  },
  {
   "cell_type": "code",
   "execution_count": 134,
   "metadata": {
    "collapsed": false
   },
   "outputs": [
    {
     "name": "stdout",
     "output_type": "stream",
     "text": [
      "Having MS is really easy and fun. #sarcasm\n",
      "\tSarcastic\n",
      "\t95.750525886%\n",
      "\n",
      "Having MS is really easy and fun. \n",
      "\tSarcastic\n",
      "\t95.750525886%\n",
      "\n",
      "Having MS is really easy and fun.\n",
      "\tSarcastic\n",
      "\t95.750525886%\n",
      "\n",
      "Having MS is really easy and fun\n",
      "\tSarcastic\n",
      "\t73.1986837306%\n",
      "\n",
      "The classiest event a bar can throw is a foam party. #Sarcasm\n",
      "\tSarcastic\n",
      "\t64.047319944%\n",
      "\n",
      "The classiest event a bar can throw is a foam party. \n",
      "\tSarcastic\n",
      "\t64.047319944%\n",
      "\n",
      "The classiest event a bar can throw is a foam party.\n",
      "\tSarcastic\n",
      "\t64.047319944%\n",
      "\n",
      "The classiest event a bar can throw is a foam party\n",
      "\tNon-sarcastic\n",
      "\t91.0680734982%\n",
      "\n",
      "@thehill Sure I'll watch North Korean - China - Russian and Iran news all very creditable sources #sarcasm\n",
      "\tNon-sarcastic\n",
      "\t89.9032788999%\n",
      "\n",
      "@thehill Sure I'll watch North Korean - China - Russian and Iran news all very creditable sources \n",
      "\tNon-sarcastic\n",
      "\t89.9032788999%\n",
      "\n",
      "@thehill Sure I'll watch North Korean - China - Russian and Iran news all very creditable sources\n",
      "\tNon-sarcastic\n",
      "\t89.9032788999%\n",
      "\n",
      "@mikefreemanNFL Because voicing your beliefs if they're political is worse than actual physical abuse #sarcasm #idiots\n",
      "\tNon-sarcastic\n",
      "\t80.1301801968%\n",
      "\n",
      "@mikefreemanNFL Because voicing your beliefs if they're political is worse than actual physical abuse  #idiots\n",
      "\tNon-sarcastic\n",
      "\t80.1301801968%\n",
      "\n",
      "@mikefreemanNFL Because voicing your beliefs if they're political is worse than actual physical abuse #idiots\n",
      "\tNon-sarcastic\n",
      "\t80.1301801968%\n",
      "\n",
      "@mikefreemanNFL Because voicing your beliefs if they're political is worse than actual physical abuse #\n",
      "\tNon-sarcastic\n",
      "\t63.0566355906%\n",
      "\n",
      "@mikefreemanNFL Because voicing your beliefs if they're political is worse than actual physical abuse \n",
      "\tNon-sarcastic\n",
      "\t80.1301801968%\n",
      "\n",
      "@mikefreemanNFL Because voicing your beliefs if they're political is worse than actual physical abuse\n",
      "\tNon-sarcastic\n",
      "\t80.1301801968%\n",
      "\n",
      "@mikefreemanNFL Because voicing your beliefs if they're political is worse than actual physical abuse.\n",
      "\tNon-sarcastic\n",
      "\t51.5091851089%\n",
      "\n"
     ]
    }
   ],
   "source": [
    "test_and_print(test_sarcastic_text, best_classifier_log[2][1][0], dvp_log)"
   ]
  },
  {
   "cell_type": "code",
   "execution_count": 135,
   "metadata": {
    "collapsed": false
   },
   "outputs": [
    {
     "name": "stdout",
     "output_type": "stream",
     "text": [
      "Having MS is really easy and fun. #sarcasm\n",
      "\tNon-sarcastic\n",
      "\t99.9900484085%\n",
      "\n",
      "Having MS is really easy and fun. \n",
      "\tNon-sarcastic\n",
      "\t99.9900484085%\n",
      "\n",
      "Having MS is really easy and fun.\n",
      "\tNon-sarcastic\n",
      "\t99.9900484085%\n",
      "\n",
      "Having MS is really easy and fun\n",
      "\tNon-sarcastic\n",
      "\t99.9914871042%\n",
      "\n",
      "The classiest event a bar can throw is a foam party. #Sarcasm\n",
      "\tNon-sarcastic\n",
      "\t99.9999852666%\n",
      "\n",
      "The classiest event a bar can throw is a foam party. \n",
      "\tNon-sarcastic\n",
      "\t99.9999852666%\n",
      "\n",
      "The classiest event a bar can throw is a foam party.\n",
      "\tNon-sarcastic\n",
      "\t99.9999852666%\n",
      "\n",
      "The classiest event a bar can throw is a foam party\n",
      "\tNon-sarcastic\n",
      "\t99.9999871479%\n",
      "\n",
      "@thehill Sure I'll watch North Korean - China - Russian and Iran news all very creditable sources #sarcasm\n",
      "\tNon-sarcastic\n",
      "\t100.0%\n",
      "\n",
      "@thehill Sure I'll watch North Korean - China - Russian and Iran news all very creditable sources \n",
      "\tNon-sarcastic\n",
      "\t100.0%\n",
      "\n",
      "@thehill Sure I'll watch North Korean - China - Russian and Iran news all very creditable sources\n",
      "\tNon-sarcastic\n",
      "\t100.0%\n",
      "\n",
      "@mikefreemanNFL Because voicing your beliefs if they're political is worse than actual physical abuse #sarcasm #idiots\n",
      "\tNon-sarcastic\n",
      "\t99.7633681723%\n",
      "\n",
      "@mikefreemanNFL Because voicing your beliefs if they're political is worse than actual physical abuse  #idiots\n",
      "\tNon-sarcastic\n",
      "\t99.7633681723%\n",
      "\n",
      "@mikefreemanNFL Because voicing your beliefs if they're political is worse than actual physical abuse #idiots\n",
      "\tNon-sarcastic\n",
      "\t99.7633681723%\n",
      "\n",
      "@mikefreemanNFL Because voicing your beliefs if they're political is worse than actual physical abuse #\n",
      "\tNon-sarcastic\n",
      "\t94.4943750844%\n",
      "\n",
      "@mikefreemanNFL Because voicing your beliefs if they're political is worse than actual physical abuse \n",
      "\tNon-sarcastic\n",
      "\t99.7633681723%\n",
      "\n",
      "@mikefreemanNFL Because voicing your beliefs if they're political is worse than actual physical abuse\n",
      "\tNon-sarcastic\n",
      "\t99.7633681723%\n",
      "\n",
      "@mikefreemanNFL Because voicing your beliefs if they're political is worse than actual physical abuse.\n",
      "\tNon-sarcastic\n",
      "\t99.9017764607%\n",
      "\n"
     ]
    }
   ],
   "source": [
    "test_and_print(test_sarcastic_text, best_classifier[2][0][0], dvp)"
   ]
  },
  {
   "cell_type": "code",
   "execution_count": 136,
   "metadata": {
    "collapsed": false
   },
   "outputs": [
    {
     "name": "stdout",
     "output_type": "stream",
     "text": [
      "Having MS is really easy and fun. #sarcasm\n",
      "\tNon-sarcastic\n",
      "\t98.6062428586%\n",
      "\n",
      "Having MS is really easy and fun. \n",
      "\tNon-sarcastic\n",
      "\t98.6062428586%\n",
      "\n",
      "Having MS is really easy and fun.\n",
      "\tNon-sarcastic\n",
      "\t98.6062428586%\n",
      "\n",
      "Having MS is really easy and fun\n",
      "\tNon-sarcastic\n",
      "\t99.9039874851%\n",
      "\n",
      "The classiest event a bar can throw is a foam party. #Sarcasm\n",
      "\tNon-sarcastic\n",
      "\t99.999998879%\n",
      "\n",
      "The classiest event a bar can throw is a foam party. \n",
      "\tNon-sarcastic\n",
      "\t99.999998879%\n",
      "\n",
      "The classiest event a bar can throw is a foam party.\n",
      "\tNon-sarcastic\n",
      "\t99.999998879%\n",
      "\n",
      "The classiest event a bar can throw is a foam party\n",
      "\tNon-sarcastic\n",
      "\t99.9999999396%\n",
      "\n",
      "@thehill Sure I'll watch North Korean - China - Russian and Iran news all very creditable sources #sarcasm\n",
      "\tNon-sarcastic\n",
      "\t100.0%\n",
      "\n",
      "@thehill Sure I'll watch North Korean - China - Russian and Iran news all very creditable sources \n",
      "\tNon-sarcastic\n",
      "\t100.0%\n",
      "\n",
      "@thehill Sure I'll watch North Korean - China - Russian and Iran news all very creditable sources\n",
      "\tNon-sarcastic\n",
      "\t100.0%\n",
      "\n",
      "@mikefreemanNFL Because voicing your beliefs if they're political is worse than actual physical abuse #sarcasm #idiots\n",
      "\tNon-sarcastic\n",
      "\t99.6973564031%\n",
      "\n",
      "@mikefreemanNFL Because voicing your beliefs if they're political is worse than actual physical abuse  #idiots\n",
      "\tNon-sarcastic\n",
      "\t99.6973564031%\n",
      "\n",
      "@mikefreemanNFL Because voicing your beliefs if they're political is worse than actual physical abuse #idiots\n",
      "\tNon-sarcastic\n",
      "\t99.6973564031%\n",
      "\n",
      "@mikefreemanNFL Because voicing your beliefs if they're political is worse than actual physical abuse #\n",
      "\tNon-sarcastic\n",
      "\t89.6174767276%\n",
      "\n",
      "@mikefreemanNFL Because voicing your beliefs if they're political is worse than actual physical abuse \n",
      "\tNon-sarcastic\n",
      "\t99.6973564031%\n",
      "\n",
      "@mikefreemanNFL Because voicing your beliefs if they're political is worse than actual physical abuse\n",
      "\tNon-sarcastic\n",
      "\t99.6973564031%\n",
      "\n",
      "@mikefreemanNFL Because voicing your beliefs if they're political is worse than actual physical abuse.\n",
      "\tNon-sarcastic\n",
      "\t96.0460018088%\n",
      "\n"
     ]
    }
   ],
   "source": [
    "test_and_print(test_sarcastic_text, best_classifier_v2[2][0][0], dvp_v2)"
   ]
  }
 ],
 "metadata": {
  "anaconda-cloud": {},
  "kernelspec": {
   "display_name": "Python [conda env:senior-design]",
   "language": "python",
   "name": "conda-env-senior-design-py"
  },
  "language_info": {
   "codemirror_mode": {
    "name": "ipython",
    "version": 3
   },
   "file_extension": ".py",
   "mimetype": "text/x-python",
   "name": "python",
   "nbconvert_exporter": "python",
   "pygments_lexer": "ipython3",
   "version": "3.5.2"
  }
 },
 "nbformat": 4,
 "nbformat_minor": 1
}
