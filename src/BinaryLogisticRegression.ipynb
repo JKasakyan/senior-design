{
 "cells": [
  {
   "cell_type": "code",
   "execution_count": null,
   "metadata": {
    "collapsed": false
   },
   "outputs": [],
   "source": [
    "%matplotlib inline\n",
    "import matplotlib.pyplot as plt\n",
    "import numpy as np\n",
    "from itertools import islice\n",
    "import pprint\n",
    "from hashtag_removal import removeHashtags\n",
    "from sklearn.feature_extraction import DictVectorizer\n",
    "from sklearn.model_selection import train_test_split\n",
    "from sklearn.linear_model import LogisticRegression\n",
    "import pandas as pd\n",
    "\n",
    "from basic_nlp import punctuationFeatures\n",
    "from json_io import tweet_iterate, tweet_map, replaceLinksMentions, list_to_json\n",
    "\n",
    "pp = pprint.PrettyPrinter(indent=4)\n",
    "vec = DictVectorizer()"
   ]
  },
  {
   "cell_type": "markdown",
   "metadata": {},
   "source": [
    "## Datasets"
   ]
  },
  {
   "cell_type": "code",
   "execution_count": null,
   "metadata": {
    "collapsed": false
   },
   "outputs": [],
   "source": [
    "SARCASTIC_PATH = \"../json/sarcastic/unique.json\"\n",
    "NON_SARCASTIC_PATH = \"../json/non_sarcastic/unique.json\"\n",
    "\n",
    "NUM_TWEETS = 10000\n",
    "ESTIMATED_TOTAL_TWEETS = 30000\n",
    "RAND_START = np.random.randint(0, ESTIMATED_TOTAL_TWEETS-NUM_TWEETS)\n",
    "\n",
    "def sarcasm_map(tweet):\n",
    "    tweet[\"sarcastic\"] = True\n",
    "    return tweet\n",
    "    \n",
    "def non_sarcasm_map(tweet):\n",
    "    tweet[\"sarcastic\"] = False\n",
    "    return tweet\n",
    "\n",
    "sarcastic_dataset = tweet_map(list(islice(tweet_iterate(SARCASTIC_PATH), RAND_START, RAND_START + NUM_TWEETS)), sarcasm_map)\n",
    "non_sarcastic_dataset = tweet_map(list(islice(tweet_iterate(NON_SARCASTIC_PATH), RAND_START, RAND_START + NUM_TWEETS)), non_sarcasm_map)"
   ]
  },
  {
   "cell_type": "code",
   "execution_count": null,
   "metadata": {
    "collapsed": false
   },
   "outputs": [],
   "source": [
    "print(len(sarcastic_dataset))\n",
    "print(len(non_sarcastic_dataset))"
   ]
  },
  {
   "cell_type": "markdown",
   "metadata": {},
   "source": [
    "## Compute features"
   ]
  },
  {
   "cell_type": "code",
   "execution_count": null,
   "metadata": {
    "collapsed": true
   },
   "outputs": [],
   "source": [
    "def process_tweet(tweet, features):\n",
    "    \n",
    "    sarcastic = tweet[\"sarcastic\"]\n",
    "    tweet[\"original_text\"] = tweet[\"text\"]\n",
    "    \n",
    "    tweet[\"text\"] = removeHashtags(tweet)[\"text\"]\n",
    "    replaceLinksMentions(tweet)\n",
    "    \n",
    "    if \"punctuation_features\" in features:\n",
    "        tweet[\"punctuation_features\"] = punctuationFeatures(tweet[\"ner_text\"])\n",
    "    \n",
    "    return tweet"
   ]
  },
  {
   "cell_type": "code",
   "execution_count": null,
   "metadata": {
    "collapsed": false
   },
   "outputs": [],
   "source": [
    "def process_tweets(tweets, features, step_size=1000, save=False, save_path=\"../json/\"):\n",
    "    \n",
    "    flatten = lambda list_of_lsts: [elem for lst in list_of_lsts for elem in lst]\n",
    "    \n",
    "    processed = []\n",
    "    temp_processed = []\n",
    "    for index, tweet in enumerate(tweets):\n",
    "        if index % step_size == 0:\n",
    "            if temp_processed:\n",
    "                if save:\n",
    "                    list_to_json(temp_processed, \"{}temp_{}.json\".format(save_path, index))\n",
    "                processed.append(temp_processed)\n",
    "                temp_processed = []\n",
    "    \n",
    "                \n",
    "        temp_processed.append(process_tweet(tweet, features))\n",
    "    if temp_processed:\n",
    "        if save:\n",
    "            list_to_json(temp_processed, \"{}temp_{}.json\".format(save_path, index))\n",
    "        processed.append(temp_processed)\n",
    "    \n",
    "    return flatten(processed)"
   ]
  },
  {
   "cell_type": "code",
   "execution_count": null,
   "metadata": {
    "collapsed": true
   },
   "outputs": [],
   "source": [
    "def feature_extract(processed_tweets):\n",
    "    lst = []\n",
    "    for tweet in processed_tweets:\n",
    "        d = {}\n",
    "        d.update(tweet[\"punctuation_features\"])\n",
    "        d.update({\"sarcastic\": tweet[\"sarcastic\"]})\n",
    "        lst.append(d)\n",
    "    return lst"
   ]
  },
  {
   "cell_type": "code",
   "execution_count": null,
   "metadata": {
    "collapsed": false
   },
   "outputs": [],
   "source": [
    "processed_tweets = process_tweets(sarcastic_dataset+non_sarcastic_dataset, [\"punctuation_features\"], step_size=250, save=False)\n",
    "\n",
    "dataframe = pd.DataFrame(data=vec.fit_transform(feature_extract(processed_tweets)).toarray(),\n",
    "                         columns=vec.get_feature_names())\n",
    "dataframe.head()"
   ]
  },
  {
   "cell_type": "markdown",
   "metadata": {},
   "source": [
    "## Test train split"
   ]
  },
  {
   "cell_type": "code",
   "execution_count": null,
   "metadata": {
    "collapsed": false
   },
   "outputs": [],
   "source": [
    "y = dataframe[\"sarcastic\"]\n",
    "X = dataframe.drop(\"sarcastic\", axis=1)\n",
    "\n",
    "X_train, X_test, y_train, y_test = train_test_split(X, y, test_size=.4, random_state=10)\n",
    "\n",
    "fig = plt.figure(figsize=(10,7))\n",
    "ax = fig.add_subplot(211)\n",
    "ax.set_title(\"Training dataset (size={})\".format(y_train.size))\n",
    "y_train.hist(ax=ax, grid=False)\n",
    "\n",
    "ax = fig.add_subplot(212)\n",
    "ax.set_title(\"Testing dataset (shape={})\".format(y_test.size))\n",
    "y_test.hist(ax=ax, grid=False)\n"
   ]
  },
  {
   "cell_type": "code",
   "execution_count": null,
   "metadata": {
    "collapsed": true
   },
   "outputs": [],
   "source": [
    "clf = LogisticRegression()"
   ]
  },
  {
   "cell_type": "code",
   "execution_count": null,
   "metadata": {
    "collapsed": false
   },
   "outputs": [],
   "source": [
    "clf.fit(X_train, y_train)\n",
    "clf.score(X_test, y_test)"
   ]
  },
  {
   "cell_type": "code",
   "execution_count": null,
   "metadata": {
    "collapsed": true
   },
   "outputs": [],
   "source": []
  }
 ],
 "metadata": {
  "anaconda-cloud": {},
  "kernelspec": {
   "display_name": "Python3 (senior-design)",
   "language": "python",
   "name": "senior-design"
  },
  "language_info": {
   "codemirror_mode": {
    "name": "ipython",
    "version": 3
   },
   "file_extension": ".py",
   "mimetype": "text/x-python",
   "name": "python",
   "nbconvert_exporter": "python",
   "pygments_lexer": "ipython3",
   "version": "3.5.2"
  }
 },
 "nbformat": 4,
 "nbformat_minor": 1
}
